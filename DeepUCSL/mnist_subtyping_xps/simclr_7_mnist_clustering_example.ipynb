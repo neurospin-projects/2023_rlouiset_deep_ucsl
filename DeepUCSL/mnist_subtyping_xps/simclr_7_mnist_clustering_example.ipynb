{
  "nbformat": 4,
  "nbformat_minor": 0,
  "metadata": {
    "accelerator": "GPU",
    "colab": {
      "provenance": [],
      "collapsed_sections": [
        "5Xt7Gwz8Stxa",
        "Lciw1CKGJJh3"
      ]
    },
    "kernelspec": {
      "display_name": "Python 3",
      "name": "python3"
    }
  },
  "cells": [
    {
      "cell_type": "markdown",
      "metadata": {
        "id": "5Xt7Gwz8Stxa"
      },
      "source": [
        "# Import de fonctions"
      ]
    },
    {
      "cell_type": "code",
      "metadata": {
        "id": "8-9J91SwPO3F"
      },
      "source": [
        "import matplotlib.pyplot as plt\n",
        "from sklearn.metrics import adjusted_rand_score as ARI\n",
        "from sklearn.metrics import adjusted_mutual_info_score as AMI\n",
        "from sklearn.metrics import balanced_accuracy_score\n",
        "from sklearn.preprocessing import StandardScaler, RobustScaler\n",
        "from sklearn.metrics import v_measure_score\n",
        "from skimage.transform import resize\n",
        "from sklearn.cluster import KMeans\n",
        "from sklearn.mixture import GaussianMixture\n",
        "from scipy.stats import wasserstein_distance\n",
        "from sklearn.decomposition import PCA\n",
        "from sklearn.manifold import TSNE\n",
        "import numpy as np\n",
        "import datetime\n",
        "import sys\n",
        "\n",
        "from scipy.ndimage import grey_dilation, grey_erosion\n",
        "from torch.utils.data.sampler import SubsetRandomSampler\n",
        "from torch.utils.data import DataLoader, Dataset\n",
        "from torchvision import datasets, transforms\n",
        "import torchvision.models as models\n",
        "import torch.nn.functional as F\n",
        "import matplotlib.pyplot as plt\n",
        "import torch.optim as optim\n",
        "import torch.nn as nn\n",
        "import torch\n",
        "import math\n",
        "\n",
        "\n",
        "# Dataset des chiffres du MNIST\n",
        "from keras.datasets import mnist"
      ],
      "execution_count": 8,
      "outputs": []
    },
    {
      "cell_type": "code",
      "metadata": {
        "id": "whj0Wj-NOtWy"
      },
      "source": [
        "# Fonction pour afficher les données matricielles sous forme d'images\n",
        "def display_image(X, y, n, label=False):\n",
        "    dim = 32\n",
        "    fig, axs = plt.subplots(n, n, figsize=(5,5))\n",
        "\n",
        "    for i in range(n):\n",
        "      for j in range(n):\n",
        "        axs[i,j].imshow(X[j*n+i].reshape((dim,dim)), cmap='gray')\n",
        "        axs[i,j].axis('off')\n",
        "    plt.show()"
      ],
      "execution_count": 9,
      "outputs": []
    },
    {
      "cell_type": "code",
      "metadata": {
        "id": "hTRQD6hmYJLT"
      },
      "source": [
        "class NTXentLoss(torch.nn.Module):\n",
        "    def __init__(self, device, batch_size, temperature, use_cosine_similarity):\n",
        "        super(NTXentLoss, self).__init__()\n",
        "        self.batch_size = batch_size\n",
        "        self.temperature = temperature\n",
        "        self.device = device\n",
        "        self.softmax = torch.nn.Softmax(dim=-1)\n",
        "        self.mask_samples_from_same_repr = self._get_correlated_mask().type(torch.bool)\n",
        "        self.similarity_function = self._get_similarity_function(use_cosine_similarity)\n",
        "        self.criterion = torch.nn.CrossEntropyLoss(reduction=\"sum\")\n",
        "\n",
        "    def _get_similarity_function(self, use_cosine_similarity):\n",
        "        if use_cosine_similarity:\n",
        "            self._cosine_similarity = torch.nn.CosineSimilarity(dim=-1)\n",
        "            return self._cosine_simililarity\n",
        "        else:\n",
        "            return self._dot_simililarity\n",
        "\n",
        "    def _get_correlated_mask(self):\n",
        "        diag = np.eye(2 * self.batch_size)\n",
        "        l1 = np.eye((2 * self.batch_size), 2 * self.batch_size, k=-self.batch_size)\n",
        "        l2 = np.eye((2 * self.batch_size), 2 * self.batch_size, k=self.batch_size)\n",
        "        mask = torch.from_numpy((diag + l1 + l2))\n",
        "        mask = (1 - mask).type(torch.bool)\n",
        "        return mask.to(self.device)\n",
        "\n",
        "    @staticmethod\n",
        "    def _dot_simililarity(x, y):\n",
        "        v = torch.tensordot(x.unsqueeze(1), y.T.unsqueeze(0), dims=2)\n",
        "        # x shape: (N, 1, C)\n",
        "        # y shape: (1, C, 2N)\n",
        "        # v shape: (N, 2N)\n",
        "        return v\n",
        "\n",
        "    def _cosine_simililarity(self, x, y):\n",
        "        # x shape: (N, 1, C)\n",
        "        # y shape: (1, 2N, C)\n",
        "        # v shape: (N, 2N)\n",
        "        v = self._cosine_similarity(x.unsqueeze(1), y.unsqueeze(0))\n",
        "        return v\n",
        "\n",
        "    def forward(self, zis, zjs):\n",
        "        representations = torch.cat([zjs, zis], dim=0)\n",
        "\n",
        "        similarity_matrix = self.similarity_function(representations, representations)\n",
        "\n",
        "        # filter out the scores from the positive samples\n",
        "        l_pos = torch.diag(similarity_matrix, self.batch_size)\n",
        "        r_pos = torch.diag(similarity_matrix, -self.batch_size)\n",
        "        positives = torch.cat([l_pos, r_pos]).view(2 * self.batch_size, 1)\n",
        "\n",
        "        negatives = similarity_matrix[self.mask_samples_from_same_repr].view(2 * self.batch_size, -1)\n",
        "\n",
        "        logits = torch.cat((positives, negatives), dim=1)\n",
        "        logits /= self.temperature\n",
        "\n",
        "        labels = torch.zeros(2 * self.batch_size).to(self.device).long()\n",
        "        loss = self.criterion(logits, labels)\n",
        "\n",
        "        return loss / (2 * self.batch_size)"
      ],
      "execution_count": 10,
      "outputs": []
    },
    {
      "cell_type": "markdown",
      "metadata": {
        "id": "Lciw1CKGJJh3"
      },
      "source": [
        "# Define models and datasets"
      ]
    },
    {
      "cell_type": "code",
      "metadata": {
        "id": "0_k2CjCqIrPp",
        "colab": {
          "base_uri": "https://localhost:8080/"
        },
        "outputId": "85596ebe-816b-4e6b-e71f-31510777aab7"
      },
      "source": [
        "pos_label = 7\n",
        "\n",
        "(X_train, y_train), (X_test, y_test) = mnist.load_data()\n",
        "\n",
        "X_train = np.array([np.pad(img, 2) for img in X_train])\n",
        "X_test = np.array([np.pad(img, 2) for img in X_test])\n",
        "\n",
        "X_train = X_train[y_train==7]\n",
        "X_test = X_test[y_test==7]\n",
        "y_train = y_train[y_train==7]\n",
        "y_test = y_test[y_test==7]\n",
        "\n",
        "# flatten the images\n",
        "n_samples_train = len(X_train)\n",
        "X_train = X_train.reshape((n_samples_train, -1))\n",
        "X_train = X_train - np.min(X_train, 1)[:, None]\n",
        "X_train = X_train / np.max(X_train, 1)[:, None]\n",
        "\n",
        "n_samples_test = len(X_test)\n",
        "X_test = X_test.reshape((n_samples_test, -1))\n",
        "X_test = X_test - np.min(X_test, 1)[:, None]\n",
        "X_test = X_test / np.max(X_test, 1)[:, None]\n",
        "\n",
        "X_train = np.array(X_train).astype(np.float)\n",
        "X_test = np.array(X_test).astype(np.float)\n",
        "y_train = np.array(y_train).astype(np.float)\n",
        "y_test = np.array(y_test).astype(np.float)\n",
        "\n",
        "# load ground truth label\n",
        "import json\n",
        "\n",
        "label_mapping_seven = {'No bar':0, 'With bar':1}\n",
        "with open(\"/content/drive/MyDrive/Neurospin/Thèse Robin/UCSL/mnist_labels.json\") as json_file:\n",
        "    ground_truth_dict = json.load(json_file)\n",
        "    y_cluster_test = np.array([label_mapping_seven[ground_truth_dict[key]] for key in ground_truth_dict.keys()])"
      ],
      "execution_count": 11,
      "outputs": [
        {
          "output_type": "stream",
          "name": "stderr",
          "text": [
            "<ipython-input-11-d45a57ac09e1>:24: DeprecationWarning: `np.float` is a deprecated alias for the builtin `float`. To silence this warning, use `float` by itself. Doing this will not modify any behavior and is safe. If you specifically wanted the numpy scalar type, use `np.float64` here.\n",
            "Deprecated in NumPy 1.20; for more details and guidance: https://numpy.org/devdocs/release/1.20.0-notes.html#deprecations\n",
            "  X_train = np.array(X_train).astype(np.float)\n",
            "<ipython-input-11-d45a57ac09e1>:25: DeprecationWarning: `np.float` is a deprecated alias for the builtin `float`. To silence this warning, use `float` by itself. Doing this will not modify any behavior and is safe. If you specifically wanted the numpy scalar type, use `np.float64` here.\n",
            "Deprecated in NumPy 1.20; for more details and guidance: https://numpy.org/devdocs/release/1.20.0-notes.html#deprecations\n",
            "  X_test = np.array(X_test).astype(np.float)\n",
            "<ipython-input-11-d45a57ac09e1>:26: DeprecationWarning: `np.float` is a deprecated alias for the builtin `float`. To silence this warning, use `float` by itself. Doing this will not modify any behavior and is safe. If you specifically wanted the numpy scalar type, use `np.float64` here.\n",
            "Deprecated in NumPy 1.20; for more details and guidance: https://numpy.org/devdocs/release/1.20.0-notes.html#deprecations\n",
            "  y_train = np.array(y_train).astype(np.float)\n",
            "<ipython-input-11-d45a57ac09e1>:27: DeprecationWarning: `np.float` is a deprecated alias for the builtin `float`. To silence this warning, use `float` by itself. Doing this will not modify any behavior and is safe. If you specifically wanted the numpy scalar type, use `np.float64` here.\n",
            "Deprecated in NumPy 1.20; for more details and guidance: https://numpy.org/devdocs/release/1.20.0-notes.html#deprecations\n",
            "  y_test = np.array(y_test).astype(np.float)\n"
          ]
        }
      ]
    },
    {
      "cell_type": "code",
      "metadata": {
        "id": "NjoMwW7LVDji"
      },
      "source": [
        "class Erode(object):\n",
        "    \"\"\"Random erode transform\"\"\"\n",
        "    def __init__(self, kernel):\n",
        "        self.kernel = kernel\n",
        "    def __call__(self, x):\n",
        "        x = grey_erosion(x, size=self.kernel)\n",
        "        return torch.tensor(x)\n",
        "\n",
        "class Dilate(object):\n",
        "    \"\"\"Random dilate transform\"\"\"\n",
        "    def __init__(self, kernel):\n",
        "        self.kernel = kernel\n",
        "\n",
        "    def __call__(self, x):\n",
        "        x = grey_dilation(x, size=self.kernel)\n",
        "        return torch.tensor(x)\n",
        "\n",
        "class MyDataset(Dataset):\n",
        "    def __init__(self, data, target, cluster_pseudo_labels=None, test=False):\n",
        "        self.data = data\n",
        "        self.target = torch.from_numpy(target).float()\n",
        "        if cluster_pseudo_labels is not None :\n",
        "          self.cluster_pseudo_labels = torch.from_numpy(cluster_pseudo_labels).float()\n",
        "        else :\n",
        "          self.cluster_pseudo_labels = None\n",
        "        self.transform = transforms.Compose([\n",
        "                            transforms.ToTensor(),\n",
        "                            # transforms.RandomResizedCrop(32, scale=(0.75, 1)),  # MORPHO version of SimCLR\n",
        "                            transforms.RandomRotation(25),\n",
        "                            transforms.RandomApply([Dilate(np.random.randint(2, 4))], p=0.4),   # MORPHO version of SimCLR\n",
        "                            transforms.RandomApply([Erode(np.random.randint(2, 4))], p=0.4),   # MORPHO version of SimCLR\n",
        "                            transforms.RandomAffine(15, translate=(0.1, 0.1), shear=0.1),\n",
        "                        ])\n",
        "        self.test = test\n",
        "\n",
        "    def __len__(self):\n",
        "        return len(self.target)\n",
        "\n",
        "    def __getitem__(self, index):\n",
        "        x = self.data[index]\n",
        "        x = np.reshape(x, (32, 32))\n",
        "        if self.test :\n",
        "          x_1 = torch.tensor(x)[None,:,:].float()\n",
        "        else :\n",
        "          x_1 = self.transform(x)\n",
        "        x_2 = self.transform(x)\n",
        "        y = self.target[index]\n",
        "        if self.cluster_pseudo_labels is not None :\n",
        "          y_pseudo_label = self.cluster_pseudo_labels[index]\n",
        "          return x_1.cuda(), x_2.cuda(), y.cuda(), y_pseudo_label.cuda()\n",
        "        return x_1.cuda(), x_2.cuda(), y.cuda()\n"
      ],
      "execution_count": 12,
      "outputs": []
    },
    {
      "cell_type": "code",
      "metadata": {
        "id": "RU9mmuA9Jtyz"
      },
      "source": [
        "# Simple\n",
        "class SimpleConvNet(nn.Module):\n",
        "    def __init__(self, nc, nz, n_clusters, kernel_size=7):\n",
        "        super(SimpleConvNet, self).__init__()\n",
        "        padding = kernel_size // 2\n",
        "        layers = [\n",
        "            nn.Conv2d(nc, 16, kernel_size=kernel_size, padding=padding),\n",
        "            nn.BatchNorm2d(16),\n",
        "            nn.ReLU(inplace=True),\n",
        "            nn.Conv2d(16, 32, kernel_size=kernel_size, padding=padding),\n",
        "            nn.BatchNorm2d(32),\n",
        "            nn.ReLU(inplace=True),\n",
        "            nn.Conv2d(32, 64, kernel_size=kernel_size, padding=padding),\n",
        "            nn.BatchNorm2d(64),\n",
        "            nn.ReLU(inplace=True),\n",
        "            nn.Conv2d(64, 128, kernel_size=kernel_size, padding=padding),\n",
        "            nn.BatchNorm2d(128),\n",
        "            nn.ReLU(inplace=True),\n",
        "        ]\n",
        "        self.backbone = nn.Sequential(*layers)\n",
        "        self.avgpool = nn.AdaptiveAvgPool2d((1, 1))\n",
        "\n",
        "        self.projection_head = nn.Sequential(\n",
        "                nn.Linear(128, hidden_mlp),\n",
        "                nn.ReLU(inplace=True),\n",
        "                nn.Linear(hidden_mlp, output_dim),\n",
        "            )\n",
        "\n",
        "    def forward(self, x):\n",
        "        # convolutional backbone\n",
        "        encoded_vectors = self.backbone(x)\n",
        "        encoded_vectors = self.avgpool(encoded_vectors)\n",
        "        encoded_vectors = torch.flatten(encoded_vectors, 1).view(encoded_vectors.size(0), -1)\n",
        "\n",
        "        # non linear mlp head\n",
        "        x = self.projection_head(encoded_vectors)\n",
        "        x = nn.functional.normalize(x, dim=1, p=2)\n",
        "        return x, encoded_vectors\n"
      ],
      "execution_count": 13,
      "outputs": []
    },
    {
      "cell_type": "markdown",
      "metadata": {
        "id": "ieVfvGDqXz-c"
      },
      "source": [
        "# SimCLR"
      ]
    },
    {
      "cell_type": "code",
      "metadata": {
        "colab": {
          "base_uri": "https://localhost:8080/"
        },
        "id": "id_GVQ_FiRdr",
        "outputId": "0cead5c4-6a2c-48ad-c582-639c52b66116"
      },
      "source": [
        "# number of epochs to train the model\n",
        "n_epochs = 75\n",
        "base_lr = 0.005\n",
        "final_lr = 0.00005\n",
        "wd = 1e-4\n",
        "warmup_epochs = 10\n",
        "start_warmup = 0\n",
        "\n",
        "# model parameters\n",
        "hidden_mlp = 128\n",
        "output_dim = 128\n",
        "nc = 1\n",
        "n_clusters=2\n",
        "batch_size = 512\n",
        "\n",
        "for run in range(0, 3) :\n",
        "  # build model\n",
        "  encoder_model = SimpleConvNet(nc, hidden_mlp, output_dim, n_clusters).double().cuda()\n",
        "\n",
        "  # transform features\n",
        "  encoder_model.eval()\n",
        "  X_test_latent = []\n",
        "  for img in X_test :\n",
        "    img = img.reshape((32, 32))\n",
        "    img = torch.tensor(img).cuda().double()[None, None,:,:]\n",
        "    _, encoded_vector = encoder_model.forward(img)\n",
        "    X_test_latent.append(encoded_vector.cpu().detach().numpy()[0])\n",
        "  X_test_latent = np.array(X_test_latent)\n",
        "  # transform features\n",
        "  X_train_latent = []\n",
        "  for img in X_train :\n",
        "    img = img.reshape((32, 32))\n",
        "    img = torch.tensor(img).cuda().double()[None, None,:,:]\n",
        "    _, encoded_vector = encoder_model.forward(img)\n",
        "    X_train_latent.append(encoded_vector.cpu().detach().numpy()[0])\n",
        "  X_train_latent = np.array(X_train_latent)\n",
        "  # normalize\n",
        "  scaler = RobustScaler().fit(X_train_latent)\n",
        "  X_train_latent = scaler.transform(X_train_latent)\n",
        "  X_test_latent = scaler.transform(X_test_latent)\n",
        "\n",
        "  # KMeans training\n",
        "  KMeans_method = KMeans(n_clusters=n_clusters).fit(X_train_latent)\n",
        "  y_train_clustering_pseudo_labels = KMeans_method.predict(X_train_latent)\n",
        "  y_test_clustering_pseudo_labels = KMeans_method.predict(X_test_latent)\n",
        "\n",
        "  print(\"Cluster 0 number of samples : \", np.sum(y_test_clustering_pseudo_labels==0))\n",
        "  print(\"Cluster 1 number of samples : \", np.sum(y_test_clustering_pseudo_labels==1))\n",
        "  print(\"KM balanced accuracy score with hand-crafted labels : \",\n",
        "              max(balanced_accuracy_score(y_cluster_test, y_test_clustering_pseudo_labels[:len(y_cluster_test)]),\n",
        "              balanced_accuracy_score(1-y_cluster_test, y_test_clustering_pseudo_labels[:len(y_cluster_test)]))\n",
        "              )\n",
        "  print(\"KM ARI with hand-crafted labels : \", ARI(y_cluster_test, y_test_clustering_pseudo_labels[:len(y_cluster_test)]))\n",
        "  print(\"KM AMI with hand-crafted labels : \", AMI(y_cluster_test, y_test_clustering_pseudo_labels[:len(y_cluster_test)]))\n",
        "\n",
        "  initial_clustering_accuracies = max(balanced_accuracy_score(y_cluster_test, y_test_clustering_pseudo_labels[:len(y_cluster_test)]),\n",
        "              balanced_accuracy_score(1-y_cluster_test, y_test_clustering_pseudo_labels[:len(y_cluster_test)]))\n",
        "  print(\"Initial clustering accuracy : \", initial_clustering_accuracies)\n",
        "  print('------------------------------------------------------------------')\n",
        "\n",
        "  # dataloaders\n",
        "  train_data = MyDataset(X_train, y_train)\n",
        "  test_data = MyDataset(X_test, y_test)\n",
        "  # prepare data loaders\n",
        "  train_loader = torch.utils.data.DataLoader(train_data, batch_size=batch_size, drop_last=True)\n",
        "  test_loader = torch.utils.data.DataLoader(test_data, batch_size=batch_size, drop_last=True)\n",
        "\n",
        "\n",
        "  # specify loss function\n",
        "  list_of_parameters = []\n",
        "  list_of_parameters.extend(encoder_model.backbone.parameters())\n",
        "  list_of_parameters.extend(encoder_model.projection_head.parameters())\n",
        "  optimizer = torch.optim.Adam(list_of_parameters, lr=base_lr)\n",
        "  warmup_lr_schedule = np.linspace(start_warmup, base_lr, len(train_loader) * warmup_epochs)\n",
        "  iters = np.arange(len(train_loader) * (n_epochs+1 - warmup_epochs))\n",
        "  cosine_lr_schedule = np.array([final_lr + 0.5 * (base_lr - final_lr) * (1 + \\\n",
        "                        math.cos(math.pi * t / (len(train_loader) * (n_epochs - warmup_epochs)))) for t in iters])\n",
        "  lr_schedule = np.concatenate((warmup_lr_schedule, cosine_lr_schedule))\n",
        "  criterion = NTXentLoss(\"cuda\", batch_size, 0.1, True)\n",
        "\n",
        "  train_losses = []\n",
        "  test_losses = []\n",
        "  test_accuracies = []\n",
        "  train_accuracies = []\n",
        "  clustering_stabilities = []\n",
        "  clustering_accuracies = [initial_clustering_accuracies]\n",
        "\n",
        "  # launch training\n",
        "  for epoch in range(0, n_epochs+1):\n",
        "      # monitor training loss\n",
        "      train_loss = 0.0\n",
        "      test_loss = 0.0\n",
        "\n",
        "      ###################\n",
        "      # train the model #\n",
        "      ###################\n",
        "      encoder_model.train()\n",
        "      for it, data in enumerate(train_loader):\n",
        "          # update learning rate\n",
        "          iteration = epoch * len(train_loader) + it\n",
        "          for param_group in optimizer.param_groups:\n",
        "              param_group[\"lr\"] = lr_schedule[iteration]\n",
        "          # _ stands in for labels, here no need to flatten images\n",
        "          images_i, images_j, labels = data\n",
        "          # forward pass: compute predicted outputs by passing inputs to the model\n",
        "          latent_vectors_i, _ = encoder_model.forward(images_i)\n",
        "          latent_vectors_j, _ = encoder_model.forward(images_j)\n",
        "          loss = criterion(latent_vectors_i, latent_vectors_j)\n",
        "          # backward pass: compute gradient of the loss with respect to model parameters\n",
        "          loss.backward()\n",
        "          # perform a single optimization step (parameter update)\n",
        "          optimizer.step()\n",
        "          # update running training loss\n",
        "          train_loss += loss.item()*images_i.size(0)\n",
        "          # clear the gradients of all optimized variables\n",
        "          optimizer.zero_grad()\n",
        "\n",
        "\n",
        "      ###################\n",
        "      # evaluate the model #\n",
        "      ###################\n",
        "      encoder_model.eval()\n",
        "      with torch.no_grad():\n",
        "        for data in test_loader:\n",
        "          # _ stands in for labels, here no need to flatten images\n",
        "          images_i, images_j, labels = data\n",
        "          # clear the gradients of all optimized variables\n",
        "          optimizer.zero_grad()\n",
        "          # forward pass: compute predicted outputs by passing inputs to the model\n",
        "          latent_vectors_i, _ = encoder_model.forward(images_i)\n",
        "          latent_vectors_j, _ = encoder_model.forward(images_j)\n",
        "          # calculate the loss\n",
        "          test_loss_i = criterion(latent_vectors_i, latent_vectors_j)\n",
        "          # update running testing loss\n",
        "          test_loss += test_loss_i.item()*images_i.size(0)\n",
        "\n",
        "      # print avg training statistics\n",
        "      train_loss = train_loss/len(train_loader)\n",
        "      test_loss = test_loss/len(test_loader)\n",
        "      #\n",
        "      train_losses.append(train_loss)\n",
        "      test_losses.append(test_loss)\n",
        "      print('Epoch: {} \\tTraining Loss: {:.6f}'.format(\n",
        "          epoch,\n",
        "          train_loss\n",
        "          ))\n",
        "      print('         \\tTesting Loss: {:.6f}'.format(\n",
        "          test_loss\n",
        "          ))\n",
        "\n",
        "      # transform features\n",
        "      encoder_model.eval()\n",
        "      X_test_latent = []\n",
        "      for img in X_test :\n",
        "        img = img.reshape((32, 32))\n",
        "        img = torch.tensor(img).cuda().double()[None, None,:,:]\n",
        "        _, encoded_vector = encoder_model.forward(img)\n",
        "        X_test_latent.append(encoded_vector.cpu().detach().numpy()[0])\n",
        "      X_test_latent = np.array(X_test_latent)\n",
        "      # transform features\n",
        "      X_train_latent = []\n",
        "      for img in X_train :\n",
        "        img = img.reshape((32, 32))\n",
        "        img = torch.tensor(img).cuda().double()[None, None,:,:]\n",
        "        _, encoded_vector = encoder_model.forward(img)\n",
        "        X_train_latent.append(encoded_vector.cpu().detach().numpy()[0])\n",
        "      X_train_latent = np.array(X_train_latent)\n",
        "      # normalize\n",
        "      scaler = RobustScaler().fit(X_train_latent)\n",
        "      X_train_latent = scaler.transform(X_train_latent)\n",
        "      X_test_latent = scaler.transform(X_test_latent)\n",
        "\n",
        "      # KMeans training\n",
        "      KMeans_method = KMeans(n_clusters=n_clusters).fit(X_train_latent)\n",
        "      y_train_clustering_pseudo_labels = KMeans_method.predict(X_train_latent)\n",
        "      previous_y_test_clustering_pseudo_labels = y_test_clustering_pseudo_labels.copy()\n",
        "      y_test_clustering_pseudo_labels = KMeans_method.predict(X_test_latent)\n",
        "\n",
        "      clustering_stability = ARI(previous_y_test_clustering_pseudo_labels, y_test_clustering_pseudo_labels)\n",
        "      clustering_stabilities.append(clustering_stability)\n",
        "\n",
        "      print(\"Cluster 0 number of samples : \", np.sum(y_test_clustering_pseudo_labels==0))\n",
        "      print(\"Cluster 1 number of samples : \", np.sum(y_test_clustering_pseudo_labels==1))\n",
        "      print(\"KM balanced accuracy score with hand-crafted labels : \",\n",
        "                  max(balanced_accuracy_score(y_cluster_test, y_test_clustering_pseudo_labels[:len(y_cluster_test)]),\n",
        "                  balanced_accuracy_score(1-y_cluster_test, y_test_clustering_pseudo_labels[:len(y_cluster_test)]))\n",
        "                  )\n",
        "      clustering_accuracies.append( max(balanced_accuracy_score(y_cluster_test, y_test_clustering_pseudo_labels[:len(y_cluster_test)]),\n",
        "                                        balanced_accuracy_score(1-y_cluster_test, y_test_clustering_pseudo_labels[:len(y_cluster_test)]))  )\n",
        "      print(\"KM ARI with hand-crafted labels : \", ARI(y_cluster_test, y_test_clustering_pseudo_labels[:len(y_cluster_test)]))\n",
        "      print(\"KM AMI with hand-crafted labels : \", AMI(y_cluster_test, y_test_clustering_pseudo_labels[:len(y_cluster_test)]))\n",
        "      print('------------------------------------------------------------------')\n"
      ],
      "execution_count": 14,
      "outputs": [
        {
          "metadata": {
            "tags": null
          },
          "name": "stderr",
          "output_type": "stream",
          "text": [
            "/usr/local/lib/python3.10/dist-packages/sklearn/cluster/_kmeans.py:870: FutureWarning: The default value of `n_init` will change from 10 to 'auto' in 1.4. Set the value of `n_init` explicitly to suppress the warning\n",
            "  warnings.warn(\n"
          ]
        },
        {
          "metadata": {
            "tags": null
          },
          "name": "stdout",
          "output_type": "stream",
          "text": [
            "Cluster 0 number of samples :  584\n",
            "Cluster 1 number of samples :  444\n",
            "KM balanced accuracy score with hand-crafted labels :  0.5545090248998185\n",
            "KM ARI with hand-crafted labels :  0.03977844186847393\n",
            "KM AMI with hand-crafted labels :  0.006550287185749865\n",
            "Initial clustering accuracy :  0.5545090248998185\n",
            "------------------------------------------------------------------\n",
            "Epoch: 0 \tTraining Loss: 3550.822264\n",
            "         \tTesting Loss: 3547.016145\n"
          ]
        },
        {
          "metadata": {
            "tags": null
          },
          "name": "stderr",
          "output_type": "stream",
          "text": [
            "/usr/local/lib/python3.10/dist-packages/sklearn/cluster/_kmeans.py:870: FutureWarning: The default value of `n_init` will change from 10 to 'auto' in 1.4. Set the value of `n_init` explicitly to suppress the warning\n",
            "  warnings.warn(\n"
          ]
        },
        {
          "metadata": {
            "tags": null
          },
          "name": "stdout",
          "output_type": "stream",
          "text": [
            "Cluster 0 number of samples :  423\n",
            "Cluster 1 number of samples :  605\n",
            "KM balanced accuracy score with hand-crafted labels :  0.5594924136041374\n",
            "KM ARI with hand-crafted labels :  0.04583488890908152\n",
            "KM AMI with hand-crafted labels :  0.008380321745474614\n",
            "------------------------------------------------------------------\n",
            "Epoch: 1 \tTraining Loss: 3535.516901\n",
            "         \tTesting Loss: 3510.428931\n"
          ]
        },
        {
          "metadata": {
            "tags": null
          },
          "name": "stderr",
          "output_type": "stream",
          "text": [
            "/usr/local/lib/python3.10/dist-packages/sklearn/cluster/_kmeans.py:870: FutureWarning: The default value of `n_init` will change from 10 to 'auto' in 1.4. Set the value of `n_init` explicitly to suppress the warning\n",
            "  warnings.warn(\n"
          ]
        },
        {
          "metadata": {
            "tags": null
          },
          "name": "stdout",
          "output_type": "stream",
          "text": [
            "Cluster 0 number of samples :  573\n",
            "Cluster 1 number of samples :  455\n",
            "KM balanced accuracy score with hand-crafted labels :  0.6396205089563995\n",
            "KM ARI with hand-crafted labels :  0.13399398445824715\n",
            "KM AMI with hand-crafted labels :  0.054223750203132075\n",
            "------------------------------------------------------------------\n",
            "Epoch: 2 \tTraining Loss: 3447.145117\n",
            "         \tTesting Loss: 3326.196202\n"
          ]
        },
        {
          "metadata": {
            "tags": null
          },
          "name": "stderr",
          "output_type": "stream",
          "text": [
            "/usr/local/lib/python3.10/dist-packages/sklearn/cluster/_kmeans.py:870: FutureWarning: The default value of `n_init` will change from 10 to 'auto' in 1.4. Set the value of `n_init` explicitly to suppress the warning\n",
            "  warnings.warn(\n"
          ]
        },
        {
          "metadata": {
            "tags": null
          },
          "name": "stdout",
          "output_type": "stream",
          "text": [
            "Cluster 0 number of samples :  460\n",
            "Cluster 1 number of samples :  568\n",
            "KM balanced accuracy score with hand-crafted labels :  0.6688872144398397\n",
            "KM ARI with hand-crafted labels :  0.1629816759380849\n",
            "KM AMI with hand-crafted labels :  0.07704764395236981\n",
            "------------------------------------------------------------------\n",
            "Epoch: 3 \tTraining Loss: 3373.577326\n",
            "         \tTesting Loss: 3293.747008\n"
          ]
        },
        {
          "metadata": {
            "tags": null
          },
          "name": "stderr",
          "output_type": "stream",
          "text": [
            "/usr/local/lib/python3.10/dist-packages/sklearn/cluster/_kmeans.py:870: FutureWarning: The default value of `n_init` will change from 10 to 'auto' in 1.4. Set the value of `n_init` explicitly to suppress the warning\n",
            "  warnings.warn(\n"
          ]
        },
        {
          "metadata": {
            "tags": null
          },
          "name": "stdout",
          "output_type": "stream",
          "text": [
            "Cluster 0 number of samples :  567\n",
            "Cluster 1 number of samples :  461\n",
            "KM balanced accuracy score with hand-crafted labels :  0.7347501455629002\n",
            "KM ARI with hand-crafted labels :  0.20914878745286397\n",
            "KM AMI with hand-crafted labels :  0.13865544017038034\n",
            "------------------------------------------------------------------\n",
            "Epoch: 4 \tTraining Loss: 3297.905212\n",
            "         \tTesting Loss: 3163.047070\n"
          ]
        },
        {
          "metadata": {
            "tags": null
          },
          "name": "stderr",
          "output_type": "stream",
          "text": [
            "/usr/local/lib/python3.10/dist-packages/sklearn/cluster/_kmeans.py:870: FutureWarning: The default value of `n_init` will change from 10 to 'auto' in 1.4. Set the value of `n_init` explicitly to suppress the warning\n",
            "  warnings.warn(\n"
          ]
        },
        {
          "metadata": {
            "tags": null
          },
          "name": "stdout",
          "output_type": "stream",
          "text": [
            "Cluster 0 number of samples :  580\n",
            "Cluster 1 number of samples :  448\n",
            "KM balanced accuracy score with hand-crafted labels :  0.7143028393328081\n",
            "KM ARI with hand-crafted labels :  0.18107761813378473\n",
            "KM AMI with hand-crafted labels :  0.11464970351187735\n",
            "------------------------------------------------------------------\n",
            "Epoch: 5 \tTraining Loss: 3233.911549\n",
            "         \tTesting Loss: 3308.614822\n"
          ]
        },
        {
          "metadata": {
            "tags": null
          },
          "name": "stderr",
          "output_type": "stream",
          "text": [
            "/usr/local/lib/python3.10/dist-packages/sklearn/cluster/_kmeans.py:870: FutureWarning: The default value of `n_init` will change from 10 to 'auto' in 1.4. Set the value of `n_init` explicitly to suppress the warning\n",
            "  warnings.warn(\n"
          ]
        },
        {
          "metadata": {
            "tags": null
          },
          "name": "stdout",
          "output_type": "stream",
          "text": [
            "Cluster 0 number of samples :  569\n",
            "Cluster 1 number of samples :  459\n",
            "KM balanced accuracy score with hand-crafted labels :  0.7124704592937631\n",
            "KM ARI with hand-crafted labels :  0.1839695555516697\n",
            "KM AMI with hand-crafted labels :  0.1134184220924503\n",
            "------------------------------------------------------------------\n",
            "Epoch: 6 \tTraining Loss: 3202.142300\n",
            "         \tTesting Loss: 3043.985309\n"
          ]
        },
        {
          "metadata": {
            "tags": null
          },
          "name": "stderr",
          "output_type": "stream",
          "text": [
            "/usr/local/lib/python3.10/dist-packages/sklearn/cluster/_kmeans.py:870: FutureWarning: The default value of `n_init` will change from 10 to 'auto' in 1.4. Set the value of `n_init` explicitly to suppress the warning\n",
            "  warnings.warn(\n"
          ]
        },
        {
          "metadata": {
            "tags": null
          },
          "name": "stdout",
          "output_type": "stream",
          "text": [
            "Cluster 0 number of samples :  567\n",
            "Cluster 1 number of samples :  461\n",
            "KM balanced accuracy score with hand-crafted labels :  0.7191149775661883\n",
            "KM ARI with hand-crafted labels :  0.20040068724040874\n",
            "KM AMI with hand-crafted labels :  0.1221773344672033\n",
            "------------------------------------------------------------------\n",
            "Epoch: 7 \tTraining Loss: 3128.515217\n",
            "         \tTesting Loss: 3187.306657\n"
          ]
        },
        {
          "metadata": {
            "tags": null
          },
          "name": "stderr",
          "output_type": "stream",
          "text": [
            "/usr/local/lib/python3.10/dist-packages/sklearn/cluster/_kmeans.py:870: FutureWarning: The default value of `n_init` will change from 10 to 'auto' in 1.4. Set the value of `n_init` explicitly to suppress the warning\n",
            "  warnings.warn(\n"
          ]
        },
        {
          "metadata": {
            "tags": null
          },
          "name": "stdout",
          "output_type": "stream",
          "text": [
            "Cluster 0 number of samples :  568\n",
            "Cluster 1 number of samples :  460\n",
            "KM balanced accuracy score with hand-crafted labels :  0.7259307463095523\n",
            "KM ARI with hand-crafted labels :  0.21011409321086644\n",
            "KM AMI with hand-crafted labels :  0.13018698856458\n",
            "------------------------------------------------------------------\n",
            "Epoch: 8 \tTraining Loss: 3166.936956\n",
            "         \tTesting Loss: 3194.032522\n"
          ]
        },
        {
          "metadata": {
            "tags": null
          },
          "name": "stderr",
          "output_type": "stream",
          "text": [
            "/usr/local/lib/python3.10/dist-packages/sklearn/cluster/_kmeans.py:870: FutureWarning: The default value of `n_init` will change from 10 to 'auto' in 1.4. Set the value of `n_init` explicitly to suppress the warning\n",
            "  warnings.warn(\n"
          ]
        },
        {
          "metadata": {
            "tags": null
          },
          "name": "stdout",
          "output_type": "stream",
          "text": [
            "Cluster 0 number of samples :  452\n",
            "Cluster 1 number of samples :  576\n",
            "KM balanced accuracy score with hand-crafted labels :  0.7277631263485975\n",
            "KM ARI with hand-crafted labels :  0.20697910590969537\n",
            "KM AMI with hand-crafted labels :  0.1313611677466489\n",
            "------------------------------------------------------------------\n",
            "Epoch: 9 \tTraining Loss: 3151.606480\n",
            "         \tTesting Loss: 3060.551113\n"
          ]
        },
        {
          "metadata": {
            "tags": null
          },
          "name": "stderr",
          "output_type": "stream",
          "text": [
            "/usr/local/lib/python3.10/dist-packages/sklearn/cluster/_kmeans.py:870: FutureWarning: The default value of `n_init` will change from 10 to 'auto' in 1.4. Set the value of `n_init` explicitly to suppress the warning\n",
            "  warnings.warn(\n"
          ]
        },
        {
          "metadata": {
            "tags": null
          },
          "name": "stdout",
          "output_type": "stream",
          "text": [
            "Cluster 0 number of samples :  574\n",
            "Cluster 1 number of samples :  454\n",
            "KM balanced accuracy score with hand-crafted labels :  0.7299380073295202\n",
            "KM ARI with hand-crafted labels :  0.1890914925852453\n",
            "KM AMI with hand-crafted labels :  0.13113485161473334\n",
            "------------------------------------------------------------------\n",
            "Epoch: 10 \tTraining Loss: 3053.772859\n",
            "         \tTesting Loss: 3148.207331\n"
          ]
        },
        {
          "metadata": {
            "tags": null
          },
          "name": "stderr",
          "output_type": "stream",
          "text": [
            "/usr/local/lib/python3.10/dist-packages/sklearn/cluster/_kmeans.py:870: FutureWarning: The default value of `n_init` will change from 10 to 'auto' in 1.4. Set the value of `n_init` explicitly to suppress the warning\n",
            "  warnings.warn(\n"
          ]
        },
        {
          "metadata": {
            "tags": null
          },
          "name": "stdout",
          "output_type": "stream",
          "text": [
            "Cluster 0 number of samples :  571\n",
            "Cluster 1 number of samples :  457\n",
            "KM balanced accuracy score with hand-crafted labels :  0.7141315888618693\n",
            "KM ARI with hand-crafted labels :  0.1880074375186515\n",
            "KM AMI with hand-crafted labels :  0.1155566652877261\n",
            "------------------------------------------------------------------\n",
            "Epoch: 11 \tTraining Loss: 3020.194138\n",
            "         \tTesting Loss: 3052.937565\n"
          ]
        },
        {
          "metadata": {
            "tags": null
          },
          "name": "stderr",
          "output_type": "stream",
          "text": [
            "/usr/local/lib/python3.10/dist-packages/sklearn/cluster/_kmeans.py:870: FutureWarning: The default value of `n_init` will change from 10 to 'auto' in 1.4. Set the value of `n_init` explicitly to suppress the warning\n",
            "  warnings.warn(\n"
          ]
        },
        {
          "metadata": {
            "tags": null
          },
          "name": "stdout",
          "output_type": "stream",
          "text": [
            "Cluster 0 number of samples :  440\n",
            "Cluster 1 number of samples :  588\n",
            "KM balanced accuracy score with hand-crafted labels :  0.6948316607870672\n",
            "KM ARI with hand-crafted labels :  0.18418665043663704\n",
            "KM AMI with hand-crafted labels :  0.09918089335622757\n",
            "------------------------------------------------------------------\n",
            "Epoch: 12 \tTraining Loss: 3003.752819\n",
            "         \tTesting Loss: 2992.245730\n"
          ]
        },
        {
          "metadata": {
            "tags": null
          },
          "name": "stderr",
          "output_type": "stream",
          "text": [
            "/usr/local/lib/python3.10/dist-packages/sklearn/cluster/_kmeans.py:870: FutureWarning: The default value of `n_init` will change from 10 to 'auto' in 1.4. Set the value of `n_init` explicitly to suppress the warning\n",
            "  warnings.warn(\n"
          ]
        },
        {
          "metadata": {
            "tags": null
          },
          "name": "stdout",
          "output_type": "stream",
          "text": [
            "Cluster 0 number of samples :  444\n",
            "Cluster 1 number of samples :  584\n",
            "KM balanced accuracy score with hand-crafted labels :  0.6929992807480221\n",
            "KM ARI with hand-crafted labels :  0.1867152731493155\n",
            "KM AMI with hand-crafted labels :  0.09846566631603823\n",
            "------------------------------------------------------------------\n",
            "Epoch: 13 \tTraining Loss: 2973.064290\n",
            "         \tTesting Loss: 3049.377433\n"
          ]
        },
        {
          "metadata": {
            "tags": null
          },
          "name": "stderr",
          "output_type": "stream",
          "text": [
            "/usr/local/lib/python3.10/dist-packages/sklearn/cluster/_kmeans.py:870: FutureWarning: The default value of `n_init` will change from 10 to 'auto' in 1.4. Set the value of `n_init` explicitly to suppress the warning\n",
            "  warnings.warn(\n"
          ]
        },
        {
          "metadata": {
            "tags": null
          },
          "name": "stdout",
          "output_type": "stream",
          "text": [
            "Cluster 0 number of samples :  562\n",
            "Cluster 1 number of samples :  466\n",
            "KM balanced accuracy score with hand-crafted labels :  0.7071445696475664\n",
            "KM ARI with hand-crafted labels :  0.18559790603777704\n",
            "KM AMI with hand-crafted labels :  0.10909063009326231\n",
            "------------------------------------------------------------------\n",
            "Epoch: 14 \tTraining Loss: 2920.795491\n",
            "         \tTesting Loss: 3060.498133\n"
          ]
        },
        {
          "metadata": {
            "tags": null
          },
          "name": "stderr",
          "output_type": "stream",
          "text": [
            "/usr/local/lib/python3.10/dist-packages/sklearn/cluster/_kmeans.py:870: FutureWarning: The default value of `n_init` will change from 10 to 'auto' in 1.4. Set the value of `n_init` explicitly to suppress the warning\n",
            "  warnings.warn(\n"
          ]
        },
        {
          "metadata": {
            "tags": null
          },
          "name": "stdout",
          "output_type": "stream",
          "text": [
            "Cluster 0 number of samples :  569\n",
            "Cluster 1 number of samples :  459\n",
            "KM balanced accuracy score with hand-crafted labels :  0.6984964208651574\n",
            "KM ARI with hand-crafted labels :  0.17902677272469628\n",
            "KM AMI with hand-crafted labels :  0.10085308420869565\n",
            "------------------------------------------------------------------\n",
            "Epoch: 15 \tTraining Loss: 2903.596320\n",
            "         \tTesting Loss: 2840.576642\n"
          ]
        },
        {
          "metadata": {
            "tags": null
          },
          "name": "stderr",
          "output_type": "stream",
          "text": [
            "/usr/local/lib/python3.10/dist-packages/sklearn/cluster/_kmeans.py:870: FutureWarning: The default value of `n_init` will change from 10 to 'auto' in 1.4. Set the value of `n_init` explicitly to suppress the warning\n",
            "  warnings.warn(\n"
          ]
        },
        {
          "metadata": {
            "tags": null
          },
          "name": "stdout",
          "output_type": "stream",
          "text": [
            "Cluster 0 number of samples :  464\n",
            "Cluster 1 number of samples :  564\n",
            "KM balanced accuracy score with hand-crafted labels :  0.7088056992156728\n",
            "KM ARI with hand-crafted labels :  0.18964884690225492\n",
            "KM AMI with hand-crafted labels :  0.11123876866672017\n",
            "------------------------------------------------------------------\n",
            "Epoch: 16 \tTraining Loss: 2903.090337\n",
            "         \tTesting Loss: 3195.650858\n"
          ]
        },
        {
          "metadata": {
            "tags": null
          },
          "name": "stderr",
          "output_type": "stream",
          "text": [
            "/usr/local/lib/python3.10/dist-packages/sklearn/cluster/_kmeans.py:870: FutureWarning: The default value of `n_init` will change from 10 to 'auto' in 1.4. Set the value of `n_init` explicitly to suppress the warning\n",
            "  warnings.warn(\n"
          ]
        },
        {
          "metadata": {
            "tags": null
          },
          "name": "stdout",
          "output_type": "stream",
          "text": [
            "Cluster 0 number of samples :  582\n",
            "Cluster 1 number of samples :  446\n",
            "KM balanced accuracy score with hand-crafted labels :  0.6672260848717334\n",
            "KM ARI with hand-crafted labels :  0.159242303807033\n",
            "KM AMI with hand-crafted labels :  0.0751380185269515\n",
            "------------------------------------------------------------------\n",
            "Epoch: 17 \tTraining Loss: 2858.981945\n",
            "         \tTesting Loss: 3221.747131\n"
          ]
        },
        {
          "metadata": {
            "tags": null
          },
          "name": "stderr",
          "output_type": "stream",
          "text": [
            "/usr/local/lib/python3.10/dist-packages/sklearn/cluster/_kmeans.py:870: FutureWarning: The default value of `n_init` will change from 10 to 'auto' in 1.4. Set the value of `n_init` explicitly to suppress the warning\n",
            "  warnings.warn(\n"
          ]
        },
        {
          "metadata": {
            "tags": null
          },
          "name": "stdout",
          "output_type": "stream",
          "text": [
            "Cluster 0 number of samples :  458\n",
            "Cluster 1 number of samples :  570\n",
            "KM balanced accuracy score with hand-crafted labels :  0.6605815665993082\n",
            "KM ARI with hand-crafted labels :  0.14476697905737418\n",
            "KM AMI with hand-crafted labels :  0.06786985962257029\n",
            "------------------------------------------------------------------\n",
            "Epoch: 18 \tTraining Loss: 2810.728664\n",
            "         \tTesting Loss: 2876.243310\n"
          ]
        },
        {
          "metadata": {
            "tags": null
          },
          "name": "stderr",
          "output_type": "stream",
          "text": [
            "/usr/local/lib/python3.10/dist-packages/sklearn/cluster/_kmeans.py:870: FutureWarning: The default value of `n_init` will change from 10 to 'auto' in 1.4. Set the value of `n_init` explicitly to suppress the warning\n",
            "  warnings.warn(\n"
          ]
        },
        {
          "metadata": {
            "tags": null
          },
          "name": "stdout",
          "output_type": "stream",
          "text": [
            "Cluster 0 number of samples :  568\n",
            "Cluster 1 number of samples :  460\n",
            "KM balanced accuracy score with hand-crafted labels :  0.6778778641641264\n",
            "KM ARI with hand-crafted labels :  0.1581675411442948\n",
            "KM AMI with hand-crafted labels :  0.08165433847016644\n",
            "------------------------------------------------------------------\n",
            "Epoch: 19 \tTraining Loss: 2814.135352\n",
            "         \tTesting Loss: 3121.340634\n"
          ]
        },
        {
          "metadata": {
            "tags": null
          },
          "name": "stderr",
          "output_type": "stream",
          "text": [
            "/usr/local/lib/python3.10/dist-packages/sklearn/cluster/_kmeans.py:870: FutureWarning: The default value of `n_init` will change from 10 to 'auto' in 1.4. Set the value of `n_init` explicitly to suppress the warning\n",
            "  warnings.warn(\n"
          ]
        },
        {
          "metadata": {
            "tags": null
          },
          "name": "stdout",
          "output_type": "stream",
          "text": [
            "Cluster 0 number of samples :  574\n",
            "Cluster 1 number of samples :  454\n",
            "KM balanced accuracy score with hand-crafted labels :  0.6673973353426721\n",
            "KM ARI with hand-crafted labels :  0.1535514708352148\n",
            "KM AMI with hand-crafted labels :  0.073905488147909\n",
            "------------------------------------------------------------------\n",
            "Epoch: 20 \tTraining Loss: 2746.636880\n",
            "         \tTesting Loss: 3285.635057\n"
          ]
        },
        {
          "metadata": {
            "tags": null
          },
          "name": "stderr",
          "output_type": "stream",
          "text": [
            "/usr/local/lib/python3.10/dist-packages/sklearn/cluster/_kmeans.py:870: FutureWarning: The default value of `n_init` will change from 10 to 'auto' in 1.4. Set the value of `n_init` explicitly to suppress the warning\n",
            "  warnings.warn(\n"
          ]
        },
        {
          "metadata": {
            "tags": null
          },
          "name": "stdout",
          "output_type": "stream",
          "text": [
            "Cluster 0 number of samples :  461\n",
            "Cluster 1 number of samples :  567\n",
            "KM balanced accuracy score with hand-crafted labels :  0.6554269274240505\n",
            "KM ARI with hand-crafted labels :  0.1396258010445933\n",
            "KM AMI with hand-crafted labels :  0.06376664775490369\n",
            "------------------------------------------------------------------\n",
            "Epoch: 21 \tTraining Loss: 2734.000733\n",
            "         \tTesting Loss: 3325.677470\n"
          ]
        },
        {
          "metadata": {
            "tags": null
          },
          "name": "stderr",
          "output_type": "stream",
          "text": [
            "/usr/local/lib/python3.10/dist-packages/sklearn/cluster/_kmeans.py:870: FutureWarning: The default value of `n_init` will change from 10 to 'auto' in 1.4. Set the value of `n_init` explicitly to suppress the warning\n",
            "  warnings.warn(\n"
          ]
        },
        {
          "metadata": {
            "tags": null
          },
          "name": "stdout",
          "output_type": "stream",
          "text": [
            "Cluster 0 number of samples :  548\n",
            "Cluster 1 number of samples :  480\n",
            "KM balanced accuracy score with hand-crafted labels :  0.7041648114532315\n",
            "KM ARI with hand-crafted labels :  0.1644675141521466\n",
            "KM AMI with hand-crafted labels :  0.10321065359431042\n",
            "------------------------------------------------------------------\n",
            "Epoch: 22 \tTraining Loss: 2733.993407\n",
            "         \tTesting Loss: 3509.673947\n"
          ]
        },
        {
          "metadata": {
            "tags": null
          },
          "name": "stderr",
          "output_type": "stream",
          "text": [
            "/usr/local/lib/python3.10/dist-packages/sklearn/cluster/_kmeans.py:870: FutureWarning: The default value of `n_init` will change from 10 to 'auto' in 1.4. Set the value of `n_init` explicitly to suppress the warning\n",
            "  warnings.warn(\n"
          ]
        },
        {
          "metadata": {
            "tags": null
          },
          "name": "stdout",
          "output_type": "stream",
          "text": [
            "Cluster 0 number of samples :  461\n",
            "Cluster 1 number of samples :  567\n",
            "KM balanced accuracy score with hand-crafted labels :  0.6208343322944139\n",
            "KM ARI with hand-crafted labels :  0.11167045280869102\n",
            "KM AMI with hand-crafted labels :  0.04049062377277719\n",
            "------------------------------------------------------------------\n",
            "Epoch: 23 \tTraining Loss: 2692.356043\n",
            "         \tTesting Loss: 3233.299222\n"
          ]
        },
        {
          "metadata": {
            "tags": null
          },
          "name": "stderr",
          "output_type": "stream",
          "text": [
            "/usr/local/lib/python3.10/dist-packages/sklearn/cluster/_kmeans.py:870: FutureWarning: The default value of `n_init` will change from 10 to 'auto' in 1.4. Set the value of `n_init` explicitly to suppress the warning\n",
            "  warnings.warn(\n"
          ]
        },
        {
          "metadata": {
            "tags": null
          },
          "name": "stdout",
          "output_type": "stream",
          "text": [
            "Cluster 0 number of samples :  569\n",
            "Cluster 1 number of samples :  459\n",
            "KM balanced accuracy score with hand-crafted labels :  0.6742131040860362\n",
            "KM ARI with hand-crafted labels :  0.16254511717919448\n",
            "KM AMI with hand-crafted labels :  0.08019746723413912\n",
            "------------------------------------------------------------------\n",
            "Epoch: 24 \tTraining Loss: 2676.500799\n",
            "         \tTesting Loss: 2981.678810\n"
          ]
        },
        {
          "metadata": {
            "tags": null
          },
          "name": "stderr",
          "output_type": "stream",
          "text": [
            "/usr/local/lib/python3.10/dist-packages/sklearn/cluster/_kmeans.py:870: FutureWarning: The default value of `n_init` will change from 10 to 'auto' in 1.4. Set the value of `n_init` explicitly to suppress the warning\n",
            "  warnings.warn(\n"
          ]
        },
        {
          "metadata": {
            "tags": null
          },
          "name": "stdout",
          "output_type": "stream",
          "text": [
            "Cluster 0 number of samples :  460\n",
            "Cluster 1 number of samples :  568\n",
            "KM balanced accuracy score with hand-crafted labels :  0.6898482720827482\n",
            "KM ARI with hand-crafted labels :  0.17237538611839895\n",
            "KM AMI with hand-crafted labels :  0.09298959715435602\n",
            "------------------------------------------------------------------\n",
            "Epoch: 25 \tTraining Loss: 2641.271774\n",
            "         \tTesting Loss: 2828.753642\n"
          ]
        },
        {
          "metadata": {
            "tags": null
          },
          "name": "stderr",
          "output_type": "stream",
          "text": [
            "/usr/local/lib/python3.10/dist-packages/sklearn/cluster/_kmeans.py:870: FutureWarning: The default value of `n_init` will change from 10 to 'auto' in 1.4. Set the value of `n_init` explicitly to suppress the warning\n",
            "  warnings.warn(\n"
          ]
        },
        {
          "metadata": {
            "tags": null
          },
          "name": "stdout",
          "output_type": "stream",
          "text": [
            "Cluster 0 number of samples :  561\n",
            "Cluster 1 number of samples :  467\n",
            "KM balanced accuracy score with hand-crafted labels :  0.6933417816898997\n",
            "KM ARI with hand-crafted labels :  0.17376405155527333\n",
            "KM AMI with hand-crafted labels :  0.09586038056195022\n",
            "------------------------------------------------------------------\n",
            "Epoch: 26 \tTraining Loss: 2629.217428\n",
            "         \tTesting Loss: 2718.663234\n"
          ]
        },
        {
          "metadata": {
            "tags": null
          },
          "name": "stderr",
          "output_type": "stream",
          "text": [
            "/usr/local/lib/python3.10/dist-packages/sklearn/cluster/_kmeans.py:870: FutureWarning: The default value of `n_init` will change from 10 to 'auto' in 1.4. Set the value of `n_init` explicitly to suppress the warning\n",
            "  warnings.warn(\n"
          ]
        },
        {
          "metadata": {
            "tags": null
          },
          "name": "stdout",
          "output_type": "stream",
          "text": [
            "Cluster 0 number of samples :  564\n",
            "Cluster 1 number of samples :  464\n",
            "KM balanced accuracy score with hand-crafted labels :  0.7071445696475664\n",
            "KM ARI with hand-crafted labels :  0.18559790603777704\n",
            "KM AMI with hand-crafted labels :  0.10909063009326231\n",
            "------------------------------------------------------------------\n",
            "Epoch: 27 \tTraining Loss: 2613.381201\n",
            "         \tTesting Loss: 3049.612628\n"
          ]
        },
        {
          "metadata": {
            "tags": null
          },
          "name": "stderr",
          "output_type": "stream",
          "text": [
            "/usr/local/lib/python3.10/dist-packages/sklearn/cluster/_kmeans.py:870: FutureWarning: The default value of `n_init` will change from 10 to 'auto' in 1.4. Set the value of `n_init` explicitly to suppress the warning\n",
            "  warnings.warn(\n"
          ]
        },
        {
          "metadata": {
            "tags": null
          },
          "name": "stdout",
          "output_type": "stream",
          "text": [
            "Cluster 0 number of samples :  473\n",
            "Cluster 1 number of samples :  555\n",
            "KM balanced accuracy score with hand-crafted labels :  0.6915094016508545\n",
            "KM ARI with hand-crafted labels :  0.17626475486320914\n",
            "KM AMI with hand-crafted labels :  0.09501684315661164\n",
            "------------------------------------------------------------------\n",
            "Epoch: 28 \tTraining Loss: 2590.146719\n",
            "         \tTesting Loss: 3131.254411\n"
          ]
        },
        {
          "metadata": {
            "tags": null
          },
          "name": "stderr",
          "output_type": "stream",
          "text": [
            "/usr/local/lib/python3.10/dist-packages/sklearn/cluster/_kmeans.py:870: FutureWarning: The default value of `n_init` will change from 10 to 'auto' in 1.4. Set the value of `n_init` explicitly to suppress the warning\n",
            "  warnings.warn(\n"
          ]
        },
        {
          "metadata": {
            "tags": null
          },
          "name": "stdout",
          "output_type": "stream",
          "text": [
            "Cluster 0 number of samples :  468\n",
            "Cluster 1 number of samples :  560\n",
            "KM balanced accuracy score with hand-crafted labels :  0.688187142514642\n",
            "KM ARI with hand-crafted labels :  0.16853336060589788\n",
            "KM AMI with hand-crafted labels :  0.09099778269600318\n",
            "------------------------------------------------------------------\n",
            "Epoch: 29 \tTraining Loss: 2569.515105\n",
            "         \tTesting Loss: 3292.036991\n"
          ]
        },
        {
          "metadata": {
            "tags": null
          },
          "name": "stderr",
          "output_type": "stream",
          "text": [
            "/usr/local/lib/python3.10/dist-packages/sklearn/cluster/_kmeans.py:870: FutureWarning: The default value of `n_init` will change from 10 to 'auto' in 1.4. Set the value of `n_init` explicitly to suppress the warning\n",
            "  warnings.warn(\n"
          ]
        },
        {
          "metadata": {
            "tags": null
          },
          "name": "stdout",
          "output_type": "stream",
          "text": [
            "Cluster 0 number of samples :  552\n",
            "Cluster 1 number of samples :  476\n",
            "KM balanced accuracy score with hand-crafted labels :  0.7124704592937631\n",
            "KM ARI with hand-crafted labels :  0.1839695555516697\n",
            "KM AMI with hand-crafted labels :  0.1134184220924503\n",
            "------------------------------------------------------------------\n",
            "Epoch: 30 \tTraining Loss: 2538.796738\n",
            "         \tTesting Loss: 3411.662779\n"
          ]
        },
        {
          "metadata": {
            "tags": null
          },
          "name": "stderr",
          "output_type": "stream",
          "text": [
            "/usr/local/lib/python3.10/dist-packages/sklearn/cluster/_kmeans.py:870: FutureWarning: The default value of `n_init` will change from 10 to 'auto' in 1.4. Set the value of `n_init` explicitly to suppress the warning\n",
            "  warnings.warn(\n"
          ]
        },
        {
          "metadata": {
            "tags": null
          },
          "name": "stdout",
          "output_type": "stream",
          "text": [
            "Cluster 0 number of samples :  561\n",
            "Cluster 1 number of samples :  467\n",
            "KM balanced accuracy score with hand-crafted labels :  0.717453847998082\n",
            "KM ARI with hand-crafted labels :  0.19622273571865337\n",
            "KM AMI with hand-crafted labels :  0.11993537835373853\n",
            "------------------------------------------------------------------\n",
            "Epoch: 31 \tTraining Loss: 2507.134312\n",
            "         \tTesting Loss: 2805.495697\n"
          ]
        },
        {
          "metadata": {
            "tags": null
          },
          "name": "stderr",
          "output_type": "stream",
          "text": [
            "/usr/local/lib/python3.10/dist-packages/sklearn/cluster/_kmeans.py:870: FutureWarning: The default value of `n_init` will change from 10 to 'auto' in 1.4. Set the value of `n_init` explicitly to suppress the warning\n",
            "  warnings.warn(\n"
          ]
        },
        {
          "metadata": {
            "tags": null
          },
          "name": "stdout",
          "output_type": "stream",
          "text": [
            "Cluster 0 number of samples :  470\n",
            "Cluster 1 number of samples :  558\n",
            "KM balanced accuracy score with hand-crafted labels :  0.6935130321608385\n",
            "KM ARI with hand-crafted labels :  0.16739724338740386\n",
            "KM AMI with hand-crafted labels :  0.09479587024188368\n",
            "------------------------------------------------------------------\n",
            "Epoch: 32 \tTraining Loss: 2508.752438\n",
            "         \tTesting Loss: 2729.576211\n"
          ]
        },
        {
          "metadata": {
            "tags": null
          },
          "name": "stderr",
          "output_type": "stream",
          "text": [
            "/usr/local/lib/python3.10/dist-packages/sklearn/cluster/_kmeans.py:870: FutureWarning: The default value of `n_init` will change from 10 to 'auto' in 1.4. Set the value of `n_init` explicitly to suppress the warning\n",
            "  warnings.warn(\n"
          ]
        },
        {
          "metadata": {
            "tags": null
          },
          "name": "stdout",
          "output_type": "stream",
          "text": [
            "Cluster 0 number of samples :  472\n",
            "Cluster 1 number of samples :  556\n",
            "KM balanced accuracy score with hand-crafted labels :  0.7019899304723087\n",
            "KM ARI with hand-crafted labels :  0.1803344658321659\n",
            "KM AMI with hand-crafted labels :  0.103877505067152\n",
            "------------------------------------------------------------------\n",
            "Epoch: 33 \tTraining Loss: 2481.193688\n",
            "         \tTesting Loss: 3155.011347\n"
          ]
        },
        {
          "metadata": {
            "tags": null
          },
          "name": "stderr",
          "output_type": "stream",
          "text": [
            "/usr/local/lib/python3.10/dist-packages/sklearn/cluster/_kmeans.py:870: FutureWarning: The default value of `n_init` will change from 10 to 'auto' in 1.4. Set the value of `n_init` explicitly to suppress the warning\n",
            "  warnings.warn(\n"
          ]
        },
        {
          "metadata": {
            "tags": null
          },
          "name": "stdout",
          "output_type": "stream",
          "text": [
            "Cluster 0 number of samples :  472\n",
            "Cluster 1 number of samples :  556\n",
            "KM balanced accuracy score with hand-crafted labels :  0.7088056992156728\n",
            "KM ARI with hand-crafted labels :  0.18964884690225492\n",
            "KM AMI with hand-crafted labels :  0.11123876866672017\n",
            "------------------------------------------------------------------\n",
            "Epoch: 34 \tTraining Loss: 2469.129592\n",
            "         \tTesting Loss: 2773.275525\n"
          ]
        },
        {
          "metadata": {
            "tags": null
          },
          "name": "stderr",
          "output_type": "stream",
          "text": [
            "/usr/local/lib/python3.10/dist-packages/sklearn/cluster/_kmeans.py:870: FutureWarning: The default value of `n_init` will change from 10 to 'auto' in 1.4. Set the value of `n_init` explicitly to suppress the warning\n",
            "  warnings.warn(\n"
          ]
        },
        {
          "metadata": {
            "tags": null
          },
          "name": "stdout",
          "output_type": "stream",
          "text": [
            "Cluster 0 number of samples :  482\n",
            "Cluster 1 number of samples :  546\n",
            "KM balanced accuracy score with hand-crafted labels :  0.7023324314141863\n",
            "KM ARI with hand-crafted labels :  0.16718321450010942\n",
            "KM AMI with hand-crafted labels :  0.1019825722521769\n",
            "------------------------------------------------------------------\n",
            "Epoch: 35 \tTraining Loss: 2400.927676\n",
            "         \tTesting Loss: 3287.209748\n"
          ]
        },
        {
          "metadata": {
            "tags": null
          },
          "name": "stderr",
          "output_type": "stream",
          "text": [
            "/usr/local/lib/python3.10/dist-packages/sklearn/cluster/_kmeans.py:870: FutureWarning: The default value of `n_init` will change from 10 to 'auto' in 1.4. Set the value of `n_init` explicitly to suppress the warning\n",
            "  warnings.warn(\n"
          ]
        },
        {
          "metadata": {
            "tags": null
          },
          "name": "stdout",
          "output_type": "stream",
          "text": [
            "Cluster 0 number of samples :  549\n",
            "Cluster 1 number of samples :  479\n",
            "KM balanced accuracy score with hand-crafted labels :  0.7038223105113539\n",
            "KM ARI with hand-crafted labels :  0.17763649972024087\n",
            "KM AMI with hand-crafted labels :  0.10489820045991308\n",
            "------------------------------------------------------------------\n",
            "Epoch: 36 \tTraining Loss: 2347.532834\n",
            "         \tTesting Loss: 2663.858397\n"
          ]
        },
        {
          "metadata": {
            "tags": null
          },
          "name": "stderr",
          "output_type": "stream",
          "text": [
            "/usr/local/lib/python3.10/dist-packages/sklearn/cluster/_kmeans.py:870: FutureWarning: The default value of `n_init` will change from 10 to 'auto' in 1.4. Set the value of `n_init` explicitly to suppress the warning\n",
            "  warnings.warn(\n"
          ]
        },
        {
          "metadata": {
            "tags": null
          },
          "name": "stdout",
          "output_type": "stream",
          "text": [
            "Cluster 0 number of samples :  476\n",
            "Cluster 1 number of samples :  552\n",
            "KM balanced accuracy score with hand-crafted labels :  0.7071445696475664\n",
            "KM ARI with hand-crafted labels :  0.18559790603777704\n",
            "KM AMI with hand-crafted labels :  0.10909063009326231\n",
            "------------------------------------------------------------------\n",
            "Epoch: 37 \tTraining Loss: 2380.955164\n",
            "         \tTesting Loss: 2706.239344\n"
          ]
        },
        {
          "metadata": {
            "tags": null
          },
          "name": "stderr",
          "output_type": "stream",
          "text": [
            "/usr/local/lib/python3.10/dist-packages/sklearn/cluster/_kmeans.py:870: FutureWarning: The default value of `n_init` will change from 10 to 'auto' in 1.4. Set the value of `n_init` explicitly to suppress the warning\n",
            "  warnings.warn(\n"
          ]
        },
        {
          "metadata": {
            "tags": null
          },
          "name": "stdout",
          "output_type": "stream",
          "text": [
            "Cluster 0 number of samples :  479\n",
            "Cluster 1 number of samples :  549\n",
            "KM balanced accuracy score with hand-crafted labels :  0.7124704592937631\n",
            "KM ARI with hand-crafted labels :  0.1839695555516697\n",
            "KM AMI with hand-crafted labels :  0.1134184220924503\n",
            "------------------------------------------------------------------\n",
            "Epoch: 38 \tTraining Loss: 2305.855902\n",
            "         \tTesting Loss: 2850.598582\n"
          ]
        },
        {
          "metadata": {
            "tags": null
          },
          "name": "stderr",
          "output_type": "stream",
          "text": [
            "/usr/local/lib/python3.10/dist-packages/sklearn/cluster/_kmeans.py:870: FutureWarning: The default value of `n_init` will change from 10 to 'auto' in 1.4. Set the value of `n_init` explicitly to suppress the warning\n",
            "  warnings.warn(\n"
          ]
        },
        {
          "metadata": {
            "tags": null
          },
          "name": "stdout",
          "output_type": "stream",
          "text": [
            "Cluster 0 number of samples :  548\n",
            "Cluster 1 number of samples :  480\n",
            "KM balanced accuracy score with hand-crafted labels :  0.7039935609822927\n",
            "KM ARI with hand-crafted labels :  0.1710200645993223\n",
            "KM AMI with hand-crafted labels :  0.10397799747055529\n",
            "------------------------------------------------------------------\n",
            "Epoch: 39 \tTraining Loss: 2271.174673\n",
            "         \tTesting Loss: 3368.330889\n"
          ]
        },
        {
          "metadata": {
            "tags": null
          },
          "name": "stderr",
          "output_type": "stream",
          "text": [
            "/usr/local/lib/python3.10/dist-packages/sklearn/cluster/_kmeans.py:870: FutureWarning: The default value of `n_init` will change from 10 to 'auto' in 1.4. Set the value of `n_init` explicitly to suppress the warning\n",
            "  warnings.warn(\n"
          ]
        },
        {
          "metadata": {
            "tags": null
          },
          "name": "stdout",
          "output_type": "stream",
          "text": [
            "Cluster 0 number of samples :  484\n",
            "Cluster 1 number of samples :  544\n",
            "KM balanced accuracy score with hand-crafted labels :  0.6951741617289448\n",
            "KM ARI with hand-crafted labels :  0.17122707100807882\n",
            "KM AMI with hand-crafted labels :  0.0967810436477955\n",
            "------------------------------------------------------------------\n",
            "Epoch: 40 \tTraining Loss: 2315.709607\n",
            "         \tTesting Loss: 2733.219623\n"
          ]
        },
        {
          "metadata": {
            "tags": null
          },
          "name": "stderr",
          "output_type": "stream",
          "text": [
            "/usr/local/lib/python3.10/dist-packages/sklearn/cluster/_kmeans.py:870: FutureWarning: The default value of `n_init` will change from 10 to 'auto' in 1.4. Set the value of `n_init` explicitly to suppress the warning\n",
            "  warnings.warn(\n"
          ]
        },
        {
          "metadata": {
            "tags": null
          },
          "name": "stdout",
          "output_type": "stream",
          "text": [
            "Cluster 0 number of samples :  481\n",
            "Cluster 1 number of samples :  547\n",
            "KM balanced accuracy score with hand-crafted labels :  0.6953454121998836\n",
            "KM ARI with hand-crafted labels :  0.1648519238055506\n",
            "KM AMI with hand-crafted labels :  0.09581322820994306\n",
            "------------------------------------------------------------------\n",
            "Epoch: 41 \tTraining Loss: 2268.797086\n",
            "         \tTesting Loss: 2752.842190\n"
          ]
        },
        {
          "metadata": {
            "tags": null
          },
          "name": "stderr",
          "output_type": "stream",
          "text": [
            "/usr/local/lib/python3.10/dist-packages/sklearn/cluster/_kmeans.py:870: FutureWarning: The default value of `n_init` will change from 10 to 'auto' in 1.4. Set the value of `n_init` explicitly to suppress the warning\n",
            "  warnings.warn(\n"
          ]
        },
        {
          "metadata": {
            "tags": null
          },
          "name": "stdout",
          "output_type": "stream",
          "text": [
            "Cluster 0 number of samples :  560\n",
            "Cluster 1 number of samples :  468\n",
            "KM balanced accuracy score with hand-crafted labels :  0.6951741617289448\n",
            "KM ARI with hand-crafted labels :  0.17122707100807882\n",
            "KM AMI with hand-crafted labels :  0.0967810436477955\n",
            "------------------------------------------------------------------\n",
            "Epoch: 42 \tTraining Loss: 2250.620054\n",
            "         \tTesting Loss: 2954.284576\n"
          ]
        },
        {
          "metadata": {
            "tags": null
          },
          "name": "stderr",
          "output_type": "stream",
          "text": [
            "/usr/local/lib/python3.10/dist-packages/sklearn/cluster/_kmeans.py:870: FutureWarning: The default value of `n_init` will change from 10 to 'auto' in 1.4. Set the value of `n_init` explicitly to suppress the warning\n",
            "  warnings.warn(\n"
          ]
        },
        {
          "metadata": {
            "tags": null
          },
          "name": "stdout",
          "output_type": "stream",
          "text": [
            "Cluster 0 number of samples :  471\n",
            "Cluster 1 number of samples :  557\n",
            "KM balanced accuracy score with hand-crafted labels :  0.7021611809432475\n",
            "KM ARI with hand-crafted labels :  0.17372550109153068\n",
            "KM AMI with hand-crafted labels :  0.1028524383058048\n",
            "------------------------------------------------------------------\n",
            "Epoch: 43 \tTraining Loss: 2211.758439\n",
            "         \tTesting Loss: 3088.939933\n"
          ]
        },
        {
          "metadata": {
            "tags": null
          },
          "name": "stderr",
          "output_type": "stream",
          "text": [
            "/usr/local/lib/python3.10/dist-packages/sklearn/cluster/_kmeans.py:870: FutureWarning: The default value of `n_init` will change from 10 to 'auto' in 1.4. Set the value of `n_init` explicitly to suppress the warning\n",
            "  warnings.warn(\n"
          ]
        },
        {
          "metadata": {
            "tags": null
          },
          "name": "stdout",
          "output_type": "stream",
          "text": [
            "Cluster 0 number of samples :  554\n",
            "Cluster 1 number of samples :  474\n",
            "KM balanced accuracy score with hand-crafted labels :  0.6970065417679898\n",
            "KM ARI with hand-crafted labels :  0.1686531523210082\n",
            "KM AMI with hand-crafted labels :  0.09777988870225045\n",
            "------------------------------------------------------------------\n",
            "Epoch: 44 \tTraining Loss: 2216.912680\n",
            "         \tTesting Loss: 2819.503690\n"
          ]
        },
        {
          "metadata": {
            "tags": null
          },
          "name": "stderr",
          "output_type": "stream",
          "text": [
            "/usr/local/lib/python3.10/dist-packages/sklearn/cluster/_kmeans.py:870: FutureWarning: The default value of `n_init` will change from 10 to 'auto' in 1.4. Set the value of `n_init` explicitly to suppress the warning\n",
            "  warnings.warn(\n"
          ]
        },
        {
          "metadata": {
            "tags": null
          },
          "name": "stdout",
          "output_type": "stream",
          "text": [
            "Cluster 0 number of samples :  546\n",
            "Cluster 1 number of samples :  482\n",
            "KM balanced accuracy score with hand-crafted labels :  0.6953454121998836\n",
            "KM ARI with hand-crafted labels :  0.1648519238055506\n",
            "KM AMI with hand-crafted labels :  0.09581322820994306\n",
            "------------------------------------------------------------------\n",
            "Epoch: 45 \tTraining Loss: 2224.876402\n",
            "         \tTesting Loss: 3435.225702\n"
          ]
        },
        {
          "metadata": {
            "tags": null
          },
          "name": "stderr",
          "output_type": "stream",
          "text": [
            "/usr/local/lib/python3.10/dist-packages/sklearn/cluster/_kmeans.py:870: FutureWarning: The default value of `n_init` will change from 10 to 'auto' in 1.4. Set the value of `n_init` explicitly to suppress the warning\n",
            "  warnings.warn(\n"
          ]
        },
        {
          "metadata": {
            "tags": null
          },
          "name": "stdout",
          "output_type": "stream",
          "text": [
            "Cluster 0 number of samples :  571\n",
            "Cluster 1 number of samples :  457\n",
            "KM balanced accuracy score with hand-crafted labels :  0.710638079254718\n",
            "KM ARI with hand-crafted labels :  0.18682636085278928\n",
            "KM AMI with hand-crafted labels :  0.11228209060025604\n",
            "------------------------------------------------------------------\n",
            "Epoch: 46 \tTraining Loss: 2158.302570\n",
            "         \tTesting Loss: 2662.933516\n"
          ]
        },
        {
          "metadata": {
            "tags": null
          },
          "name": "stderr",
          "output_type": "stream",
          "text": [
            "/usr/local/lib/python3.10/dist-packages/sklearn/cluster/_kmeans.py:870: FutureWarning: The default value of `n_init` will change from 10 to 'auto' in 1.4. Set the value of `n_init` explicitly to suppress the warning\n",
            "  warnings.warn(\n"
          ]
        },
        {
          "metadata": {
            "tags": null
          },
          "name": "stdout",
          "output_type": "stream",
          "text": [
            "Cluster 0 number of samples :  470\n",
            "Cluster 1 number of samples :  558\n",
            "KM balanced accuracy score with hand-crafted labels :  0.7054834400794602\n",
            "KM ARI with hand-crafted labels :  0.18159387993590556\n",
            "KM AMI with hand-crafted labels :  0.10697735652933979\n",
            "------------------------------------------------------------------\n",
            "Epoch: 47 \tTraining Loss: 2163.013429\n",
            "         \tTesting Loss: 2648.241801\n"
          ]
        },
        {
          "metadata": {
            "tags": null
          },
          "name": "stderr",
          "output_type": "stream",
          "text": [
            "/usr/local/lib/python3.10/dist-packages/sklearn/cluster/_kmeans.py:870: FutureWarning: The default value of `n_init` will change from 10 to 'auto' in 1.4. Set the value of `n_init` explicitly to suppress the warning\n",
            "  warnings.warn(\n"
          ]
        },
        {
          "metadata": {
            "tags": null
          },
          "name": "stdout",
          "output_type": "stream",
          "text": [
            "Cluster 0 number of samples :  557\n",
            "Cluster 1 number of samples :  471\n",
            "KM balanced accuracy score with hand-crafted labels :  0.7021611809432475\n",
            "KM ARI with hand-crafted labels :  0.17372550109153068\n",
            "KM AMI with hand-crafted labels :  0.1028524383058048\n",
            "------------------------------------------------------------------\n",
            "Epoch: 48 \tTraining Loss: 2163.080615\n",
            "         \tTesting Loss: 2541.317521\n"
          ]
        },
        {
          "metadata": {
            "tags": null
          },
          "name": "stderr",
          "output_type": "stream",
          "text": [
            "/usr/local/lib/python3.10/dist-packages/sklearn/cluster/_kmeans.py:870: FutureWarning: The default value of `n_init` will change from 10 to 'auto' in 1.4. Set the value of `n_init` explicitly to suppress the warning\n",
            "  warnings.warn(\n"
          ]
        },
        {
          "metadata": {
            "tags": null
          },
          "name": "stdout",
          "output_type": "stream",
          "text": [
            "Cluster 0 number of samples :  559\n",
            "Cluster 1 number of samples :  469\n",
            "KM balanced accuracy score with hand-crafted labels :  0.7003288009042025\n",
            "KM ARI with hand-crafted labels :  0.17639416185662243\n",
            "KM AMI with hand-crafted labels :  0.10181131901384055\n",
            "------------------------------------------------------------------\n",
            "Epoch: 49 \tTraining Loss: 2126.602813\n",
            "         \tTesting Loss: 2906.983240\n"
          ]
        },
        {
          "metadata": {
            "tags": null
          },
          "name": "stderr",
          "output_type": "stream",
          "text": [
            "/usr/local/lib/python3.10/dist-packages/sklearn/cluster/_kmeans.py:870: FutureWarning: The default value of `n_init` will change from 10 to 'auto' in 1.4. Set the value of `n_init` explicitly to suppress the warning\n",
            "  warnings.warn(\n"
          ]
        },
        {
          "metadata": {
            "tags": null
          },
          "name": "stdout",
          "output_type": "stream",
          "text": [
            "Cluster 0 number of samples :  553\n",
            "Cluster 1 number of samples :  475\n",
            "KM balanced accuracy score with hand-crafted labels :  0.6986676713360962\n",
            "KM ARI with hand-crafted labels :  0.17250047860186007\n",
            "KM AMI with hand-crafted labels :  0.09977902009631633\n",
            "------------------------------------------------------------------\n",
            "Epoch: 50 \tTraining Loss: 2086.402970\n",
            "         \tTesting Loss: 2736.440547\n"
          ]
        },
        {
          "metadata": {
            "tags": null
          },
          "name": "stderr",
          "output_type": "stream",
          "text": [
            "/usr/local/lib/python3.10/dist-packages/sklearn/cluster/_kmeans.py:870: FutureWarning: The default value of `n_init` will change from 10 to 'auto' in 1.4. Set the value of `n_init` explicitly to suppress the warning\n",
            "  warnings.warn(\n"
          ]
        },
        {
          "metadata": {
            "tags": null
          },
          "name": "stdout",
          "output_type": "stream",
          "text": [
            "Cluster 0 number of samples :  556\n",
            "Cluster 1 number of samples :  472\n",
            "KM balanced accuracy score with hand-crafted labels :  0.7019899304723087\n",
            "KM ARI with hand-crafted labels :  0.1803344658321659\n",
            "KM AMI with hand-crafted labels :  0.103877505067152\n",
            "------------------------------------------------------------------\n",
            "Epoch: 51 \tTraining Loss: 2067.667074\n",
            "         \tTesting Loss: 2469.303986\n"
          ]
        },
        {
          "metadata": {
            "tags": null
          },
          "name": "stderr",
          "output_type": "stream",
          "text": [
            "/usr/local/lib/python3.10/dist-packages/sklearn/cluster/_kmeans.py:870: FutureWarning: The default value of `n_init` will change from 10 to 'auto' in 1.4. Set the value of `n_init` explicitly to suppress the warning\n",
            "  warnings.warn(\n"
          ]
        },
        {
          "metadata": {
            "tags": null
          },
          "name": "stdout",
          "output_type": "stream",
          "text": [
            "Cluster 0 number of samples :  477\n",
            "Cluster 1 number of samples :  551\n",
            "KM balanced accuracy score with hand-crafted labels :  0.6953454121998836\n",
            "KM ARI with hand-crafted labels :  0.1648519238055506\n",
            "KM AMI with hand-crafted labels :  0.09581322820994306\n",
            "------------------------------------------------------------------\n",
            "Epoch: 52 \tTraining Loss: 2080.002694\n",
            "         \tTesting Loss: 2701.917027\n"
          ]
        },
        {
          "metadata": {
            "tags": null
          },
          "name": "stderr",
          "output_type": "stream",
          "text": [
            "/usr/local/lib/python3.10/dist-packages/sklearn/cluster/_kmeans.py:870: FutureWarning: The default value of `n_init` will change from 10 to 'auto' in 1.4. Set the value of `n_init` explicitly to suppress the warning\n",
            "  warnings.warn(\n"
          ]
        },
        {
          "metadata": {
            "tags": null
          },
          "name": "stdout",
          "output_type": "stream",
          "text": [
            "Cluster 0 number of samples :  550\n",
            "Cluster 1 number of samples :  478\n",
            "KM balanced accuracy score with hand-crafted labels :  0.7003288009042025\n",
            "KM ARI with hand-crafted labels :  0.17639416185662243\n",
            "KM AMI with hand-crafted labels :  0.10181131901384055\n",
            "------------------------------------------------------------------\n",
            "Epoch: 53 \tTraining Loss: 2079.671987\n",
            "         \tTesting Loss: 2659.991754\n"
          ]
        },
        {
          "metadata": {
            "tags": null
          },
          "name": "stderr",
          "output_type": "stream",
          "text": [
            "/usr/local/lib/python3.10/dist-packages/sklearn/cluster/_kmeans.py:870: FutureWarning: The default value of `n_init` will change from 10 to 'auto' in 1.4. Set the value of `n_init` explicitly to suppress the warning\n",
            "  warnings.warn(\n"
          ]
        },
        {
          "metadata": {
            "tags": null
          },
          "name": "stdout",
          "output_type": "stream",
          "text": [
            "Cluster 0 number of samples :  486\n",
            "Cluster 1 number of samples :  542\n",
            "KM balanced accuracy score with hand-crafted labels :  0.6953454121998836\n",
            "KM ARI with hand-crafted labels :  0.1648519238055506\n",
            "KM AMI with hand-crafted labels :  0.09581322820994306\n",
            "------------------------------------------------------------------\n",
            "Epoch: 54 \tTraining Loss: 2064.663892\n",
            "         \tTesting Loss: 2563.067461\n"
          ]
        },
        {
          "metadata": {
            "tags": null
          },
          "name": "stderr",
          "output_type": "stream",
          "text": [
            "/usr/local/lib/python3.10/dist-packages/sklearn/cluster/_kmeans.py:870: FutureWarning: The default value of `n_init` will change from 10 to 'auto' in 1.4. Set the value of `n_init` explicitly to suppress the warning\n",
            "  warnings.warn(\n"
          ]
        },
        {
          "metadata": {
            "tags": null
          },
          "name": "stdout",
          "output_type": "stream",
          "text": [
            "Cluster 0 number of samples :  488\n",
            "Cluster 1 number of samples :  540\n",
            "KM balanced accuracy score with hand-crafted labels :  0.6901907730246258\n",
            "KM ARI with hand-crafted labels :  0.15987631865509117\n",
            "KM AMI with hand-crafted labels :  0.09092363862907757\n",
            "------------------------------------------------------------------\n",
            "Epoch: 55 \tTraining Loss: 2011.660339\n",
            "         \tTesting Loss: 2719.937444\n"
          ]
        },
        {
          "metadata": {
            "tags": null
          },
          "name": "stderr",
          "output_type": "stream",
          "text": [
            "/usr/local/lib/python3.10/dist-packages/sklearn/cluster/_kmeans.py:870: FutureWarning: The default value of `n_init` will change from 10 to 'auto' in 1.4. Set the value of `n_init` explicitly to suppress the warning\n",
            "  warnings.warn(\n"
          ]
        },
        {
          "metadata": {
            "tags": null
          },
          "name": "stdout",
          "output_type": "stream",
          "text": [
            "Cluster 0 number of samples :  542\n",
            "Cluster 1 number of samples :  486\n",
            "KM balanced accuracy score with hand-crafted labels :  0.6918519025927321\n",
            "KM ARI with hand-crafted labels :  0.16361374547995197\n",
            "KM AMI with hand-crafted labels :  0.09284363274753232\n",
            "------------------------------------------------------------------\n",
            "Epoch: 56 \tTraining Loss: 2024.761611\n",
            "         \tTesting Loss: 2567.591083\n"
          ]
        },
        {
          "metadata": {
            "tags": null
          },
          "name": "stderr",
          "output_type": "stream",
          "text": [
            "/usr/local/lib/python3.10/dist-packages/sklearn/cluster/_kmeans.py:870: FutureWarning: The default value of `n_init` will change from 10 to 'auto' in 1.4. Set the value of `n_init` explicitly to suppress the warning\n",
            "  warnings.warn(\n"
          ]
        },
        {
          "metadata": {
            "tags": null
          },
          "name": "stdout",
          "output_type": "stream",
          "text": [
            "Cluster 0 number of samples :  535\n",
            "Cluster 1 number of samples :  493\n",
            "KM balanced accuracy score with hand-crafted labels :  0.6885296434565196\n",
            "KM ARI with hand-crafted labels :  0.1561847087820352\n",
            "KM AMI with hand-crafted labels :  0.0890352174370868\n",
            "------------------------------------------------------------------\n",
            "Epoch: 57 \tTraining Loss: 2000.985376\n",
            "         \tTesting Loss: 2586.099788\n"
          ]
        },
        {
          "metadata": {
            "tags": null
          },
          "name": "stderr",
          "output_type": "stream",
          "text": [
            "/usr/local/lib/python3.10/dist-packages/sklearn/cluster/_kmeans.py:870: FutureWarning: The default value of `n_init` will change from 10 to 'auto' in 1.4. Set the value of `n_init` explicitly to suppress the warning\n",
            "  warnings.warn(\n"
          ]
        },
        {
          "metadata": {
            "tags": null
          },
          "name": "stdout",
          "output_type": "stream",
          "text": [
            "Cluster 0 number of samples :  493\n",
            "Cluster 1 number of samples :  535\n",
            "KM balanced accuracy score with hand-crafted labels :  0.6885296434565196\n",
            "KM ARI with hand-crafted labels :  0.1561847087820352\n",
            "KM AMI with hand-crafted labels :  0.0890352174370868\n",
            "------------------------------------------------------------------\n",
            "Epoch: 58 \tTraining Loss: 1985.474301\n",
            "         \tTesting Loss: 2450.727829\n"
          ]
        },
        {
          "metadata": {
            "tags": null
          },
          "name": "stderr",
          "output_type": "stream",
          "text": [
            "/usr/local/lib/python3.10/dist-packages/sklearn/cluster/_kmeans.py:870: FutureWarning: The default value of `n_init` will change from 10 to 'auto' in 1.4. Set the value of `n_init` explicitly to suppress the warning\n",
            "  warnings.warn(\n"
          ]
        },
        {
          "metadata": {
            "tags": null
          },
          "name": "stdout",
          "output_type": "stream",
          "text": [
            "Cluster 0 number of samples :  537\n",
            "Cluster 1 number of samples :  491\n",
            "KM balanced accuracy score with hand-crafted labels :  0.6885296434565196\n",
            "KM ARI with hand-crafted labels :  0.1561847087820352\n",
            "KM AMI with hand-crafted labels :  0.0890352174370868\n",
            "------------------------------------------------------------------\n",
            "Epoch: 59 \tTraining Loss: 2000.323275\n",
            "         \tTesting Loss: 2594.755045\n"
          ]
        },
        {
          "metadata": {
            "tags": null
          },
          "name": "stderr",
          "output_type": "stream",
          "text": [
            "/usr/local/lib/python3.10/dist-packages/sklearn/cluster/_kmeans.py:870: FutureWarning: The default value of `n_init` will change from 10 to 'auto' in 1.4. Set the value of `n_init` explicitly to suppress the warning\n",
            "  warnings.warn(\n"
          ]
        },
        {
          "metadata": {
            "tags": null
          },
          "name": "stdout",
          "output_type": "stream",
          "text": [
            "Cluster 0 number of samples :  535\n",
            "Cluster 1 number of samples :  493\n",
            "KM balanced accuracy score with hand-crafted labels :  0.685036133849368\n",
            "KM ARI with hand-crafted labels :  0.15493368057018128\n",
            "KM AMI with hand-crafted labels :  0.08616793775242047\n",
            "------------------------------------------------------------------\n",
            "Epoch: 60 \tTraining Loss: 1971.217311\n",
            "         \tTesting Loss: 2647.730073\n"
          ]
        },
        {
          "metadata": {
            "tags": null
          },
          "name": "stderr",
          "output_type": "stream",
          "text": [
            "/usr/local/lib/python3.10/dist-packages/sklearn/cluster/_kmeans.py:870: FutureWarning: The default value of `n_init` will change from 10 to 'auto' in 1.4. Set the value of `n_init` explicitly to suppress the warning\n",
            "  warnings.warn(\n"
          ]
        },
        {
          "metadata": {
            "tags": null
          },
          "name": "stdout",
          "output_type": "stream",
          "text": [
            "Cluster 0 number of samples :  493\n",
            "Cluster 1 number of samples :  535\n",
            "KM balanced accuracy score with hand-crafted labels :  0.6817138747131555\n",
            "KM ARI with hand-crafted labels :  0.14772385602098445\n",
            "KM AMI with hand-crafted labels :  0.08251519038960545\n",
            "------------------------------------------------------------------\n",
            "Epoch: 61 \tTraining Loss: 1973.473605\n",
            "         \tTesting Loss: 2383.578516\n"
          ]
        },
        {
          "metadata": {
            "tags": null
          },
          "name": "stderr",
          "output_type": "stream",
          "text": [
            "/usr/local/lib/python3.10/dist-packages/sklearn/cluster/_kmeans.py:870: FutureWarning: The default value of `n_init` will change from 10 to 'auto' in 1.4. Set the value of `n_init` explicitly to suppress the warning\n",
            "  warnings.warn(\n"
          ]
        },
        {
          "metadata": {
            "tags": null
          },
          "name": "stdout",
          "output_type": "stream",
          "text": [
            "Cluster 0 number of samples :  536\n",
            "Cluster 1 number of samples :  492\n",
            "KM balanced accuracy score with hand-crafted labels :  0.678220365106004\n",
            "KM ARI with hand-crafted labels :  0.14646028387254797\n",
            "KM AMI with hand-crafted labels :  0.07974894121498505\n",
            "------------------------------------------------------------------\n",
            "Epoch: 62 \tTraining Loss: 1957.547942\n",
            "         \tTesting Loss: 2554.736220\n"
          ]
        },
        {
          "metadata": {
            "tags": null
          },
          "name": "stderr",
          "output_type": "stream",
          "text": [
            "/usr/local/lib/python3.10/dist-packages/sklearn/cluster/_kmeans.py:870: FutureWarning: The default value of `n_init` will change from 10 to 'auto' in 1.4. Set the value of `n_init` explicitly to suppress the warning\n",
            "  warnings.warn(\n"
          ]
        },
        {
          "metadata": {
            "tags": null
          },
          "name": "stdout",
          "output_type": "stream",
          "text": [
            "Cluster 0 number of samples :  537\n",
            "Cluster 1 number of samples :  491\n",
            "KM balanced accuracy score with hand-crafted labels :  0.678220365106004\n",
            "KM ARI with hand-crafted labels :  0.14646028387254797\n",
            "KM AMI with hand-crafted labels :  0.07974894121498505\n",
            "------------------------------------------------------------------\n",
            "Epoch: 63 \tTraining Loss: 1951.276623\n",
            "         \tTesting Loss: 2427.490642\n"
          ]
        },
        {
          "metadata": {
            "tags": null
          },
          "name": "stderr",
          "output_type": "stream",
          "text": [
            "/usr/local/lib/python3.10/dist-packages/sklearn/cluster/_kmeans.py:870: FutureWarning: The default value of `n_init` will change from 10 to 'auto' in 1.4. Set the value of `n_init` explicitly to suppress the warning\n",
            "  warnings.warn(\n"
          ]
        },
        {
          "metadata": {
            "tags": null
          },
          "name": "stdout",
          "output_type": "stream",
          "text": [
            "Cluster 0 number of samples :  493\n",
            "Cluster 1 number of samples :  535\n",
            "KM balanced accuracy score with hand-crafted labels :  0.678220365106004\n",
            "KM ARI with hand-crafted labels :  0.14646028387254797\n",
            "KM AMI with hand-crafted labels :  0.07974894121498505\n",
            "------------------------------------------------------------------\n",
            "Epoch: 64 \tTraining Loss: 1949.324605\n",
            "         \tTesting Loss: 2479.590709\n"
          ]
        },
        {
          "metadata": {
            "tags": null
          },
          "name": "stderr",
          "output_type": "stream",
          "text": [
            "/usr/local/lib/python3.10/dist-packages/sklearn/cluster/_kmeans.py:870: FutureWarning: The default value of `n_init` will change from 10 to 'auto' in 1.4. Set the value of `n_init` explicitly to suppress the warning\n",
            "  warnings.warn(\n"
          ]
        },
        {
          "metadata": {
            "tags": null
          },
          "name": "stdout",
          "output_type": "stream",
          "text": [
            "Cluster 0 number of samples :  535\n",
            "Cluster 1 number of samples :  493\n",
            "KM balanced accuracy score with hand-crafted labels :  0.6730657259307463\n",
            "KM ARI with hand-crafted labels :  0.14164744225136458\n",
            "KM AMI with hand-crafted labels :  0.0753012160040879\n",
            "------------------------------------------------------------------\n",
            "Epoch: 65 \tTraining Loss: 1924.298169\n",
            "         \tTesting Loss: 2430.101147\n"
          ]
        },
        {
          "metadata": {
            "tags": null
          },
          "name": "stderr",
          "output_type": "stream",
          "text": [
            "/usr/local/lib/python3.10/dist-packages/sklearn/cluster/_kmeans.py:870: FutureWarning: The default value of `n_init` will change from 10 to 'auto' in 1.4. Set the value of `n_init` explicitly to suppress the warning\n",
            "  warnings.warn(\n"
          ]
        },
        {
          "metadata": {
            "tags": null
          },
          "name": "stdout",
          "output_type": "stream",
          "text": [
            "Cluster 0 number of samples :  493\n",
            "Cluster 1 number of samples :  535\n",
            "KM balanced accuracy score with hand-crafted labels :  0.6730657259307463\n",
            "KM ARI with hand-crafted labels :  0.14164744225136458\n",
            "KM AMI with hand-crafted labels :  0.0753012160040879\n",
            "------------------------------------------------------------------\n",
            "Epoch: 66 \tTraining Loss: 1946.441147\n",
            "         \tTesting Loss: 2471.089310\n"
          ]
        },
        {
          "metadata": {
            "tags": null
          },
          "name": "stderr",
          "output_type": "stream",
          "text": [
            "/usr/local/lib/python3.10/dist-packages/sklearn/cluster/_kmeans.py:870: FutureWarning: The default value of `n_init` will change from 10 to 'auto' in 1.4. Set the value of `n_init` explicitly to suppress the warning\n",
            "  warnings.warn(\n"
          ]
        },
        {
          "metadata": {
            "tags": null
          },
          "name": "stdout",
          "output_type": "stream",
          "text": [
            "Cluster 0 number of samples :  495\n",
            "Cluster 1 number of samples :  533\n",
            "KM balanced accuracy score with hand-crafted labels :  0.6697434667945337\n",
            "KM ARI with hand-crafted labels :  0.1347849000572343\n",
            "KM AMI with hand-crafted labels :  0.07189619348264553\n",
            "------------------------------------------------------------------\n",
            "Epoch: 67 \tTraining Loss: 1926.122741\n",
            "         \tTesting Loss: 2410.367644\n"
          ]
        },
        {
          "metadata": {
            "tags": null
          },
          "name": "stderr",
          "output_type": "stream",
          "text": [
            "/usr/local/lib/python3.10/dist-packages/sklearn/cluster/_kmeans.py:870: FutureWarning: The default value of `n_init` will change from 10 to 'auto' in 1.4. Set the value of `n_init` explicitly to suppress the warning\n",
            "  warnings.warn(\n"
          ]
        },
        {
          "metadata": {
            "tags": null
          },
          "name": "stdout",
          "output_type": "stream",
          "text": [
            "Cluster 0 number of samples :  537\n",
            "Cluster 1 number of samples :  491\n",
            "KM balanced accuracy score with hand-crafted labels :  0.6679110867554885\n",
            "KM ARI with hand-crafted labels :  0.13686735417175044\n",
            "KM AMI with hand-crafted labels :  0.07098107588418194\n",
            "------------------------------------------------------------------\n",
            "Epoch: 68 \tTraining Loss: 1909.581111\n",
            "         \tTesting Loss: 2508.952410\n"
          ]
        },
        {
          "metadata": {
            "tags": null
          },
          "name": "stderr",
          "output_type": "stream",
          "text": [
            "/usr/local/lib/python3.10/dist-packages/sklearn/cluster/_kmeans.py:870: FutureWarning: The default value of `n_init` will change from 10 to 'auto' in 1.4. Set the value of `n_init` explicitly to suppress the warning\n",
            "  warnings.warn(\n"
          ]
        },
        {
          "metadata": {
            "tags": null
          },
          "name": "stdout",
          "output_type": "stream",
          "text": [
            "Cluster 0 number of samples :  535\n",
            "Cluster 1 number of samples :  493\n",
            "KM balanced accuracy score with hand-crafted labels :  0.6730657259307463\n",
            "KM ARI with hand-crafted labels :  0.14164744225136458\n",
            "KM AMI with hand-crafted labels :  0.0753012160040879\n",
            "------------------------------------------------------------------\n",
            "Epoch: 69 \tTraining Loss: 1916.526391\n",
            "         \tTesting Loss: 2417.855117\n"
          ]
        },
        {
          "metadata": {
            "tags": null
          },
          "name": "stderr",
          "output_type": "stream",
          "text": [
            "/usr/local/lib/python3.10/dist-packages/sklearn/cluster/_kmeans.py:870: FutureWarning: The default value of `n_init` will change from 10 to 'auto' in 1.4. Set the value of `n_init` explicitly to suppress the warning\n",
            "  warnings.warn(\n"
          ]
        },
        {
          "metadata": {
            "tags": null
          },
          "name": "stdout",
          "output_type": "stream",
          "text": [
            "Cluster 0 number of samples :  492\n",
            "Cluster 1 number of samples :  536\n",
            "KM balanced accuracy score with hand-crafted labels :  0.6730657259307463\n",
            "KM ARI with hand-crafted labels :  0.14164744225136458\n",
            "KM AMI with hand-crafted labels :  0.0753012160040879\n",
            "------------------------------------------------------------------\n",
            "Epoch: 70 \tTraining Loss: 1919.158870\n",
            "         \tTesting Loss: 2427.813352\n"
          ]
        },
        {
          "metadata": {
            "tags": null
          },
          "name": "stderr",
          "output_type": "stream",
          "text": [
            "/usr/local/lib/python3.10/dist-packages/sklearn/cluster/_kmeans.py:870: FutureWarning: The default value of `n_init` will change from 10 to 'auto' in 1.4. Set the value of `n_init` explicitly to suppress the warning\n",
            "  warnings.warn(\n"
          ]
        },
        {
          "metadata": {
            "tags": null
          },
          "name": "stdout",
          "output_type": "stream",
          "text": [
            "Cluster 0 number of samples :  492\n",
            "Cluster 1 number of samples :  536\n",
            "KM balanced accuracy score with hand-crafted labels :  0.6627564475802308\n",
            "KM ARI with hand-crafted labels :  0.1321199022327567\n",
            "KM AMI with hand-crafted labels :  0.06678676539842099\n",
            "------------------------------------------------------------------\n",
            "Epoch: 71 \tTraining Loss: 1916.230561\n",
            "         \tTesting Loss: 2512.761085\n"
          ]
        },
        {
          "metadata": {
            "tags": null
          },
          "name": "stderr",
          "output_type": "stream",
          "text": [
            "/usr/local/lib/python3.10/dist-packages/sklearn/cluster/_kmeans.py:870: FutureWarning: The default value of `n_init` will change from 10 to 'auto' in 1.4. Set the value of `n_init` explicitly to suppress the warning\n",
            "  warnings.warn(\n"
          ]
        },
        {
          "metadata": {
            "tags": null
          },
          "name": "stdout",
          "output_type": "stream",
          "text": [
            "Cluster 0 number of samples :  535\n",
            "Cluster 1 number of samples :  493\n",
            "KM balanced accuracy score with hand-crafted labels :  0.6679110867554885\n",
            "KM ARI with hand-crafted labels :  0.13686735417175044\n",
            "KM AMI with hand-crafted labels :  0.07098107588418194\n",
            "------------------------------------------------------------------\n",
            "Epoch: 72 \tTraining Loss: 1921.088233\n",
            "         \tTesting Loss: 2449.007795\n"
          ]
        },
        {
          "metadata": {
            "tags": null
          },
          "name": "stderr",
          "output_type": "stream",
          "text": [
            "/usr/local/lib/python3.10/dist-packages/sklearn/cluster/_kmeans.py:870: FutureWarning: The default value of `n_init` will change from 10 to 'auto' in 1.4. Set the value of `n_init` explicitly to suppress the warning\n",
            "  warnings.warn(\n"
          ]
        },
        {
          "metadata": {
            "tags": null
          },
          "name": "stdout",
          "output_type": "stream",
          "text": [
            "Cluster 0 number of samples :  492\n",
            "Cluster 1 number of samples :  536\n",
            "KM balanced accuracy score with hand-crafted labels :  0.6627564475802308\n",
            "KM ARI with hand-crafted labels :  0.1321199022327567\n",
            "KM AMI with hand-crafted labels :  0.06678676539842099\n",
            "------------------------------------------------------------------\n",
            "Epoch: 73 \tTraining Loss: 1896.011645\n",
            "         \tTesting Loss: 2518.316464\n"
          ]
        },
        {
          "metadata": {
            "tags": null
          },
          "name": "stderr",
          "output_type": "stream",
          "text": [
            "/usr/local/lib/python3.10/dist-packages/sklearn/cluster/_kmeans.py:870: FutureWarning: The default value of `n_init` will change from 10 to 'auto' in 1.4. Set the value of `n_init` explicitly to suppress the warning\n",
            "  warnings.warn(\n"
          ]
        },
        {
          "metadata": {
            "tags": null
          },
          "name": "stdout",
          "output_type": "stream",
          "text": [
            "Cluster 0 number of samples :  537\n",
            "Cluster 1 number of samples :  491\n",
            "KM balanced accuracy score with hand-crafted labels :  0.6627564475802308\n",
            "KM ARI with hand-crafted labels :  0.1321199022327567\n",
            "KM AMI with hand-crafted labels :  0.06678676539842099\n",
            "------------------------------------------------------------------\n",
            "Epoch: 74 \tTraining Loss: 1920.987965\n",
            "         \tTesting Loss: 2447.234464\n"
          ]
        },
        {
          "metadata": {
            "tags": null
          },
          "name": "stderr",
          "output_type": "stream",
          "text": [
            "/usr/local/lib/python3.10/dist-packages/sklearn/cluster/_kmeans.py:870: FutureWarning: The default value of `n_init` will change from 10 to 'auto' in 1.4. Set the value of `n_init` explicitly to suppress the warning\n",
            "  warnings.warn(\n"
          ]
        },
        {
          "metadata": {
            "tags": null
          },
          "name": "stdout",
          "output_type": "stream",
          "text": [
            "Cluster 0 number of samples :  537\n",
            "Cluster 1 number of samples :  491\n",
            "KM balanced accuracy score with hand-crafted labels :  0.6627564475802308\n",
            "KM ARI with hand-crafted labels :  0.1321199022327567\n",
            "KM AMI with hand-crafted labels :  0.06678676539842099\n",
            "------------------------------------------------------------------\n",
            "Epoch: 75 \tTraining Loss: 1892.980187\n",
            "         \tTesting Loss: 2439.482085\n"
          ]
        },
        {
          "metadata": {
            "tags": null
          },
          "name": "stderr",
          "output_type": "stream",
          "text": [
            "/usr/local/lib/python3.10/dist-packages/sklearn/cluster/_kmeans.py:870: FutureWarning: The default value of `n_init` will change from 10 to 'auto' in 1.4. Set the value of `n_init` explicitly to suppress the warning\n",
            "  warnings.warn(\n"
          ]
        },
        {
          "metadata": {
            "tags": null
          },
          "name": "stdout",
          "output_type": "stream",
          "text": [
            "Cluster 0 number of samples :  537\n",
            "Cluster 1 number of samples :  491\n",
            "KM balanced accuracy score with hand-crafted labels :  0.6627564475802308\n",
            "KM ARI with hand-crafted labels :  0.1321199022327567\n",
            "KM AMI with hand-crafted labels :  0.06678676539842099\n",
            "------------------------------------------------------------------\n"
          ]
        },
        {
          "metadata": {
            "tags": null
          },
          "name": "stderr",
          "output_type": "stream",
          "text": [
            "/usr/local/lib/python3.10/dist-packages/sklearn/cluster/_kmeans.py:870: FutureWarning: The default value of `n_init` will change from 10 to 'auto' in 1.4. Set the value of `n_init` explicitly to suppress the warning\n",
            "  warnings.warn(\n"
          ]
        },
        {
          "metadata": {
            "tags": null
          },
          "name": "stdout",
          "output_type": "stream",
          "text": [
            "Cluster 0 number of samples :  941\n",
            "Cluster 1 number of samples :  87\n",
            "KM balanced accuracy score with hand-crafted labels :  0.5033736342774943\n",
            "KM ARI with hand-crafted labels :  0.004181209813265828\n",
            "KM AMI with hand-crafted labels :  -0.0028286905812028905\n",
            "Initial clustering accuracy :  0.5033736342774943\n",
            "------------------------------------------------------------------\n",
            "Epoch: 0 \tTraining Loss: 3556.080122\n",
            "         \tTesting Loss: 3546.620588\n"
          ]
        },
        {
          "metadata": {
            "tags": null
          },
          "name": "stderr",
          "output_type": "stream",
          "text": [
            "/usr/local/lib/python3.10/dist-packages/sklearn/cluster/_kmeans.py:870: FutureWarning: The default value of `n_init` will change from 10 to 'auto' in 1.4. Set the value of `n_init` explicitly to suppress the warning\n",
            "  warnings.warn(\n"
          ]
        },
        {
          "metadata": {
            "tags": null
          },
          "name": "stdout",
          "output_type": "stream",
          "text": [
            "Cluster 0 number of samples :  578\n",
            "Cluster 1 number of samples :  450\n",
            "KM balanced accuracy score with hand-crafted labels :  0.6248415933143816\n",
            "KM ARI with hand-crafted labels :  0.10104311770498092\n",
            "KM AMI with hand-crafted labels :  0.04016303986092504\n",
            "------------------------------------------------------------------\n",
            "Epoch: 1 \tTraining Loss: 3536.277941\n",
            "         \tTesting Loss: 3524.200652\n"
          ]
        },
        {
          "metadata": {
            "tags": null
          },
          "name": "stderr",
          "output_type": "stream",
          "text": [
            "/usr/local/lib/python3.10/dist-packages/sklearn/cluster/_kmeans.py:870: FutureWarning: The default value of `n_init` will change from 10 to 'auto' in 1.4. Set the value of `n_init` explicitly to suppress the warning\n",
            "  warnings.warn(\n"
          ]
        },
        {
          "metadata": {
            "tags": null
          },
          "name": "stdout",
          "output_type": "stream",
          "text": [
            "Cluster 0 number of samples :  575\n",
            "Cluster 1 number of samples :  453\n",
            "KM balanced accuracy score with hand-crafted labels :  0.7038223105113539\n",
            "KM ARI with hand-crafted labels :  0.17763649972024087\n",
            "KM AMI with hand-crafted labels :  0.10489820045991308\n",
            "------------------------------------------------------------------\n",
            "Epoch: 2 \tTraining Loss: 3448.136580\n",
            "         \tTesting Loss: 3354.443403\n"
          ]
        },
        {
          "metadata": {
            "tags": null
          },
          "name": "stderr",
          "output_type": "stream",
          "text": [
            "/usr/local/lib/python3.10/dist-packages/sklearn/cluster/_kmeans.py:870: FutureWarning: The default value of `n_init` will change from 10 to 'auto' in 1.4. Set the value of `n_init` explicitly to suppress the warning\n",
            "  warnings.warn(\n"
          ]
        },
        {
          "metadata": {
            "tags": null
          },
          "name": "stdout",
          "output_type": "stream",
          "text": [
            "Cluster 0 number of samples :  459\n",
            "Cluster 1 number of samples :  569\n",
            "KM balanced accuracy score with hand-crafted labels :  0.7126417097647018\n",
            "KM ARI with hand-crafted labels :  0.1771142904307897\n",
            "KM AMI with hand-crafted labels :  0.11256355369189651\n",
            "------------------------------------------------------------------\n",
            "Epoch: 3 \tTraining Loss: 3375.951119\n",
            "         \tTesting Loss: 3346.097761\n"
          ]
        },
        {
          "metadata": {
            "tags": null
          },
          "name": "stderr",
          "output_type": "stream",
          "text": [
            "/usr/local/lib/python3.10/dist-packages/sklearn/cluster/_kmeans.py:870: FutureWarning: The default value of `n_init` will change from 10 to 'auto' in 1.4. Set the value of `n_init` explicitly to suppress the warning\n",
            "  warnings.warn(\n"
          ]
        },
        {
          "metadata": {
            "tags": null
          },
          "name": "stdout",
          "output_type": "stream",
          "text": [
            "Cluster 0 number of samples :  561\n",
            "Cluster 1 number of samples :  467\n",
            "KM balanced accuracy score with hand-crafted labels :  0.721289858547111\n",
            "KM ARI with hand-crafted labels :  0.1831372430744589\n",
            "KM AMI with hand-crafted labels :  0.12160291974323209\n",
            "------------------------------------------------------------------\n",
            "Epoch: 4 \tTraining Loss: 3293.685000\n",
            "         \tTesting Loss: 3204.276908\n"
          ]
        },
        {
          "metadata": {
            "tags": null
          },
          "name": "stderr",
          "output_type": "stream",
          "text": [
            "/usr/local/lib/python3.10/dist-packages/sklearn/cluster/_kmeans.py:870: FutureWarning: The default value of `n_init` will change from 10 to 'auto' in 1.4. Set the value of `n_init` explicitly to suppress the warning\n",
            "  warnings.warn(\n"
          ]
        },
        {
          "metadata": {
            "tags": null
          },
          "name": "stdout",
          "output_type": "stream",
          "text": [
            "Cluster 0 number of samples :  446\n",
            "Cluster 1 number of samples :  582\n",
            "KM balanced accuracy score with hand-crafted labels :  0.7194574785080659\n",
            "KM ARI with hand-crafted labels :  0.18615699053594584\n",
            "KM AMI with hand-crafted labels :  0.12020909915609823\n",
            "------------------------------------------------------------------\n",
            "Epoch: 5 \tTraining Loss: 3228.556043\n",
            "         \tTesting Loss: 3095.584801\n"
          ]
        },
        {
          "metadata": {
            "tags": null
          },
          "name": "stderr",
          "output_type": "stream",
          "text": [
            "/usr/local/lib/python3.10/dist-packages/sklearn/cluster/_kmeans.py:870: FutureWarning: The default value of `n_init` will change from 10 to 'auto' in 1.4. Set the value of `n_init` explicitly to suppress the warning\n",
            "  warnings.warn(\n"
          ]
        },
        {
          "metadata": {
            "tags": null
          },
          "name": "stdout",
          "output_type": "stream",
          "text": [
            "Cluster 0 number of samples :  463\n",
            "Cluster 1 number of samples :  565\n",
            "KM balanced accuracy score with hand-crafted labels :  0.7176250984690208\n",
            "KM ARI with hand-crafted labels :  0.18914153252424318\n",
            "KM AMI with hand-crafted labels :  0.11891859303951291\n",
            "------------------------------------------------------------------\n",
            "Epoch: 6 \tTraining Loss: 3174.551112\n",
            "         \tTesting Loss: 3136.967287\n"
          ]
        },
        {
          "metadata": {
            "tags": null
          },
          "name": "stderr",
          "output_type": "stream",
          "text": [
            "/usr/local/lib/python3.10/dist-packages/sklearn/cluster/_kmeans.py:870: FutureWarning: The default value of `n_init` will change from 10 to 'auto' in 1.4. Set the value of `n_init` explicitly to suppress the warning\n",
            "  warnings.warn(\n"
          ]
        },
        {
          "metadata": {
            "tags": null
          },
          "name": "stdout",
          "output_type": "stream",
          "text": [
            "Cluster 0 number of samples :  585\n",
            "Cluster 1 number of samples :  443\n",
            "KM balanced accuracy score with hand-crafted labels :  0.663732575264582\n",
            "KM ARI with hand-crafted labels :  0.15751174947309596\n",
            "KM AMI with hand-crafted labels :  0.07268530425952324\n",
            "------------------------------------------------------------------\n",
            "Epoch: 7 \tTraining Loss: 3089.844659\n",
            "         \tTesting Loss: 3317.361038\n"
          ]
        },
        {
          "metadata": {
            "tags": null
          },
          "name": "stderr",
          "output_type": "stream",
          "text": [
            "/usr/local/lib/python3.10/dist-packages/sklearn/cluster/_kmeans.py:870: FutureWarning: The default value of `n_init` will change from 10 to 'auto' in 1.4. Set the value of `n_init` explicitly to suppress the warning\n",
            "  warnings.warn(\n"
          ]
        },
        {
          "metadata": {
            "tags": null
          },
          "name": "stdout",
          "output_type": "stream",
          "text": [
            "Cluster 0 number of samples :  444\n",
            "Cluster 1 number of samples :  584\n",
            "KM balanced accuracy score with hand-crafted labels :  0.6517621673459602\n",
            "KM ARI with hand-crafted labels :  0.1431195948813702\n",
            "KM AMI with hand-crafted labels :  0.06255609796066153\n",
            "------------------------------------------------------------------\n",
            "Epoch: 8 \tTraining Loss: 3031.503795\n",
            "         \tTesting Loss: 3117.547196\n"
          ]
        },
        {
          "metadata": {
            "tags": null
          },
          "name": "stderr",
          "output_type": "stream",
          "text": [
            "/usr/local/lib/python3.10/dist-packages/sklearn/cluster/_kmeans.py:870: FutureWarning: The default value of `n_init` will change from 10 to 'auto' in 1.4. Set the value of `n_init` explicitly to suppress the warning\n",
            "  warnings.warn(\n"
          ]
        },
        {
          "metadata": {
            "tags": null
          },
          "name": "stdout",
          "output_type": "stream",
          "text": [
            "Cluster 0 number of samples :  597\n",
            "Cluster 1 number of samples :  431\n",
            "KM balanced accuracy score with hand-crafted labels :  0.6790252423194163\n",
            "KM ARI with hand-crafted labels :  0.1801909610023421\n",
            "KM AMI with hand-crafted labels :  0.08765091432111999\n",
            "------------------------------------------------------------------\n",
            "Epoch: 9 \tTraining Loss: 2980.211272\n",
            "         \tTesting Loss: 3293.640257\n"
          ]
        },
        {
          "metadata": {
            "tags": null
          },
          "name": "stderr",
          "output_type": "stream",
          "text": [
            "/usr/local/lib/python3.10/dist-packages/sklearn/cluster/_kmeans.py:870: FutureWarning: The default value of `n_init` will change from 10 to 'auto' in 1.4. Set the value of `n_init` explicitly to suppress the warning\n",
            "  warnings.warn(\n"
          ]
        },
        {
          "metadata": {
            "tags": null
          },
          "name": "stdout",
          "output_type": "stream",
          "text": [
            "Cluster 0 number of samples :  433\n",
            "Cluster 1 number of samples :  595\n",
            "KM balanced accuracy score with hand-crafted labels :  0.6791964927903552\n",
            "KM ARI with hand-crafted labels :  0.1740110543748504\n",
            "KM AMI with hand-crafted labels :  0.08612324612443237\n",
            "------------------------------------------------------------------\n",
            "Epoch: 10 \tTraining Loss: 2964.765158\n",
            "         \tTesting Loss: 3324.051288\n"
          ]
        },
        {
          "metadata": {
            "tags": null
          },
          "name": "stderr",
          "output_type": "stream",
          "text": [
            "/usr/local/lib/python3.10/dist-packages/sklearn/cluster/_kmeans.py:870: FutureWarning: The default value of `n_init` will change from 10 to 'auto' in 1.4. Set the value of `n_init` explicitly to suppress the warning\n",
            "  warnings.warn(\n"
          ]
        },
        {
          "metadata": {
            "tags": null
          },
          "name": "stdout",
          "output_type": "stream",
          "text": [
            "Cluster 0 number of samples :  445\n",
            "Cluster 1 number of samples :  583\n",
            "KM balanced accuracy score with hand-crafted labels :  0.7104668287837792\n",
            "KM ARI with hand-crafted labels :  0.19374697603667826\n",
            "KM AMI with hand-crafted labels :  0.11342254469421126\n",
            "------------------------------------------------------------------\n",
            "Epoch: 11 \tTraining Loss: 2912.944687\n",
            "         \tTesting Loss: 2978.492952\n"
          ]
        },
        {
          "metadata": {
            "tags": null
          },
          "name": "stderr",
          "output_type": "stream",
          "text": [
            "/usr/local/lib/python3.10/dist-packages/sklearn/cluster/_kmeans.py:870: FutureWarning: The default value of `n_init` will change from 10 to 'auto' in 1.4. Set the value of `n_init` explicitly to suppress the warning\n",
            "  warnings.warn(\n"
          ]
        },
        {
          "metadata": {
            "tags": null
          },
          "name": "stdout",
          "output_type": "stream",
          "text": [
            "Cluster 0 number of samples :  589\n",
            "Cluster 1 number of samples :  439\n",
            "KM balanced accuracy score with hand-crafted labels :  0.6688872144398397\n",
            "KM ARI with hand-crafted labels :  0.1629816759380849\n",
            "KM AMI with hand-crafted labels :  0.07704764395236981\n",
            "------------------------------------------------------------------\n",
            "Epoch: 12 \tTraining Loss: 3135.512640\n",
            "         \tTesting Loss: 3321.810917\n"
          ]
        },
        {
          "metadata": {
            "tags": null
          },
          "name": "stderr",
          "output_type": "stream",
          "text": [
            "/usr/local/lib/python3.10/dist-packages/sklearn/cluster/_kmeans.py:870: FutureWarning: The default value of `n_init` will change from 10 to 'auto' in 1.4. Set the value of `n_init` explicitly to suppress the warning\n",
            "  warnings.warn(\n"
          ]
        },
        {
          "metadata": {
            "tags": null
          },
          "name": "stdout",
          "output_type": "stream",
          "text": [
            "Cluster 0 number of samples :  451\n",
            "Cluster 1 number of samples :  577\n",
            "KM balanced accuracy score with hand-crafted labels :  0.7310853854848101\n",
            "KM ARI with hand-crafted labels :  0.21563502665032863\n",
            "KM AMI with hand-crafted labels :  0.13606708849326682\n",
            "------------------------------------------------------------------\n",
            "Epoch: 13 \tTraining Loss: 3091.391227\n",
            "         \tTesting Loss: 3243.827238\n"
          ]
        },
        {
          "metadata": {
            "tags": null
          },
          "name": "stderr",
          "output_type": "stream",
          "text": [
            "/usr/local/lib/python3.10/dist-packages/sklearn/cluster/_kmeans.py:870: FutureWarning: The default value of `n_init` will change from 10 to 'auto' in 1.4. Set the value of `n_init` explicitly to suppress the warning\n",
            "  warnings.warn(\n"
          ]
        },
        {
          "metadata": {
            "tags": null
          },
          "name": "stdout",
          "output_type": "stream",
          "text": [
            "Cluster 0 number of samples :  576\n",
            "Cluster 1 number of samples :  452\n",
            "KM balanced accuracy score with hand-crafted labels :  0.6876733911018256\n",
            "KM ARI with hand-crafted labels :  0.18758952882852414\n",
            "KM AMI with hand-crafted labels :  0.09508914248924791\n",
            "------------------------------------------------------------------\n",
            "Epoch: 14 \tTraining Loss: 3032.548513\n",
            "         \tTesting Loss: 2825.366362\n"
          ]
        },
        {
          "metadata": {
            "tags": null
          },
          "name": "stderr",
          "output_type": "stream",
          "text": [
            "/usr/local/lib/python3.10/dist-packages/sklearn/cluster/_kmeans.py:870: FutureWarning: The default value of `n_init` will change from 10 to 'auto' in 1.4. Set the value of `n_init` explicitly to suppress the warning\n",
            "  warnings.warn(\n"
          ]
        },
        {
          "metadata": {
            "tags": null
          },
          "name": "stdout",
          "output_type": "stream",
          "text": [
            "Cluster 0 number of samples :  584\n",
            "Cluster 1 number of samples :  444\n",
            "KM balanced accuracy score with hand-crafted labels :  0.6860122615337192\n",
            "KM ARI with hand-crafted labels :  0.18355551252562513\n",
            "KM AMI with hand-crafted labels :  0.09294355766282882\n",
            "------------------------------------------------------------------\n",
            "Epoch: 15 \tTraining Loss: 3011.687579\n",
            "         \tTesting Loss: 2780.982107\n"
          ]
        },
        {
          "metadata": {
            "tags": null
          },
          "name": "stderr",
          "output_type": "stream",
          "text": [
            "/usr/local/lib/python3.10/dist-packages/sklearn/cluster/_kmeans.py:870: FutureWarning: The default value of `n_init` will change from 10 to 'auto' in 1.4. Set the value of `n_init` explicitly to suppress the warning\n",
            "  warnings.warn(\n"
          ]
        },
        {
          "metadata": {
            "tags": null
          },
          "name": "stdout",
          "output_type": "stream",
          "text": [
            "Cluster 0 number of samples :  586\n",
            "Cluster 1 number of samples :  442\n",
            "KM balanced accuracy score with hand-crafted labels :  0.6757029831832038\n",
            "KM ARI with hand-crafted labels :  0.17233530381786147\n",
            "KM AMI with hand-crafted labels :  0.08352754684891557\n",
            "------------------------------------------------------------------\n",
            "Epoch: 16 \tTraining Loss: 2939.711382\n",
            "         \tTesting Loss: 2831.972576\n"
          ]
        },
        {
          "metadata": {
            "tags": null
          },
          "name": "stderr",
          "output_type": "stream",
          "text": [
            "/usr/local/lib/python3.10/dist-packages/sklearn/cluster/_kmeans.py:870: FutureWarning: The default value of `n_init` will change from 10 to 'auto' in 1.4. Set the value of `n_init` explicitly to suppress the warning\n",
            "  warnings.warn(\n"
          ]
        },
        {
          "metadata": {
            "tags": null
          },
          "name": "stdout",
          "output_type": "stream",
          "text": [
            "Cluster 0 number of samples :  441\n",
            "Cluster 1 number of samples :  587\n",
            "KM balanced accuracy score with hand-crafted labels :  0.6619001952255368\n",
            "KM ARI with hand-crafted labels :  0.1594327527302703\n",
            "KM AMI with hand-crafted labels :  0.0721626819023359\n",
            "------------------------------------------------------------------\n",
            "Epoch: 17 \tTraining Loss: 2890.091070\n",
            "         \tTesting Loss: 2983.780470\n"
          ]
        },
        {
          "metadata": {
            "tags": null
          },
          "name": "stderr",
          "output_type": "stream",
          "text": [
            "/usr/local/lib/python3.10/dist-packages/sklearn/cluster/_kmeans.py:870: FutureWarning: The default value of `n_init` will change from 10 to 'auto' in 1.4. Set the value of `n_init` explicitly to suppress the warning\n",
            "  warnings.warn(\n"
          ]
        },
        {
          "metadata": {
            "tags": null
          },
          "name": "stdout",
          "output_type": "stream",
          "text": [
            "Cluster 0 number of samples :  572\n",
            "Cluster 1 number of samples :  456\n",
            "KM balanced accuracy score with hand-crafted labels :  0.6793677432612939\n",
            "KM ARI with hand-crafted labels :  0.16790919024690057\n",
            "KM AMI with hand-crafted labels :  0.08475968815249525\n",
            "------------------------------------------------------------------\n",
            "Epoch: 18 \tTraining Loss: 2864.586300\n",
            "         \tTesting Loss: 3279.343365\n"
          ]
        },
        {
          "metadata": {
            "tags": null
          },
          "name": "stderr",
          "output_type": "stream",
          "text": [
            "/usr/local/lib/python3.10/dist-packages/sklearn/cluster/_kmeans.py:870: FutureWarning: The default value of `n_init` will change from 10 to 'auto' in 1.4. Set the value of `n_init` explicitly to suppress the warning\n",
            "  warnings.warn(\n"
          ]
        },
        {
          "metadata": {
            "tags": null
          },
          "name": "stdout",
          "output_type": "stream",
          "text": [
            "Cluster 0 number of samples :  574\n",
            "Cluster 1 number of samples :  454\n",
            "KM balanced accuracy score with hand-crafted labels :  0.6569168065212179\n",
            "KM ARI with hand-crafted labels :  0.14846404848092393\n",
            "KM AMI with hand-crafted labels :  0.06663443129750155\n",
            "------------------------------------------------------------------\n",
            "Epoch: 19 \tTraining Loss: 2858.971368\n",
            "         \tTesting Loss: 3328.822389\n"
          ]
        },
        {
          "metadata": {
            "tags": null
          },
          "name": "stderr",
          "output_type": "stream",
          "text": [
            "/usr/local/lib/python3.10/dist-packages/sklearn/cluster/_kmeans.py:870: FutureWarning: The default value of `n_init` will change from 10 to 'auto' in 1.4. Set the value of `n_init` explicitly to suppress the warning\n",
            "  warnings.warn(\n"
          ]
        },
        {
          "metadata": {
            "tags": null
          },
          "name": "stdout",
          "output_type": "stream",
          "text": [
            "Cluster 0 number of samples :  584\n",
            "Cluster 1 number of samples :  444\n",
            "KM balanced accuracy score with hand-crafted labels :  0.6604103161283694\n",
            "KM ARI with hand-crafted labels :  0.15021318768907657\n",
            "KM AMI with hand-crafted labels :  0.06900861364996852\n",
            "------------------------------------------------------------------\n",
            "Epoch: 20 \tTraining Loss: 2805.023519\n",
            "         \tTesting Loss: 2826.938007\n"
          ]
        },
        {
          "metadata": {
            "tags": null
          },
          "name": "stderr",
          "output_type": "stream",
          "text": [
            "/usr/local/lib/python3.10/dist-packages/sklearn/cluster/_kmeans.py:870: FutureWarning: The default value of `n_init` will change from 10 to 'auto' in 1.4. Set the value of `n_init` explicitly to suppress the warning\n",
            "  warnings.warn(\n"
          ]
        },
        {
          "metadata": {
            "tags": null
          },
          "name": "stdout",
          "output_type": "stream",
          "text": [
            "Cluster 0 number of samples :  447\n",
            "Cluster 1 number of samples :  581\n",
            "KM balanced accuracy score with hand-crafted labels :  0.6657362057745659\n",
            "KM ARI with hand-crafted labels :  0.14993893325125968\n",
            "KM AMI with hand-crafted labels :  0.07209142058003522\n",
            "------------------------------------------------------------------\n",
            "Epoch: 21 \tTraining Loss: 2798.315412\n",
            "         \tTesting Loss: 2676.721363\n"
          ]
        },
        {
          "metadata": {
            "tags": null
          },
          "name": "stderr",
          "output_type": "stream",
          "text": [
            "/usr/local/lib/python3.10/dist-packages/sklearn/cluster/_kmeans.py:870: FutureWarning: The default value of `n_init` will change from 10 to 'auto' in 1.4. Set the value of `n_init` explicitly to suppress the warning\n",
            "  warnings.warn(\n"
          ]
        },
        {
          "metadata": {
            "tags": null
          },
          "name": "stdout",
          "output_type": "stream",
          "text": [
            "Cluster 0 number of samples :  459\n",
            "Cluster 1 number of samples :  569\n",
            "KM balanced accuracy score with hand-crafted labels :  0.6728944754598074\n",
            "KM ARI with hand-crafted labels :  0.14730956219928812\n",
            "KM AMI with hand-crafted labels :  0.07617384846084525\n",
            "------------------------------------------------------------------\n",
            "Epoch: 22 \tTraining Loss: 2794.697500\n",
            "         \tTesting Loss: 3441.896468\n"
          ]
        },
        {
          "metadata": {
            "tags": null
          },
          "name": "stderr",
          "output_type": "stream",
          "text": [
            "/usr/local/lib/python3.10/dist-packages/sklearn/cluster/_kmeans.py:870: FutureWarning: The default value of `n_init` will change from 10 to 'auto' in 1.4. Set the value of `n_init` explicitly to suppress the warning\n",
            "  warnings.warn(\n"
          ]
        },
        {
          "metadata": {
            "tags": null
          },
          "name": "stdout",
          "output_type": "stream",
          "text": [
            "Cluster 0 number of samples :  588\n",
            "Cluster 1 number of samples :  440\n",
            "KM balanced accuracy score with hand-crafted labels :  0.627478850566839\n",
            "KM ARI with hand-crafted labels :  0.12451688256604132\n",
            "KM AMI with hand-crafted labels :  0.04640122549035012\n",
            "------------------------------------------------------------------\n",
            "Epoch: 23 \tTraining Loss: 2732.499151\n",
            "         \tTesting Loss: 3329.157392\n"
          ]
        },
        {
          "metadata": {
            "tags": null
          },
          "name": "stderr",
          "output_type": "stream",
          "text": [
            "/usr/local/lib/python3.10/dist-packages/sklearn/cluster/_kmeans.py:870: FutureWarning: The default value of `n_init` will change from 10 to 'auto' in 1.4. Set the value of `n_init` explicitly to suppress the warning\n",
            "  warnings.warn(\n"
          ]
        },
        {
          "metadata": {
            "tags": null
          },
          "name": "stdout",
          "output_type": "stream",
          "text": [
            "Cluster 0 number of samples :  571\n",
            "Cluster 1 number of samples :  457\n",
            "KM balanced accuracy score with hand-crafted labels :  0.6762167345960202\n",
            "KM ARI with hand-crafted labels :  0.1545015833638853\n",
            "KM AMI with hand-crafted labels :  0.07979437623078872\n",
            "------------------------------------------------------------------\n",
            "Epoch: 24 \tTraining Loss: 2743.196254\n",
            "         \tTesting Loss: 2666.323569\n"
          ]
        },
        {
          "metadata": {
            "tags": null
          },
          "name": "stderr",
          "output_type": "stream",
          "text": [
            "/usr/local/lib/python3.10/dist-packages/sklearn/cluster/_kmeans.py:870: FutureWarning: The default value of `n_init` will change from 10 to 'auto' in 1.4. Set the value of `n_init` explicitly to suppress the warning\n",
            "  warnings.warn(\n"
          ]
        },
        {
          "metadata": {
            "tags": null
          },
          "name": "stdout",
          "output_type": "stream",
          "text": [
            "Cluster 0 number of samples :  446\n",
            "Cluster 1 number of samples :  582\n",
            "KM balanced accuracy score with hand-crafted labels :  0.6620714456964757\n",
            "KM ARI with hand-crafted labels :  0.15383824194324716\n",
            "KM AMI with hand-crafted labels :  0.07082816918359838\n",
            "------------------------------------------------------------------\n",
            "Epoch: 25 \tTraining Loss: 2695.868413\n",
            "         \tTesting Loss: 2599.284912\n"
          ]
        },
        {
          "metadata": {
            "tags": null
          },
          "name": "stderr",
          "output_type": "stream",
          "text": [
            "/usr/local/lib/python3.10/dist-packages/sklearn/cluster/_kmeans.py:870: FutureWarning: The default value of `n_init` will change from 10 to 'auto' in 1.4. Set the value of `n_init` explicitly to suppress the warning\n",
            "  warnings.warn(\n"
          ]
        },
        {
          "metadata": {
            "tags": null
          },
          "name": "stdout",
          "output_type": "stream",
          "text": [
            "Cluster 0 number of samples :  456\n",
            "Cluster 1 number of samples :  572\n",
            "KM balanced accuracy score with hand-crafted labels :  0.6657362057745659\n",
            "KM ARI with hand-crafted labels :  0.14993893325125968\n",
            "KM AMI with hand-crafted labels :  0.07209142058003522\n",
            "------------------------------------------------------------------\n",
            "Epoch: 26 \tTraining Loss: 2706.653020\n",
            "         \tTesting Loss: 2656.001282\n"
          ]
        },
        {
          "metadata": {
            "tags": null
          },
          "name": "stderr",
          "output_type": "stream",
          "text": [
            "/usr/local/lib/python3.10/dist-packages/sklearn/cluster/_kmeans.py:870: FutureWarning: The default value of `n_init` will change from 10 to 'auto' in 1.4. Set the value of `n_init` explicitly to suppress the warning\n",
            "  warnings.warn(\n"
          ]
        },
        {
          "metadata": {
            "tags": null
          },
          "name": "stdout",
          "output_type": "stream",
          "text": [
            "Cluster 0 number of samples :  462\n",
            "Cluster 1 number of samples :  566\n",
            "KM balanced accuracy score with hand-crafted labels :  0.6916806521217933\n",
            "KM ARI with hand-crafted labels :  0.1699048479771929\n",
            "KM AMI with hand-crafted labels :  0.09385504790415769\n",
            "------------------------------------------------------------------\n",
            "Epoch: 27 \tTraining Loss: 2680.261376\n",
            "         \tTesting Loss: 2875.946247\n"
          ]
        },
        {
          "metadata": {
            "tags": null
          },
          "name": "stderr",
          "output_type": "stream",
          "text": [
            "/usr/local/lib/python3.10/dist-packages/sklearn/cluster/_kmeans.py:870: FutureWarning: The default value of `n_init` will change from 10 to 'auto' in 1.4. Set the value of `n_init` explicitly to suppress the warning\n",
            "  warnings.warn(\n"
          ]
        },
        {
          "metadata": {
            "tags": null
          },
          "name": "stdout",
          "output_type": "stream",
          "text": [
            "Cluster 0 number of samples :  458\n",
            "Cluster 1 number of samples :  570\n",
            "KM balanced accuracy score with hand-crafted labels :  0.6690584649107785\n",
            "KM ARI with hand-crafted labels :  0.15721169579466274\n",
            "KM AMI with hand-crafted labels :  0.07575518313014969\n",
            "------------------------------------------------------------------\n",
            "Epoch: 28 \tTraining Loss: 2661.039600\n",
            "         \tTesting Loss: 2825.544440\n"
          ]
        },
        {
          "metadata": {
            "tags": null
          },
          "name": "stderr",
          "output_type": "stream",
          "text": [
            "/usr/local/lib/python3.10/dist-packages/sklearn/cluster/_kmeans.py:870: FutureWarning: The default value of `n_init` will change from 10 to 'auto' in 1.4. Set the value of `n_init` explicitly to suppress the warning\n",
            "  warnings.warn(\n"
          ]
        },
        {
          "metadata": {
            "tags": null
          },
          "name": "stdout",
          "output_type": "stream",
          "text": [
            "Cluster 0 number of samples :  461\n",
            "Cluster 1 number of samples :  567\n",
            "KM balanced accuracy score with hand-crafted labels :  0.6812001233003391\n",
            "KM ARI with hand-crafted labels :  0.16564070200467298\n",
            "KM AMI with hand-crafted labels :  0.08547739352771547\n",
            "------------------------------------------------------------------\n",
            "Epoch: 29 \tTraining Loss: 2618.682801\n",
            "         \tTesting Loss: 3366.614483\n"
          ]
        },
        {
          "metadata": {
            "tags": null
          },
          "name": "stderr",
          "output_type": "stream",
          "text": [
            "/usr/local/lib/python3.10/dist-packages/sklearn/cluster/_kmeans.py:870: FutureWarning: The default value of `n_init` will change from 10 to 'auto' in 1.4. Set the value of `n_init` explicitly to suppress the warning\n",
            "  warnings.warn(\n"
          ]
        },
        {
          "metadata": {
            "tags": null
          },
          "name": "stdout",
          "output_type": "stream",
          "text": [
            "Cluster 0 number of samples :  573\n",
            "Cluster 1 number of samples :  455\n",
            "KM balanced accuracy score with hand-crafted labels :  0.6775353632222489\n",
            "KM ARI with hand-crafted labels :  0.17014055652233534\n",
            "KM AMI with hand-crafted labels :  0.08410972203282183\n",
            "------------------------------------------------------------------\n",
            "Epoch: 30 \tTraining Loss: 2646.121104\n",
            "         \tTesting Loss: 3022.891019\n"
          ]
        },
        {
          "metadata": {
            "tags": null
          },
          "name": "stderr",
          "output_type": "stream",
          "text": [
            "/usr/local/lib/python3.10/dist-packages/sklearn/cluster/_kmeans.py:870: FutureWarning: The default value of `n_init` will change from 10 to 'auto' in 1.4. Set the value of `n_init` explicitly to suppress the warning\n",
            "  warnings.warn(\n"
          ]
        },
        {
          "metadata": {
            "tags": null
          },
          "name": "stdout",
          "output_type": "stream",
          "text": [
            "Cluster 0 number of samples :  459\n",
            "Cluster 1 number of samples :  569\n",
            "KM balanced accuracy score with hand-crafted labels :  0.6846936329074905\n",
            "KM ARI with hand-crafted labels :  0.1671121410283559\n",
            "KM AMI with hand-crafted labels :  0.08820619106645199\n",
            "------------------------------------------------------------------\n",
            "Epoch: 31 \tTraining Loss: 2613.613522\n",
            "         \tTesting Loss: 2843.669074\n"
          ]
        },
        {
          "metadata": {
            "tags": null
          },
          "name": "stderr",
          "output_type": "stream",
          "text": [
            "/usr/local/lib/python3.10/dist-packages/sklearn/cluster/_kmeans.py:870: FutureWarning: The default value of `n_init` will change from 10 to 'auto' in 1.4. Set the value of `n_init` explicitly to suppress the warning\n",
            "  warnings.warn(\n"
          ]
        },
        {
          "metadata": {
            "tags": null
          },
          "name": "stdout",
          "output_type": "stream",
          "text": [
            "Cluster 0 number of samples :  457\n",
            "Cluster 1 number of samples :  571\n",
            "KM balanced accuracy score with hand-crafted labels :  0.6846936329074905\n",
            "KM ARI with hand-crafted labels :  0.1671121410283559\n",
            "KM AMI with hand-crafted labels :  0.08820619106645199\n",
            "------------------------------------------------------------------\n",
            "Epoch: 32 \tTraining Loss: 2540.845133\n",
            "         \tTesting Loss: 3208.173196\n"
          ]
        },
        {
          "metadata": {
            "tags": null
          },
          "name": "stderr",
          "output_type": "stream",
          "text": [
            "/usr/local/lib/python3.10/dist-packages/sklearn/cluster/_kmeans.py:870: FutureWarning: The default value of `n_init` will change from 10 to 'auto' in 1.4. Set the value of `n_init` explicitly to suppress the warning\n",
            "  warnings.warn(\n"
          ]
        },
        {
          "metadata": {
            "tags": null
          },
          "name": "stdout",
          "output_type": "stream",
          "text": [
            "Cluster 0 number of samples :  565\n",
            "Cluster 1 number of samples :  463\n",
            "KM balanced accuracy score with hand-crafted labels :  0.6707195944788849\n",
            "KM ARI with hand-crafted labels :  0.16091989603925017\n",
            "KM AMI with hand-crafted labels :  0.0776413475124316\n",
            "------------------------------------------------------------------\n",
            "Epoch: 33 \tTraining Loss: 2503.909949\n",
            "         \tTesting Loss: 2625.233874\n"
          ]
        },
        {
          "metadata": {
            "tags": null
          },
          "name": "stderr",
          "output_type": "stream",
          "text": [
            "/usr/local/lib/python3.10/dist-packages/sklearn/cluster/_kmeans.py:870: FutureWarning: The default value of `n_init` will change from 10 to 'auto' in 1.4. Set the value of `n_init` explicitly to suppress the warning\n",
            "  warnings.warn(\n"
          ]
        },
        {
          "metadata": {
            "tags": null
          },
          "name": "stdout",
          "output_type": "stream",
          "text": [
            "Cluster 0 number of samples :  459\n",
            "Cluster 1 number of samples :  569\n",
            "KM balanced accuracy score with hand-crafted labels :  0.6863547624755968\n",
            "KM ARI with hand-crafted labels :  0.17093702032247218\n",
            "KM AMI with hand-crafted labels :  0.0901844527055393\n",
            "------------------------------------------------------------------\n",
            "Epoch: 34 \tTraining Loss: 2482.897453\n",
            "         \tTesting Loss: 2946.420236\n"
          ]
        },
        {
          "metadata": {
            "tags": null
          },
          "name": "stderr",
          "output_type": "stream",
          "text": [
            "/usr/local/lib/python3.10/dist-packages/sklearn/cluster/_kmeans.py:870: FutureWarning: The default value of `n_init` will change from 10 to 'auto' in 1.4. Set the value of `n_init` explicitly to suppress the warning\n",
            "  warnings.warn(\n"
          ]
        },
        {
          "metadata": {
            "tags": null
          },
          "name": "stdout",
          "output_type": "stream",
          "text": [
            "Cluster 0 number of samples :  581\n",
            "Cluster 1 number of samples :  447\n",
            "KM balanced accuracy score with hand-crafted labels :  0.6534232969140665\n",
            "KM ARI with hand-crafted labels :  0.14666075851107832\n",
            "KM AMI with hand-crafted labels :  0.06430714781069519\n",
            "------------------------------------------------------------------\n",
            "Epoch: 35 \tTraining Loss: 2488.820281\n",
            "         \tTesting Loss: 2636.067589\n"
          ]
        },
        {
          "metadata": {
            "tags": null
          },
          "name": "stderr",
          "output_type": "stream",
          "text": [
            "/usr/local/lib/python3.10/dist-packages/sklearn/cluster/_kmeans.py:870: FutureWarning: The default value of `n_init` will change from 10 to 'auto' in 1.4. Set the value of `n_init` explicitly to suppress the warning\n",
            "  warnings.warn(\n"
          ]
        },
        {
          "metadata": {
            "tags": null
          },
          "name": "stdout",
          "output_type": "stream",
          "text": [
            "Cluster 0 number of samples :  456\n",
            "Cluster 1 number of samples :  572\n",
            "KM balanced accuracy score with hand-crafted labels :  0.6812001233003391\n",
            "KM ARI with hand-crafted labels :  0.16564070200467298\n",
            "KM AMI with hand-crafted labels :  0.08547739352771547\n",
            "------------------------------------------------------------------\n",
            "Epoch: 36 \tTraining Loss: 2453.900748\n",
            "         \tTesting Loss: 2604.951933\n"
          ]
        },
        {
          "metadata": {
            "tags": null
          },
          "name": "stderr",
          "output_type": "stream",
          "text": [
            "/usr/local/lib/python3.10/dist-packages/sklearn/cluster/_kmeans.py:870: FutureWarning: The default value of `n_init` will change from 10 to 'auto' in 1.4. Set the value of `n_init` explicitly to suppress the warning\n",
            "  warnings.warn(\n"
          ]
        },
        {
          "metadata": {
            "tags": null
          },
          "name": "stdout",
          "output_type": "stream",
          "text": [
            "Cluster 0 number of samples :  583\n",
            "Cluster 1 number of samples :  445\n",
            "KM balanced accuracy score with hand-crafted labels :  0.6569168065212179\n",
            "KM ARI with hand-crafted labels :  0.14846404848092393\n",
            "KM AMI with hand-crafted labels :  0.06663443129750155\n",
            "------------------------------------------------------------------\n",
            "Epoch: 37 \tTraining Loss: 2425.623504\n",
            "         \tTesting Loss: 3409.347696\n"
          ]
        },
        {
          "metadata": {
            "tags": null
          },
          "name": "stderr",
          "output_type": "stream",
          "text": [
            "/usr/local/lib/python3.10/dist-packages/sklearn/cluster/_kmeans.py:870: FutureWarning: The default value of `n_init` will change from 10 to 'auto' in 1.4. Set the value of `n_init` explicitly to suppress the warning\n",
            "  warnings.warn(\n"
          ]
        },
        {
          "metadata": {
            "tags": null
          },
          "name": "stdout",
          "output_type": "stream",
          "text": [
            "Cluster 0 number of samples :  459\n",
            "Cluster 1 number of samples :  569\n",
            "KM balanced accuracy score with hand-crafted labels :  0.674384354556975\n",
            "KM ARI with hand-crafted labels :  0.15668029995327462\n",
            "KM AMI with hand-crafted labels :  0.0790145111866455\n",
            "------------------------------------------------------------------\n",
            "Epoch: 38 \tTraining Loss: 2417.030938\n",
            "         \tTesting Loss: 2954.972689\n"
          ]
        },
        {
          "metadata": {
            "tags": null
          },
          "name": "stderr",
          "output_type": "stream",
          "text": [
            "/usr/local/lib/python3.10/dist-packages/sklearn/cluster/_kmeans.py:870: FutureWarning: The default value of `n_init` will change from 10 to 'auto' in 1.4. Set the value of `n_init` explicitly to suppress the warning\n",
            "  warnings.warn(\n"
          ]
        },
        {
          "metadata": {
            "tags": null
          },
          "name": "stdout",
          "output_type": "stream",
          "text": [
            "Cluster 0 number of samples :  456\n",
            "Cluster 1 number of samples :  572\n",
            "KM balanced accuracy score with hand-crafted labels :  0.6604103161283694\n",
            "KM ARI with hand-crafted labels :  0.15021318768907657\n",
            "KM AMI with hand-crafted labels :  0.06900861364996852\n",
            "------------------------------------------------------------------\n",
            "Epoch: 39 \tTraining Loss: 2431.511190\n",
            "         \tTesting Loss: 2936.602269\n"
          ]
        },
        {
          "metadata": {
            "tags": null
          },
          "name": "stderr",
          "output_type": "stream",
          "text": [
            "/usr/local/lib/python3.10/dist-packages/sklearn/cluster/_kmeans.py:870: FutureWarning: The default value of `n_init` will change from 10 to 'auto' in 1.4. Set the value of `n_init` explicitly to suppress the warning\n",
            "  warnings.warn(\n"
          ]
        },
        {
          "metadata": {
            "tags": null
          },
          "name": "stdout",
          "output_type": "stream",
          "text": [
            "Cluster 0 number of samples :  577\n",
            "Cluster 1 number of samples :  451\n",
            "KM balanced accuracy score with hand-crafted labels :  0.6672260848717334\n",
            "KM ARI with hand-crafted labels :  0.159242303807033\n",
            "KM AMI with hand-crafted labels :  0.0751380185269515\n",
            "------------------------------------------------------------------\n",
            "Epoch: 40 \tTraining Loss: 2410.477530\n",
            "         \tTesting Loss: 3076.493888\n"
          ]
        },
        {
          "metadata": {
            "tags": null
          },
          "name": "stderr",
          "output_type": "stream",
          "text": [
            "/usr/local/lib/python3.10/dist-packages/sklearn/cluster/_kmeans.py:870: FutureWarning: The default value of `n_init` will change from 10 to 'auto' in 1.4. Set the value of `n_init` explicitly to suppress the warning\n",
            "  warnings.warn(\n"
          ]
        },
        {
          "metadata": {
            "tags": null
          },
          "name": "stdout",
          "output_type": "stream",
          "text": [
            "Cluster 0 number of samples :  580\n",
            "Cluster 1 number of samples :  448\n",
            "KM balanced accuracy score with hand-crafted labels :  0.6725519745179299\n",
            "KM ARI with hand-crafted labels :  0.1588195835107334\n",
            "KM AMI with hand-crafted labels :  0.07829694820232663\n",
            "------------------------------------------------------------------\n",
            "Epoch: 41 \tTraining Loss: 2341.117455\n",
            "         \tTesting Loss: 2842.299484\n"
          ]
        },
        {
          "metadata": {
            "tags": null
          },
          "name": "stderr",
          "output_type": "stream",
          "text": [
            "/usr/local/lib/python3.10/dist-packages/sklearn/cluster/_kmeans.py:870: FutureWarning: The default value of `n_init` will change from 10 to 'auto' in 1.4. Set the value of `n_init` explicitly to suppress the warning\n",
            "  warnings.warn(\n"
          ]
        },
        {
          "metadata": {
            "tags": null
          },
          "name": "stdout",
          "output_type": "stream",
          "text": [
            "Cluster 0 number of samples :  583\n",
            "Cluster 1 number of samples :  445\n",
            "KM balanced accuracy score with hand-crafted labels :  0.6673973353426721\n",
            "KM ARI with hand-crafted labels :  0.1535514708352148\n",
            "KM AMI with hand-crafted labels :  0.073905488147909\n",
            "------------------------------------------------------------------\n",
            "Epoch: 42 \tTraining Loss: 2345.969472\n",
            "         \tTesting Loss: 2757.941133\n"
          ]
        },
        {
          "metadata": {
            "tags": null
          },
          "name": "stderr",
          "output_type": "stream",
          "text": [
            "/usr/local/lib/python3.10/dist-packages/sklearn/cluster/_kmeans.py:870: FutureWarning: The default value of `n_init` will change from 10 to 'auto' in 1.4. Set the value of `n_init` explicitly to suppress the warning\n",
            "  warnings.warn(\n"
          ]
        },
        {
          "metadata": {
            "tags": null
          },
          "name": "stdout",
          "output_type": "stream",
          "text": [
            "Cluster 0 number of samples :  575\n",
            "Cluster 1 number of samples :  453\n",
            "KM balanced accuracy score with hand-crafted labels :  0.6845223824365516\n",
            "KM ARI with hand-crafted labels :  0.17330404707741048\n",
            "KM AMI with hand-crafted labels :  0.08944324254236248\n",
            "------------------------------------------------------------------\n",
            "Epoch: 43 \tTraining Loss: 2338.278521\n",
            "         \tTesting Loss: 2718.977141\n"
          ]
        },
        {
          "metadata": {
            "tags": null
          },
          "name": "stderr",
          "output_type": "stream",
          "text": [
            "/usr/local/lib/python3.10/dist-packages/sklearn/cluster/_kmeans.py:870: FutureWarning: The default value of `n_init` will change from 10 to 'auto' in 1.4. Set the value of `n_init` explicitly to suppress the warning\n",
            "  warnings.warn(\n"
          ]
        },
        {
          "metadata": {
            "tags": null
          },
          "name": "stdout",
          "output_type": "stream",
          "text": [
            "Cluster 0 number of samples :  455\n",
            "Cluster 1 number of samples :  573\n",
            "KM balanced accuracy score with hand-crafted labels :  0.6880158920437032\n",
            "KM ARI with hand-crafted labels :  0.17480948549912712\n",
            "KM AMI with hand-crafted labels :  0.09219868363489762\n",
            "------------------------------------------------------------------\n",
            "Epoch: 44 \tTraining Loss: 2350.447148\n",
            "         \tTesting Loss: 2776.759756\n"
          ]
        },
        {
          "metadata": {
            "tags": null
          },
          "name": "stderr",
          "output_type": "stream",
          "text": [
            "/usr/local/lib/python3.10/dist-packages/sklearn/cluster/_kmeans.py:870: FutureWarning: The default value of `n_init` will change from 10 to 'auto' in 1.4. Set the value of `n_init` explicitly to suppress the warning\n",
            "  warnings.warn(\n"
          ]
        },
        {
          "metadata": {
            "tags": null
          },
          "name": "stdout",
          "output_type": "stream",
          "text": [
            "Cluster 0 number of samples :  581\n",
            "Cluster 1 number of samples :  447\n",
            "KM balanced accuracy score with hand-crafted labels :  0.6880158920437032\n",
            "KM ARI with hand-crafted labels :  0.17480948549912712\n",
            "KM AMI with hand-crafted labels :  0.09219868363489762\n",
            "------------------------------------------------------------------\n",
            "Epoch: 45 \tTraining Loss: 2333.513936\n",
            "         \tTesting Loss: 2746.729367\n"
          ]
        },
        {
          "metadata": {
            "tags": null
          },
          "name": "stderr",
          "output_type": "stream",
          "text": [
            "/usr/local/lib/python3.10/dist-packages/sklearn/cluster/_kmeans.py:870: FutureWarning: The default value of `n_init` will change from 10 to 'auto' in 1.4. Set the value of `n_init` explicitly to suppress the warning\n",
            "  warnings.warn(\n"
          ]
        },
        {
          "metadata": {
            "tags": null
          },
          "name": "stdout",
          "output_type": "stream",
          "text": [
            "Cluster 0 number of samples :  451\n",
            "Cluster 1 number of samples :  577\n",
            "KM balanced accuracy score with hand-crafted labels :  0.6948316607870672\n",
            "KM ARI with hand-crafted labels :  0.18418665043663704\n",
            "KM AMI with hand-crafted labels :  0.09918089335622757\n",
            "------------------------------------------------------------------\n",
            "Epoch: 46 \tTraining Loss: 2303.658462\n",
            "         \tTesting Loss: 2775.594890\n"
          ]
        },
        {
          "metadata": {
            "tags": null
          },
          "name": "stderr",
          "output_type": "stream",
          "text": [
            "/usr/local/lib/python3.10/dist-packages/sklearn/cluster/_kmeans.py:870: FutureWarning: The default value of `n_init` will change from 10 to 'auto' in 1.4. Set the value of `n_init` explicitly to suppress the warning\n",
            "  warnings.warn(\n"
          ]
        },
        {
          "metadata": {
            "tags": null
          },
          "name": "stdout",
          "output_type": "stream",
          "text": [
            "Cluster 0 number of samples :  455\n",
            "Cluster 1 number of samples :  573\n",
            "KM balanced accuracy score with hand-crafted labels :  0.6896770216118094\n",
            "KM ARI with hand-crafted labels :  0.1787298217668416\n",
            "KM AMI with hand-crafted labels :  0.09424971638716162\n",
            "------------------------------------------------------------------\n",
            "Epoch: 47 \tTraining Loss: 2249.154477\n",
            "         \tTesting Loss: 2811.741704\n"
          ]
        },
        {
          "metadata": {
            "tags": null
          },
          "name": "stderr",
          "output_type": "stream",
          "text": [
            "/usr/local/lib/python3.10/dist-packages/sklearn/cluster/_kmeans.py:870: FutureWarning: The default value of `n_init` will change from 10 to 'auto' in 1.4. Set the value of `n_init` explicitly to suppress the warning\n",
            "  warnings.warn(\n"
          ]
        },
        {
          "metadata": {
            "tags": null
          },
          "name": "stdout",
          "output_type": "stream",
          "text": [
            "Cluster 0 number of samples :  451\n",
            "Cluster 1 number of samples :  577\n",
            "KM balanced accuracy score with hand-crafted labels :  0.6775353632222489\n",
            "KM ARI with hand-crafted labels :  0.17014055652233534\n",
            "KM AMI with hand-crafted labels :  0.08410972203282183\n",
            "------------------------------------------------------------------\n",
            "Epoch: 48 \tTraining Loss: 2251.475536\n",
            "         \tTesting Loss: 2755.795782\n"
          ]
        },
        {
          "metadata": {
            "tags": null
          },
          "name": "stderr",
          "output_type": "stream",
          "text": [
            "/usr/local/lib/python3.10/dist-packages/sklearn/cluster/_kmeans.py:870: FutureWarning: The default value of `n_init` will change from 10 to 'auto' in 1.4. Set the value of `n_init` explicitly to suppress the warning\n",
            "  warnings.warn(\n"
          ]
        },
        {
          "metadata": {
            "tags": null
          },
          "name": "stdout",
          "output_type": "stream",
          "text": [
            "Cluster 0 number of samples :  584\n",
            "Cluster 1 number of samples :  444\n",
            "KM balanced accuracy score with hand-crafted labels :  0.6655649553036271\n",
            "KM ARI with hand-crafted labels :  0.15555144300631907\n",
            "KM AMI with hand-crafted labels :  0.07326631080555522\n",
            "------------------------------------------------------------------\n",
            "Epoch: 49 \tTraining Loss: 2246.615593\n",
            "         \tTesting Loss: 2728.052739\n"
          ]
        },
        {
          "metadata": {
            "tags": null
          },
          "name": "stderr",
          "output_type": "stream",
          "text": [
            "/usr/local/lib/python3.10/dist-packages/sklearn/cluster/_kmeans.py:870: FutureWarning: The default value of `n_init` will change from 10 to 'auto' in 1.4. Set the value of `n_init` explicitly to suppress the warning\n",
            "  warnings.warn(\n"
          ]
        },
        {
          "metadata": {
            "tags": null
          },
          "name": "stdout",
          "output_type": "stream",
          "text": [
            "Cluster 0 number of samples :  451\n",
            "Cluster 1 number of samples :  577\n",
            "KM balanced accuracy score with hand-crafted labels :  0.6810288728294003\n",
            "KM ARI with hand-crafted labels :  0.17174791808931322\n",
            "KM AMI with hand-crafted labels :  0.08674778415643855\n",
            "------------------------------------------------------------------\n",
            "Epoch: 50 \tTraining Loss: 2246.255128\n",
            "         \tTesting Loss: 2892.044947\n"
          ]
        },
        {
          "metadata": {
            "tags": null
          },
          "name": "stderr",
          "output_type": "stream",
          "text": [
            "/usr/local/lib/python3.10/dist-packages/sklearn/cluster/_kmeans.py:870: FutureWarning: The default value of `n_init` will change from 10 to 'auto' in 1.4. Set the value of `n_init` explicitly to suppress the warning\n",
            "  warnings.warn(\n"
          ]
        },
        {
          "metadata": {
            "tags": null
          },
          "name": "stdout",
          "output_type": "stream",
          "text": [
            "Cluster 0 number of samples :  449\n",
            "Cluster 1 number of samples :  579\n",
            "KM balanced accuracy score with hand-crafted labels :  0.686183512004658\n",
            "KM ARI with hand-crafted labels :  0.17720775345976128\n",
            "KM AMI with hand-crafted labels :  0.09148180320703088\n",
            "------------------------------------------------------------------\n",
            "Epoch: 51 \tTraining Loss: 2207.085219\n",
            "         \tTesting Loss: 2772.605925\n"
          ]
        },
        {
          "metadata": {
            "tags": null
          },
          "name": "stderr",
          "output_type": "stream",
          "text": [
            "/usr/local/lib/python3.10/dist-packages/sklearn/cluster/_kmeans.py:870: FutureWarning: The default value of `n_init` will change from 10 to 'auto' in 1.4. Set the value of `n_init` explicitly to suppress the warning\n",
            "  warnings.warn(\n"
          ]
        },
        {
          "metadata": {
            "tags": null
          },
          "name": "stdout",
          "output_type": "stream",
          "text": [
            "Cluster 0 number of samples :  574\n",
            "Cluster 1 number of samples :  454\n",
            "KM balanced accuracy score with hand-crafted labels :  0.6981539199232798\n",
            "KM ARI with hand-crafted labels :  0.19230135306628815\n",
            "KM AMI with hand-crafted labels :  0.10349675057710575\n",
            "------------------------------------------------------------------\n",
            "Epoch: 52 \tTraining Loss: 2214.138013\n",
            "         \tTesting Loss: 2856.106914\n"
          ]
        },
        {
          "metadata": {
            "tags": null
          },
          "name": "stderr",
          "output_type": "stream",
          "text": [
            "/usr/local/lib/python3.10/dist-packages/sklearn/cluster/_kmeans.py:870: FutureWarning: The default value of `n_init` will change from 10 to 'auto' in 1.4. Set the value of `n_init` explicitly to suppress the warning\n",
            "  warnings.warn(\n"
          ]
        },
        {
          "metadata": {
            "tags": null
          },
          "name": "stdout",
          "output_type": "stream",
          "text": [
            "Cluster 0 number of samples :  454\n",
            "Cluster 1 number of samples :  574\n",
            "KM balanced accuracy score with hand-crafted labels :  0.6929992807480221\n",
            "KM ARI with hand-crafted labels :  0.1867152731493155\n",
            "KM AMI with hand-crafted labels :  0.09846566631603823\n",
            "------------------------------------------------------------------\n",
            "Epoch: 53 \tTraining Loss: 2214.756939\n",
            "         \tTesting Loss: 2725.028789\n"
          ]
        },
        {
          "metadata": {
            "tags": null
          },
          "name": "stderr",
          "output_type": "stream",
          "text": [
            "/usr/local/lib/python3.10/dist-packages/sklearn/cluster/_kmeans.py:870: FutureWarning: The default value of `n_init` will change from 10 to 'auto' in 1.4. Set the value of `n_init` explicitly to suppress the warning\n",
            "  warnings.warn(\n"
          ]
        },
        {
          "metadata": {
            "tags": null
          },
          "name": "stdout",
          "output_type": "stream",
          "text": [
            "Cluster 0 number of samples :  454\n",
            "Cluster 1 number of samples :  574\n",
            "KM balanced accuracy score with hand-crafted labels :  0.6981539199232798\n",
            "KM ARI with hand-crafted labels :  0.19230135306628815\n",
            "KM AMI with hand-crafted labels :  0.10349675057710575\n",
            "------------------------------------------------------------------\n",
            "Epoch: 54 \tTraining Loss: 2188.081404\n",
            "         \tTesting Loss: 2757.563298\n"
          ]
        },
        {
          "metadata": {
            "tags": null
          },
          "name": "stderr",
          "output_type": "stream",
          "text": [
            "/usr/local/lib/python3.10/dist-packages/sklearn/cluster/_kmeans.py:870: FutureWarning: The default value of `n_init` will change from 10 to 'auto' in 1.4. Set the value of `n_init` explicitly to suppress the warning\n",
            "  warnings.warn(\n"
          ]
        },
        {
          "metadata": {
            "tags": null
          },
          "name": "stdout",
          "output_type": "stream",
          "text": [
            "Cluster 0 number of samples :  452\n",
            "Cluster 1 number of samples :  576\n",
            "KM balanced accuracy score with hand-crafted labels :  0.6948316607870672\n",
            "KM ARI with hand-crafted labels :  0.18418665043663704\n",
            "KM AMI with hand-crafted labels :  0.09918089335622757\n",
            "------------------------------------------------------------------\n",
            "Epoch: 55 \tTraining Loss: 2165.228899\n",
            "         \tTesting Loss: 2944.283619\n"
          ]
        },
        {
          "metadata": {
            "tags": null
          },
          "name": "stderr",
          "output_type": "stream",
          "text": [
            "/usr/local/lib/python3.10/dist-packages/sklearn/cluster/_kmeans.py:870: FutureWarning: The default value of `n_init` will change from 10 to 'auto' in 1.4. Set the value of `n_init` explicitly to suppress the warning\n",
            "  warnings.warn(\n"
          ]
        },
        {
          "metadata": {
            "tags": null
          },
          "name": "stdout",
          "output_type": "stream",
          "text": [
            "Cluster 0 number of samples :  577\n",
            "Cluster 1 number of samples :  451\n",
            "KM balanced accuracy score with hand-crafted labels :  0.7014761790594923\n",
            "KM ARI with hand-crafted labels :  0.2006112482165038\n",
            "KM AMI with hand-crafted labels :  0.10797172584613894\n",
            "------------------------------------------------------------------\n",
            "Epoch: 56 \tTraining Loss: 2173.625593\n",
            "         \tTesting Loss: 2843.839233\n"
          ]
        },
        {
          "metadata": {
            "tags": null
          },
          "name": "stderr",
          "output_type": "stream",
          "text": [
            "/usr/local/lib/python3.10/dist-packages/sklearn/cluster/_kmeans.py:870: FutureWarning: The default value of `n_init` will change from 10 to 'auto' in 1.4. Set the value of `n_init` explicitly to suppress the warning\n",
            "  warnings.warn(\n"
          ]
        },
        {
          "metadata": {
            "tags": null
          },
          "name": "stdout",
          "output_type": "stream",
          "text": [
            "Cluster 0 number of samples :  453\n",
            "Cluster 1 number of samples :  575\n",
            "KM balanced accuracy score with hand-crafted labels :  0.6964927903551734\n",
            "KM ARI with hand-crafted labels :  0.1882197536698564\n",
            "KM AMI with hand-crafted labels :  0.10131940123448695\n",
            "------------------------------------------------------------------\n",
            "Epoch: 57 \tTraining Loss: 2132.360275\n",
            "         \tTesting Loss: 2728.988528\n"
          ]
        },
        {
          "metadata": {
            "tags": null
          },
          "name": "stderr",
          "output_type": "stream",
          "text": [
            "/usr/local/lib/python3.10/dist-packages/sklearn/cluster/_kmeans.py:870: FutureWarning: The default value of `n_init` will change from 10 to 'auto' in 1.4. Set the value of `n_init` explicitly to suppress the warning\n",
            "  warnings.warn(\n"
          ]
        },
        {
          "metadata": {
            "tags": null
          },
          "name": "stdout",
          "output_type": "stream",
          "text": [
            "Cluster 0 number of samples :  449\n",
            "Cluster 1 number of samples :  579\n",
            "KM balanced accuracy score with hand-crafted labels :  0.6998150494913862\n",
            "KM ARI with hand-crafted labels :  0.19643174931556318\n",
            "KM AMI with hand-crafted labels :  0.10571387101047681\n",
            "------------------------------------------------------------------\n",
            "Epoch: 58 \tTraining Loss: 2134.751486\n",
            "         \tTesting Loss: 2800.568922\n"
          ]
        },
        {
          "metadata": {
            "tags": null
          },
          "name": "stderr",
          "output_type": "stream",
          "text": [
            "/usr/local/lib/python3.10/dist-packages/sklearn/cluster/_kmeans.py:870: FutureWarning: The default value of `n_init` will change from 10 to 'auto' in 1.4. Set the value of `n_init` explicitly to suppress the warning\n",
            "  warnings.warn(\n"
          ]
        },
        {
          "metadata": {
            "tags": null
          },
          "name": "stdout",
          "output_type": "stream",
          "text": [
            "Cluster 0 number of samples :  575\n",
            "Cluster 1 number of samples :  453\n",
            "KM balanced accuracy score with hand-crafted labels :  0.6964927903551734\n",
            "KM ARI with hand-crafted labels :  0.1882197536698564\n",
            "KM AMI with hand-crafted labels :  0.10131940123448696\n",
            "------------------------------------------------------------------\n",
            "Epoch: 59 \tTraining Loss: 2130.263619\n",
            "         \tTesting Loss: 2577.299288\n"
          ]
        },
        {
          "metadata": {
            "tags": null
          },
          "name": "stderr",
          "output_type": "stream",
          "text": [
            "/usr/local/lib/python3.10/dist-packages/sklearn/cluster/_kmeans.py:870: FutureWarning: The default value of `n_init` will change from 10 to 'auto' in 1.4. Set the value of `n_init` explicitly to suppress the warning\n",
            "  warnings.warn(\n"
          ]
        },
        {
          "metadata": {
            "tags": null
          },
          "name": "stdout",
          "output_type": "stream",
          "text": [
            "Cluster 0 number of samples :  572\n",
            "Cluster 1 number of samples :  456\n",
            "KM balanced accuracy score with hand-crafted labels :  0.6948316607870672\n",
            "KM ARI with hand-crafted labels :  0.18418665043663704\n",
            "KM AMI with hand-crafted labels :  0.09918089335622757\n",
            "------------------------------------------------------------------\n",
            "Epoch: 60 \tTraining Loss: 2141.858596\n",
            "         \tTesting Loss: 2697.845814\n"
          ]
        },
        {
          "metadata": {
            "tags": null
          },
          "name": "stderr",
          "output_type": "stream",
          "text": [
            "/usr/local/lib/python3.10/dist-packages/sklearn/cluster/_kmeans.py:870: FutureWarning: The default value of `n_init` will change from 10 to 'auto' in 1.4. Set the value of `n_init` explicitly to suppress the warning\n",
            "  warnings.warn(\n"
          ]
        },
        {
          "metadata": {
            "tags": null
          },
          "name": "stdout",
          "output_type": "stream",
          "text": [
            "Cluster 0 number of samples :  453\n",
            "Cluster 1 number of samples :  575\n",
            "KM balanced accuracy score with hand-crafted labels :  0.7016474295304311\n",
            "KM ARI with hand-crafted labels :  0.19377219681720273\n",
            "KM AMI with hand-crafted labels :  0.10642676309111128\n",
            "------------------------------------------------------------------\n",
            "Epoch: 61 \tTraining Loss: 2104.584498\n",
            "         \tTesting Loss: 2725.400708\n"
          ]
        },
        {
          "metadata": {
            "tags": null
          },
          "name": "stderr",
          "output_type": "stream",
          "text": [
            "/usr/local/lib/python3.10/dist-packages/sklearn/cluster/_kmeans.py:870: FutureWarning: The default value of `n_init` will change from 10 to 'auto' in 1.4. Set the value of `n_init` explicitly to suppress the warning\n",
            "  warnings.warn(\n"
          ]
        },
        {
          "metadata": {
            "tags": null
          },
          "name": "stdout",
          "output_type": "stream",
          "text": [
            "Cluster 0 number of samples :  574\n",
            "Cluster 1 number of samples :  454\n",
            "KM balanced accuracy score with hand-crafted labels :  0.6999862999623249\n",
            "KM ARI with hand-crafted labels :  0.18967467124276663\n",
            "KM AMI with hand-crafted labels :  0.10423876458309822\n",
            "------------------------------------------------------------------\n",
            "Epoch: 62 \tTraining Loss: 2106.171111\n",
            "         \tTesting Loss: 2729.287328\n"
          ]
        },
        {
          "metadata": {
            "tags": null
          },
          "name": "stderr",
          "output_type": "stream",
          "text": [
            "/usr/local/lib/python3.10/dist-packages/sklearn/cluster/_kmeans.py:870: FutureWarning: The default value of `n_init` will change from 10 to 'auto' in 1.4. Set the value of `n_init` explicitly to suppress the warning\n",
            "  warnings.warn(\n"
          ]
        },
        {
          "metadata": {
            "tags": null
          },
          "name": "stdout",
          "output_type": "stream",
          "text": [
            "Cluster 0 number of samples :  454\n",
            "Cluster 1 number of samples :  574\n",
            "KM balanced accuracy score with hand-crafted labels :  0.6999862999623249\n",
            "KM ARI with hand-crafted labels :  0.18967467124276663\n",
            "KM AMI with hand-crafted labels :  0.10423876458309823\n",
            "------------------------------------------------------------------\n",
            "Epoch: 63 \tTraining Loss: 2102.685630\n",
            "         \tTesting Loss: 2810.701101\n"
          ]
        },
        {
          "metadata": {
            "tags": null
          },
          "name": "stderr",
          "output_type": "stream",
          "text": [
            "/usr/local/lib/python3.10/dist-packages/sklearn/cluster/_kmeans.py:870: FutureWarning: The default value of `n_init` will change from 10 to 'auto' in 1.4. Set the value of `n_init` explicitly to suppress the warning\n",
            "  warnings.warn(\n"
          ]
        },
        {
          "metadata": {
            "tags": null
          },
          "name": "stdout",
          "output_type": "stream",
          "text": [
            "Cluster 0 number of samples :  572\n",
            "Cluster 1 number of samples :  456\n",
            "KM balanced accuracy score with hand-crafted labels :  0.6931705312189609\n",
            "KM ARI with hand-crafted labels :  0.1802017477219511\n",
            "KM AMI with hand-crafted labels :  0.09708032952806621\n",
            "------------------------------------------------------------------\n",
            "Epoch: 64 \tTraining Loss: 2096.642772\n",
            "         \tTesting Loss: 2713.139734\n"
          ]
        },
        {
          "metadata": {
            "tags": null
          },
          "name": "stderr",
          "output_type": "stream",
          "text": [
            "/usr/local/lib/python3.10/dist-packages/sklearn/cluster/_kmeans.py:870: FutureWarning: The default value of `n_init` will change from 10 to 'auto' in 1.4. Set the value of `n_init` explicitly to suppress the warning\n",
            "  warnings.warn(\n"
          ]
        },
        {
          "metadata": {
            "tags": null
          },
          "name": "stdout",
          "output_type": "stream",
          "text": [
            "Cluster 0 number of samples :  572\n",
            "Cluster 1 number of samples :  456\n",
            "KM balanced accuracy score with hand-crafted labels :  0.6964927903551734\n",
            "KM ARI with hand-crafted labels :  0.1882197536698564\n",
            "KM AMI with hand-crafted labels :  0.10131940123448696\n",
            "------------------------------------------------------------------\n",
            "Epoch: 65 \tTraining Loss: 2082.574182\n",
            "         \tTesting Loss: 2760.123457\n"
          ]
        },
        {
          "metadata": {
            "tags": null
          },
          "name": "stderr",
          "output_type": "stream",
          "text": [
            "/usr/local/lib/python3.10/dist-packages/sklearn/cluster/_kmeans.py:870: FutureWarning: The default value of `n_init` will change from 10 to 'auto' in 1.4. Set the value of `n_init` explicitly to suppress the warning\n",
            "  warnings.warn(\n"
          ]
        },
        {
          "metadata": {
            "tags": null
          },
          "name": "stdout",
          "output_type": "stream",
          "text": [
            "Cluster 0 number of samples :  455\n",
            "Cluster 1 number of samples :  573\n",
            "KM balanced accuracy score with hand-crafted labels :  0.6964927903551734\n",
            "KM ARI with hand-crafted labels :  0.1882197536698564\n",
            "KM AMI with hand-crafted labels :  0.10131940123448695\n",
            "------------------------------------------------------------------\n",
            "Epoch: 66 \tTraining Loss: 2064.156997\n",
            "         \tTesting Loss: 2698.482775\n"
          ]
        },
        {
          "metadata": {
            "tags": null
          },
          "name": "stderr",
          "output_type": "stream",
          "text": [
            "/usr/local/lib/python3.10/dist-packages/sklearn/cluster/_kmeans.py:870: FutureWarning: The default value of `n_init` will change from 10 to 'auto' in 1.4. Set the value of `n_init` explicitly to suppress the warning\n",
            "  warnings.warn(\n"
          ]
        },
        {
          "metadata": {
            "tags": null
          },
          "name": "stdout",
          "output_type": "stream",
          "text": [
            "Cluster 0 number of samples :  457\n",
            "Cluster 1 number of samples :  571\n",
            "KM balanced accuracy score with hand-crafted labels :  0.6931705312189609\n",
            "KM ARI with hand-crafted labels :  0.1802017477219511\n",
            "KM AMI with hand-crafted labels :  0.09708032952806621\n",
            "------------------------------------------------------------------\n",
            "Epoch: 67 \tTraining Loss: 2081.082677\n",
            "         \tTesting Loss: 2742.089379\n"
          ]
        },
        {
          "metadata": {
            "tags": null
          },
          "name": "stderr",
          "output_type": "stream",
          "text": [
            "/usr/local/lib/python3.10/dist-packages/sklearn/cluster/_kmeans.py:870: FutureWarning: The default value of `n_init` will change from 10 to 'auto' in 1.4. Set the value of `n_init` explicitly to suppress the warning\n",
            "  warnings.warn(\n"
          ]
        },
        {
          "metadata": {
            "tags": null
          },
          "name": "stdout",
          "output_type": "stream",
          "text": [
            "Cluster 0 number of samples :  455\n",
            "Cluster 1 number of samples :  573\n",
            "KM balanced accuracy score with hand-crafted labels :  0.6915094016508545\n",
            "KM ARI with hand-crafted labels :  0.17626475486320914\n",
            "KM AMI with hand-crafted labels :  0.09501684315661164\n",
            "------------------------------------------------------------------\n",
            "Epoch: 68 \tTraining Loss: 2059.363847\n",
            "         \tTesting Loss: 2716.429788\n"
          ]
        },
        {
          "metadata": {
            "tags": null
          },
          "name": "stderr",
          "output_type": "stream",
          "text": [
            "/usr/local/lib/python3.10/dist-packages/sklearn/cluster/_kmeans.py:870: FutureWarning: The default value of `n_init` will change from 10 to 'auto' in 1.4. Set the value of `n_init` explicitly to suppress the warning\n",
            "  warnings.warn(\n"
          ]
        },
        {
          "metadata": {
            "tags": null
          },
          "name": "stdout",
          "output_type": "stream",
          "text": [
            "Cluster 0 number of samples :  574\n",
            "Cluster 1 number of samples :  454\n",
            "KM balanced accuracy score with hand-crafted labels :  0.6948316607870672\n",
            "KM ARI with hand-crafted labels :  0.18418665043663704\n",
            "KM AMI with hand-crafted labels :  0.09918089335622757\n",
            "------------------------------------------------------------------\n",
            "Epoch: 69 \tTraining Loss: 2059.374694\n",
            "         \tTesting Loss: 2772.567016\n"
          ]
        },
        {
          "metadata": {
            "tags": null
          },
          "name": "stderr",
          "output_type": "stream",
          "text": [
            "/usr/local/lib/python3.10/dist-packages/sklearn/cluster/_kmeans.py:870: FutureWarning: The default value of `n_init` will change from 10 to 'auto' in 1.4. Set the value of `n_init` explicitly to suppress the warning\n",
            "  warnings.warn(\n"
          ]
        },
        {
          "metadata": {
            "tags": null
          },
          "name": "stdout",
          "output_type": "stream",
          "text": [
            "Cluster 0 number of samples :  457\n",
            "Cluster 1 number of samples :  571\n",
            "KM balanced accuracy score with hand-crafted labels :  0.6915094016508545\n",
            "KM ARI with hand-crafted labels :  0.17626475486320914\n",
            "KM AMI with hand-crafted labels :  0.09501684315661164\n",
            "------------------------------------------------------------------\n",
            "Epoch: 70 \tTraining Loss: 2049.744705\n",
            "         \tTesting Loss: 2789.731190\n"
          ]
        },
        {
          "metadata": {
            "tags": null
          },
          "name": "stderr",
          "output_type": "stream",
          "text": [
            "/usr/local/lib/python3.10/dist-packages/sklearn/cluster/_kmeans.py:870: FutureWarning: The default value of `n_init` will change from 10 to 'auto' in 1.4. Set the value of `n_init` explicitly to suppress the warning\n",
            "  warnings.warn(\n"
          ]
        },
        {
          "metadata": {
            "tags": null
          },
          "name": "stdout",
          "output_type": "stream",
          "text": [
            "Cluster 0 number of samples :  456\n",
            "Cluster 1 number of samples :  572\n",
            "KM balanced accuracy score with hand-crafted labels :  0.6931705312189609\n",
            "KM ARI with hand-crafted labels :  0.1802017477219511\n",
            "KM AMI with hand-crafted labels :  0.09708032952806621\n",
            "------------------------------------------------------------------\n",
            "Epoch: 71 \tTraining Loss: 2040.717664\n",
            "         \tTesting Loss: 2680.829395\n"
          ]
        },
        {
          "metadata": {
            "tags": null
          },
          "name": "stderr",
          "output_type": "stream",
          "text": [
            "/usr/local/lib/python3.10/dist-packages/sklearn/cluster/_kmeans.py:870: FutureWarning: The default value of `n_init` will change from 10 to 'auto' in 1.4. Set the value of `n_init` explicitly to suppress the warning\n",
            "  warnings.warn(\n"
          ]
        },
        {
          "metadata": {
            "tags": null
          },
          "name": "stdout",
          "output_type": "stream",
          "text": [
            "Cluster 0 number of samples :  456\n",
            "Cluster 1 number of samples :  572\n",
            "KM balanced accuracy score with hand-crafted labels :  0.6931705312189609\n",
            "KM ARI with hand-crafted labels :  0.1802017477219511\n",
            "KM AMI with hand-crafted labels :  0.09708032952806621\n",
            "------------------------------------------------------------------\n",
            "Epoch: 72 \tTraining Loss: 2046.157483\n",
            "         \tTesting Loss: 2753.242944\n"
          ]
        },
        {
          "metadata": {
            "tags": null
          },
          "name": "stderr",
          "output_type": "stream",
          "text": [
            "/usr/local/lib/python3.10/dist-packages/sklearn/cluster/_kmeans.py:870: FutureWarning: The default value of `n_init` will change from 10 to 'auto' in 1.4. Set the value of `n_init` explicitly to suppress the warning\n",
            "  warnings.warn(\n"
          ]
        },
        {
          "metadata": {
            "tags": null
          },
          "name": "stdout",
          "output_type": "stream",
          "text": [
            "Cluster 0 number of samples :  572\n",
            "Cluster 1 number of samples :  456\n",
            "KM balanced accuracy score with hand-crafted labels :  0.6931705312189609\n",
            "KM ARI with hand-crafted labels :  0.1802017477219511\n",
            "KM AMI with hand-crafted labels :  0.09708032952806621\n",
            "------------------------------------------------------------------\n",
            "Epoch: 73 \tTraining Loss: 2053.414748\n",
            "         \tTesting Loss: 2779.611673\n"
          ]
        },
        {
          "metadata": {
            "tags": null
          },
          "name": "stderr",
          "output_type": "stream",
          "text": [
            "/usr/local/lib/python3.10/dist-packages/sklearn/cluster/_kmeans.py:870: FutureWarning: The default value of `n_init` will change from 10 to 'auto' in 1.4. Set the value of `n_init` explicitly to suppress the warning\n",
            "  warnings.warn(\n"
          ]
        },
        {
          "metadata": {
            "tags": null
          },
          "name": "stdout",
          "output_type": "stream",
          "text": [
            "Cluster 0 number of samples :  572\n",
            "Cluster 1 number of samples :  456\n",
            "KM balanced accuracy score with hand-crafted labels :  0.6915094016508545\n",
            "KM ARI with hand-crafted labels :  0.17626475486320914\n",
            "KM AMI with hand-crafted labels :  0.09501684315661164\n",
            "------------------------------------------------------------------\n",
            "Epoch: 74 \tTraining Loss: 2045.489586\n",
            "         \tTesting Loss: 2812.350474\n"
          ]
        },
        {
          "metadata": {
            "tags": null
          },
          "name": "stderr",
          "output_type": "stream",
          "text": [
            "/usr/local/lib/python3.10/dist-packages/sklearn/cluster/_kmeans.py:870: FutureWarning: The default value of `n_init` will change from 10 to 'auto' in 1.4. Set the value of `n_init` explicitly to suppress the warning\n",
            "  warnings.warn(\n"
          ]
        },
        {
          "metadata": {
            "tags": null
          },
          "name": "stdout",
          "output_type": "stream",
          "text": [
            "Cluster 0 number of samples :  572\n",
            "Cluster 1 number of samples :  456\n",
            "KM balanced accuracy score with hand-crafted labels :  0.6931705312189609\n",
            "KM ARI with hand-crafted labels :  0.1802017477219511\n",
            "KM AMI with hand-crafted labels :  0.09708032952806621\n",
            "------------------------------------------------------------------\n",
            "Epoch: 75 \tTraining Loss: 2046.164513\n",
            "         \tTesting Loss: 2730.607078\n"
          ]
        },
        {
          "metadata": {
            "tags": null
          },
          "name": "stderr",
          "output_type": "stream",
          "text": [
            "/usr/local/lib/python3.10/dist-packages/sklearn/cluster/_kmeans.py:870: FutureWarning: The default value of `n_init` will change from 10 to 'auto' in 1.4. Set the value of `n_init` explicitly to suppress the warning\n",
            "  warnings.warn(\n"
          ]
        },
        {
          "metadata": {
            "tags": null
          },
          "name": "stdout",
          "output_type": "stream",
          "text": [
            "Cluster 0 number of samples :  456\n",
            "Cluster 1 number of samples :  572\n",
            "KM balanced accuracy score with hand-crafted labels :  0.6915094016508545\n",
            "KM ARI with hand-crafted labels :  0.17626475486320914\n",
            "KM AMI with hand-crafted labels :  0.09501684315661164\n",
            "------------------------------------------------------------------\n"
          ]
        },
        {
          "metadata": {
            "tags": null
          },
          "name": "stderr",
          "output_type": "stream",
          "text": [
            "/usr/local/lib/python3.10/dist-packages/sklearn/cluster/_kmeans.py:870: FutureWarning: The default value of `n_init` will change from 10 to 'auto' in 1.4. Set the value of `n_init` explicitly to suppress the warning\n",
            "  warnings.warn(\n"
          ]
        },
        {
          "metadata": {
            "tags": null
          },
          "name": "stdout",
          "output_type": "stream",
          "text": [
            "Cluster 0 number of samples :  596\n",
            "Cluster 1 number of samples :  432\n",
            "KM balanced accuracy score with hand-crafted labels :  0.5476932561564545\n",
            "KM ARI with hand-crafted labels :  0.033861583675762065\n",
            "KM AMI with hand-crafted labels :  0.004525031124437702\n",
            "Initial clustering accuracy :  0.5476932561564545\n",
            "------------------------------------------------------------------\n",
            "Epoch: 0 \tTraining Loss: 3576.760018\n",
            "         \tTesting Loss: 3546.620732\n"
          ]
        },
        {
          "metadata": {
            "tags": null
          },
          "name": "stderr",
          "output_type": "stream",
          "text": [
            "/usr/local/lib/python3.10/dist-packages/sklearn/cluster/_kmeans.py:870: FutureWarning: The default value of `n_init` will change from 10 to 'auto' in 1.4. Set the value of `n_init` explicitly to suppress the warning\n",
            "  warnings.warn(\n"
          ]
        },
        {
          "metadata": {
            "tags": null
          },
          "name": "stdout",
          "output_type": "stream",
          "text": [
            "Cluster 0 number of samples :  465\n",
            "Cluster 1 number of samples :  563\n",
            "KM balanced accuracy score with hand-crafted labels :  0.5614960441141212\n",
            "KM ARI with hand-crafted labels :  0.043889457943493526\n",
            "KM AMI with hand-crafted labels :  0.008656660024062807\n",
            "------------------------------------------------------------------\n",
            "Epoch: 1 \tTraining Loss: 3536.942491\n",
            "         \tTesting Loss: 3532.940461\n"
          ]
        },
        {
          "metadata": {
            "tags": null
          },
          "name": "stderr",
          "output_type": "stream",
          "text": [
            "/usr/local/lib/python3.10/dist-packages/sklearn/cluster/_kmeans.py:870: FutureWarning: The default value of `n_init` will change from 10 to 'auto' in 1.4. Set the value of `n_init` explicitly to suppress the warning\n",
            "  warnings.warn(\n"
          ]
        },
        {
          "metadata": {
            "tags": null
          },
          "name": "stdout",
          "output_type": "stream",
          "text": [
            "Cluster 0 number of samples :  467\n",
            "Cluster 1 number of samples :  561\n",
            "KM balanced accuracy score with hand-crafted labels :  0.674384354556975\n",
            "KM ARI with hand-crafted labels :  0.15668029995327462\n",
            "KM AMI with hand-crafted labels :  0.0790145111866455\n",
            "------------------------------------------------------------------\n",
            "Epoch: 2 \tTraining Loss: 3462.543553\n",
            "         \tTesting Loss: 3432.259096\n"
          ]
        },
        {
          "metadata": {
            "tags": null
          },
          "name": "stderr",
          "output_type": "stream",
          "text": [
            "/usr/local/lib/python3.10/dist-packages/sklearn/cluster/_kmeans.py:870: FutureWarning: The default value of `n_init` will change from 10 to 'auto' in 1.4. Set the value of `n_init` explicitly to suppress the warning\n",
            "  warnings.warn(\n"
          ]
        },
        {
          "metadata": {
            "tags": null
          },
          "name": "stdout",
          "output_type": "stream",
          "text": [
            "Cluster 0 number of samples :  584\n",
            "Cluster 1 number of samples :  444\n",
            "KM balanced accuracy score with hand-crafted labels :  0.6547419255402952\n",
            "KM ARI with hand-crafted labels :  0.161158448694007\n",
            "KM AMI with hand-crafted labels :  0.06898341780429365\n",
            "------------------------------------------------------------------\n",
            "Epoch: 3 \tTraining Loss: 3374.561319\n",
            "         \tTesting Loss: 3367.295831\n"
          ]
        },
        {
          "metadata": {
            "tags": null
          },
          "name": "stderr",
          "output_type": "stream",
          "text": [
            "/usr/local/lib/python3.10/dist-packages/sklearn/cluster/_kmeans.py:870: FutureWarning: The default value of `n_init` will change from 10 to 'auto' in 1.4. Set the value of `n_init` explicitly to suppress the warning\n",
            "  warnings.warn(\n"
          ]
        },
        {
          "metadata": {
            "tags": null
          },
          "name": "stdout",
          "output_type": "stream",
          "text": [
            "Cluster 0 number of samples :  444\n",
            "Cluster 1 number of samples :  584\n",
            "KM balanced accuracy score with hand-crafted labels :  0.7084631982737952\n",
            "KM ARI with hand-crafted labels :  0.20356612464082421\n",
            "KM AMI with hand-crafted labels :  0.11393927512660282\n",
            "------------------------------------------------------------------\n",
            "Epoch: 4 \tTraining Loss: 3302.378648\n",
            "         \tTesting Loss: 3367.865897\n"
          ]
        },
        {
          "metadata": {
            "tags": null
          },
          "name": "stderr",
          "output_type": "stream",
          "text": [
            "/usr/local/lib/python3.10/dist-packages/sklearn/cluster/_kmeans.py:870: FutureWarning: The default value of `n_init` will change from 10 to 'auto' in 1.4. Set the value of `n_init` explicitly to suppress the warning\n",
            "  warnings.warn(\n"
          ]
        },
        {
          "metadata": {
            "tags": null
          },
          "name": "stdout",
          "output_type": "stream",
          "text": [
            "Cluster 0 number of samples :  603\n",
            "Cluster 1 number of samples :  425\n",
            "KM balanced accuracy score with hand-crafted labels :  0.6273076000959003\n",
            "KM ARI with hand-crafted labels :  0.1290500586077761\n",
            "KM AMI with hand-crafted labels :  0.0475547172645696\n",
            "------------------------------------------------------------------\n",
            "Epoch: 5 \tTraining Loss: 3224.466602\n",
            "         \tTesting Loss: 3292.798787\n"
          ]
        },
        {
          "metadata": {
            "tags": null
          },
          "name": "stderr",
          "output_type": "stream",
          "text": [
            "/usr/local/lib/python3.10/dist-packages/sklearn/cluster/_kmeans.py:870: FutureWarning: The default value of `n_init` will change from 10 to 'auto' in 1.4. Set the value of `n_init` explicitly to suppress the warning\n",
            "  warnings.warn(\n"
          ]
        },
        {
          "metadata": {
            "tags": null
          },
          "name": "stdout",
          "output_type": "stream",
          "text": [
            "Cluster 0 number of samples :  594\n",
            "Cluster 1 number of samples :  434\n",
            "KM balanced accuracy score with hand-crafted labels :  0.6534232969140665\n",
            "KM ARI with hand-crafted labels :  0.14666075851107832\n",
            "KM AMI with hand-crafted labels :  0.06430714781069519\n",
            "------------------------------------------------------------------\n",
            "Epoch: 6 \tTraining Loss: 3190.730601\n",
            "         \tTesting Loss: 3563.644831\n"
          ]
        },
        {
          "metadata": {
            "tags": null
          },
          "name": "stderr",
          "output_type": "stream",
          "text": [
            "/usr/local/lib/python3.10/dist-packages/sklearn/cluster/_kmeans.py:870: FutureWarning: The default value of `n_init` will change from 10 to 'auto' in 1.4. Set the value of `n_init` explicitly to suppress the warning\n",
            "  warnings.warn(\n"
          ]
        },
        {
          "metadata": {
            "tags": null
          },
          "name": "stdout",
          "output_type": "stream",
          "text": [
            "Cluster 0 number of samples :  455\n",
            "Cluster 1 number of samples :  573\n",
            "KM balanced accuracy score with hand-crafted labels :  0.6984964208651574\n",
            "KM ARI with hand-crafted labels :  0.17902677272469628\n",
            "KM AMI with hand-crafted labels :  0.10085308420869565\n",
            "------------------------------------------------------------------\n",
            "Epoch: 7 \tTraining Loss: 3267.594855\n",
            "         \tTesting Loss: 3343.319496\n"
          ]
        },
        {
          "metadata": {
            "tags": null
          },
          "name": "stderr",
          "output_type": "stream",
          "text": [
            "/usr/local/lib/python3.10/dist-packages/sklearn/cluster/_kmeans.py:870: FutureWarning: The default value of `n_init` will change from 10 to 'auto' in 1.4. Set the value of `n_init` explicitly to suppress the warning\n",
            "  warnings.warn(\n"
          ]
        },
        {
          "metadata": {
            "tags": null
          },
          "name": "stdout",
          "output_type": "stream",
          "text": [
            "Cluster 0 number of samples :  587\n",
            "Cluster 1 number of samples :  441\n",
            "KM balanced accuracy score with hand-crafted labels :  0.6964927903551734\n",
            "KM ARI with hand-crafted labels :  0.1882197536698564\n",
            "KM AMI with hand-crafted labels :  0.10131940123448696\n",
            "------------------------------------------------------------------\n",
            "Epoch: 8 \tTraining Loss: 3099.353155\n",
            "         \tTesting Loss: 3403.324588\n"
          ]
        },
        {
          "metadata": {
            "tags": null
          },
          "name": "stderr",
          "output_type": "stream",
          "text": [
            "/usr/local/lib/python3.10/dist-packages/sklearn/cluster/_kmeans.py:870: FutureWarning: The default value of `n_init` will change from 10 to 'auto' in 1.4. Set the value of `n_init` explicitly to suppress the warning\n",
            "  warnings.warn(\n"
          ]
        },
        {
          "metadata": {
            "tags": null
          },
          "name": "stdout",
          "output_type": "stream",
          "text": [
            "Cluster 0 number of samples :  584\n",
            "Cluster 1 number of samples :  444\n",
            "KM balanced accuracy score with hand-crafted labels :  0.7034798095694763\n",
            "KM ARI with hand-crafted labels :  0.19108052853591326\n",
            "KM AMI with hand-crafted labels :  0.10722685151924531\n",
            "------------------------------------------------------------------\n",
            "Epoch: 9 \tTraining Loss: 3066.490262\n",
            "         \tTesting Loss: 3343.004500\n"
          ]
        },
        {
          "metadata": {
            "tags": null
          },
          "name": "stderr",
          "output_type": "stream",
          "text": [
            "/usr/local/lib/python3.10/dist-packages/sklearn/cluster/_kmeans.py:870: FutureWarning: The default value of `n_init` will change from 10 to 'auto' in 1.4. Set the value of `n_init` explicitly to suppress the warning\n",
            "  warnings.warn(\n"
          ]
        },
        {
          "metadata": {
            "tags": null
          },
          "name": "stdout",
          "output_type": "stream",
          "text": [
            "Cluster 0 number of samples :  598\n",
            "Cluster 1 number of samples :  430\n",
            "KM balanced accuracy score with hand-crafted labels :  0.724269616741446\n",
            "KM ARI with hand-crafted labels :  0.20582562431783316\n",
            "KM AMI with hand-crafted labels :  0.1278622102461568\n",
            "------------------------------------------------------------------\n",
            "Epoch: 10 \tTraining Loss: 2999.658485\n",
            "         \tTesting Loss: 3241.273114\n"
          ]
        },
        {
          "metadata": {
            "tags": null
          },
          "name": "stderr",
          "output_type": "stream",
          "text": [
            "/usr/local/lib/python3.10/dist-packages/sklearn/cluster/_kmeans.py:870: FutureWarning: The default value of `n_init` will change from 10 to 'auto' in 1.4. Set the value of `n_init` explicitly to suppress the warning\n",
            "  warnings.warn(\n"
          ]
        },
        {
          "metadata": {
            "tags": null
          },
          "name": "stdout",
          "output_type": "stream",
          "text": [
            "Cluster 0 number of samples :  590\n",
            "Cluster 1 number of samples :  438\n",
            "KM balanced accuracy score with hand-crafted labels :  0.7121279583518855\n",
            "KM ARI with hand-crafted labels :  0.19789257163430554\n",
            "KM AMI with hand-crafted labels :  0.1156427565972171\n",
            "------------------------------------------------------------------\n",
            "Epoch: 11 \tTraining Loss: 2962.016863\n",
            "         \tTesting Loss: 3387.962615\n"
          ]
        },
        {
          "metadata": {
            "tags": null
          },
          "name": "stderr",
          "output_type": "stream",
          "text": [
            "/usr/local/lib/python3.10/dist-packages/sklearn/cluster/_kmeans.py:870: FutureWarning: The default value of `n_init` will change from 10 to 'auto' in 1.4. Set the value of `n_init` explicitly to suppress the warning\n",
            "  warnings.warn(\n"
          ]
        },
        {
          "metadata": {
            "tags": null
          },
          "name": "stdout",
          "output_type": "stream",
          "text": [
            "Cluster 0 number of samples :  585\n",
            "Cluster 1 number of samples :  443\n",
            "KM balanced accuracy score with hand-crafted labels :  0.7172825975271433\n",
            "KM ARI with hand-crafted labels :  0.20337944303460212\n",
            "KM AMI with hand-crafted labels :  0.12113614619700663\n",
            "------------------------------------------------------------------\n",
            "Epoch: 12 \tTraining Loss: 2944.252860\n",
            "         \tTesting Loss: 2991.193858\n"
          ]
        },
        {
          "metadata": {
            "tags": null
          },
          "name": "stderr",
          "output_type": "stream",
          "text": [
            "/usr/local/lib/python3.10/dist-packages/sklearn/cluster/_kmeans.py:870: FutureWarning: The default value of `n_init` will change from 10 to 'auto' in 1.4. Set the value of `n_init` explicitly to suppress the warning\n",
            "  warnings.warn(\n"
          ]
        },
        {
          "metadata": {
            "tags": null
          },
          "name": "stdout",
          "output_type": "stream",
          "text": [
            "Cluster 0 number of samples :  449\n",
            "Cluster 1 number of samples :  579\n",
            "KM balanced accuracy score with hand-crafted labels :  0.708634448744734\n",
            "KM ARI with hand-crafted labels :  0.1965673257203344\n",
            "KM AMI with hand-crafted labels :  0.11249637191972761\n",
            "------------------------------------------------------------------\n",
            "Epoch: 13 \tTraining Loss: 2874.307636\n",
            "         \tTesting Loss: 3427.638119\n"
          ]
        },
        {
          "metadata": {
            "tags": null
          },
          "name": "stderr",
          "output_type": "stream",
          "text": [
            "/usr/local/lib/python3.10/dist-packages/sklearn/cluster/_kmeans.py:870: FutureWarning: The default value of `n_init` will change from 10 to 'auto' in 1.4. Set the value of `n_init` explicitly to suppress the warning\n",
            "  warnings.warn(\n"
          ]
        },
        {
          "metadata": {
            "tags": null
          },
          "name": "stdout",
          "output_type": "stream",
          "text": [
            "Cluster 0 number of samples :  436\n",
            "Cluster 1 number of samples :  592\n",
            "KM balanced accuracy score with hand-crafted labels :  0.7084631982737952\n",
            "KM ARI with hand-crafted labels :  0.20356612464082421\n",
            "KM AMI with hand-crafted labels :  0.11393927512660282\n",
            "------------------------------------------------------------------\n",
            "Epoch: 14 \tTraining Loss: 2867.076604\n",
            "         \tTesting Loss: 3386.456981\n"
          ]
        },
        {
          "metadata": {
            "tags": null
          },
          "name": "stderr",
          "output_type": "stream",
          "text": [
            "/usr/local/lib/python3.10/dist-packages/sklearn/cluster/_kmeans.py:870: FutureWarning: The default value of `n_init` will change from 10 to 'auto' in 1.4. Set the value of `n_init` explicitly to suppress the warning\n",
            "  warnings.warn(\n"
          ]
        },
        {
          "metadata": {
            "tags": null
          },
          "name": "stdout",
          "output_type": "stream",
          "text": [
            "Cluster 0 number of samples :  446\n",
            "Cluster 1 number of samples :  582\n",
            "KM balanced accuracy score with hand-crafted labels :  0.695002911258006\n",
            "KM ARI with hand-crafted labels :  0.17767035664319572\n",
            "KM AMI with hand-crafted labels :  0.09790061877094543\n",
            "------------------------------------------------------------------\n",
            "Epoch: 15 \tTraining Loss: 2818.350733\n",
            "         \tTesting Loss: 3463.571054\n"
          ]
        },
        {
          "metadata": {
            "tags": null
          },
          "name": "stderr",
          "output_type": "stream",
          "text": [
            "/usr/local/lib/python3.10/dist-packages/sklearn/cluster/_kmeans.py:870: FutureWarning: The default value of `n_init` will change from 10 to 'auto' in 1.4. Set the value of `n_init` explicitly to suppress the warning\n",
            "  warnings.warn(\n"
          ]
        },
        {
          "metadata": {
            "tags": null
          },
          "name": "stdout",
          "output_type": "stream",
          "text": [
            "Cluster 0 number of samples :  454\n",
            "Cluster 1 number of samples :  574\n",
            "KM balanced accuracy score with hand-crafted labels :  0.7379011542281741\n",
            "KM ARI with hand-crafted labels :  0.2256509427161398\n",
            "KM AMI with hand-crafted labels :  0.1445549036522315\n",
            "------------------------------------------------------------------\n",
            "Epoch: 16 \tTraining Loss: 2800.324740\n",
            "         \tTesting Loss: 3381.788086\n"
          ]
        },
        {
          "metadata": {
            "tags": null
          },
          "name": "stderr",
          "output_type": "stream",
          "text": [
            "/usr/local/lib/python3.10/dist-packages/sklearn/cluster/_kmeans.py:870: FutureWarning: The default value of `n_init` will change from 10 to 'auto' in 1.4. Set the value of `n_init` explicitly to suppress the warning\n",
            "  warnings.warn(\n"
          ]
        },
        {
          "metadata": {
            "tags": null
          },
          "name": "stdout",
          "output_type": "stream",
          "text": [
            "Cluster 0 number of samples :  427\n",
            "Cluster 1 number of samples :  601\n",
            "KM balanced accuracy score with hand-crafted labels :  0.7275918758776587\n",
            "KM ARI with hand-crafted labels :  0.2144500928528572\n",
            "KM AMI with hand-crafted labels :  0.1325488972845569\n",
            "------------------------------------------------------------------\n",
            "Epoch: 17 \tTraining Loss: 2863.396330\n",
            "         \tTesting Loss: 3403.267178\n"
          ]
        },
        {
          "metadata": {
            "tags": null
          },
          "name": "stderr",
          "output_type": "stream",
          "text": [
            "/usr/local/lib/python3.10/dist-packages/sklearn/cluster/_kmeans.py:870: FutureWarning: The default value of `n_init` will change from 10 to 'auto' in 1.4. Set the value of `n_init` explicitly to suppress the warning\n",
            "  warnings.warn(\n"
          ]
        },
        {
          "metadata": {
            "tags": null
          },
          "name": "stdout",
          "output_type": "stream",
          "text": [
            "Cluster 0 number of samples :  451\n",
            "Cluster 1 number of samples :  577\n",
            "KM balanced accuracy score with hand-crafted labels :  0.7226084871733397\n",
            "KM ARI with hand-crafted labels :  0.2015844065242588\n",
            "KM AMI with hand-crafted labels :  0.1255737527825286\n",
            "------------------------------------------------------------------\n",
            "Epoch: 18 \tTraining Loss: 2829.160479\n",
            "         \tTesting Loss: 3121.251993\n"
          ]
        },
        {
          "metadata": {
            "tags": null
          },
          "name": "stderr",
          "output_type": "stream",
          "text": [
            "/usr/local/lib/python3.10/dist-packages/sklearn/cluster/_kmeans.py:870: FutureWarning: The default value of `n_init` will change from 10 to 'auto' in 1.4. Set the value of `n_init` explicitly to suppress the warning\n",
            "  warnings.warn(\n"
          ]
        },
        {
          "metadata": {
            "tags": null
          },
          "name": "stdout",
          "output_type": "stream",
          "text": [
            "Cluster 0 number of samples :  578\n",
            "Cluster 1 number of samples :  450\n",
            "KM balanced accuracy score with hand-crafted labels :  0.7122992088228243\n",
            "KM ARI with hand-crafted labels :  0.19089394948208846\n",
            "KM AMI with hand-crafted labels :  0.114442180615828\n",
            "------------------------------------------------------------------\n",
            "Epoch: 19 \tTraining Loss: 2782.677270\n",
            "         \tTesting Loss: 3314.306726\n"
          ]
        },
        {
          "metadata": {
            "tags": null
          },
          "name": "stderr",
          "output_type": "stream",
          "text": [
            "/usr/local/lib/python3.10/dist-packages/sklearn/cluster/_kmeans.py:870: FutureWarning: The default value of `n_init` will change from 10 to 'auto' in 1.4. Set the value of `n_init` explicitly to suppress the warning\n",
            "  warnings.warn(\n"
          ]
        },
        {
          "metadata": {
            "tags": null
          },
          "name": "stdout",
          "output_type": "stream",
          "text": [
            "Cluster 0 number of samples :  453\n",
            "Cluster 1 number of samples :  575\n",
            "KM balanced accuracy score with hand-crafted labels :  0.7089769496866116\n",
            "KM ARI with hand-crafted labels :  0.1828054406399754\n",
            "KM AMI with hand-crafted labels :  0.11015634329752384\n",
            "------------------------------------------------------------------\n",
            "Epoch: 20 \tTraining Loss: 2747.934169\n",
            "         \tTesting Loss: 3204.602492\n"
          ]
        },
        {
          "metadata": {
            "tags": null
          },
          "name": "stderr",
          "output_type": "stream",
          "text": [
            "/usr/local/lib/python3.10/dist-packages/sklearn/cluster/_kmeans.py:870: FutureWarning: The default value of `n_init` will change from 10 to 'auto' in 1.4. Set the value of `n_init` explicitly to suppress the warning\n",
            "  warnings.warn(\n"
          ]
        },
        {
          "metadata": {
            "tags": null
          },
          "name": "stdout",
          "output_type": "stream",
          "text": [
            "Cluster 0 number of samples :  441\n",
            "Cluster 1 number of samples :  587\n",
            "KM balanced accuracy score with hand-crafted labels :  0.7053121896085215\n",
            "KM ARI with hand-crafted labels :  0.18835601394373383\n",
            "KM AMI with hand-crafted labels :  0.10811453770370301\n",
            "------------------------------------------------------------------\n",
            "Epoch: 21 \tTraining Loss: 2707.202292\n",
            "         \tTesting Loss: 3106.762403\n"
          ]
        },
        {
          "metadata": {
            "tags": null
          },
          "name": "stderr",
          "output_type": "stream",
          "text": [
            "/usr/local/lib/python3.10/dist-packages/sklearn/cluster/_kmeans.py:870: FutureWarning: The default value of `n_init` will change from 10 to 'auto' in 1.4. Set the value of `n_init` explicitly to suppress the warning\n",
            "  warnings.warn(\n"
          ]
        },
        {
          "metadata": {
            "tags": null
          },
          "name": "stdout",
          "output_type": "stream",
          "text": [
            "Cluster 0 number of samples :  453\n",
            "Cluster 1 number of samples :  575\n",
            "KM balanced accuracy score with hand-crafted labels :  0.7056546905503991\n",
            "KM ARI with hand-crafted labels :  0.17490255061335488\n",
            "KM AMI with hand-crafted labels :  0.10600499011789982\n",
            "------------------------------------------------------------------\n",
            "Epoch: 22 \tTraining Loss: 2662.007417\n",
            "         \tTesting Loss: 3254.849468\n"
          ]
        },
        {
          "metadata": {
            "tags": null
          },
          "name": "stderr",
          "output_type": "stream",
          "text": [
            "/usr/local/lib/python3.10/dist-packages/sklearn/cluster/_kmeans.py:870: FutureWarning: The default value of `n_init` will change from 10 to 'auto' in 1.4. Set the value of `n_init` explicitly to suppress the warning\n",
            "  warnings.warn(\n"
          ]
        },
        {
          "metadata": {
            "tags": null
          },
          "name": "stdout",
          "output_type": "stream",
          "text": [
            "Cluster 0 number of samples :  574\n",
            "Cluster 1 number of samples :  454\n",
            "KM balanced accuracy score with hand-crafted labels :  0.7071445696475664\n",
            "KM ARI with hand-crafted labels :  0.18559790603777704\n",
            "KM AMI with hand-crafted labels :  0.10909063009326231\n",
            "------------------------------------------------------------------\n",
            "Epoch: 23 \tTraining Loss: 2662.000496\n",
            "         \tTesting Loss: 3234.910279\n"
          ]
        },
        {
          "metadata": {
            "tags": null
          },
          "name": "stderr",
          "output_type": "stream",
          "text": [
            "/usr/local/lib/python3.10/dist-packages/sklearn/cluster/_kmeans.py:870: FutureWarning: The default value of `n_init` will change from 10 to 'auto' in 1.4. Set the value of `n_init` explicitly to suppress the warning\n",
            "  warnings.warn(\n"
          ]
        },
        {
          "metadata": {
            "tags": null
          },
          "name": "stdout",
          "output_type": "stream",
          "text": [
            "Cluster 0 number of samples :  565\n",
            "Cluster 1 number of samples :  463\n",
            "KM balanced accuracy score with hand-crafted labels :  0.6933417816898997\n",
            "KM ARI with hand-crafted labels :  0.17376405155527333\n",
            "KM AMI with hand-crafted labels :  0.09586038056195022\n",
            "------------------------------------------------------------------\n",
            "Epoch: 24 \tTraining Loss: 2664.929435\n",
            "         \tTesting Loss: 3395.403452\n"
          ]
        },
        {
          "metadata": {
            "tags": null
          },
          "name": "stderr",
          "output_type": "stream",
          "text": [
            "/usr/local/lib/python3.10/dist-packages/sklearn/cluster/_kmeans.py:870: FutureWarning: The default value of `n_init` will change from 10 to 'auto' in 1.4. Set the value of `n_init` explicitly to suppress the warning\n",
            "  warnings.warn(\n"
          ]
        },
        {
          "metadata": {
            "tags": null
          },
          "name": "stdout",
          "output_type": "stream",
          "text": [
            "Cluster 0 number of samples :  567\n",
            "Cluster 1 number of samples :  461\n",
            "KM balanced accuracy score with hand-crafted labels :  0.7157927184299757\n",
            "KM ARI with hand-crafted labels :  0.19209174245088476\n",
            "KM AMI with hand-crafted labels :  0.11772874032217402\n",
            "------------------------------------------------------------------\n",
            "Epoch: 25 \tTraining Loss: 2650.828527\n",
            "         \tTesting Loss: 3031.596030\n"
          ]
        },
        {
          "metadata": {
            "tags": null
          },
          "name": "stderr",
          "output_type": "stream",
          "text": [
            "/usr/local/lib/python3.10/dist-packages/sklearn/cluster/_kmeans.py:870: FutureWarning: The default value of `n_init` will change from 10 to 'auto' in 1.4. Set the value of `n_init` explicitly to suppress the warning\n",
            "  warnings.warn(\n"
          ]
        },
        {
          "metadata": {
            "tags": null
          },
          "name": "stdout",
          "output_type": "stream",
          "text": [
            "Cluster 0 number of samples :  455\n",
            "Cluster 1 number of samples :  573\n",
            "KM balanced accuracy score with hand-crafted labels :  0.717453847998082\n",
            "KM ARI with hand-crafted labels :  0.19622273571865337\n",
            "KM AMI with hand-crafted labels :  0.11993537835373853\n",
            "------------------------------------------------------------------\n",
            "Epoch: 26 \tTraining Loss: 2604.510644\n",
            "         \tTesting Loss: 3430.832491\n"
          ]
        },
        {
          "metadata": {
            "tags": null
          },
          "name": "stderr",
          "output_type": "stream",
          "text": [
            "/usr/local/lib/python3.10/dist-packages/sklearn/cluster/_kmeans.py:870: FutureWarning: The default value of `n_init` will change from 10 to 'auto' in 1.4. Set the value of `n_init` explicitly to suppress the warning\n",
            "  warnings.warn(\n"
          ]
        },
        {
          "metadata": {
            "tags": null
          },
          "name": "stdout",
          "output_type": "stream",
          "text": [
            "Cluster 0 number of samples :  573\n",
            "Cluster 1 number of samples :  455\n",
            "KM balanced accuracy score with hand-crafted labels :  0.7014761790594923\n",
            "KM ARI with hand-crafted labels :  0.2006112482165038\n",
            "KM AMI with hand-crafted labels :  0.10797172584613894\n",
            "------------------------------------------------------------------\n",
            "Epoch: 27 \tTraining Loss: 2582.980553\n",
            "         \tTesting Loss: 2952.896281\n"
          ]
        },
        {
          "metadata": {
            "tags": null
          },
          "name": "stderr",
          "output_type": "stream",
          "text": [
            "/usr/local/lib/python3.10/dist-packages/sklearn/cluster/_kmeans.py:870: FutureWarning: The default value of `n_init` will change from 10 to 'auto' in 1.4. Set the value of `n_init` explicitly to suppress the warning\n",
            "  warnings.warn(\n"
          ]
        },
        {
          "output_type": "stream",
          "name": "stdout",
          "text": [
            "Cluster 0 number of samples :  453\n",
            "Cluster 1 number of samples :  575\n",
            "KM balanced accuracy score with hand-crafted labels :  0.7069733191766278\n",
            "KM ARI with hand-crafted labels :  0.1924378087477335\n",
            "KM AMI with hand-crafted labels :  0.11028694722604071\n",
            "------------------------------------------------------------------\n",
            "Epoch: 28 \tTraining Loss: 2533.716167\n",
            "         \tTesting Loss: 3399.608157\n"
          ]
        },
        {
          "output_type": "stream",
          "name": "stderr",
          "text": [
            "/usr/local/lib/python3.10/dist-packages/sklearn/cluster/_kmeans.py:870: FutureWarning: The default value of `n_init` will change from 10 to 'auto' in 1.4. Set the value of `n_init` explicitly to suppress the warning\n",
            "  warnings.warn(\n"
          ]
        },
        {
          "output_type": "stream",
          "name": "stdout",
          "text": [
            "Cluster 0 number of samples :  436\n",
            "Cluster 1 number of samples :  592\n",
            "KM balanced accuracy score with hand-crafted labels :  0.696835291297051\n",
            "KM ARI with hand-crafted labels :  0.17510349152456753\n",
            "KM AMI with hand-crafted labels :  0.0987998684859416\n",
            "------------------------------------------------------------------\n",
            "Epoch: 29 \tTraining Loss: 2490.558998\n",
            "         \tTesting Loss: 3185.098924\n"
          ]
        },
        {
          "output_type": "stream",
          "name": "stderr",
          "text": [
            "/usr/local/lib/python3.10/dist-packages/sklearn/cluster/_kmeans.py:870: FutureWarning: The default value of `n_init` will change from 10 to 'auto' in 1.4. Set the value of `n_init` explicitly to suppress the warning\n",
            "  warnings.warn(\n"
          ]
        },
        {
          "output_type": "stream",
          "name": "stdout",
          "text": [
            "Cluster 0 number of samples :  448\n",
            "Cluster 1 number of samples :  580\n",
            "KM balanced accuracy score with hand-crafted labels :  0.7154502174880981\n",
            "KM ARI with hand-crafted labels :  0.20632729876017525\n",
            "KM AMI with hand-crafted labels :  0.12019581829194095\n",
            "------------------------------------------------------------------\n",
            "Epoch: 30 \tTraining Loss: 2488.433289\n",
            "         \tTesting Loss: 2964.992473\n"
          ]
        },
        {
          "output_type": "stream",
          "name": "stderr",
          "text": [
            "/usr/local/lib/python3.10/dist-packages/sklearn/cluster/_kmeans.py:870: FutureWarning: The default value of `n_init` will change from 10 to 'auto' in 1.4. Set the value of `n_init` explicitly to suppress the warning\n",
            "  warnings.warn(\n"
          ]
        },
        {
          "output_type": "stream",
          "name": "stdout",
          "text": [
            "Cluster 0 number of samples :  576\n",
            "Cluster 1 number of samples :  452\n",
            "KM balanced accuracy score with hand-crafted labels :  0.7206048566633558\n",
            "KM ARI with hand-crafted labels :  0.21194151070430298\n",
            "KM AMI with hand-crafted labels :  0.12578496365810996\n",
            "------------------------------------------------------------------\n",
            "Epoch: 31 \tTraining Loss: 2451.529105\n",
            "         \tTesting Loss: 3118.703621\n"
          ]
        },
        {
          "output_type": "stream",
          "name": "stderr",
          "text": [
            "/usr/local/lib/python3.10/dist-packages/sklearn/cluster/_kmeans.py:870: FutureWarning: The default value of `n_init` will change from 10 to 'auto' in 1.4. Set the value of `n_init` explicitly to suppress the warning\n",
            "  warnings.warn(\n"
          ]
        },
        {
          "output_type": "stream",
          "name": "stdout",
          "text": [
            "Cluster 0 number of samples :  582\n",
            "Cluster 1 number of samples :  446\n",
            "KM balanced accuracy score with hand-crafted labels :  0.7121279583518855\n",
            "KM ARI with hand-crafted labels :  0.19789257163430554\n",
            "KM AMI with hand-crafted labels :  0.1156427565972171\n",
            "------------------------------------------------------------------\n",
            "Epoch: 32 \tTraining Loss: 2451.837956\n",
            "         \tTesting Loss: 3367.323294\n"
          ]
        },
        {
          "output_type": "stream",
          "name": "stderr",
          "text": [
            "/usr/local/lib/python3.10/dist-packages/sklearn/cluster/_kmeans.py:870: FutureWarning: The default value of `n_init` will change from 10 to 'auto' in 1.4. Set the value of `n_init` explicitly to suppress the warning\n",
            "  warnings.warn(\n"
          ]
        },
        {
          "output_type": "stream",
          "name": "stdout",
          "text": [
            "Cluster 0 number of samples :  569\n",
            "Cluster 1 number of samples :  459\n",
            "KM balanced accuracy score with hand-crafted labels :  0.7191149775661883\n",
            "KM ARI with hand-crafted labels :  0.20040068724040874\n",
            "KM AMI with hand-crafted labels :  0.1221773344672033\n",
            "------------------------------------------------------------------\n",
            "Epoch: 33 \tTraining Loss: 2403.437426\n",
            "         \tTesting Loss: 3344.500370\n"
          ]
        },
        {
          "output_type": "stream",
          "name": "stderr",
          "text": [
            "/usr/local/lib/python3.10/dist-packages/sklearn/cluster/_kmeans.py:870: FutureWarning: The default value of `n_init` will change from 10 to 'auto' in 1.4. Set the value of `n_init` explicitly to suppress the warning\n",
            "  warnings.warn(\n"
          ]
        },
        {
          "output_type": "stream",
          "name": "stdout",
          "text": [
            "Cluster 0 number of samples :  446\n",
            "Cluster 1 number of samples :  582\n",
            "KM balanced accuracy score with hand-crafted labels :  0.7119567078809467\n",
            "KM ARI with hand-crafted labels :  0.20497068007252156\n",
            "KM AMI with hand-crafted labels :  0.11702969553919274\n",
            "------------------------------------------------------------------\n",
            "Epoch: 34 \tTraining Loss: 2366.003520\n",
            "         \tTesting Loss: 3308.669724\n"
          ]
        },
        {
          "output_type": "stream",
          "name": "stderr",
          "text": [
            "/usr/local/lib/python3.10/dist-packages/sklearn/cluster/_kmeans.py:870: FutureWarning: The default value of `n_init` will change from 10 to 'auto' in 1.4. Set the value of `n_init` explicitly to suppress the warning\n",
            "  warnings.warn(\n"
          ]
        },
        {
          "output_type": "stream",
          "name": "stdout",
          "text": [
            "Cluster 0 number of samples :  452\n",
            "Cluster 1 number of samples :  576\n",
            "KM balanced accuracy score with hand-crafted labels :  0.7189437270952495\n",
            "KM ARI with hand-crafted labels :  0.2076364457964114\n",
            "KM AMI with hand-crafted labels :  0.12344137518097612\n",
            "------------------------------------------------------------------\n",
            "Epoch: 35 \tTraining Loss: 2358.988368\n",
            "         \tTesting Loss: 3494.255054\n"
          ]
        },
        {
          "output_type": "stream",
          "name": "stderr",
          "text": [
            "/usr/local/lib/python3.10/dist-packages/sklearn/cluster/_kmeans.py:870: FutureWarning: The default value of `n_init` will change from 10 to 'auto' in 1.4. Set the value of `n_init` explicitly to suppress the warning\n",
            "  warnings.warn(\n"
          ]
        },
        {
          "output_type": "stream",
          "name": "stdout",
          "text": [
            "Cluster 0 number of samples :  581\n",
            "Cluster 1 number of samples :  447\n",
            "KM balanced accuracy score with hand-crafted labels :  0.7069733191766278\n",
            "KM ARI with hand-crafted labels :  0.1924378087477335\n",
            "KM AMI with hand-crafted labels :  0.11028694722604071\n",
            "------------------------------------------------------------------\n",
            "Epoch: 36 \tTraining Loss: 2382.009620\n",
            "         \tTesting Loss: 2926.654737\n"
          ]
        },
        {
          "output_type": "stream",
          "name": "stderr",
          "text": [
            "/usr/local/lib/python3.10/dist-packages/sklearn/cluster/_kmeans.py:870: FutureWarning: The default value of `n_init` will change from 10 to 'auto' in 1.4. Set the value of `n_init` explicitly to suppress the warning\n",
            "  warnings.warn(\n"
          ]
        },
        {
          "output_type": "stream",
          "name": "stdout",
          "text": [
            "Cluster 0 number of samples :  583\n",
            "Cluster 1 number of samples :  445\n",
            "KM balanced accuracy score with hand-crafted labels :  0.7257594958386135\n",
            "KM ARI with hand-crafted labels :  0.21758763643005147\n",
            "KM AMI with hand-crafted labels :  0.13151433579796876\n",
            "------------------------------------------------------------------\n",
            "Epoch: 37 \tTraining Loss: 2326.314955\n",
            "         \tTesting Loss: 3499.015248\n"
          ]
        },
        {
          "output_type": "stream",
          "name": "stderr",
          "text": [
            "/usr/local/lib/python3.10/dist-packages/sklearn/cluster/_kmeans.py:870: FutureWarning: The default value of `n_init` will change from 10 to 'auto' in 1.4. Set the value of `n_init` explicitly to suppress the warning\n",
            "  warnings.warn(\n"
          ]
        },
        {
          "output_type": "stream",
          "name": "stdout",
          "text": [
            "Cluster 0 number of samples :  440\n",
            "Cluster 1 number of samples :  588\n",
            "KM balanced accuracy score with hand-crafted labels :  0.6866972634174744\n",
            "KM ARI with hand-crafted labels :  0.15860715063012137\n",
            "KM AMI with hand-crafted labels :  0.08804100538575131\n",
            "------------------------------------------------------------------\n",
            "Epoch: 38 \tTraining Loss: 2315.727039\n",
            "         \tTesting Loss: 2936.030983\n"
          ]
        },
        {
          "output_type": "stream",
          "name": "stderr",
          "text": [
            "/usr/local/lib/python3.10/dist-packages/sklearn/cluster/_kmeans.py:870: FutureWarning: The default value of `n_init` will change from 10 to 'auto' in 1.4. Set the value of `n_init` explicitly to suppress the warning\n",
            "  warnings.warn(\n"
          ]
        },
        {
          "output_type": "stream",
          "name": "stdout",
          "text": [
            "Cluster 0 number of samples :  586\n",
            "Cluster 1 number of samples :  442\n",
            "KM balanced accuracy score with hand-crafted labels :  0.7222659862314622\n",
            "KM ARI with hand-crafted labels :  0.2162949308008638\n",
            "KM AMI with hand-crafted labels :  0.12816779865266992\n",
            "------------------------------------------------------------------\n",
            "Epoch: 39 \tTraining Loss: 2280.376630\n",
            "         \tTesting Loss: 2999.833681\n"
          ]
        },
        {
          "output_type": "stream",
          "name": "stderr",
          "text": [
            "/usr/local/lib/python3.10/dist-packages/sklearn/cluster/_kmeans.py:870: FutureWarning: The default value of `n_init` will change from 10 to 'auto' in 1.4. Set the value of `n_init` explicitly to suppress the warning\n",
            "  warnings.warn(\n"
          ]
        },
        {
          "output_type": "stream",
          "name": "stdout",
          "text": [
            "Cluster 0 number of samples :  580\n",
            "Cluster 1 number of samples :  448\n",
            "KM balanced accuracy score with hand-crafted labels :  0.7207761071342946\n",
            "KM ARI with hand-crafted labels :  0.20462587153589443\n",
            "KM AMI with hand-crafted labels :  0.12445538866343092\n",
            "------------------------------------------------------------------\n",
            "Epoch: 40 \tTraining Loss: 2279.049709\n",
            "         \tTesting Loss: 3171.433685\n"
          ]
        },
        {
          "output_type": "stream",
          "name": "stderr",
          "text": [
            "/usr/local/lib/python3.10/dist-packages/sklearn/cluster/_kmeans.py:870: FutureWarning: The default value of `n_init` will change from 10 to 'auto' in 1.4. Set the value of `n_init` explicitly to suppress the warning\n",
            "  warnings.warn(\n"
          ]
        },
        {
          "output_type": "stream",
          "name": "stdout",
          "text": [
            "Cluster 0 number of samples :  576\n",
            "Cluster 1 number of samples :  452\n",
            "KM balanced accuracy score with hand-crafted labels :  0.7156214679590369\n",
            "KM ARI with hand-crafted labels :  0.1991702142183459\n",
            "KM AMI with hand-crafted labels :  0.11886841914604303\n",
            "------------------------------------------------------------------\n",
            "Epoch: 41 \tTraining Loss: 2240.939004\n",
            "         \tTesting Loss: 2978.789935\n"
          ]
        },
        {
          "output_type": "stream",
          "name": "stderr",
          "text": [
            "/usr/local/lib/python3.10/dist-packages/sklearn/cluster/_kmeans.py:870: FutureWarning: The default value of `n_init` will change from 10 to 'auto' in 1.4. Set the value of `n_init` explicitly to suppress the warning\n",
            "  warnings.warn(\n"
          ]
        },
        {
          "output_type": "stream",
          "name": "stdout",
          "text": [
            "Cluster 0 number of samples :  575\n",
            "Cluster 1 number of samples :  453\n",
            "KM balanced accuracy score with hand-crafted labels :  0.7207761071342946\n",
            "KM ARI with hand-crafted labels :  0.20462587153589443\n",
            "KM AMI with hand-crafted labels :  0.12445538866343092\n",
            "------------------------------------------------------------------\n",
            "Epoch: 42 \tTraining Loss: 2212.851762\n",
            "         \tTesting Loss: 3008.061928\n"
          ]
        },
        {
          "output_type": "stream",
          "name": "stderr",
          "text": [
            "/usr/local/lib/python3.10/dist-packages/sklearn/cluster/_kmeans.py:870: FutureWarning: The default value of `n_init` will change from 10 to 'auto' in 1.4. Set the value of `n_init` explicitly to suppress the warning\n",
            "  warnings.warn(\n"
          ]
        },
        {
          "output_type": "stream",
          "name": "stdout",
          "text": [
            "Cluster 0 number of samples :  447\n",
            "Cluster 1 number of samples :  581\n",
            "KM balanced accuracy score with hand-crafted labels :  0.7119567078809467\n",
            "KM ARI with hand-crafted labels :  0.20497068007252156\n",
            "KM AMI with hand-crafted labels :  0.11702969553919274\n",
            "------------------------------------------------------------------\n",
            "Epoch: 43 \tTraining Loss: 2179.367606\n",
            "         \tTesting Loss: 2829.495366\n"
          ]
        },
        {
          "output_type": "stream",
          "name": "stderr",
          "text": [
            "/usr/local/lib/python3.10/dist-packages/sklearn/cluster/_kmeans.py:870: FutureWarning: The default value of `n_init` will change from 10 to 'auto' in 1.4. Set the value of `n_init` explicitly to suppress the warning\n",
            "  warnings.warn(\n"
          ]
        },
        {
          "output_type": "stream",
          "name": "stdout",
          "text": [
            "Cluster 0 number of samples :  447\n",
            "Cluster 1 number of samples :  581\n",
            "KM balanced accuracy score with hand-crafted labels :  0.722437236702401\n",
            "KM ARI with hand-crafted labels :  0.2088985677804389\n",
            "KM AMI with hand-crafted labels :  0.12677034690206102\n",
            "------------------------------------------------------------------\n",
            "Epoch: 44 \tTraining Loss: 2174.521566\n",
            "         \tTesting Loss: 2779.747578\n"
          ]
        },
        {
          "output_type": "stream",
          "name": "stderr",
          "text": [
            "/usr/local/lib/python3.10/dist-packages/sklearn/cluster/_kmeans.py:870: FutureWarning: The default value of `n_init` will change from 10 to 'auto' in 1.4. Set the value of `n_init` explicitly to suppress the warning\n",
            "  warnings.warn(\n"
          ]
        },
        {
          "output_type": "stream",
          "name": "stdout",
          "text": [
            "Cluster 0 number of samples :  578\n",
            "Cluster 1 number of samples :  450\n",
            "KM balanced accuracy score with hand-crafted labels :  0.7327465150529164\n",
            "KM ARI with hand-crafted labels :  0.22003416739346152\n",
            "KM AMI with hand-crafted labels :  0.13847567022447266\n",
            "------------------------------------------------------------------\n",
            "Epoch: 45 \tTraining Loss: 2158.887801\n",
            "         \tTesting Loss: 3060.793338\n"
          ]
        },
        {
          "output_type": "stream",
          "name": "stderr",
          "text": [
            "/usr/local/lib/python3.10/dist-packages/sklearn/cluster/_kmeans.py:870: FutureWarning: The default value of `n_init` will change from 10 to 'auto' in 1.4. Set the value of `n_init` explicitly to suppress the warning\n",
            "  warnings.warn(\n"
          ]
        },
        {
          "output_type": "stream",
          "name": "stdout",
          "text": [
            "Cluster 0 number of samples :  453\n",
            "Cluster 1 number of samples :  575\n",
            "KM balanced accuracy score with hand-crafted labels :  0.722437236702401\n",
            "KM ARI with hand-crafted labels :  0.2088985677804389\n",
            "KM AMI with hand-crafted labels :  0.12677034690206102\n",
            "------------------------------------------------------------------\n",
            "Epoch: 46 \tTraining Loss: 2155.271385\n",
            "         \tTesting Loss: 2833.086004\n"
          ]
        },
        {
          "output_type": "stream",
          "name": "stderr",
          "text": [
            "/usr/local/lib/python3.10/dist-packages/sklearn/cluster/_kmeans.py:870: FutureWarning: The default value of `n_init` will change from 10 to 'auto' in 1.4. Set the value of `n_init` explicitly to suppress the warning\n",
            "  warnings.warn(\n"
          ]
        },
        {
          "output_type": "stream",
          "name": "stdout",
          "text": [
            "Cluster 0 number of samples :  576\n",
            "Cluster 1 number of samples :  452\n",
            "KM balanced accuracy score with hand-crafted labels :  0.7377299037572354\n",
            "KM ARI with hand-crafted labels :  0.2335197429958478\n",
            "KM AMI with hand-crafted labels :  0.1459340694076886\n",
            "------------------------------------------------------------------\n",
            "Epoch: 47 \tTraining Loss: 2149.205486\n",
            "         \tTesting Loss: 2850.573561\n"
          ]
        },
        {
          "output_type": "stream",
          "name": "stderr",
          "text": [
            "/usr/local/lib/python3.10/dist-packages/sklearn/cluster/_kmeans.py:870: FutureWarning: The default value of `n_init` will change from 10 to 'auto' in 1.4. Set the value of `n_init` explicitly to suppress the warning\n",
            "  warnings.warn(\n"
          ]
        },
        {
          "output_type": "stream",
          "name": "stdout",
          "text": [
            "Cluster 0 number of samples :  453\n",
            "Cluster 1 number of samples :  575\n",
            "KM balanced accuracy score with hand-crafted labels :  0.7377299037572354\n",
            "KM ARI with hand-crafted labels :  0.2335197429958478\n",
            "KM AMI with hand-crafted labels :  0.1459340694076886\n",
            "------------------------------------------------------------------\n",
            "Epoch: 48 \tTraining Loss: 2139.120637\n",
            "         \tTesting Loss: 3080.222876\n"
          ]
        },
        {
          "output_type": "stream",
          "name": "stderr",
          "text": [
            "/usr/local/lib/python3.10/dist-packages/sklearn/cluster/_kmeans.py:870: FutureWarning: The default value of `n_init` will change from 10 to 'auto' in 1.4. Set the value of `n_init` explicitly to suppress the warning\n",
            "  warnings.warn(\n"
          ]
        },
        {
          "output_type": "stream",
          "name": "stdout",
          "text": [
            "Cluster 0 number of samples :  450\n",
            "Cluster 1 number of samples :  578\n",
            "KM balanced accuracy score with hand-crafted labels :  0.7255882453676747\n",
            "KM ARI with hand-crafted labels :  0.2251480332993571\n",
            "KM AMI with hand-crafted labels :  0.13305491147714804\n",
            "------------------------------------------------------------------\n",
            "Epoch: 49 \tTraining Loss: 2110.330768\n",
            "         \tTesting Loss: 2864.534639\n"
          ]
        },
        {
          "output_type": "stream",
          "name": "stderr",
          "text": [
            "/usr/local/lib/python3.10/dist-packages/sklearn/cluster/_kmeans.py:870: FutureWarning: The default value of `n_init` will change from 10 to 'auto' in 1.4. Set the value of `n_init` explicitly to suppress the warning\n",
            "  warnings.warn(\n"
          ]
        },
        {
          "output_type": "stream",
          "name": "stdout",
          "text": [
            "Cluster 0 number of samples :  571\n",
            "Cluster 1 number of samples :  457\n",
            "KM balanced accuracy score with hand-crafted labels :  0.7292530054457649\n",
            "KM ARI with hand-crafted labels :  0.21883390758853385\n",
            "KM AMI with hand-crafted labels :  0.13494877299477315\n",
            "------------------------------------------------------------------\n",
            "Epoch: 50 \tTraining Loss: 2122.200937\n",
            "         \tTesting Loss: 3153.058594\n"
          ]
        },
        {
          "output_type": "stream",
          "name": "stderr",
          "text": [
            "/usr/local/lib/python3.10/dist-packages/sklearn/cluster/_kmeans.py:870: FutureWarning: The default value of `n_init` will change from 10 to 'auto' in 1.4. Set the value of `n_init` explicitly to suppress the warning\n",
            "  warnings.warn(\n"
          ]
        },
        {
          "output_type": "stream",
          "name": "stdout",
          "text": [
            "Cluster 0 number of samples :  448\n",
            "Cluster 1 number of samples :  580\n",
            "KM balanced accuracy score with hand-crafted labels :  0.7257594958386135\n",
            "KM ARI with hand-crafted labels :  0.21758763643005147\n",
            "KM AMI with hand-crafted labels :  0.13151433579796876\n",
            "------------------------------------------------------------------\n",
            "Epoch: 51 \tTraining Loss: 2075.234455\n",
            "         \tTesting Loss: 3143.132384\n"
          ]
        },
        {
          "output_type": "stream",
          "name": "stderr",
          "text": [
            "/usr/local/lib/python3.10/dist-packages/sklearn/cluster/_kmeans.py:870: FutureWarning: The default value of `n_init` will change from 10 to 'auto' in 1.4. Set the value of `n_init` explicitly to suppress the warning\n",
            "  warnings.warn(\n"
          ]
        },
        {
          "output_type": "stream",
          "name": "stdout",
          "text": [
            "Cluster 0 number of samples :  448\n",
            "Cluster 1 number of samples :  580\n",
            "KM balanced accuracy score with hand-crafted labels :  0.7240983662705072\n",
            "KM ARI with hand-crafted labels :  0.21321905986043835\n",
            "KM AMI with hand-crafted labels :  0.1291230422012013\n",
            "------------------------------------------------------------------\n",
            "Epoch: 52 \tTraining Loss: 2074.543200\n",
            "         \tTesting Loss: 3192.869099\n"
          ]
        },
        {
          "output_type": "stream",
          "name": "stderr",
          "text": [
            "/usr/local/lib/python3.10/dist-packages/sklearn/cluster/_kmeans.py:870: FutureWarning: The default value of `n_init` will change from 10 to 'auto' in 1.4. Set the value of `n_init` explicitly to suppress the warning\n",
            "  warnings.warn(\n"
          ]
        },
        {
          "output_type": "stream",
          "name": "stdout",
          "text": [
            "Cluster 0 number of samples :  573\n",
            "Cluster 1 number of samples :  455\n",
            "KM balanced accuracy score with hand-crafted labels :  0.7102955783128404\n",
            "KM ARI with hand-crafted labels :  0.20074485211829562\n",
            "KM AMI with hand-crafted labels :  0.11474366159109753\n",
            "------------------------------------------------------------------\n",
            "Epoch: 53 \tTraining Loss: 2069.025015\n",
            "         \tTesting Loss: 2919.967891\n"
          ]
        },
        {
          "output_type": "stream",
          "name": "stderr",
          "text": [
            "/usr/local/lib/python3.10/dist-packages/sklearn/cluster/_kmeans.py:870: FutureWarning: The default value of `n_init` will change from 10 to 'auto' in 1.4. Set the value of `n_init` explicitly to suppress the warning\n",
            "  warnings.warn(\n"
          ]
        },
        {
          "output_type": "stream",
          "name": "stdout",
          "text": [
            "Cluster 0 number of samples :  449\n",
            "Cluster 1 number of samples :  579\n",
            "KM balanced accuracy score with hand-crafted labels :  0.7325752645819776\n",
            "KM ARI with hand-crafted labels :  0.22774614353522565\n",
            "KM AMI with hand-crafted labels :  0.13986591396014286\n",
            "------------------------------------------------------------------\n",
            "Epoch: 54 \tTraining Loss: 2027.302426\n",
            "         \tTesting Loss: 2869.619320\n"
          ]
        },
        {
          "output_type": "stream",
          "name": "stderr",
          "text": [
            "/usr/local/lib/python3.10/dist-packages/sklearn/cluster/_kmeans.py:870: FutureWarning: The default value of `n_init` will change from 10 to 'auto' in 1.4. Set the value of `n_init` explicitly to suppress the warning\n",
            "  warnings.warn(\n"
          ]
        },
        {
          "output_type": "stream",
          "name": "stdout",
          "text": [
            "Cluster 0 number of samples :  573\n",
            "Cluster 1 number of samples :  455\n",
            "KM balanced accuracy score with hand-crafted labels :  0.7309141350138713\n",
            "KM ARI with hand-crafted labels :  0.22326582651418692\n",
            "KM AMI with hand-crafted labels :  0.137387480483365\n",
            "------------------------------------------------------------------\n",
            "Epoch: 55 \tTraining Loss: 2008.901992\n",
            "         \tTesting Loss: 2913.338753\n"
          ]
        },
        {
          "output_type": "stream",
          "name": "stderr",
          "text": [
            "/usr/local/lib/python3.10/dist-packages/sklearn/cluster/_kmeans.py:870: FutureWarning: The default value of `n_init` will change from 10 to 'auto' in 1.4. Set the value of `n_init` explicitly to suppress the warning\n",
            "  warnings.warn(\n"
          ]
        },
        {
          "output_type": "stream",
          "name": "stdout",
          "text": [
            "Cluster 0 number of samples :  563\n",
            "Cluster 1 number of samples :  465\n",
            "KM balanced accuracy score with hand-crafted labels :  0.7137890879199917\n",
            "KM ARI with hand-crafted labels :  0.20208591663050457\n",
            "KM AMI with hand-crafted labels :  0.11790022987919421\n",
            "------------------------------------------------------------------\n",
            "Epoch: 56 \tTraining Loss: 2021.682294\n",
            "         \tTesting Loss: 3012.753001\n"
          ]
        },
        {
          "output_type": "stream",
          "name": "stderr",
          "text": [
            "/usr/local/lib/python3.10/dist-packages/sklearn/cluster/_kmeans.py:870: FutureWarning: The default value of `n_init` will change from 10 to 'auto' in 1.4. Set the value of `n_init` explicitly to suppress the warning\n",
            "  warnings.warn(\n"
          ]
        },
        {
          "output_type": "stream",
          "name": "stdout",
          "text": [
            "Cluster 0 number of samples :  460\n",
            "Cluster 1 number of samples :  568\n",
            "KM balanced accuracy score with hand-crafted labels :  0.7292530054457649\n",
            "KM ARI with hand-crafted labels :  0.21883390758853385\n",
            "KM AMI with hand-crafted labels :  0.13494877299477315\n",
            "------------------------------------------------------------------\n",
            "Epoch: 57 \tTraining Loss: 2010.231327\n",
            "         \tTesting Loss: 2824.499924\n"
          ]
        },
        {
          "output_type": "stream",
          "name": "stderr",
          "text": [
            "/usr/local/lib/python3.10/dist-packages/sklearn/cluster/_kmeans.py:870: FutureWarning: The default value of `n_init` will change from 10 to 'auto' in 1.4. Set the value of `n_init` explicitly to suppress the warning\n",
            "  warnings.warn(\n"
          ]
        },
        {
          "output_type": "stream",
          "name": "stdout",
          "text": [
            "Cluster 0 number of samples :  455\n",
            "Cluster 1 number of samples :  573\n",
            "KM balanced accuracy score with hand-crafted labels :  0.7309141350138713\n",
            "KM ARI with hand-crafted labels :  0.22326582651418692\n",
            "KM AMI with hand-crafted labels :  0.137387480483365\n",
            "------------------------------------------------------------------\n",
            "Epoch: 58 \tTraining Loss: 1998.349850\n",
            "         \tTesting Loss: 2726.674719\n"
          ]
        },
        {
          "output_type": "stream",
          "name": "stderr",
          "text": [
            "/usr/local/lib/python3.10/dist-packages/sklearn/cluster/_kmeans.py:870: FutureWarning: The default value of `n_init` will change from 10 to 'auto' in 1.4. Set the value of `n_init` explicitly to suppress the warning\n",
            "  warnings.warn(\n"
          ]
        },
        {
          "output_type": "stream",
          "name": "stdout",
          "text": [
            "Cluster 0 number of samples :  465\n",
            "Cluster 1 number of samples :  563\n",
            "KM balanced accuracy score with hand-crafted labels :  0.7309141350138713\n",
            "KM ARI with hand-crafted labels :  0.22326582651418692\n",
            "KM AMI with hand-crafted labels :  0.137387480483365\n",
            "------------------------------------------------------------------\n",
            "Epoch: 59 \tTraining Loss: 1989.941877\n",
            "         \tTesting Loss: 2829.162997\n"
          ]
        },
        {
          "output_type": "stream",
          "name": "stderr",
          "text": [
            "/usr/local/lib/python3.10/dist-packages/sklearn/cluster/_kmeans.py:870: FutureWarning: The default value of `n_init` will change from 10 to 'auto' in 1.4. Set the value of `n_init` explicitly to suppress the warning\n",
            "  warnings.warn(\n"
          ]
        },
        {
          "output_type": "stream",
          "name": "stdout",
          "text": [
            "Cluster 0 number of samples :  569\n",
            "Cluster 1 number of samples :  459\n",
            "KM balanced accuracy score with hand-crafted labels :  0.7309141350138713\n",
            "KM ARI with hand-crafted labels :  0.22326582651418692\n",
            "KM AMI with hand-crafted labels :  0.137387480483365\n",
            "------------------------------------------------------------------\n",
            "Epoch: 60 \tTraining Loss: 1996.532389\n",
            "         \tTesting Loss: 2997.846903\n"
          ]
        },
        {
          "output_type": "stream",
          "name": "stderr",
          "text": [
            "/usr/local/lib/python3.10/dist-packages/sklearn/cluster/_kmeans.py:870: FutureWarning: The default value of `n_init` will change from 10 to 'auto' in 1.4. Set the value of `n_init` explicitly to suppress the warning\n",
            "  warnings.warn(\n"
          ]
        },
        {
          "output_type": "stream",
          "name": "stdout",
          "text": [
            "Cluster 0 number of samples :  559\n",
            "Cluster 1 number of samples :  469\n",
            "KM balanced accuracy score with hand-crafted labels :  0.7275918758776587\n",
            "KM ARI with hand-crafted labels :  0.2144500928528572\n",
            "KM AMI with hand-crafted labels :  0.1325488972845569\n",
            "------------------------------------------------------------------\n",
            "Epoch: 61 \tTraining Loss: 1981.598458\n",
            "         \tTesting Loss: 2810.960596\n"
          ]
        },
        {
          "output_type": "stream",
          "name": "stderr",
          "text": [
            "/usr/local/lib/python3.10/dist-packages/sklearn/cluster/_kmeans.py:870: FutureWarning: The default value of `n_init` will change from 10 to 'auto' in 1.4. Set the value of `n_init` explicitly to suppress the warning\n",
            "  warnings.warn(\n"
          ]
        },
        {
          "output_type": "stream",
          "name": "stdout",
          "text": [
            "Cluster 0 number of samples :  561\n",
            "Cluster 1 number of samples :  467\n",
            "KM balanced accuracy score with hand-crafted labels :  0.7292530054457649\n",
            "KM ARI with hand-crafted labels :  0.21883390758853385\n",
            "KM AMI with hand-crafted labels :  0.13494877299477315\n",
            "------------------------------------------------------------------\n",
            "Epoch: 62 \tTraining Loss: 1961.578355\n",
            "         \tTesting Loss: 2716.362919\n"
          ]
        },
        {
          "output_type": "stream",
          "name": "stderr",
          "text": [
            "/usr/local/lib/python3.10/dist-packages/sklearn/cluster/_kmeans.py:870: FutureWarning: The default value of `n_init` will change from 10 to 'auto' in 1.4. Set the value of `n_init` explicitly to suppress the warning\n",
            "  warnings.warn(\n"
          ]
        },
        {
          "output_type": "stream",
          "name": "stdout",
          "text": [
            "Cluster 0 number of samples :  468\n",
            "Cluster 1 number of samples :  560\n",
            "KM balanced accuracy score with hand-crafted labels :  0.7275918758776587\n",
            "KM ARI with hand-crafted labels :  0.2144500928528572\n",
            "KM AMI with hand-crafted labels :  0.1325488972845569\n",
            "------------------------------------------------------------------\n",
            "Epoch: 63 \tTraining Loss: 1935.033203\n",
            "         \tTesting Loss: 2765.014129\n"
          ]
        },
        {
          "output_type": "stream",
          "name": "stderr",
          "text": [
            "/usr/local/lib/python3.10/dist-packages/sklearn/cluster/_kmeans.py:870: FutureWarning: The default value of `n_init` will change from 10 to 'auto' in 1.4. Set the value of `n_init` explicitly to suppress the warning\n",
            "  warnings.warn(\n"
          ]
        },
        {
          "output_type": "stream",
          "name": "stdout",
          "text": [
            "Cluster 0 number of samples :  559\n",
            "Cluster 1 number of samples :  469\n",
            "KM balanced accuracy score with hand-crafted labels :  0.7275918758776587\n",
            "KM ARI with hand-crafted labels :  0.2144500928528572\n",
            "KM AMI with hand-crafted labels :  0.1325488972845569\n",
            "------------------------------------------------------------------\n",
            "Epoch: 64 \tTraining Loss: 1951.772368\n",
            "         \tTesting Loss: 2763.770109\n"
          ]
        },
        {
          "output_type": "stream",
          "name": "stderr",
          "text": [
            "/usr/local/lib/python3.10/dist-packages/sklearn/cluster/_kmeans.py:870: FutureWarning: The default value of `n_init` will change from 10 to 'auto' in 1.4. Set the value of `n_init` explicitly to suppress the warning\n",
            "  warnings.warn(\n"
          ]
        },
        {
          "output_type": "stream",
          "name": "stdout",
          "text": [
            "Cluster 0 number of samples :  466\n",
            "Cluster 1 number of samples :  562\n",
            "KM balanced accuracy score with hand-crafted labels :  0.722437236702401\n",
            "KM ARI with hand-crafted labels :  0.2088985677804389\n",
            "KM AMI with hand-crafted labels :  0.12677034690206102\n",
            "------------------------------------------------------------------\n",
            "Epoch: 65 \tTraining Loss: 1946.132664\n",
            "         \tTesting Loss: 2894.116802\n"
          ]
        },
        {
          "output_type": "stream",
          "name": "stderr",
          "text": [
            "/usr/local/lib/python3.10/dist-packages/sklearn/cluster/_kmeans.py:870: FutureWarning: The default value of `n_init` will change from 10 to 'auto' in 1.4. Set the value of `n_init` explicitly to suppress the warning\n",
            "  warnings.warn(\n"
          ]
        },
        {
          "output_type": "stream",
          "name": "stdout",
          "text": [
            "Cluster 0 number of samples :  562\n",
            "Cluster 1 number of samples :  466\n",
            "KM balanced accuracy score with hand-crafted labels :  0.722437236702401\n",
            "KM ARI with hand-crafted labels :  0.2088985677804389\n",
            "KM AMI with hand-crafted labels :  0.12677034690206102\n",
            "------------------------------------------------------------------\n",
            "Epoch: 66 \tTraining Loss: 1933.480804\n",
            "         \tTesting Loss: 2808.845596\n"
          ]
        },
        {
          "output_type": "stream",
          "name": "stderr",
          "text": [
            "/usr/local/lib/python3.10/dist-packages/sklearn/cluster/_kmeans.py:870: FutureWarning: The default value of `n_init` will change from 10 to 'auto' in 1.4. Set the value of `n_init` explicitly to suppress the warning\n",
            "  warnings.warn(\n"
          ]
        },
        {
          "output_type": "stream",
          "name": "stdout",
          "text": [
            "Cluster 0 number of samples :  560\n",
            "Cluster 1 number of samples :  468\n",
            "KM balanced accuracy score with hand-crafted labels :  0.722437236702401\n",
            "KM ARI with hand-crafted labels :  0.2088985677804389\n",
            "KM AMI with hand-crafted labels :  0.12677034690206102\n",
            "------------------------------------------------------------------\n",
            "Epoch: 67 \tTraining Loss: 1934.400842\n",
            "         \tTesting Loss: 2839.170736\n"
          ]
        },
        {
          "output_type": "stream",
          "name": "stderr",
          "text": [
            "/usr/local/lib/python3.10/dist-packages/sklearn/cluster/_kmeans.py:870: FutureWarning: The default value of `n_init` will change from 10 to 'auto' in 1.4. Set the value of `n_init` explicitly to suppress the warning\n",
            "  warnings.warn(\n"
          ]
        },
        {
          "output_type": "stream",
          "name": "stdout",
          "text": [
            "Cluster 0 number of samples :  562\n",
            "Cluster 1 number of samples :  466\n",
            "KM balanced accuracy score with hand-crafted labels :  0.722437236702401\n",
            "KM ARI with hand-crafted labels :  0.2088985677804389\n",
            "KM AMI with hand-crafted labels :  0.12677034690206102\n",
            "------------------------------------------------------------------\n",
            "Epoch: 68 \tTraining Loss: 1919.651076\n",
            "         \tTesting Loss: 2784.015726\n"
          ]
        },
        {
          "output_type": "stream",
          "name": "stderr",
          "text": [
            "/usr/local/lib/python3.10/dist-packages/sklearn/cluster/_kmeans.py:870: FutureWarning: The default value of `n_init` will change from 10 to 'auto' in 1.4. Set the value of `n_init` explicitly to suppress the warning\n",
            "  warnings.warn(\n"
          ]
        },
        {
          "output_type": "stream",
          "name": "stdout",
          "text": [
            "Cluster 0 number of samples :  561\n",
            "Cluster 1 number of samples :  467\n",
            "KM balanced accuracy score with hand-crafted labels :  0.7275918758776587\n",
            "KM ARI with hand-crafted labels :  0.2144500928528572\n",
            "KM AMI with hand-crafted labels :  0.1325488972845569\n",
            "------------------------------------------------------------------\n",
            "Epoch: 69 \tTraining Loss: 1923.415126\n",
            "         \tTesting Loss: 2888.607311\n"
          ]
        },
        {
          "output_type": "stream",
          "name": "stderr",
          "text": [
            "/usr/local/lib/python3.10/dist-packages/sklearn/cluster/_kmeans.py:870: FutureWarning: The default value of `n_init` will change from 10 to 'auto' in 1.4. Set the value of `n_init` explicitly to suppress the warning\n",
            "  warnings.warn(\n"
          ]
        },
        {
          "output_type": "stream",
          "name": "stdout",
          "text": [
            "Cluster 0 number of samples :  463\n",
            "Cluster 1 number of samples :  565\n",
            "KM balanced accuracy score with hand-crafted labels :  0.7275918758776587\n",
            "KM ARI with hand-crafted labels :  0.2144500928528572\n",
            "KM AMI with hand-crafted labels :  0.1325488972845569\n",
            "------------------------------------------------------------------\n",
            "Epoch: 70 \tTraining Loss: 1929.209858\n",
            "         \tTesting Loss: 2868.383922\n"
          ]
        },
        {
          "output_type": "stream",
          "name": "stderr",
          "text": [
            "/usr/local/lib/python3.10/dist-packages/sklearn/cluster/_kmeans.py:870: FutureWarning: The default value of `n_init` will change from 10 to 'auto' in 1.4. Set the value of `n_init` explicitly to suppress the warning\n",
            "  warnings.warn(\n"
          ]
        },
        {
          "output_type": "stream",
          "name": "stdout",
          "text": [
            "Cluster 0 number of samples :  466\n",
            "Cluster 1 number of samples :  562\n",
            "KM balanced accuracy score with hand-crafted labels :  0.7275918758776587\n",
            "KM ARI with hand-crafted labels :  0.2144500928528572\n",
            "KM AMI with hand-crafted labels :  0.1325488972845569\n",
            "------------------------------------------------------------------\n",
            "Epoch: 71 \tTraining Loss: 1906.073976\n",
            "         \tTesting Loss: 2790.634554\n"
          ]
        },
        {
          "output_type": "stream",
          "name": "stderr",
          "text": [
            "/usr/local/lib/python3.10/dist-packages/sklearn/cluster/_kmeans.py:870: FutureWarning: The default value of `n_init` will change from 10 to 'auto' in 1.4. Set the value of `n_init` explicitly to suppress the warning\n",
            "  warnings.warn(\n"
          ]
        },
        {
          "output_type": "stream",
          "name": "stdout",
          "text": [
            "Cluster 0 number of samples :  464\n",
            "Cluster 1 number of samples :  564\n",
            "KM balanced accuracy score with hand-crafted labels :  0.722437236702401\n",
            "KM ARI with hand-crafted labels :  0.2088985677804389\n",
            "KM AMI with hand-crafted labels :  0.12677034690206102\n",
            "------------------------------------------------------------------\n",
            "Epoch: 72 \tTraining Loss: 1895.729610\n",
            "         \tTesting Loss: 2787.524376\n"
          ]
        },
        {
          "output_type": "stream",
          "name": "stderr",
          "text": [
            "/usr/local/lib/python3.10/dist-packages/sklearn/cluster/_kmeans.py:870: FutureWarning: The default value of `n_init` will change from 10 to 'auto' in 1.4. Set the value of `n_init` explicitly to suppress the warning\n",
            "  warnings.warn(\n"
          ]
        },
        {
          "output_type": "stream",
          "name": "stdout",
          "text": [
            "Cluster 0 number of samples :  466\n",
            "Cluster 1 number of samples :  562\n",
            "KM balanced accuracy score with hand-crafted labels :  0.7275918758776587\n",
            "KM ARI with hand-crafted labels :  0.2144500928528572\n",
            "KM AMI with hand-crafted labels :  0.1325488972845569\n",
            "------------------------------------------------------------------\n",
            "Epoch: 73 \tTraining Loss: 1904.570747\n",
            "         \tTesting Loss: 2724.199998\n"
          ]
        },
        {
          "output_type": "stream",
          "name": "stderr",
          "text": [
            "/usr/local/lib/python3.10/dist-packages/sklearn/cluster/_kmeans.py:870: FutureWarning: The default value of `n_init` will change from 10 to 'auto' in 1.4. Set the value of `n_init` explicitly to suppress the warning\n",
            "  warnings.warn(\n"
          ]
        },
        {
          "output_type": "stream",
          "name": "stdout",
          "text": [
            "Cluster 0 number of samples :  464\n",
            "Cluster 1 number of samples :  564\n",
            "KM balanced accuracy score with hand-crafted labels :  0.722437236702401\n",
            "KM ARI with hand-crafted labels :  0.2088985677804389\n",
            "KM AMI with hand-crafted labels :  0.12677034690206102\n",
            "------------------------------------------------------------------\n",
            "Epoch: 74 \tTraining Loss: 1920.684217\n",
            "         \tTesting Loss: 2840.389361\n"
          ]
        },
        {
          "output_type": "stream",
          "name": "stderr",
          "text": [
            "/usr/local/lib/python3.10/dist-packages/sklearn/cluster/_kmeans.py:870: FutureWarning: The default value of `n_init` will change from 10 to 'auto' in 1.4. Set the value of `n_init` explicitly to suppress the warning\n",
            "  warnings.warn(\n"
          ]
        },
        {
          "output_type": "stream",
          "name": "stdout",
          "text": [
            "Cluster 0 number of samples :  466\n",
            "Cluster 1 number of samples :  562\n",
            "KM balanced accuracy score with hand-crafted labels :  0.7275918758776587\n",
            "KM ARI with hand-crafted labels :  0.2144500928528572\n",
            "KM AMI with hand-crafted labels :  0.1325488972845569\n",
            "------------------------------------------------------------------\n",
            "Epoch: 75 \tTraining Loss: 1912.260188\n",
            "         \tTesting Loss: 2838.233652\n"
          ]
        },
        {
          "output_type": "stream",
          "name": "stderr",
          "text": [
            "/usr/local/lib/python3.10/dist-packages/sklearn/cluster/_kmeans.py:870: FutureWarning: The default value of `n_init` will change from 10 to 'auto' in 1.4. Set the value of `n_init` explicitly to suppress the warning\n",
            "  warnings.warn(\n"
          ]
        },
        {
          "output_type": "stream",
          "name": "stdout",
          "text": [
            "Cluster 0 number of samples :  465\n",
            "Cluster 1 number of samples :  563\n",
            "KM balanced accuracy score with hand-crafted labels :  0.722437236702401\n",
            "KM ARI with hand-crafted labels :  0.2088985677804389\n",
            "KM AMI with hand-crafted labels :  0.12677034690206102\n",
            "------------------------------------------------------------------\n"
          ]
        }
      ]
    }
  ]
}