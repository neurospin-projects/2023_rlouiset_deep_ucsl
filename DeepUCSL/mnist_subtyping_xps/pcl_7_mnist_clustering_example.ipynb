{
  "nbformat": 4,
  "nbformat_minor": 0,
  "metadata": {
    "accelerator": "GPU",
    "colab": {
      "provenance": [],
      "collapsed_sections": [
        "5Xt7Gwz8Stxa"
      ]
    },
    "kernelspec": {
      "display_name": "Python 3",
      "name": "python3"
    }
  },
  "cells": [
    {
      "cell_type": "markdown",
      "metadata": {
        "id": "5Xt7Gwz8Stxa"
      },
      "source": [
        "# Import de fonctions"
      ]
    },
    {
      "cell_type": "code",
      "metadata": {
        "id": "8-9J91SwPO3F"
      },
      "source": [
        "import matplotlib.pyplot as plt\n",
        "from sklearn.metrics import adjusted_rand_score as ARI\n",
        "from sklearn.metrics import adjusted_mutual_info_score as AMI\n",
        "from sklearn.metrics import balanced_accuracy_score\n",
        "from sklearn.preprocessing import StandardScaler\n",
        "from sklearn.metrics import v_measure_score\n",
        "from skimage.transform import resize\n",
        "from sklearn.cluster import KMeans\n",
        "from sklearn.mixture import GaussianMixture\n",
        "from scipy.stats import wasserstein_distance\n",
        "from sklearn.decomposition import PCA\n",
        "from sklearn.manifold import TSNE\n",
        "import numpy as np\n",
        "import datetime\n",
        "import sys\n",
        "\n",
        "from scipy.ndimage import grey_dilation, grey_erosion\n",
        "from torch.utils.data.sampler import SubsetRandomSampler\n",
        "from torch.utils.data import DataLoader, Dataset\n",
        "from torchvision import datasets, transforms\n",
        "import torchvision.models as models\n",
        "import torch.nn.functional as F\n",
        "import matplotlib.pyplot as plt\n",
        "import torch.optim as optim\n",
        "import torch.nn as nn\n",
        "import torch\n",
        "import math\n",
        "from math import *\n",
        "\n",
        "\n",
        "# Dataset des chiffres du MNIST\n",
        "from keras.datasets import mnist"
      ],
      "execution_count": null,
      "outputs": []
    },
    {
      "cell_type": "code",
      "metadata": {
        "id": "whj0Wj-NOtWy"
      },
      "source": [
        "# Fonction pour afficher les données matricielles sous forme d'images\n",
        "def display_image(X, y, n, label=False):\n",
        "    dim = 32\n",
        "    fig, axs = plt.subplots(n, n, figsize=(5,5))\n",
        "\n",
        "    for i in range(n):\n",
        "      for j in range(n):\n",
        "        axs[i,j].imshow(X[j*n+i].reshape((dim,dim)), cmap='gray')\n",
        "        axs[i,j].axis('off')\n",
        "    plt.show()"
      ],
      "execution_count": null,
      "outputs": []
    },
    {
      "cell_type": "code",
      "metadata": {
        "id": "hTRQD6hmYJLT"
      },
      "source": [
        "class NTXentLoss(torch.nn.Module):\n",
        "    def __init__(self, device, batch_size, temperature, use_cosine_similarity):\n",
        "        super(NTXentLoss, self).__init__()\n",
        "        self.batch_size = batch_size\n",
        "        self.temperature = temperature\n",
        "        self.device = device\n",
        "        self.softmax = torch.nn.Softmax(dim=-1)\n",
        "        self.mask_samples_from_same_repr = self._get_correlated_mask().type(torch.bool)\n",
        "        self.similarity_function = self._get_similarity_function(use_cosine_similarity)\n",
        "        self.criterion = torch.nn.CrossEntropyLoss(reduction=\"sum\")\n",
        "\n",
        "    def _get_similarity_function(self, use_cosine_similarity):\n",
        "        if use_cosine_similarity:\n",
        "            self._cosine_similarity = torch.nn.CosineSimilarity(dim=-1)\n",
        "            return self._cosine_simililarity\n",
        "        else:\n",
        "            return self._dot_simililarity\n",
        "\n",
        "    def _get_correlated_mask(self):\n",
        "        diag = np.eye(2 * self.batch_size)\n",
        "        l1 = np.eye((2 * self.batch_size), 2 * self.batch_size, k=-self.batch_size)\n",
        "        l2 = np.eye((2 * self.batch_size), 2 * self.batch_size, k=self.batch_size)\n",
        "        mask = torch.from_numpy((diag + l1 + l2))\n",
        "        mask = (1 - mask).type(torch.bool)\n",
        "        return mask.to(self.device)\n",
        "\n",
        "    @staticmethod\n",
        "    def _dot_simililarity(x, y):\n",
        "        v = torch.tensordot(x.unsqueeze(1), y.T.unsqueeze(0), dims=2)\n",
        "        # x shape: (N, 1, C)\n",
        "        # y shape: (1, C, 2N)\n",
        "        # v shape: (N, 2N)\n",
        "        return v\n",
        "\n",
        "    def _cosine_simililarity(self, x, y):\n",
        "        # x shape: (N, 1, C)\n",
        "        # y shape: (1, 2N, C)\n",
        "        # v shape: (N, 2N)\n",
        "        v = self._cosine_similarity(x.unsqueeze(1), y.unsqueeze(0))\n",
        "        return v\n",
        "\n",
        "    def forward(self, zis, zjs):\n",
        "        representations = torch.cat([zjs, zis], dim=0)\n",
        "\n",
        "        similarity_matrix = self.similarity_function(representations, representations)\n",
        "\n",
        "        # filter out the scores from the positive samples\n",
        "        l_pos = torch.diag(similarity_matrix, self.batch_size)\n",
        "        r_pos = torch.diag(similarity_matrix, -self.batch_size)\n",
        "        positives = torch.cat([l_pos, r_pos]).view(2 * self.batch_size, 1)\n",
        "\n",
        "        negatives = similarity_matrix[self.mask_samples_from_same_repr].view(2 * self.batch_size, -1)\n",
        "\n",
        "        logits = torch.cat((positives, negatives), dim=1)\n",
        "        logits /= self.temperature\n",
        "\n",
        "        labels = torch.zeros(2 * self.batch_size).to(self.device).long()\n",
        "        loss = self.criterion(logits, labels)\n",
        "\n",
        "        return loss / (2 * self.batch_size)"
      ],
      "execution_count": null,
      "outputs": []
    },
    {
      "cell_type": "code",
      "source": [
        "import torch\n",
        "import numpy as np\n",
        "\n",
        "from matplotlib.lines import Line2D\n",
        "from torch.optim.lr_scheduler import StepLR\n",
        "from matplotlib.patches import Patch\n",
        "\n",
        "@torch.no_grad()\n",
        "class SphericalKMeans:\n",
        "    '''\n",
        "    Kmeans clustering algorithm implemented with PyTorch\n",
        "    Parameters:\n",
        "      n_clusters: int,\n",
        "        Number of clusters\n",
        "      max_iter: int, default: 100\n",
        "        Maximum number of iterations\n",
        "      tol: float, default: 0.0001\n",
        "        Tolerance\n",
        "\n",
        "      mode: {'euclidean', 'cosine'}, default: 'euclidean'\n",
        "        Type of distance measure\n",
        "      minibatch: {None, int}, default: None\n",
        "        Batch size of MinibatchKmeans algorithm\n",
        "        if None perform full KMeans algorithm\n",
        "\n",
        "    Attributes:\n",
        "      centroids: torch.Tensor, shape: [n_clusters, n_features]\n",
        "        cluster centroids\n",
        "    '''\n",
        "\n",
        "    def __init__(self, n_clusters, max_iter=100, tol=1e-8, init=\"k_means++\", n_inits=10, mode=\"euclidean\", minibatch=None):\n",
        "        self.n_clusters = n_clusters\n",
        "        self.max_iter = max_iter\n",
        "        self.tol = tol\n",
        "        self.mode = mode\n",
        "        self.minibatch = minibatch\n",
        "        self.init = init\n",
        "        self.n_inits = n_inits\n",
        "\n",
        "        self.centroids = None\n",
        "        self.inertia_ = 0\n",
        "\n",
        "    def kmeans_plus_plus(self, x, K):\n",
        "        # Kmeans++ initialization\n",
        "        N, D = x.shape\n",
        "        c = torch.empty(K, D, dtype=x.dtype, device=x.device)\n",
        "        # 1. Choose one center uniformly at random among the data points.\n",
        "        ind = int(torch.floor(torch.rand(1) * N))\n",
        "        c[0, :] = x[ind, :]\n",
        "        # 2. For each data point x not chosen yet, compute D(x)^2,\n",
        "        #    the squared distance between x and the nearest center that has already been chosen.\n",
        "        # N.B. sq_dists is initialized with infinity values and will be updated through iterations\n",
        "        sq_dists = 1 / torch.zeros(N, device=x.device)\n",
        "        # N.B. invarangeN below is used later in step 3\n",
        "        invarangeN = torch.arange(N, 0, -1, device=x.device, dtype=torch.float32)\n",
        "        for k in range(K - 1):\n",
        "            sq_dists = torch.minimum(sq_dists, ((x - c[k, :]) ** 2).sum(-1))\n",
        "            # 3. Choose one new data point at random as a new center,\n",
        "            #    using a weighted probability distribution where a point x\n",
        "            #    is chosen with probability proportional to D(x)^2.\n",
        "            distrib = torch.cumsum(sq_dists, dim=0)\n",
        "            ind = torch.argmax(invarangeN * (float(torch.rand(1)) * distrib[-1] < distrib))\n",
        "            c[k + 1, :] = x[ind, :]\n",
        "        return c\n",
        "\n",
        "    @staticmethod\n",
        "    def cos_sim(a, b):\n",
        "        \"\"\"\n",
        "          Compute cosine similarity of 2 sets of vectors\n",
        "          Parameters:\n",
        "          a: torch.Tensor, shape: [m, n_features]\n",
        "          b: torch.Tensor, shape: [n, n_features]\n",
        "        \"\"\"\n",
        "        a_norm = a.norm(dim=-1, keepdim=True)\n",
        "        b_norm = b.norm(dim=-1, keepdim=True)\n",
        "        a = a / (a_norm + 1e-8)\n",
        "        b = b / (b_norm + 1e-8)\n",
        "        return a @ b.transpose(-2, -1)\n",
        "\n",
        "    @staticmethod\n",
        "    def euc_sim(a, b):\n",
        "        \"\"\"\n",
        "          Compute euclidean similarity of 2 sets of vectors\n",
        "          Parameters:\n",
        "          a: torch.Tensor, shape: [m, n_features]\n",
        "          b: torch.Tensor, shape: [n, n_features]\n",
        "        \"\"\"\n",
        "        assert a.size()[1] == b.size()[1]\n",
        "        assert len(a.size()) == 2 and len(b.size()) == 2\n",
        "        distance_matrix = ((a[:, :, None] - b.t()[None, :, :]) ** 2).sum(1)\n",
        "        return distance_matrix\n",
        "\n",
        "    def soft_sim(self, a, b):\n",
        "        \"\"\"\n",
        "          Compute soft similarity (or minimum distance) of each vector in a with all of the vectors in b\n",
        "          Parameters:\n",
        "          a: torch.Tensor, shape: [m, n_features]\n",
        "          b: torch.Tensor, shape: [n, n_features]\n",
        "        \"\"\"\n",
        "        soft_sim = 1 / self.euc_sim(a, b)\n",
        "        soft_sim = soft_sim / soft_sim.sum(1, keepdim=True)\n",
        "        return soft_sim\n",
        "\n",
        "    def fit(self, X, centroids=None):\n",
        "        \"\"\"\n",
        "          Combination of fit() and predict() methods.\n",
        "          This is faster than calling fit() and predict() separately.\n",
        "          Parameters:\n",
        "          X: torch.Tensor, shape: [n_samples, n_features]\n",
        "          centroids: {torch.Tensor, None}, default: None\n",
        "            if given, centroids will be initialized with given tensor\n",
        "            if None, centroids will be randomly chosen from X\n",
        "          Return:\n",
        "          labels: torch.Tensor, shape: [n_samples]\n",
        "        \"\"\"\n",
        "        batch_size, emb_dim = X.shape\n",
        "        device = X.device.type\n",
        "\n",
        "        centroids_list = []\n",
        "        inertias_list = []\n",
        "        for init in range(self.n_inits):\n",
        "            if centroids is None:\n",
        "                if self.init == \"k_means++\":\n",
        "                    self.centroids = self.kmeans_plus_plus(X, self.n_clusters)\n",
        "                else:\n",
        "                    self.centroids = X[np.random.choice(batch_size, size=[self.n_clusters], replace=False)]\n",
        "            else:\n",
        "                self.centroids = centroids\n",
        "            self.centroids = torch.nn.functional.normalize(self.centroids, dim=1, p=2)\n",
        "\n",
        "            num_points_in_clusters = torch.ones(self.n_clusters, device=device)\n",
        "\n",
        "            for i in range(self.max_iter):\n",
        "                # Expectation\n",
        "                soft_sim_ = self.soft_sim(X, self.centroids)\n",
        "                hard_sim = torch.nn.functional.one_hot(soft_sim_.argmax(1), num_classes=self.n_clusters).float()\n",
        "                c_grad = (hard_sim.t() @ X) / hard_sim.t().sum(1, keepdim=True)\n",
        "                c_grad = torch.nn.functional.normalize(c_grad, dim=1, p=2)\n",
        "\n",
        "                error = (c_grad - self.centroids).pow(2).sum()\n",
        "                if self.minibatch is not None:\n",
        "                    lr = 1 / num_points_in_clusters[:, None] * 0.9 + 0.1\n",
        "                else:\n",
        "                    lr = 1\n",
        "                num_points_in_clusters += hard_sim.sum(0)\n",
        "                self.centroids = (1-lr)*self.centroids + lr*c_grad\n",
        "                self.centroids = torch.nn.functional.normalize(self.centroids, dim=1, p=2)\n",
        "                if error <= self.tol:\n",
        "                    break\n",
        "            soft_sim_ = self.soft_sim(X, self.centroids)\n",
        "            hard_sim = torch.nn.functional.one_hot(soft_sim_.argmax(1), num_classes=self.n_clusters).float()\n",
        "            self.inertia_ = (hard_sim*self.euc_sim(X, self.centroids)).sum()\n",
        "            inertias_list.append(self.inertia_.cpu().numpy())\n",
        "            centroids_list.append(self.centroids)\n",
        "\n",
        "        best_init_idx = np.argmin(inertias_list)\n",
        "        self.inertia_ = inertias_list[best_init_idx]\n",
        "        self.centroids = centroids_list[best_init_idx]\n",
        "        return self\n",
        "\n",
        "    def predict(self, X):\n",
        "        \"\"\"\n",
        "          Predict the closest cluster each sample in X belongs to\n",
        "          Parameters:\n",
        "          X: torch.Tensor, shape: [n_samples, n_features]\n",
        "          Return:\n",
        "          labels: torch.Tensor, shape: [n_samples]\n",
        "        \"\"\"\n",
        "        return self.soft_sim(a=X, b=self.centroids).argmax(1)\n",
        "\n",
        "    def predict_proba(self, X):\n",
        "        \"\"\"\n",
        "          Predict the closest cluster each sample in X belongs to\n",
        "          Parameters:\n",
        "          X: torch.Tensor, shape: [n_samples, n_features]\n",
        "          Return:\n",
        "          labels: torch.Tensor, shape: [n_samples]\n",
        "        \"\"\"\n",
        "        return self.soft_sim(a=X, b=self.centroids)\n",
        "\n",
        "    def fit_predict(self, X, centroids=None):\n",
        "        \"\"\"\n",
        "          Perform kmeans clustering\n",
        "          Parameters:\n",
        "          X: torch.Tensor, shape: [n_samples, n_features]\n",
        "        \"\"\"\n",
        "        self.fit(X, centroids)\n",
        "        return self.predict(X)\n"
      ],
      "metadata": {
        "colab": {
          "base_uri": "https://localhost:8080/"
        },
        "id": "mf0QgHZbe_a_",
        "outputId": "164778e8-5a37-4a60-f4a7-7eb57c7a190e"
      },
      "execution_count": null,
      "outputs": [
        {
          "output_type": "stream",
          "name": "stderr",
          "text": [
            "/usr/local/lib/python3.10/dist-packages/torch/utils/_contextlib.py:125: UserWarning: Decorating classes is deprecated and will be disabled in future versions. You should only decorate functions or methods. To preserve the current behavior of class decoration, you can directly decorate the `__init__` method and nothing else.\n",
            "  warnings.warn(\"Decorating classes is deprecated and will be disabled in \"\n"
          ]
        }
      ]
    },
    {
      "cell_type": "markdown",
      "metadata": {
        "id": "Lciw1CKGJJh3"
      },
      "source": [
        "# Define models and datasets"
      ]
    },
    {
      "cell_type": "code",
      "metadata": {
        "id": "0_k2CjCqIrPp",
        "colab": {
          "base_uri": "https://localhost:8080/"
        },
        "outputId": "2e5b90e8-a1b2-4ac9-dd2f-f6ebbe5a019a"
      },
      "source": [
        "pos_label = 7\n",
        "\n",
        "(X_train, y_train), (X_test, y_test) = mnist.load_data()\n",
        "\n",
        "X_train = np.array([np.pad(img, 2) for img in X_train])\n",
        "X_test = np.array([np.pad(img, 2) for img in X_test])\n",
        "\n",
        "X_train = X_train[y_train==7]\n",
        "X_test = X_test[y_test==7]\n",
        "y_train = y_train[y_train==7]\n",
        "y_test = y_test[y_test==7]\n",
        "\n",
        "# flatten the images\n",
        "n_samples_train = len(X_train)\n",
        "X_train = X_train.reshape((n_samples_train, -1))\n",
        "X_train = X_train - np.min(X_train, 1)[:, None]\n",
        "X_train = X_train / np.max(X_train, 1)[:, None]\n",
        "\n",
        "n_samples_test = len(X_test)\n",
        "X_test = X_test.reshape((n_samples_test, -1))\n",
        "X_test = X_test - np.min(X_test, 1)[:, None]\n",
        "X_test = X_test / np.max(X_test, 1)[:, None]\n",
        "\n",
        "X_train = np.array(X_train).astype(np.float)\n",
        "X_test = np.array(X_test).astype(np.float)\n",
        "y_train = np.array(y_train).astype(np.float)\n",
        "y_test = np.array(y_test).astype(np.float)\n",
        "\n",
        "# load ground truth label\n",
        "import json\n",
        "\n",
        "label_mapping_seven = {'No bar':0, 'With bar':1}\n",
        "with open(\"/content/drive/MyDrive/Neurospin/Thèse Robin/UCSL/mnist_labels.json\") as json_file:\n",
        "    ground_truth_dict = json.load(json_file)\n",
        "    y_cluster_test = np.array([label_mapping_seven[ground_truth_dict[key]] for key in ground_truth_dict.keys()])"
      ],
      "execution_count": null,
      "outputs": [
        {
          "output_type": "stream",
          "name": "stderr",
          "text": [
            "<ipython-input-5-d45a57ac09e1>:24: DeprecationWarning: `np.float` is a deprecated alias for the builtin `float`. To silence this warning, use `float` by itself. Doing this will not modify any behavior and is safe. If you specifically wanted the numpy scalar type, use `np.float64` here.\n",
            "Deprecated in NumPy 1.20; for more details and guidance: https://numpy.org/devdocs/release/1.20.0-notes.html#deprecations\n",
            "  X_train = np.array(X_train).astype(np.float)\n",
            "<ipython-input-5-d45a57ac09e1>:25: DeprecationWarning: `np.float` is a deprecated alias for the builtin `float`. To silence this warning, use `float` by itself. Doing this will not modify any behavior and is safe. If you specifically wanted the numpy scalar type, use `np.float64` here.\n",
            "Deprecated in NumPy 1.20; for more details and guidance: https://numpy.org/devdocs/release/1.20.0-notes.html#deprecations\n",
            "  X_test = np.array(X_test).astype(np.float)\n",
            "<ipython-input-5-d45a57ac09e1>:26: DeprecationWarning: `np.float` is a deprecated alias for the builtin `float`. To silence this warning, use `float` by itself. Doing this will not modify any behavior and is safe. If you specifically wanted the numpy scalar type, use `np.float64` here.\n",
            "Deprecated in NumPy 1.20; for more details and guidance: https://numpy.org/devdocs/release/1.20.0-notes.html#deprecations\n",
            "  y_train = np.array(y_train).astype(np.float)\n",
            "<ipython-input-5-d45a57ac09e1>:27: DeprecationWarning: `np.float` is a deprecated alias for the builtin `float`. To silence this warning, use `float` by itself. Doing this will not modify any behavior and is safe. If you specifically wanted the numpy scalar type, use `np.float64` here.\n",
            "Deprecated in NumPy 1.20; for more details and guidance: https://numpy.org/devdocs/release/1.20.0-notes.html#deprecations\n",
            "  y_test = np.array(y_test).astype(np.float)\n"
          ]
        }
      ]
    },
    {
      "cell_type": "code",
      "metadata": {
        "id": "NjoMwW7LVDji"
      },
      "source": [
        "class Erode(object):\n",
        "    \"\"\"Random erode transform\"\"\"\n",
        "    def __init__(self, kernel):\n",
        "        self.kernel = kernel\n",
        "    def __call__(self, x):\n",
        "        x = grey_erosion(x, size=self.kernel)\n",
        "        return torch.tensor(x)\n",
        "\n",
        "class Dilate(object):\n",
        "    \"\"\"Random dilate transform\"\"\"\n",
        "    def __init__(self, kernel):\n",
        "        self.kernel = kernel\n",
        "\n",
        "    def __call__(self, x):\n",
        "        x = grey_dilation(x, size=self.kernel)\n",
        "        return torch.tensor(x)\n",
        "\n",
        "class MyDataset(Dataset):\n",
        "    def __init__(self, data, target, cluster_pseudo_labels=None, test=False):\n",
        "        self.data = data\n",
        "        self.target = torch.from_numpy(target).float()\n",
        "        if cluster_pseudo_labels is not None :\n",
        "          self.cluster_pseudo_labels = cluster_pseudo_labels.float()\n",
        "        else :\n",
        "          self.cluster_pseudo_labels = None\n",
        "        self.transform = transforms.Compose([\n",
        "                            transforms.ToTensor(),\n",
        "                            transforms.RandomResizedCrop(32, scale=(0.75, 1)),  # MORPHO version of PCL\n",
        "                            transforms.RandomRotation(25),\n",
        "                            transforms.RandomApply([Dilate(np.random.randint(2, 4))], p=0.4),  # MORPHO version of PCL\n",
        "                            transforms.RandomApply([Erode(np.random.randint(2, 4))], p=0.4),  # MORPHO version of PCL\n",
        "                            transforms.RandomAffine(10, translate=(0.1, 0.1), shear=0.05),\n",
        "                        ])\n",
        "        self.test = test\n",
        "\n",
        "    def __len__(self):\n",
        "        return len(self.target)\n",
        "\n",
        "    def __getitem__(self, index):\n",
        "        x = self.data[index]\n",
        "        x = np.reshape(x, (32, 32))\n",
        "        if self.test :\n",
        "          x_1 = torch.tensor(x)[None,:,:].float()\n",
        "        else :\n",
        "          x_1 = self.transform(x)\n",
        "        x_2 = self.transform(x)\n",
        "        y = self.target[index]\n",
        "        if self.cluster_pseudo_labels is not None :\n",
        "          y_pseudo_label = self.cluster_pseudo_labels[index]\n",
        "          return x_1.cuda(), x_2.cuda(), y.cuda(), y_pseudo_label.cuda()\n",
        "        return x_1.cuda(), x_2.cuda(), y.cuda()"
      ],
      "execution_count": null,
      "outputs": []
    },
    {
      "cell_type": "code",
      "metadata": {
        "id": "RU9mmuA9Jtyz"
      },
      "source": [
        "# Simple\n",
        "class SimpleConvNet(nn.Module):\n",
        "    def __init__(self, nc, nz, n_clusters, kernel_size=7):\n",
        "        super(SimpleConvNet, self).__init__()\n",
        "        padding = kernel_size // 2\n",
        "        layers = [\n",
        "            nn.Conv2d(nc, 16, kernel_size=kernel_size, padding=padding),\n",
        "            nn.BatchNorm2d(16),\n",
        "            nn.ReLU(inplace=True),\n",
        "            nn.Conv2d(16, 32, kernel_size=kernel_size, padding=padding),\n",
        "            nn.BatchNorm2d(32),\n",
        "            nn.ReLU(inplace=True),\n",
        "            nn.Conv2d(32, 64, kernel_size=kernel_size, padding=padding),\n",
        "            nn.BatchNorm2d(64),\n",
        "            nn.ReLU(inplace=True),\n",
        "            nn.Conv2d(64, 128, kernel_size=kernel_size, padding=padding),\n",
        "            nn.BatchNorm2d(128),\n",
        "            nn.ReLU(inplace=True),\n",
        "        ]\n",
        "        self.backbone = nn.Sequential(*layers)\n",
        "        self.avgpool = nn.AdaptiveAvgPool2d((1, 1))\n",
        "\n",
        "        self.projection_head = nn.Sequential(\n",
        "                nn.Linear(128, hidden_mlp),\n",
        "                nn.BatchNorm1d(hidden_mlp),\n",
        "                nn.ReLU(inplace=True),\n",
        "                nn.Linear(hidden_mlp, output_dim),\n",
        "            )\n",
        "\n",
        "    def forward(self, x):\n",
        "        # convolutional backbone\n",
        "        encoded_vectors = self.backbone(x)\n",
        "        encoded_vectors = self.avgpool(encoded_vectors)\n",
        "        encoded_vectors = torch.flatten(encoded_vectors, 1).view(encoded_vectors.size(0), -1)\n",
        "\n",
        "        # non linear mlp head\n",
        "        x = self.projection_head(encoded_vectors)\n",
        "        x = nn.functional.normalize(x, dim=1, p=2)\n",
        "        return x\n"
      ],
      "execution_count": null,
      "outputs": []
    },
    {
      "cell_type": "markdown",
      "metadata": {
        "id": "ieVfvGDqXz-c"
      },
      "source": [
        "# PCL"
      ]
    },
    {
      "cell_type": "code",
      "metadata": {
        "id": "l3p7dVEwXCVI"
      },
      "source": [
        "# SimCLR loss\n",
        "def NTXentLoss(z_i, z_j, temperature=0.1, INF=1e8):\n",
        "    N = len(z_i)\n",
        "    z_i = F.normalize(z_i, p=2, dim=-1) # dim [N, D]\n",
        "    z_j = F.normalize(z_j, p=2, dim=-1) # dim [N, D]\n",
        "    sim_zii = (z_i @ z_i.T) / temperature  # dim [N, N] => Upper triangle contains incorrect pairs\n",
        "    sim_zjj = (z_j @ z_j.T) / temperature  # dim [N, N] => Upper triangle contains incorrect pairs\n",
        "    sim_zij = (z_i @ z_j.T) / temperature  # dim [N, N] => the diag contains the correct pairs (i,j) (x transforms via T_i and T_j)\n",
        "    # 'Remove' the diag terms by penalizing it (exp(-inf) = 0)\n",
        "    sim_zii = sim_zii - INF * torch.eye(N, device=z_i.device)\n",
        "    sim_zjj = sim_zjj - INF * torch.eye(N, device=z_i.device)\n",
        "    correct_pairs = torch.arange(N, device=z_i.device).long()\n",
        "    loss_i = F.cross_entropy(torch.cat([sim_zij, sim_zii], dim=1), correct_pairs)\n",
        "    loss_j = F.cross_entropy(torch.cat([sim_zij.T, sim_zjj], dim=1), correct_pairs)\n",
        "    return loss_i + loss_j\n",
        "\n",
        "# PCL loss\n",
        "def PCLLoss(z_i, z_j, prototypes, pseudo_labels, temperatures):\n",
        "    ntx_loss = NTXentLoss(z_i, z_j)\n",
        "    proto_loss = proto_pcl_loss(z_i, pseudo_labels, prototypes, temperatures)\n",
        "    proto_loss += proto_pcl_loss(z_j, pseudo_labels, prototypes, temperatures)\n",
        "    loss = ntx_loss + proto_loss\n",
        "    return loss\n",
        "\n",
        "def proto_pcl_loss(v, pseudo_labels, prototypes, temperatures):\n",
        "    numerator = torch.exp(v @ ((pseudo_labels @ prototypes).T / (temperatures[:, None] * pseudo_labels.T).sum()))\n",
        "    denominator = torch.exp(v @ (prototypes / temperatures[:, None]).sum(0))\n",
        "    loss = numerator / denominator[:, None]\n",
        "    return loss.mean()\n",
        "\n",
        "\n",
        "temperature = 0.1\n",
        "alpha = 10"
      ],
      "execution_count": null,
      "outputs": []
    },
    {
      "cell_type": "code",
      "metadata": {
        "colab": {
          "base_uri": "https://localhost:8080/",
          "height": 1000
        },
        "id": "id_GVQ_FiRdr",
        "outputId": "467d0476-cbcf-4d9e-c696-c9f174d58d5d"
      },
      "source": [
        "# number of epochs to train the model\n",
        "n_epochs = 75\n",
        "base_lr = 0.00001\n",
        "\n",
        "# model parameters\n",
        "hidden_mlp = 128\n",
        "output_dim = 128\n",
        "nc = 1\n",
        "n_clusters=2\n",
        "batch_size = 256\n",
        "\n",
        "def momentum_step(m, encoder, momentum_encoder):\n",
        "    '''\n",
        "    Momentum step (Eq (2)).\n",
        "    Args:\n",
        "        - m (float): momentum value. 1) m = 0 -> copy parameter of encoder to key encoder\n",
        "                                      2) m = 0.999 -> momentum update of key encoder\n",
        "    '''\n",
        "    params_q = encoder.state_dict()\n",
        "    params_k = momentum_encoder.state_dict()\n",
        "\n",
        "    dict_params_k = dict(params_k)\n",
        "\n",
        "    for name in params_q:\n",
        "        theta_k = dict_params_k[name]\n",
        "        theta_q = params_q[name].data\n",
        "        dict_params_k[name].data.copy_(m * theta_k + (1 - m) * theta_q)\n",
        "\n",
        "    momentum_encoder.load_state_dict(dict_params_k)\n",
        "\n",
        "    return momentum_encoder\n",
        "\n",
        "for run in range(0, 3) :\n",
        "  # build model\n",
        "  encoder_model = SimpleConvNet(nc, hidden_mlp, output_dim, n_clusters).float().cuda()\n",
        "  teacher_encoder_model = SimpleConvNet(nc, hidden_mlp, output_dim, n_clusters).float().cuda()\n",
        "  teacher_encoder_model = momentum_step(0, encoder_model, teacher_encoder_model)\n",
        "  for param in teacher_encoder_model.parameters():\n",
        "      param.requires_grad = False\n",
        "\n",
        "  with torch.no_grad():\n",
        "    # transform features\n",
        "    encoder_model.eval()\n",
        "    teacher_encoder_model.eval()\n",
        "    X_test_head = []\n",
        "    for img in X_test :\n",
        "      img = img.reshape((32, 32))\n",
        "      img = torch.tensor(img).cuda().float()[None, None,:,:]\n",
        "      head_vector = teacher_encoder_model.forward(img)\n",
        "      X_test_head.append(head_vector)\n",
        "    X_test_head = torch.stack(X_test_head, dim=0)[:, 0]\n",
        "    # transform features\n",
        "    X_train_head = []\n",
        "    for img in X_train :\n",
        "      img = img.reshape((32, 32))\n",
        "      img = torch.tensor(img).cuda().float()[None, None,:,:]\n",
        "      head_vector = teacher_encoder_model.forward(img)\n",
        "      X_train_head.append(head_vector)\n",
        "    X_train_head = torch.stack(X_train_head, dim=0)[:, 0]\n",
        "\n",
        "  # get positive kmeans pseudo labels : Q\n",
        "  KMeans_method = SphericalKMeans(n_clusters=n_clusters).fit(X_train_head)\n",
        "  y_train_kmeans = KMeans_method.predict(X_train_head)\n",
        "  y_test_kmeans = KMeans_method.predict(X_test_head)\n",
        "  prototypes = KMeans_method.centroids\n",
        "  prototypes = nn.functional.normalize(prototypes, dim=1, p=2)\n",
        "\n",
        "  # get y_train and y_test pseudo-labels\n",
        "  y_train_kmeans_numpy = y_train_kmeans.detach().cpu().numpy()\n",
        "  L2_norms = np.linalg.norm(prototypes.cpu().numpy().T[None, :, :] - X_train_head[:, :, None].cpu().numpy(), axis=1)\n",
        "  Z = [np.sum(y_train_kmeans_numpy == cluster) for cluster in range(0, n_clusters)]\n",
        "  temperatures = torch.tensor(\n",
        "      np.array([np.sum(L2_norms[y_train_kmeans_numpy == cluster]) / (Z[i] * log(Z[i] + alpha))\n",
        "                for i, cluster in enumerate(range(0, n_clusters))])).float().cuda()\n",
        "  temperatures = temperatures - temperatures.mean() + temperature\n",
        "\n",
        "  # dataloaders\n",
        "  train_data = MyDataset(X_train, y_train, torch.nn.functional.one_hot(y_train_kmeans, num_classes=n_clusters))\n",
        "  test_data = MyDataset(X_test, y_test, torch.nn.functional.one_hot(y_test_kmeans, num_classes=n_clusters), test=True)\n",
        "  # prepare data loaders\n",
        "  train_loader = torch.utils.data.DataLoader(train_data, batch_size=batch_size, drop_last=True)\n",
        "  test_loader = torch.utils.data.DataLoader(test_data, batch_size=batch_size, drop_last=True)\n",
        "\n",
        "  print('------------------------------------------------------------------')\n",
        "\n",
        "\n",
        "  # specify loss function\n",
        "  optimizer = torch.optim.Adam(encoder_model.parameters(), lr=base_lr)\n",
        "\n",
        "  train_losses = []\n",
        "  test_losses = []\n",
        "\n",
        "  # launch training\n",
        "  for epoch in range(0, n_epochs+1):\n",
        "      # monitor training loss\n",
        "      train_loss = 0.0\n",
        "      test_loss = 0.0\n",
        "\n",
        "      ###################\n",
        "      # train the model #\n",
        "      ###################\n",
        "      encoder_model.train()\n",
        "      for it, data in enumerate(train_loader):\n",
        "          # _ stands in for labels, here no need to flatten images\n",
        "          images_i, images_j, labels, pseudo_labels = data\n",
        "          # forward pass: compute predicted outputs by passing inputs to the model\n",
        "          latent_vectors_i = encoder_model.forward(images_i.float())\n",
        "          latent_vectors_j = encoder_model.forward(images_j.float())\n",
        "          # calculate the loss\n",
        "          if epoch > 35:\n",
        "            loss = PCLLoss(latent_vectors_i, latent_vectors_j, prototypes, pseudo_labels, temperatures)\n",
        "          else :\n",
        "            loss = NTXentLoss(latent_vectors_i, latent_vectors_j)\n",
        "          # backward pass: compute gradient of the loss with respect to model parameters\n",
        "          loss.backward()\n",
        "          # perform a single optimization step (parameter update)\n",
        "          optimizer.step()\n",
        "          # update running training loss\n",
        "          train_loss += loss.item()*images_i.size(0)\n",
        "          # clear the gradients of all optimized variables\n",
        "          optimizer.zero_grad()\n",
        "\n",
        "      if epoch <= 35:\n",
        "          teacher_encoder_model = momentum_step(0, encoder_model, teacher_encoder_model)\n",
        "      else:\n",
        "          teacher_encoder_model = momentum_step(0.99, encoder_model, teacher_encoder_model)\n",
        "\n",
        "      ###################\n",
        "      # evaluate the model #\n",
        "      ###################\n",
        "      encoder_model.eval()\n",
        "      with torch.no_grad():\n",
        "        for data in test_loader:\n",
        "          # _ stands in for labels, here no need to flatten images\n",
        "          images_i, images_j, labels, pseudo_labels = data\n",
        "          # clear the gradients of all optimized variables\n",
        "          optimizer.zero_grad()\n",
        "          # forward pass: compute predicted outputs by passing inputs to the model\n",
        "          latent_vectors_i = encoder_model.forward(images_i.float())\n",
        "          latent_vectors_j = encoder_model.forward(images_j.float())\n",
        "          # calculate the loss\n",
        "          if epoch > 35:\n",
        "            loss = PCLLoss(latent_vectors_i, latent_vectors_j, prototypes, pseudo_labels, temperatures)\n",
        "          else :\n",
        "            loss = NTXentLoss(latent_vectors_i, latent_vectors_j)\n",
        "          # update running testing loss\n",
        "          test_loss += loss.item()*images_i.size(0)\n",
        "\n",
        "      # print avg training statistics\n",
        "      train_loss = train_loss/len(train_loader)\n",
        "      test_loss = test_loss/len(test_loader)\n",
        "      #\n",
        "      train_losses.append(train_loss)\n",
        "      test_losses.append(test_loss)\n",
        "      print('Epoch: {} \\tTraining Loss: {:.6f}'.format(\n",
        "          epoch,\n",
        "          train_loss\n",
        "          ))\n",
        "      print('         \\tTesting Loss: {:.6f}'.format(\n",
        "          test_loss\n",
        "          ))\n",
        "\n",
        "      with torch.no_grad():\n",
        "        # transform features\n",
        "        encoder_model.eval()\n",
        "        teacher_encoder_model.eval()\n",
        "        X_test_head = []\n",
        "        for img in X_test :\n",
        "          img = img.reshape((32, 32))\n",
        "          img = torch.tensor(img).cuda().float()[None, None,:,:]\n",
        "          head_vector = teacher_encoder_model.forward(img.float())\n",
        "          X_test_head.append(head_vector)\n",
        "        X_test_head = torch.stack(X_test_head, dim=0)[:, 0]\n",
        "        # transform features\n",
        "        X_train_head = []\n",
        "        for img in X_train :\n",
        "          img = img.reshape((32, 32))\n",
        "          img = torch.tensor(img).cuda().float()[None, None,:,:]\n",
        "          head_vector = teacher_encoder_model.forward(img.float())\n",
        "          X_train_head.append(head_vector)\n",
        "        X_train_head = torch.stack(X_train_head, dim=0)[:, 0]\n",
        "\n",
        "      # get positive kmeans pseudo labels : Q\n",
        "      KMeans_method = SphericalKMeans(n_clusters=n_clusters).fit(X_train_head)\n",
        "      y_train_kmeans = KMeans_method.predict(X_train_head)\n",
        "      y_test_kmeans = KMeans_method.predict(X_test_head)\n",
        "      prototypes = KMeans_method.centroids\n",
        "      prototypes = nn.functional.normalize(prototypes, dim=1, p=2)\n",
        "\n",
        "      # get y_train and y_test pseudo-labels\n",
        "      y_train_kmeans_numpy = y_train_kmeans.detach().cpu().numpy()\n",
        "      L2_norms = np.linalg.norm(prototypes.cpu().numpy().T[None, :, :] - X_train_head[:, :, None].cpu().numpy(), axis=1)\n",
        "      Z = [np.sum(y_train_kmeans_numpy == cluster) for cluster in range(0, n_clusters)]\n",
        "      temperatures = torch.tensor(\n",
        "          np.array([np.sum(L2_norms[y_train_kmeans_numpy == cluster]) / (Z[i] * log(Z[i] + alpha))\n",
        "                    for i, cluster in enumerate(range(0, n_clusters))])).float().cuda()\n",
        "      temperatures = temperatures - temperatures.mean() + temperature\n",
        "\n",
        "      # dataloaders\n",
        "      train_data = MyDataset(X_train, y_train, y_train_kmeans)\n",
        "      test_data = MyDataset(X_test, y_test, y_test_kmeans, test=True)\n",
        "      # prepare data loaders\n",
        "      train_data = MyDataset(X_train, y_train, torch.nn.functional.one_hot(y_train_kmeans, num_classes=n_clusters))\n",
        "      test_data = MyDataset(X_test, y_test, torch.nn.functional.one_hot(y_test_kmeans, num_classes=n_clusters), test=True)\n",
        "\n",
        "      print(\"KM balanced accuracy score with hand-crafted labels : \",\n",
        "                  max(balanced_accuracy_score(y_cluster_test, y_test_kmeans.detach().cpu().numpy()[:len(y_cluster_test)]),\n",
        "                  balanced_accuracy_score(1-y_cluster_test, y_test_kmeans.detach().cpu().numpy()[:len(y_cluster_test)]))\n",
        "                  )\n",
        "\n",
        "      print('------------------------------------------------------------------')\n",
        "\n",
        "  plt.plot(train_losses, label=\"train\")\n",
        "  plt.plot(test_losses, label=\"test\")\n",
        "  plt.legend()\n",
        "  plt.show()\n",
        "\n",
        "\n",
        "  print('---------------------------')"
      ],
      "execution_count": null,
      "outputs": [
        {
          "output_type": "stream",
          "name": "stdout",
          "text": [
            "------------------------------------------------------------------\n"
          ]
        },
        {
          "output_type": "stream",
          "name": "stderr",
          "text": [
            "/usr/local/lib/python3.10/dist-packages/torchvision/transforms/functional.py:1603: UserWarning: The default value of the antialias parameter of all the resizing transforms (Resize(), RandomResizedCrop(), etc.) will change from None to True in v0.17, in order to be consistent across the PIL and Tensor backends. To suppress this warning, directly pass antialias=True (recommended, future default), antialias=None (current default, which means False for Tensors and True for PIL), or antialias=False (only works on Tensors - PIL will still use antialiasing). This also applies if you are using the inference transforms from the models weights: update the call to weights.transforms(antialias=True).\n",
            "  warnings.warn(\n"
          ]
        },
        {
          "output_type": "stream",
          "name": "stdout",
          "text": [
            "Epoch: 0 \tTraining Loss: 3219.347036\n",
            "         \tTesting Loss: 3312.099426\n",
            "KM balanced accuracy score with hand-crafted labels :  0.5588074117203823\n",
            "------------------------------------------------------------------\n"
          ]
        },
        {
          "output_type": "stream",
          "name": "stderr",
          "text": [
            "/usr/local/lib/python3.10/dist-packages/torchvision/transforms/functional.py:1603: UserWarning: The default value of the antialias parameter of all the resizing transforms (Resize(), RandomResizedCrop(), etc.) will change from None to True in v0.17, in order to be consistent across the PIL and Tensor backends. To suppress this warning, directly pass antialias=True (recommended, future default), antialias=None (current default, which means False for Tensors and True for PIL), or antialias=False (only works on Tensors - PIL will still use antialiasing). This also applies if you are using the inference transforms from the models weights: update the call to weights.transforms(antialias=True).\n",
            "  warnings.warn(\n"
          ]
        },
        {
          "output_type": "stream",
          "name": "stdout",
          "text": [
            "Epoch: 1 \tTraining Loss: 2950.691833\n",
            "         \tTesting Loss: 3452.632446\n",
            "KM balanced accuracy score with hand-crafted labels :  0.540226735623523\n",
            "------------------------------------------------------------------\n"
          ]
        },
        {
          "output_type": "stream",
          "name": "stderr",
          "text": [
            "/usr/local/lib/python3.10/dist-packages/torchvision/transforms/functional.py:1603: UserWarning: The default value of the antialias parameter of all the resizing transforms (Resize(), RandomResizedCrop(), etc.) will change from None to True in v0.17, in order to be consistent across the PIL and Tensor backends. To suppress this warning, directly pass antialias=True (recommended, future default), antialias=None (current default, which means False for Tensors and True for PIL), or antialias=False (only works on Tensors - PIL will still use antialiasing). This also applies if you are using the inference transforms from the models weights: update the call to weights.transforms(antialias=True).\n",
            "  warnings.warn(\n"
          ]
        },
        {
          "output_type": "stream",
          "name": "stdout",
          "text": [
            "Epoch: 2 \tTraining Loss: 2843.329102\n",
            "         \tTesting Loss: 3566.183655\n",
            "KM balanced accuracy score with hand-crafted labels :  0.572473199301298\n",
            "------------------------------------------------------------------\n"
          ]
        },
        {
          "output_type": "stream",
          "name": "stderr",
          "text": [
            "/usr/local/lib/python3.10/dist-packages/torchvision/transforms/functional.py:1603: UserWarning: The default value of the antialias parameter of all the resizing transforms (Resize(), RandomResizedCrop(), etc.) will change from None to True in v0.17, in order to be consistent across the PIL and Tensor backends. To suppress this warning, directly pass antialias=True (recommended, future default), antialias=None (current default, which means False for Tensors and True for PIL), or antialias=False (only works on Tensors - PIL will still use antialiasing). This also applies if you are using the inference transforms from the models weights: update the call to weights.transforms(antialias=True).\n",
            "  warnings.warn(\n"
          ]
        },
        {
          "output_type": "stream",
          "name": "stdout",
          "text": [
            "Epoch: 3 \tTraining Loss: 2795.291239\n",
            "         \tTesting Loss: 3660.719604\n",
            "KM balanced accuracy score with hand-crafted labels :  0.5826112271808748\n",
            "------------------------------------------------------------------\n"
          ]
        },
        {
          "output_type": "stream",
          "name": "stderr",
          "text": [
            "/usr/local/lib/python3.10/dist-packages/torchvision/transforms/functional.py:1603: UserWarning: The default value of the antialias parameter of all the resizing transforms (Resize(), RandomResizedCrop(), etc.) will change from None to True in v0.17, in order to be consistent across the PIL and Tensor backends. To suppress this warning, directly pass antialias=True (recommended, future default), antialias=None (current default, which means False for Tensors and True for PIL), or antialias=False (only works on Tensors - PIL will still use antialiasing). This also applies if you are using the inference transforms from the models weights: update the call to weights.transforms(antialias=True).\n",
            "  warnings.warn(\n"
          ]
        },
        {
          "output_type": "stream",
          "name": "stdout",
          "text": [
            "Epoch: 4 \tTraining Loss: 2751.218048\n",
            "         \tTesting Loss: 3952.171631\n",
            "KM balanced accuracy score with hand-crafted labels :  0.5929205055313902\n",
            "------------------------------------------------------------------\n"
          ]
        },
        {
          "output_type": "stream",
          "name": "stderr",
          "text": [
            "/usr/local/lib/python3.10/dist-packages/torchvision/transforms/functional.py:1603: UserWarning: The default value of the antialias parameter of all the resizing transforms (Resize(), RandomResizedCrop(), etc.) will change from None to True in v0.17, in order to be consistent across the PIL and Tensor backends. To suppress this warning, directly pass antialias=True (recommended, future default), antialias=None (current default, which means False for Tensors and True for PIL), or antialias=False (only works on Tensors - PIL will still use antialiasing). This also applies if you are using the inference transforms from the models weights: update the call to weights.transforms(antialias=True).\n",
            "  warnings.warn(\n"
          ]
        },
        {
          "output_type": "stream",
          "name": "stdout",
          "text": [
            "Epoch: 5 \tTraining Loss: 2702.876963\n",
            "         \tTesting Loss: 4269.108887\n",
            "KM balanced accuracy score with hand-crafted labels :  0.5910881254923451\n",
            "------------------------------------------------------------------\n"
          ]
        },
        {
          "output_type": "stream",
          "name": "stderr",
          "text": [
            "/usr/local/lib/python3.10/dist-packages/torchvision/transforms/functional.py:1603: UserWarning: The default value of the antialias parameter of all the resizing transforms (Resize(), RandomResizedCrop(), etc.) will change from None to True in v0.17, in order to be consistent across the PIL and Tensor backends. To suppress this warning, directly pass antialias=True (recommended, future default), antialias=None (current default, which means False for Tensors and True for PIL), or antialias=False (only works on Tensors - PIL will still use antialiasing). This also applies if you are using the inference transforms from the models weights: update the call to weights.transforms(antialias=True).\n",
            "  warnings.warn(\n"
          ]
        },
        {
          "output_type": "stream",
          "name": "stdout",
          "text": [
            "Epoch: 6 \tTraining Loss: 2661.060181\n",
            "         \tTesting Loss: 4009.970154\n",
            "KM balanced accuracy score with hand-crafted labels :  0.5944103846285578\n",
            "------------------------------------------------------------------\n"
          ]
        },
        {
          "output_type": "stream",
          "name": "stderr",
          "text": [
            "/usr/local/lib/python3.10/dist-packages/torchvision/transforms/functional.py:1603: UserWarning: The default value of the antialias parameter of all the resizing transforms (Resize(), RandomResizedCrop(), etc.) will change from None to True in v0.17, in order to be consistent across the PIL and Tensor backends. To suppress this warning, directly pass antialias=True (recommended, future default), antialias=None (current default, which means False for Tensors and True for PIL), or antialias=False (only works on Tensors - PIL will still use antialiasing). This also applies if you are using the inference transforms from the models weights: update the call to weights.transforms(antialias=True).\n",
            "  warnings.warn(\n"
          ]
        },
        {
          "output_type": "stream",
          "name": "stdout",
          "text": [
            "Epoch: 7 \tTraining Loss: 2609.041402\n",
            "         \tTesting Loss: 3882.414307\n",
            "KM balanced accuracy score with hand-crafted labels :  0.6093605507415145\n",
            "------------------------------------------------------------------\n"
          ]
        },
        {
          "output_type": "stream",
          "name": "stderr",
          "text": [
            "/usr/local/lib/python3.10/dist-packages/torchvision/transforms/functional.py:1603: UserWarning: The default value of the antialias parameter of all the resizing transforms (Resize(), RandomResizedCrop(), etc.) will change from None to True in v0.17, in order to be consistent across the PIL and Tensor backends. To suppress this warning, directly pass antialias=True (recommended, future default), antialias=None (current default, which means False for Tensors and True for PIL), or antialias=False (only works on Tensors - PIL will still use antialiasing). This also applies if you are using the inference transforms from the models weights: update the call to weights.transforms(antialias=True).\n",
            "  warnings.warn(\n"
          ]
        },
        {
          "output_type": "stream",
          "name": "stdout",
          "text": [
            "Epoch: 8 \tTraining Loss: 2582.289419\n",
            "         \tTesting Loss: 4165.092407\n",
            "KM balanced accuracy score with hand-crafted labels :  0.6078706716443469\n",
            "------------------------------------------------------------------\n"
          ]
        },
        {
          "output_type": "stream",
          "name": "stderr",
          "text": [
            "/usr/local/lib/python3.10/dist-packages/torchvision/transforms/functional.py:1603: UserWarning: The default value of the antialias parameter of all the resizing transforms (Resize(), RandomResizedCrop(), etc.) will change from None to True in v0.17, in order to be consistent across the PIL and Tensor backends. To suppress this warning, directly pass antialias=True (recommended, future default), antialias=None (current default, which means False for Tensors and True for PIL), or antialias=False (only works on Tensors - PIL will still use antialiasing). This also applies if you are using the inference transforms from the models weights: update the call to weights.transforms(antialias=True).\n",
            "  warnings.warn(\n"
          ]
        },
        {
          "output_type": "stream",
          "name": "stdout",
          "text": [
            "Epoch: 9 \tTraining Loss: 2559.866526\n",
            "         \tTesting Loss: 3964.913940\n",
            "KM balanced accuracy score with hand-crafted labels :  0.6145151899167722\n",
            "------------------------------------------------------------------\n"
          ]
        },
        {
          "output_type": "stream",
          "name": "stderr",
          "text": [
            "/usr/local/lib/python3.10/dist-packages/torchvision/transforms/functional.py:1603: UserWarning: The default value of the antialias parameter of all the resizing transforms (Resize(), RandomResizedCrop(), etc.) will change from None to True in v0.17, in order to be consistent across the PIL and Tensor backends. To suppress this warning, directly pass antialias=True (recommended, future default), antialias=None (current default, which means False for Tensors and True for PIL), or antialias=False (only works on Tensors - PIL will still use antialiasing). This also applies if you are using the inference transforms from the models weights: update the call to weights.transforms(antialias=True).\n",
            "  warnings.warn(\n"
          ]
        },
        {
          "output_type": "stream",
          "name": "stdout",
          "text": [
            "Epoch: 10 \tTraining Loss: 2519.675639\n",
            "         \tTesting Loss: 4616.719360\n",
            "KM balanced accuracy score with hand-crafted labels :  0.6013974038428606\n",
            "------------------------------------------------------------------\n"
          ]
        },
        {
          "output_type": "stream",
          "name": "stderr",
          "text": [
            "/usr/local/lib/python3.10/dist-packages/torchvision/transforms/functional.py:1603: UserWarning: The default value of the antialias parameter of all the resizing transforms (Resize(), RandomResizedCrop(), etc.) will change from None to True in v0.17, in order to be consistent across the PIL and Tensor backends. To suppress this warning, directly pass antialias=True (recommended, future default), antialias=None (current default, which means False for Tensors and True for PIL), or antialias=False (only works on Tensors - PIL will still use antialiasing). This also applies if you are using the inference transforms from the models weights: update the call to weights.transforms(antialias=True).\n",
            "  warnings.warn(\n"
          ]
        },
        {
          "output_type": "stream",
          "name": "stdout",
          "text": [
            "Epoch: 11 \tTraining Loss: 2481.699412\n",
            "         \tTesting Loss: 4383.091553\n",
            "KM balanced accuracy score with hand-crafted labels :  0.5995650238038155\n",
            "------------------------------------------------------------------\n"
          ]
        },
        {
          "output_type": "stream",
          "name": "stderr",
          "text": [
            "/usr/local/lib/python3.10/dist-packages/torchvision/transforms/functional.py:1603: UserWarning: The default value of the antialias parameter of all the resizing transforms (Resize(), RandomResizedCrop(), etc.) will change from None to True in v0.17, in order to be consistent across the PIL and Tensor backends. To suppress this warning, directly pass antialias=True (recommended, future default), antialias=None (current default, which means False for Tensors and True for PIL), or antialias=False (only works on Tensors - PIL will still use antialiasing). This also applies if you are using the inference transforms from the models weights: update the call to weights.transforms(antialias=True).\n",
            "  warnings.warn(\n"
          ]
        },
        {
          "output_type": "stream",
          "name": "stdout",
          "text": [
            "Epoch: 12 \tTraining Loss: 2445.725922\n",
            "         \tTesting Loss: 4572.150146\n",
            "KM balanced accuracy score with hand-crafted labels :  0.6163475699558174\n",
            "------------------------------------------------------------------\n"
          ]
        },
        {
          "output_type": "stream",
          "name": "stderr",
          "text": [
            "/usr/local/lib/python3.10/dist-packages/torchvision/transforms/functional.py:1603: UserWarning: The default value of the antialias parameter of all the resizing transforms (Resize(), RandomResizedCrop(), etc.) will change from None to True in v0.17, in order to be consistent across the PIL and Tensor backends. To suppress this warning, directly pass antialias=True (recommended, future default), antialias=None (current default, which means False for Tensors and True for PIL), or antialias=False (only works on Tensors - PIL will still use antialiasing). This also applies if you are using the inference transforms from the models weights: update the call to weights.transforms(antialias=True).\n",
            "  warnings.warn(\n"
          ]
        },
        {
          "output_type": "stream",
          "name": "stdout",
          "text": [
            "Epoch: 13 \tTraining Loss: 2430.768819\n",
            "         \tTesting Loss: 4735.373901\n",
            "KM balanced accuracy score with hand-crafted labels :  0.6229920882282427\n",
            "------------------------------------------------------------------\n"
          ]
        },
        {
          "output_type": "stream",
          "name": "stderr",
          "text": [
            "/usr/local/lib/python3.10/dist-packages/torchvision/transforms/functional.py:1603: UserWarning: The default value of the antialias parameter of all the resizing transforms (Resize(), RandomResizedCrop(), etc.) will change from None to True in v0.17, in order to be consistent across the PIL and Tensor backends. To suppress this warning, directly pass antialias=True (recommended, future default), antialias=None (current default, which means False for Tensors and True for PIL), or antialias=False (only works on Tensors - PIL will still use antialiasing). This also applies if you are using the inference transforms from the models weights: update the call to weights.transforms(antialias=True).\n",
            "  warnings.warn(\n"
          ]
        },
        {
          "output_type": "stream",
          "name": "stdout",
          "text": [
            "Epoch: 14 \tTraining Loss: 2402.796478\n",
            "         \tTesting Loss: 4231.188599\n",
            "KM balanced accuracy score with hand-crafted labels :  0.6263143473644552\n",
            "------------------------------------------------------------------\n"
          ]
        },
        {
          "output_type": "stream",
          "name": "stderr",
          "text": [
            "/usr/local/lib/python3.10/dist-packages/torchvision/transforms/functional.py:1603: UserWarning: The default value of the antialias parameter of all the resizing transforms (Resize(), RandomResizedCrop(), etc.) will change from None to True in v0.17, in order to be consistent across the PIL and Tensor backends. To suppress this warning, directly pass antialias=True (recommended, future default), antialias=None (current default, which means False for Tensors and True for PIL), or antialias=False (only works on Tensors - PIL will still use antialiasing). This also applies if you are using the inference transforms from the models weights: update the call to weights.transforms(antialias=True).\n",
            "  warnings.warn(\n"
          ]
        },
        {
          "output_type": "stream",
          "name": "stdout",
          "text": [
            "Epoch: 15 \tTraining Loss: 2385.002248\n",
            "         \tTesting Loss: 4605.947632\n",
            "KM balanced accuracy score with hand-crafted labels :  0.601054902900983\n",
            "------------------------------------------------------------------\n"
          ]
        },
        {
          "output_type": "stream",
          "name": "stderr",
          "text": [
            "/usr/local/lib/python3.10/dist-packages/torchvision/transforms/functional.py:1603: UserWarning: The default value of the antialias parameter of all the resizing transforms (Resize(), RandomResizedCrop(), etc.) will change from None to True in v0.17, in order to be consistent across the PIL and Tensor backends. To suppress this warning, directly pass antialias=True (recommended, future default), antialias=None (current default, which means False for Tensors and True for PIL), or antialias=False (only works on Tensors - PIL will still use antialiasing). This also applies if you are using the inference transforms from the models weights: update the call to weights.transforms(antialias=True).\n",
            "  warnings.warn(\n"
          ]
        },
        {
          "output_type": "stream",
          "name": "stdout",
          "text": [
            "Epoch: 16 \tTraining Loss: 2351.463206\n",
            "         \tTesting Loss: 4727.497437\n",
            "KM balanced accuracy score with hand-crafted labels :  0.6278042264616228\n",
            "------------------------------------------------------------------\n"
          ]
        },
        {
          "output_type": "stream",
          "name": "stderr",
          "text": [
            "/usr/local/lib/python3.10/dist-packages/torchvision/transforms/functional.py:1603: UserWarning: The default value of the antialias parameter of all the resizing transforms (Resize(), RandomResizedCrop(), etc.) will change from None to True in v0.17, in order to be consistent across the PIL and Tensor backends. To suppress this warning, directly pass antialias=True (recommended, future default), antialias=None (current default, which means False for Tensors and True for PIL), or antialias=False (only works on Tensors - PIL will still use antialiasing). This also applies if you are using the inference transforms from the models weights: update the call to weights.transforms(antialias=True).\n",
            "  warnings.warn(\n"
          ]
        },
        {
          "output_type": "stream",
          "name": "stdout",
          "text": [
            "Epoch: 17 \tTraining Loss: 2326.296387\n",
            "         \tTesting Loss: 4454.651489\n",
            "KM balanced accuracy score with hand-crafted labels :  0.6263143473644552\n",
            "------------------------------------------------------------------\n"
          ]
        },
        {
          "output_type": "stream",
          "name": "stderr",
          "text": [
            "/usr/local/lib/python3.10/dist-packages/torchvision/transforms/functional.py:1603: UserWarning: The default value of the antialias parameter of all the resizing transforms (Resize(), RandomResizedCrop(), etc.) will change from None to True in v0.17, in order to be consistent across the PIL and Tensor backends. To suppress this warning, directly pass antialias=True (recommended, future default), antialias=None (current default, which means False for Tensors and True for PIL), or antialias=False (only works on Tensors - PIL will still use antialiasing). This also applies if you are using the inference transforms from the models weights: update the call to weights.transforms(antialias=True).\n",
            "  warnings.warn(\n"
          ]
        },
        {
          "output_type": "stream",
          "name": "stdout",
          "text": [
            "Epoch: 18 \tTraining Loss: 2304.107147\n",
            "         \tTesting Loss: 4457.657593\n",
            "KM balanced accuracy score with hand-crafted labels :  0.6108504298386821\n",
            "------------------------------------------------------------------\n"
          ]
        },
        {
          "output_type": "stream",
          "name": "stderr",
          "text": [
            "/usr/local/lib/python3.10/dist-packages/torchvision/transforms/functional.py:1603: UserWarning: The default value of the antialias parameter of all the resizing transforms (Resize(), RandomResizedCrop(), etc.) will change from None to True in v0.17, in order to be consistent across the PIL and Tensor backends. To suppress this warning, directly pass antialias=True (recommended, future default), antialias=None (current default, which means False for Tensors and True for PIL), or antialias=False (only works on Tensors - PIL will still use antialiasing). This also applies if you are using the inference transforms from the models weights: update the call to weights.transforms(antialias=True).\n",
            "  warnings.warn(\n"
          ]
        },
        {
          "output_type": "stream",
          "name": "stdout",
          "text": [
            "Epoch: 19 \tTraining Loss: 2310.697245\n",
            "         \tTesting Loss: 5068.085083\n",
            "KM balanced accuracy score with hand-crafted labels :  0.5975613932938315\n",
            "------------------------------------------------------------------\n"
          ]
        },
        {
          "output_type": "stream",
          "name": "stderr",
          "text": [
            "/usr/local/lib/python3.10/dist-packages/torchvision/transforms/functional.py:1603: UserWarning: The default value of the antialias parameter of all the resizing transforms (Resize(), RandomResizedCrop(), etc.) will change from None to True in v0.17, in order to be consistent across the PIL and Tensor backends. To suppress this warning, directly pass antialias=True (recommended, future default), antialias=None (current default, which means False for Tensors and True for PIL), or antialias=False (only works on Tensors - PIL will still use antialiasing). This also applies if you are using the inference transforms from the models weights: update the call to weights.transforms(antialias=True).\n",
            "  warnings.warn(\n"
          ]
        },
        {
          "output_type": "stream",
          "name": "stdout",
          "text": [
            "Epoch: 20 \tTraining Loss: 2270.740519\n",
            "         \tTesting Loss: 4946.847900\n",
            "KM balanced accuracy score with hand-crafted labels :  0.604034661095318\n",
            "------------------------------------------------------------------\n"
          ]
        },
        {
          "output_type": "stream",
          "name": "stderr",
          "text": [
            "/usr/local/lib/python3.10/dist-packages/torchvision/transforms/functional.py:1603: UserWarning: The default value of the antialias parameter of all the resizing transforms (Resize(), RandomResizedCrop(), etc.) will change from None to True in v0.17, in order to be consistent across the PIL and Tensor backends. To suppress this warning, directly pass antialias=True (recommended, future default), antialias=None (current default, which means False for Tensors and True for PIL), or antialias=False (only works on Tensors - PIL will still use antialiasing). This also applies if you are using the inference transforms from the models weights: update the call to weights.transforms(antialias=True).\n",
            "  warnings.warn(\n"
          ]
        },
        {
          "output_type": "stream",
          "name": "stdout",
          "text": [
            "Epoch: 21 \tTraining Loss: 2270.355469\n",
            "         \tTesting Loss: 4486.721802\n",
            "KM balanced accuracy score with hand-crafted labels :  0.6178374490529849\n",
            "------------------------------------------------------------------\n"
          ]
        },
        {
          "output_type": "stream",
          "name": "stderr",
          "text": [
            "/usr/local/lib/python3.10/dist-packages/torchvision/transforms/functional.py:1603: UserWarning: The default value of the antialias parameter of all the resizing transforms (Resize(), RandomResizedCrop(), etc.) will change from None to True in v0.17, in order to be consistent across the PIL and Tensor backends. To suppress this warning, directly pass antialias=True (recommended, future default), antialias=None (current default, which means False for Tensors and True for PIL), or antialias=False (only works on Tensors - PIL will still use antialiasing). This also applies if you are using the inference transforms from the models weights: update the call to weights.transforms(antialias=True).\n",
            "  warnings.warn(\n"
          ]
        },
        {
          "output_type": "stream",
          "name": "stdout",
          "text": [
            "Epoch: 22 \tTraining Loss: 2215.552734\n",
            "         \tTesting Loss: 4938.020996\n",
            "KM balanced accuracy score with hand-crafted labels :  0.6161763194848786\n",
            "------------------------------------------------------------------\n"
          ]
        },
        {
          "output_type": "stream",
          "name": "stderr",
          "text": [
            "/usr/local/lib/python3.10/dist-packages/torchvision/transforms/functional.py:1603: UserWarning: The default value of the antialias parameter of all the resizing transforms (Resize(), RandomResizedCrop(), etc.) will change from None to True in v0.17, in order to be consistent across the PIL and Tensor backends. To suppress this warning, directly pass antialias=True (recommended, future default), antialias=None (current default, which means False for Tensors and True for PIL), or antialias=False (only works on Tensors - PIL will still use antialiasing). This also applies if you are using the inference transforms from the models weights: update the call to weights.transforms(antialias=True).\n",
            "  warnings.warn(\n"
          ]
        },
        {
          "output_type": "stream",
          "name": "stdout",
          "text": [
            "Epoch: 23 \tTraining Loss: 2208.572693\n",
            "         \tTesting Loss: 4877.007935\n",
            "KM balanced accuracy score with hand-crafted labels :  0.6283179778744391\n",
            "------------------------------------------------------------------\n"
          ]
        },
        {
          "output_type": "stream",
          "name": "stderr",
          "text": [
            "/usr/local/lib/python3.10/dist-packages/torchvision/transforms/functional.py:1603: UserWarning: The default value of the antialias parameter of all the resizing transforms (Resize(), RandomResizedCrop(), etc.) will change from None to True in v0.17, in order to be consistent across the PIL and Tensor backends. To suppress this warning, directly pass antialias=True (recommended, future default), antialias=None (current default, which means False for Tensors and True for PIL), or antialias=False (only works on Tensors - PIL will still use antialiasing). This also applies if you are using the inference transforms from the models weights: update the call to weights.transforms(antialias=True).\n",
            "  warnings.warn(\n"
          ]
        },
        {
          "output_type": "stream",
          "name": "stdout",
          "text": [
            "Epoch: 24 \tTraining Loss: 2185.726990\n",
            "         \tTesting Loss: 4923.919312\n",
            "KM balanced accuracy score with hand-crafted labels :  0.6110216803096209\n",
            "------------------------------------------------------------------\n"
          ]
        },
        {
          "output_type": "stream",
          "name": "stderr",
          "text": [
            "/usr/local/lib/python3.10/dist-packages/torchvision/transforms/functional.py:1603: UserWarning: The default value of the antialias parameter of all the resizing transforms (Resize(), RandomResizedCrop(), etc.) will change from None to True in v0.17, in order to be consistent across the PIL and Tensor backends. To suppress this warning, directly pass antialias=True (recommended, future default), antialias=None (current default, which means False for Tensors and True for PIL), or antialias=False (only works on Tensors - PIL will still use antialiasing). This also applies if you are using the inference transforms from the models weights: update the call to weights.transforms(antialias=True).\n",
            "  warnings.warn(\n"
          ]
        },
        {
          "output_type": "stream",
          "name": "stdout",
          "text": [
            "Epoch: 25 \tTraining Loss: 2194.050883\n",
            "         \tTesting Loss: 5003.405396\n",
            "KM balanced accuracy score with hand-crafted labels :  0.6091893002705757\n",
            "------------------------------------------------------------------\n"
          ]
        },
        {
          "output_type": "stream",
          "name": "stderr",
          "text": [
            "/usr/local/lib/python3.10/dist-packages/torchvision/transforms/functional.py:1603: UserWarning: The default value of the antialias parameter of all the resizing transforms (Resize(), RandomResizedCrop(), etc.) will change from None to True in v0.17, in order to be consistent across the PIL and Tensor backends. To suppress this warning, directly pass antialias=True (recommended, future default), antialias=None (current default, which means False for Tensors and True for PIL), or antialias=False (only works on Tensors - PIL will still use antialiasing). This also applies if you are using the inference transforms from the models weights: update the call to weights.transforms(antialias=True).\n",
            "  warnings.warn(\n"
          ]
        },
        {
          "output_type": "stream",
          "name": "stdout",
          "text": [
            "Epoch: 26 \tTraining Loss: 2157.850210\n",
            "         \tTesting Loss: 5027.774414\n",
            "KM balanced accuracy score with hand-crafted labels :  0.6171524471692297\n",
            "------------------------------------------------------------------\n"
          ]
        },
        {
          "output_type": "stream",
          "name": "stderr",
          "text": [
            "/usr/local/lib/python3.10/dist-packages/torchvision/transforms/functional.py:1603: UserWarning: The default value of the antialias parameter of all the resizing transforms (Resize(), RandomResizedCrop(), etc.) will change from None to True in v0.17, in order to be consistent across the PIL and Tensor backends. To suppress this warning, directly pass antialias=True (recommended, future default), antialias=None (current default, which means False for Tensors and True for PIL), or antialias=False (only works on Tensors - PIL will still use antialiasing). This also applies if you are using the inference transforms from the models weights: update the call to weights.transforms(antialias=True).\n",
            "  warnings.warn(\n"
          ]
        },
        {
          "output_type": "stream",
          "name": "stdout",
          "text": [
            "Epoch: 27 \tTraining Loss: 2145.243734\n",
            "         \tTesting Loss: 4965.903320\n",
            "KM balanced accuracy score with hand-crafted labels :  0.5865671130595609\n",
            "------------------------------------------------------------------\n"
          ]
        },
        {
          "output_type": "stream",
          "name": "stderr",
          "text": [
            "/usr/local/lib/python3.10/dist-packages/torchvision/transforms/functional.py:1603: UserWarning: The default value of the antialias parameter of all the resizing transforms (Resize(), RandomResizedCrop(), etc.) will change from None to True in v0.17, in order to be consistent across the PIL and Tensor backends. To suppress this warning, directly pass antialias=True (recommended, future default), antialias=None (current default, which means False for Tensors and True for PIL), or antialias=False (only works on Tensors - PIL will still use antialiasing). This also applies if you are using the inference transforms from the models weights: update the call to weights.transforms(antialias=True).\n",
            "  warnings.warn(\n"
          ]
        },
        {
          "output_type": "stream",
          "name": "stdout",
          "text": [
            "Epoch: 28 \tTraining Loss: 2130.607635\n",
            "         \tTesting Loss: 4806.158081\n",
            "KM balanced accuracy score with hand-crafted labels :  0.5829023529814708\n",
            "------------------------------------------------------------------\n"
          ]
        },
        {
          "output_type": "stream",
          "name": "stderr",
          "text": [
            "/usr/local/lib/python3.10/dist-packages/torchvision/transforms/functional.py:1603: UserWarning: The default value of the antialias parameter of all the resizing transforms (Resize(), RandomResizedCrop(), etc.) will change from None to True in v0.17, in order to be consistent across the PIL and Tensor backends. To suppress this warning, directly pass antialias=True (recommended, future default), antialias=None (current default, which means False for Tensors and True for PIL), or antialias=False (only works on Tensors - PIL will still use antialiasing). This also applies if you are using the inference transforms from the models weights: update the call to weights.transforms(antialias=True).\n",
            "  warnings.warn(\n"
          ]
        },
        {
          "output_type": "stream",
          "name": "stdout",
          "text": [
            "Epoch: 29 \tTraining Loss: 2149.649490\n",
            "         \tTesting Loss: 4646.427368\n",
            "KM balanced accuracy score with hand-crafted labels :  0.5938966332157414\n",
            "------------------------------------------------------------------\n"
          ]
        },
        {
          "output_type": "stream",
          "name": "stderr",
          "text": [
            "/usr/local/lib/python3.10/dist-packages/torchvision/transforms/functional.py:1603: UserWarning: The default value of the antialias parameter of all the resizing transforms (Resize(), RandomResizedCrop(), etc.) will change from None to True in v0.17, in order to be consistent across the PIL and Tensor backends. To suppress this warning, directly pass antialias=True (recommended, future default), antialias=None (current default, which means False for Tensors and True for PIL), or antialias=False (only works on Tensors - PIL will still use antialiasing). This also applies if you are using the inference transforms from the models weights: update the call to weights.transforms(antialias=True).\n",
            "  warnings.warn(\n"
          ]
        },
        {
          "output_type": "stream",
          "name": "stdout",
          "text": [
            "Epoch: 30 \tTraining Loss: 2117.512309\n",
            "         \tTesting Loss: 4805.513916\n",
            "KM balanced accuracy score with hand-crafted labels :  0.600198650546289\n",
            "------------------------------------------------------------------\n"
          ]
        },
        {
          "output_type": "stream",
          "name": "stderr",
          "text": [
            "/usr/local/lib/python3.10/dist-packages/torchvision/transforms/functional.py:1603: UserWarning: The default value of the antialias parameter of all the resizing transforms (Resize(), RandomResizedCrop(), etc.) will change from None to True in v0.17, in order to be consistent across the PIL and Tensor backends. To suppress this warning, directly pass antialias=True (recommended, future default), antialias=None (current default, which means False for Tensors and True for PIL), or antialias=False (only works on Tensors - PIL will still use antialiasing). This also applies if you are using the inference transforms from the models weights: update the call to weights.transforms(antialias=True).\n",
            "  warnings.warn(\n"
          ]
        },
        {
          "output_type": "stream",
          "name": "stdout",
          "text": [
            "Epoch: 31 \tTraining Loss: 2083.915588\n",
            "         \tTesting Loss: 4542.801880\n",
            "KM balanced accuracy score with hand-crafted labels :  0.5902318731376511\n",
            "------------------------------------------------------------------\n"
          ]
        },
        {
          "output_type": "stream",
          "name": "stderr",
          "text": [
            "/usr/local/lib/python3.10/dist-packages/torchvision/transforms/functional.py:1603: UserWarning: The default value of the antialias parameter of all the resizing transforms (Resize(), RandomResizedCrop(), etc.) will change from None to True in v0.17, in order to be consistent across the PIL and Tensor backends. To suppress this warning, directly pass antialias=True (recommended, future default), antialias=None (current default, which means False for Tensors and True for PIL), or antialias=False (only works on Tensors - PIL will still use antialiasing). This also applies if you are using the inference transforms from the models weights: update the call to weights.transforms(antialias=True).\n",
            "  warnings.warn(\n"
          ]
        },
        {
          "output_type": "stream",
          "name": "stdout",
          "text": [
            "Epoch: 32 \tTraining Loss: 2073.765650\n",
            "         \tTesting Loss: 4928.853027\n",
            "KM balanced accuracy score with hand-crafted labels :  0.5850772339623934\n",
            "------------------------------------------------------------------\n"
          ]
        },
        {
          "output_type": "stream",
          "name": "stderr",
          "text": [
            "/usr/local/lib/python3.10/dist-packages/torchvision/transforms/functional.py:1603: UserWarning: The default value of the antialias parameter of all the resizing transforms (Resize(), RandomResizedCrop(), etc.) will change from None to True in v0.17, in order to be consistent across the PIL and Tensor backends. To suppress this warning, directly pass antialias=True (recommended, future default), antialias=None (current default, which means False for Tensors and True for PIL), or antialias=False (only works on Tensors - PIL will still use antialiasing). This also applies if you are using the inference transforms from the models weights: update the call to weights.transforms(antialias=True).\n",
            "  warnings.warn(\n"
          ]
        },
        {
          "output_type": "stream",
          "name": "stdout",
          "text": [
            "Epoch: 33 \tTraining Loss: 2060.344243\n",
            "         \tTesting Loss: 5025.438477\n",
            "KM balanced accuracy score with hand-crafted labels :  0.6058670411343632\n",
            "------------------------------------------------------------------\n"
          ]
        },
        {
          "output_type": "stream",
          "name": "stderr",
          "text": [
            "/usr/local/lib/python3.10/dist-packages/torchvision/transforms/functional.py:1603: UserWarning: The default value of the antialias parameter of all the resizing transforms (Resize(), RandomResizedCrop(), etc.) will change from None to True in v0.17, in order to be consistent across the PIL and Tensor backends. To suppress this warning, directly pass antialias=True (recommended, future default), antialias=None (current default, which means False for Tensors and True for PIL), or antialias=False (only works on Tensors - PIL will still use antialiasing). This also applies if you are using the inference transforms from the models weights: update the call to weights.transforms(antialias=True).\n",
            "  warnings.warn(\n"
          ]
        },
        {
          "output_type": "stream",
          "name": "stdout",
          "text": [
            "Epoch: 34 \tTraining Loss: 2070.848979\n",
            "         \tTesting Loss: 4870.237427\n",
            "KM balanced accuracy score with hand-crafted labels :  0.6140014385039558\n",
            "------------------------------------------------------------------\n"
          ]
        },
        {
          "output_type": "stream",
          "name": "stderr",
          "text": [
            "/usr/local/lib/python3.10/dist-packages/torchvision/transforms/functional.py:1603: UserWarning: The default value of the antialias parameter of all the resizing transforms (Resize(), RandomResizedCrop(), etc.) will change from None to True in v0.17, in order to be consistent across the PIL and Tensor backends. To suppress this warning, directly pass antialias=True (recommended, future default), antialias=None (current default, which means False for Tensors and True for PIL), or antialias=False (only works on Tensors - PIL will still use antialiasing). This also applies if you are using the inference transforms from the models weights: update the call to weights.transforms(antialias=True).\n",
            "  warnings.warn(\n"
          ]
        },
        {
          "output_type": "stream",
          "name": "stdout",
          "text": [
            "Epoch: 35 \tTraining Loss: 2041.465388\n",
            "         \tTesting Loss: 4923.687500\n",
            "KM balanced accuracy score with hand-crafted labels :  0.6025447819981505\n",
            "------------------------------------------------------------------\n"
          ]
        },
        {
          "output_type": "stream",
          "name": "stderr",
          "text": [
            "/usr/local/lib/python3.10/dist-packages/torchvision/transforms/functional.py:1603: UserWarning: The default value of the antialias parameter of all the resizing transforms (Resize(), RandomResizedCrop(), etc.) will change from None to True in v0.17, in order to be consistent across the PIL and Tensor backends. To suppress this warning, directly pass antialias=True (recommended, future default), antialias=None (current default, which means False for Tensors and True for PIL), or antialias=False (only works on Tensors - PIL will still use antialiasing). This also applies if you are using the inference transforms from the models weights: update the call to weights.transforms(antialias=True).\n",
            "  warnings.warn(\n"
          ]
        },
        {
          "output_type": "stream",
          "name": "stdout",
          "text": [
            "Epoch: 36 \tTraining Loss: 31807.198568\n",
            "         \tTesting Loss: 4264.872559\n",
            "KM balanced accuracy score with hand-crafted labels :  0.6191560776792137\n",
            "------------------------------------------------------------------\n"
          ]
        },
        {
          "output_type": "stream",
          "name": "stderr",
          "text": [
            "/usr/local/lib/python3.10/dist-packages/torchvision/transforms/functional.py:1603: UserWarning: The default value of the antialias parameter of all the resizing transforms (Resize(), RandomResizedCrop(), etc.) will change from None to True in v0.17, in order to be consistent across the PIL and Tensor backends. To suppress this warning, directly pass antialias=True (recommended, future default), antialias=None (current default, which means False for Tensors and True for PIL), or antialias=False (only works on Tensors - PIL will still use antialiasing). This also applies if you are using the inference transforms from the models weights: update the call to weights.transforms(antialias=True).\n",
            "  warnings.warn(\n"
          ]
        },
        {
          "output_type": "stream",
          "name": "stdout",
          "text": [
            "Epoch: 37 \tTraining Loss: 4091.283691\n",
            "         \tTesting Loss: 4542.306763\n",
            "KM balanced accuracy score with hand-crafted labels :  0.6307839846559578\n",
            "------------------------------------------------------------------\n"
          ]
        },
        {
          "output_type": "stream",
          "name": "stderr",
          "text": [
            "/usr/local/lib/python3.10/dist-packages/torchvision/transforms/functional.py:1603: UserWarning: The default value of the antialias parameter of all the resizing transforms (Resize(), RandomResizedCrop(), etc.) will change from None to True in v0.17, in order to be consistent across the PIL and Tensor backends. To suppress this warning, directly pass antialias=True (recommended, future default), antialias=None (current default, which means False for Tensors and True for PIL), or antialias=False (only works on Tensors - PIL will still use antialiasing). This also applies if you are using the inference transforms from the models weights: update the call to weights.transforms(antialias=True).\n",
            "  warnings.warn(\n"
          ]
        },
        {
          "output_type": "stream",
          "name": "stdout",
          "text": [
            "Epoch: 38 \tTraining Loss: 4068.810160\n",
            "         \tTesting Loss: 4470.954834\n",
            "KM balanced accuracy score with hand-crafted labels :  0.6405795115936568\n",
            "------------------------------------------------------------------\n"
          ]
        },
        {
          "output_type": "stream",
          "name": "stderr",
          "text": [
            "/usr/local/lib/python3.10/dist-packages/torchvision/transforms/functional.py:1603: UserWarning: The default value of the antialias parameter of all the resizing transforms (Resize(), RandomResizedCrop(), etc.) will change from None to True in v0.17, in order to be consistent across the PIL and Tensor backends. To suppress this warning, directly pass antialias=True (recommended, future default), antialias=None (current default, which means False for Tensors and True for PIL), or antialias=False (only works on Tensors - PIL will still use antialiasing). This also applies if you are using the inference transforms from the models weights: update the call to weights.transforms(antialias=True).\n",
            "  warnings.warn(\n"
          ]
        },
        {
          "output_type": "stream",
          "name": "stdout",
          "text": [
            "Epoch: 39 \tTraining Loss: 3920.403412\n",
            "         \tTesting Loss: 4402.653564\n",
            "KM balanced accuracy score with hand-crafted labels :  0.6437305202589307\n",
            "------------------------------------------------------------------\n"
          ]
        },
        {
          "output_type": "stream",
          "name": "stderr",
          "text": [
            "/usr/local/lib/python3.10/dist-packages/torchvision/transforms/functional.py:1603: UserWarning: The default value of the antialias parameter of all the resizing transforms (Resize(), RandomResizedCrop(), etc.) will change from None to True in v0.17, in order to be consistent across the PIL and Tensor backends. To suppress this warning, directly pass antialias=True (recommended, future default), antialias=None (current default, which means False for Tensors and True for PIL), or antialias=False (only works on Tensors - PIL will still use antialiasing). This also applies if you are using the inference transforms from the models weights: update the call to weights.transforms(antialias=True).\n",
            "  warnings.warn(\n"
          ]
        },
        {
          "output_type": "stream",
          "name": "stdout",
          "text": [
            "Epoch: 40 \tTraining Loss: 3902.817861\n",
            "         \tTesting Loss: 4249.304932\n",
            "KM balanced accuracy score with hand-crafted labels :  0.6452203993560983\n",
            "------------------------------------------------------------------\n"
          ]
        },
        {
          "output_type": "stream",
          "name": "stderr",
          "text": [
            "/usr/local/lib/python3.10/dist-packages/torchvision/transforms/functional.py:1603: UserWarning: The default value of the antialias parameter of all the resizing transforms (Resize(), RandomResizedCrop(), etc.) will change from None to True in v0.17, in order to be consistent across the PIL and Tensor backends. To suppress this warning, directly pass antialias=True (recommended, future default), antialias=None (current default, which means False for Tensors and True for PIL), or antialias=False (only works on Tensors - PIL will still use antialiasing). This also applies if you are using the inference transforms from the models weights: update the call to weights.transforms(antialias=True).\n",
            "  warnings.warn(\n"
          ]
        },
        {
          "output_type": "stream",
          "name": "stdout",
          "text": [
            "Epoch: 41 \tTraining Loss: 3818.501953\n",
            "         \tTesting Loss: 4167.203613\n",
            "KM balanced accuracy score with hand-crafted labels :  0.6601705654690551\n",
            "------------------------------------------------------------------\n"
          ]
        },
        {
          "output_type": "stream",
          "name": "stderr",
          "text": [
            "/usr/local/lib/python3.10/dist-packages/torchvision/transforms/functional.py:1603: UserWarning: The default value of the antialias parameter of all the resizing transforms (Resize(), RandomResizedCrop(), etc.) will change from None to True in v0.17, in order to be consistent across the PIL and Tensor backends. To suppress this warning, directly pass antialias=True (recommended, future default), antialias=None (current default, which means False for Tensors and True for PIL), or antialias=False (only works on Tensors - PIL will still use antialiasing). This also applies if you are using the inference transforms from the models weights: update the call to weights.transforms(antialias=True).\n",
            "  warnings.warn(\n"
          ]
        },
        {
          "output_type": "stream",
          "name": "stdout",
          "text": [
            "Epoch: 42 \tTraining Loss: 3718.944305\n",
            "         \tTesting Loss: 4164.068359\n",
            "KM balanced accuracy score with hand-crafted labels :  0.6634928246052677\n",
            "------------------------------------------------------------------\n"
          ]
        },
        {
          "output_type": "stream",
          "name": "stderr",
          "text": [
            "/usr/local/lib/python3.10/dist-packages/torchvision/transforms/functional.py:1603: UserWarning: The default value of the antialias parameter of all the resizing transforms (Resize(), RandomResizedCrop(), etc.) will change from None to True in v0.17, in order to be consistent across the PIL and Tensor backends. To suppress this warning, directly pass antialias=True (recommended, future default), antialias=None (current default, which means False for Tensors and True for PIL), or antialias=False (only works on Tensors - PIL will still use antialiasing). This also applies if you are using the inference transforms from the models weights: update the call to weights.transforms(antialias=True).\n",
            "  warnings.warn(\n"
          ]
        },
        {
          "output_type": "stream",
          "name": "stdout",
          "text": [
            "Epoch: 43 \tTraining Loss: 3674.416870\n",
            "         \tTesting Loss: 4226.027893\n",
            "KM balanced accuracy score with hand-crafted labels :  0.6664725827996028\n",
            "------------------------------------------------------------------\n"
          ]
        },
        {
          "output_type": "stream",
          "name": "stderr",
          "text": [
            "/usr/local/lib/python3.10/dist-packages/torchvision/transforms/functional.py:1603: UserWarning: The default value of the antialias parameter of all the resizing transforms (Resize(), RandomResizedCrop(), etc.) will change from None to True in v0.17, in order to be consistent across the PIL and Tensor backends. To suppress this warning, directly pass antialias=True (recommended, future default), antialias=None (current default, which means False for Tensors and True for PIL), or antialias=False (only works on Tensors - PIL will still use antialiasing). This also applies if you are using the inference transforms from the models weights: update the call to weights.transforms(antialias=True).\n",
            "  warnings.warn(\n"
          ]
        },
        {
          "output_type": "stream",
          "name": "stdout",
          "text": [
            "Epoch: 44 \tTraining Loss: 3657.244456\n",
            "         \tTesting Loss: 4136.894104\n",
            "KM balanced accuracy score with hand-crafted labels :  0.6646402027605576\n",
            "------------------------------------------------------------------\n"
          ]
        },
        {
          "output_type": "stream",
          "name": "stderr",
          "text": [
            "/usr/local/lib/python3.10/dist-packages/torchvision/transforms/functional.py:1603: UserWarning: The default value of the antialias parameter of all the resizing transforms (Resize(), RandomResizedCrop(), etc.) will change from None to True in v0.17, in order to be consistent across the PIL and Tensor backends. To suppress this warning, directly pass antialias=True (recommended, future default), antialias=None (current default, which means False for Tensors and True for PIL), or antialias=False (only works on Tensors - PIL will still use antialiasing). This also applies if you are using the inference transforms from the models weights: update the call to weights.transforms(antialias=True).\n",
            "  warnings.warn(\n"
          ]
        },
        {
          "output_type": "stream",
          "name": "stdout",
          "text": [
            "Epoch: 45 \tTraining Loss: 3599.603129\n",
            "         \tTesting Loss: 4141.684082\n",
            "KM balanced accuracy score with hand-crafted labels :  0.6679624618967702\n",
            "------------------------------------------------------------------\n"
          ]
        },
        {
          "output_type": "stream",
          "name": "stderr",
          "text": [
            "/usr/local/lib/python3.10/dist-packages/torchvision/transforms/functional.py:1603: UserWarning: The default value of the antialias parameter of all the resizing transforms (Resize(), RandomResizedCrop(), etc.) will change from None to True in v0.17, in order to be consistent across the PIL and Tensor backends. To suppress this warning, directly pass antialias=True (recommended, future default), antialias=None (current default, which means False for Tensors and True for PIL), or antialias=False (only works on Tensors - PIL will still use antialiasing). This also applies if you are using the inference transforms from the models weights: update the call to weights.transforms(antialias=True).\n",
            "  warnings.warn(\n"
          ]
        },
        {
          "output_type": "stream",
          "name": "stdout",
          "text": [
            "Epoch: 46 \tTraining Loss: 3489.776988\n",
            "         \tTesting Loss: 4095.463989\n",
            "KM balanced accuracy score with hand-crafted labels :  0.6696235914648765\n",
            "------------------------------------------------------------------\n"
          ]
        },
        {
          "output_type": "stream",
          "name": "stderr",
          "text": [
            "/usr/local/lib/python3.10/dist-packages/torchvision/transforms/functional.py:1603: UserWarning: The default value of the antialias parameter of all the resizing transforms (Resize(), RandomResizedCrop(), etc.) will change from None to True in v0.17, in order to be consistent across the PIL and Tensor backends. To suppress this warning, directly pass antialias=True (recommended, future default), antialias=None (current default, which means False for Tensors and True for PIL), or antialias=False (only works on Tensors - PIL will still use antialiasing). This also applies if you are using the inference transforms from the models weights: update the call to weights.transforms(antialias=True).\n",
            "  warnings.warn(\n"
          ]
        },
        {
          "output_type": "stream",
          "name": "stdout",
          "text": [
            "Epoch: 47 \tTraining Loss: 3449.897695\n",
            "         \tTesting Loss: 3971.756287\n",
            "KM balanced accuracy score with hand-crafted labels :  0.6696235914648765\n",
            "------------------------------------------------------------------\n"
          ]
        },
        {
          "output_type": "stream",
          "name": "stderr",
          "text": [
            "/usr/local/lib/python3.10/dist-packages/torchvision/transforms/functional.py:1603: UserWarning: The default value of the antialias parameter of all the resizing transforms (Resize(), RandomResizedCrop(), etc.) will change from None to True in v0.17, in order to be consistent across the PIL and Tensor backends. To suppress this warning, directly pass antialias=True (recommended, future default), antialias=None (current default, which means False for Tensors and True for PIL), or antialias=False (only works on Tensors - PIL will still use antialiasing). This also applies if you are using the inference transforms from the models weights: update the call to weights.transforms(antialias=True).\n",
            "  warnings.warn(\n"
          ]
        },
        {
          "output_type": "stream",
          "name": "stdout",
          "text": [
            "Epoch: 48 \tTraining Loss: 3421.801076\n",
            "         \tTesting Loss: 3983.160339\n",
            "KM balanced accuracy score with hand-crafted labels :  0.6696235914648765\n",
            "------------------------------------------------------------------\n"
          ]
        },
        {
          "output_type": "stream",
          "name": "stderr",
          "text": [
            "/usr/local/lib/python3.10/dist-packages/torchvision/transforms/functional.py:1603: UserWarning: The default value of the antialias parameter of all the resizing transforms (Resize(), RandomResizedCrop(), etc.) will change from None to True in v0.17, in order to be consistent across the PIL and Tensor backends. To suppress this warning, directly pass antialias=True (recommended, future default), antialias=None (current default, which means False for Tensors and True for PIL), or antialias=False (only works on Tensors - PIL will still use antialiasing). This also applies if you are using the inference transforms from the models weights: update the call to weights.transforms(antialias=True).\n",
            "  warnings.warn(\n"
          ]
        },
        {
          "output_type": "stream",
          "name": "stdout",
          "text": [
            "Epoch: 49 \tTraining Loss: 3332.071950\n",
            "         \tTesting Loss: 3917.538025\n",
            "KM balanced accuracy score with hand-crafted labels :  0.6729458506010892\n",
            "------------------------------------------------------------------\n"
          ]
        },
        {
          "output_type": "stream",
          "name": "stderr",
          "text": [
            "/usr/local/lib/python3.10/dist-packages/torchvision/transforms/functional.py:1603: UserWarning: The default value of the antialias parameter of all the resizing transforms (Resize(), RandomResizedCrop(), etc.) will change from None to True in v0.17, in order to be consistent across the PIL and Tensor backends. To suppress this warning, directly pass antialias=True (recommended, future default), antialias=None (current default, which means False for Tensors and True for PIL), or antialias=False (only works on Tensors - PIL will still use antialiasing). This also applies if you are using the inference transforms from the models weights: update the call to weights.transforms(antialias=True).\n",
            "  warnings.warn(\n"
          ]
        },
        {
          "output_type": "stream",
          "name": "stdout",
          "text": [
            "Epoch: 50 \tTraining Loss: 3316.699544\n",
            "         \tTesting Loss: 3920.217590\n",
            "KM balanced accuracy score with hand-crafted labels :  0.6712847210329829\n",
            "------------------------------------------------------------------\n"
          ]
        },
        {
          "output_type": "stream",
          "name": "stderr",
          "text": [
            "/usr/local/lib/python3.10/dist-packages/torchvision/transforms/functional.py:1603: UserWarning: The default value of the antialias parameter of all the resizing transforms (Resize(), RandomResizedCrop(), etc.) will change from None to True in v0.17, in order to be consistent across the PIL and Tensor backends. To suppress this warning, directly pass antialias=True (recommended, future default), antialias=None (current default, which means False for Tensors and True for PIL), or antialias=False (only works on Tensors - PIL will still use antialiasing). This also applies if you are using the inference transforms from the models weights: update the call to weights.transforms(antialias=True).\n",
            "  warnings.warn(\n"
          ]
        },
        {
          "output_type": "stream",
          "name": "stdout",
          "text": [
            "Epoch: 51 \tTraining Loss: 3264.543223\n",
            "         \tTesting Loss: 3858.559326\n",
            "KM balanced accuracy score with hand-crafted labels :  0.6729458506010892\n",
            "------------------------------------------------------------------\n"
          ]
        },
        {
          "output_type": "stream",
          "name": "stderr",
          "text": [
            "/usr/local/lib/python3.10/dist-packages/torchvision/transforms/functional.py:1603: UserWarning: The default value of the antialias parameter of all the resizing transforms (Resize(), RandomResizedCrop(), etc.) will change from None to True in v0.17, in order to be consistent across the PIL and Tensor backends. To suppress this warning, directly pass antialias=True (recommended, future default), antialias=None (current default, which means False for Tensors and True for PIL), or antialias=False (only works on Tensors - PIL will still use antialiasing). This also applies if you are using the inference transforms from the models weights: update the call to weights.transforms(antialias=True).\n",
            "  warnings.warn(\n"
          ]
        },
        {
          "output_type": "stream",
          "name": "stdout",
          "text": [
            "Epoch: 52 \tTraining Loss: 3210.606903\n",
            "         \tTesting Loss: 3778.296387\n",
            "KM balanced accuracy score with hand-crafted labels :  0.6779292393054082\n",
            "------------------------------------------------------------------\n"
          ]
        },
        {
          "output_type": "stream",
          "name": "stderr",
          "text": [
            "/usr/local/lib/python3.10/dist-packages/torchvision/transforms/functional.py:1603: UserWarning: The default value of the antialias parameter of all the resizing transforms (Resize(), RandomResizedCrop(), etc.) will change from None to True in v0.17, in order to be consistent across the PIL and Tensor backends. To suppress this warning, directly pass antialias=True (recommended, future default), antialias=None (current default, which means False for Tensors and True for PIL), or antialias=False (only works on Tensors - PIL will still use antialiasing). This also applies if you are using the inference transforms from the models weights: update the call to weights.transforms(antialias=True).\n",
            "  warnings.warn(\n"
          ]
        },
        {
          "output_type": "stream",
          "name": "stdout",
          "text": [
            "Epoch: 53 \tTraining Loss: 3203.268555\n",
            "         \tTesting Loss: 3760.238586\n",
            "KM balanced accuracy score with hand-crafted labels :  0.6812514984416207\n",
            "------------------------------------------------------------------\n"
          ]
        },
        {
          "output_type": "stream",
          "name": "stderr",
          "text": [
            "/usr/local/lib/python3.10/dist-packages/torchvision/transforms/functional.py:1603: UserWarning: The default value of the antialias parameter of all the resizing transforms (Resize(), RandomResizedCrop(), etc.) will change from None to True in v0.17, in order to be consistent across the PIL and Tensor backends. To suppress this warning, directly pass antialias=True (recommended, future default), antialias=None (current default, which means False for Tensors and True for PIL), or antialias=False (only works on Tensors - PIL will still use antialiasing). This also applies if you are using the inference transforms from the models weights: update the call to weights.transforms(antialias=True).\n",
            "  warnings.warn(\n"
          ]
        },
        {
          "output_type": "stream",
          "name": "stdout",
          "text": [
            "Epoch: 54 \tTraining Loss: 3146.926178\n",
            "         \tTesting Loss: 3767.885437\n",
            "KM balanced accuracy score with hand-crafted labels :  0.6812514984416207\n",
            "------------------------------------------------------------------\n"
          ]
        },
        {
          "output_type": "stream",
          "name": "stderr",
          "text": [
            "/usr/local/lib/python3.10/dist-packages/torchvision/transforms/functional.py:1603: UserWarning: The default value of the antialias parameter of all the resizing transforms (Resize(), RandomResizedCrop(), etc.) will change from None to True in v0.17, in order to be consistent across the PIL and Tensor backends. To suppress this warning, directly pass antialias=True (recommended, future default), antialias=None (current default, which means False for Tensors and True for PIL), or antialias=False (only works on Tensors - PIL will still use antialiasing). This also applies if you are using the inference transforms from the models weights: update the call to weights.transforms(antialias=True).\n",
            "  warnings.warn(\n"
          ]
        },
        {
          "output_type": "stream",
          "name": "stdout",
          "text": [
            "Epoch: 55 \tTraining Loss: 3115.262054\n",
            "         \tTesting Loss: 3770.067810\n",
            "KM balanced accuracy score with hand-crafted labels :  0.6862348871459396\n",
            "------------------------------------------------------------------\n"
          ]
        },
        {
          "output_type": "stream",
          "name": "stderr",
          "text": [
            "/usr/local/lib/python3.10/dist-packages/torchvision/transforms/functional.py:1603: UserWarning: The default value of the antialias parameter of all the resizing transforms (Resize(), RandomResizedCrop(), etc.) will change from None to True in v0.17, in order to be consistent across the PIL and Tensor backends. To suppress this warning, directly pass antialias=True (recommended, future default), antialias=None (current default, which means False for Tensors and True for PIL), or antialias=False (only works on Tensors - PIL will still use antialiasing). This also applies if you are using the inference transforms from the models weights: update the call to weights.transforms(antialias=True).\n",
            "  warnings.warn(\n"
          ]
        },
        {
          "output_type": "stream",
          "name": "stdout",
          "text": [
            "Epoch: 56 \tTraining Loss: 3075.285207\n",
            "         \tTesting Loss: 3717.792114\n",
            "KM balanced accuracy score with hand-crafted labels :  0.6759256087954242\n",
            "------------------------------------------------------------------\n"
          ]
        },
        {
          "output_type": "stream",
          "name": "stderr",
          "text": [
            "/usr/local/lib/python3.10/dist-packages/torchvision/transforms/functional.py:1603: UserWarning: The default value of the antialias parameter of all the resizing transforms (Resize(), RandomResizedCrop(), etc.) will change from None to True in v0.17, in order to be consistent across the PIL and Tensor backends. To suppress this warning, directly pass antialias=True (recommended, future default), antialias=None (current default, which means False for Tensors and True for PIL), or antialias=False (only works on Tensors - PIL will still use antialiasing). This also applies if you are using the inference transforms from the models weights: update the call to weights.transforms(antialias=True).\n",
            "  warnings.warn(\n"
          ]
        },
        {
          "output_type": "stream",
          "name": "stdout",
          "text": [
            "Epoch: 57 \tTraining Loss: 3073.594625\n",
            "         \tTesting Loss: 3672.909363\n",
            "KM balanced accuracy score with hand-crafted labels :  0.6707709696201665\n",
            "------------------------------------------------------------------\n"
          ]
        },
        {
          "output_type": "stream",
          "name": "stderr",
          "text": [
            "/usr/local/lib/python3.10/dist-packages/torchvision/transforms/functional.py:1603: UserWarning: The default value of the antialias parameter of all the resizing transforms (Resize(), RandomResizedCrop(), etc.) will change from None to True in v0.17, in order to be consistent across the PIL and Tensor backends. To suppress this warning, directly pass antialias=True (recommended, future default), antialias=None (current default, which means False for Tensors and True for PIL), or antialias=False (only works on Tensors - PIL will still use antialiasing). This also applies if you are using the inference transforms from the models weights: update the call to weights.transforms(antialias=True).\n",
            "  warnings.warn(\n"
          ]
        },
        {
          "output_type": "stream",
          "name": "stdout",
          "text": [
            "Epoch: 58 \tTraining Loss: 3052.735138\n",
            "         \tTesting Loss: 3645.427673\n",
            "KM balanced accuracy score with hand-crafted labels :  0.6691098400520601\n",
            "------------------------------------------------------------------\n"
          ]
        },
        {
          "output_type": "stream",
          "name": "stderr",
          "text": [
            "/usr/local/lib/python3.10/dist-packages/torchvision/transforms/functional.py:1603: UserWarning: The default value of the antialias parameter of all the resizing transforms (Resize(), RandomResizedCrop(), etc.) will change from None to True in v0.17, in order to be consistent across the PIL and Tensor backends. To suppress this warning, directly pass antialias=True (recommended, future default), antialias=None (current default, which means False for Tensors and True for PIL), or antialias=False (only works on Tensors - PIL will still use antialiasing). This also applies if you are using the inference transforms from the models weights: update the call to weights.transforms(antialias=True).\n",
            "  warnings.warn(\n"
          ]
        },
        {
          "output_type": "stream",
          "name": "stdout",
          "text": [
            "Epoch: 59 \tTraining Loss: 3027.879964\n",
            "         \tTesting Loss: 3581.963989\n",
            "KM balanced accuracy score with hand-crafted labels :  0.6656163304449088\n",
            "------------------------------------------------------------------\n"
          ]
        },
        {
          "output_type": "stream",
          "name": "stderr",
          "text": [
            "/usr/local/lib/python3.10/dist-packages/torchvision/transforms/functional.py:1603: UserWarning: The default value of the antialias parameter of all the resizing transforms (Resize(), RandomResizedCrop(), etc.) will change from None to True in v0.17, in order to be consistent across the PIL and Tensor backends. To suppress this warning, directly pass antialias=True (recommended, future default), antialias=None (current default, which means False for Tensors and True for PIL), or antialias=False (only works on Tensors - PIL will still use antialiasing). This also applies if you are using the inference transforms from the models weights: update the call to weights.transforms(antialias=True).\n",
            "  warnings.warn(\n"
          ]
        },
        {
          "output_type": "stream",
          "name": "stdout",
          "text": [
            "Epoch: 60 \tTraining Loss: 2980.536316\n",
            "         \tTesting Loss: 3570.053406\n",
            "KM balanced accuracy score with hand-crafted labels :  0.6656163304449088\n",
            "------------------------------------------------------------------\n"
          ]
        },
        {
          "output_type": "stream",
          "name": "stderr",
          "text": [
            "/usr/local/lib/python3.10/dist-packages/torchvision/transforms/functional.py:1603: UserWarning: The default value of the antialias parameter of all the resizing transforms (Resize(), RandomResizedCrop(), etc.) will change from None to True in v0.17, in order to be consistent across the PIL and Tensor backends. To suppress this warning, directly pass antialias=True (recommended, future default), antialias=None (current default, which means False for Tensors and True for PIL), or antialias=False (only works on Tensors - PIL will still use antialiasing). This also applies if you are using the inference transforms from the models weights: update the call to weights.transforms(antialias=True).\n",
            "  warnings.warn(\n"
          ]
        },
        {
          "output_type": "stream",
          "name": "stdout",
          "text": [
            "Epoch: 61 \tTraining Loss: 2975.519491\n",
            "         \tTesting Loss: 3520.653564\n",
            "KM balanced accuracy score with hand-crafted labels :  0.6656163304449088\n",
            "------------------------------------------------------------------\n"
          ]
        },
        {
          "output_type": "stream",
          "name": "stderr",
          "text": [
            "/usr/local/lib/python3.10/dist-packages/torchvision/transforms/functional.py:1603: UserWarning: The default value of the antialias parameter of all the resizing transforms (Resize(), RandomResizedCrop(), etc.) will change from None to True in v0.17, in order to be consistent across the PIL and Tensor backends. To suppress this warning, directly pass antialias=True (recommended, future default), antialias=None (current default, which means False for Tensors and True for PIL), or antialias=False (only works on Tensors - PIL will still use antialiasing). This also applies if you are using the inference transforms from the models weights: update the call to weights.transforms(antialias=True).\n",
            "  warnings.warn(\n"
          ]
        },
        {
          "output_type": "stream",
          "name": "stdout",
          "text": [
            "Epoch: 62 \tTraining Loss: 2960.474335\n",
            "         \tTesting Loss: 3505.628967\n",
            "KM balanced accuracy score with hand-crafted labels :  0.6656163304449088\n",
            "------------------------------------------------------------------\n"
          ]
        },
        {
          "output_type": "stream",
          "name": "stderr",
          "text": [
            "/usr/local/lib/python3.10/dist-packages/torchvision/transforms/functional.py:1603: UserWarning: The default value of the antialias parameter of all the resizing transforms (Resize(), RandomResizedCrop(), etc.) will change from None to True in v0.17, in order to be consistent across the PIL and Tensor backends. To suppress this warning, directly pass antialias=True (recommended, future default), antialias=None (current default, which means False for Tensors and True for PIL), or antialias=False (only works on Tensors - PIL will still use antialiasing). This also applies if you are using the inference transforms from the models weights: update the call to weights.transforms(antialias=True).\n",
            "  warnings.warn(\n"
          ]
        },
        {
          "output_type": "stream",
          "name": "stdout",
          "text": [
            "Epoch: 63 \tTraining Loss: 2937.088338\n",
            "         \tTesting Loss: 3511.713013\n",
            "KM balanced accuracy score with hand-crafted labels :  0.667277460013015\n",
            "------------------------------------------------------------------\n"
          ]
        },
        {
          "output_type": "stream",
          "name": "stderr",
          "text": [
            "/usr/local/lib/python3.10/dist-packages/torchvision/transforms/functional.py:1603: UserWarning: The default value of the antialias parameter of all the resizing transforms (Resize(), RandomResizedCrop(), etc.) will change from None to True in v0.17, in order to be consistent across the PIL and Tensor backends. To suppress this warning, directly pass antialias=True (recommended, future default), antialias=None (current default, which means False for Tensors and True for PIL), or antialias=False (only works on Tensors - PIL will still use antialiasing). This also applies if you are using the inference transforms from the models weights: update the call to weights.transforms(antialias=True).\n",
            "  warnings.warn(\n"
          ]
        },
        {
          "output_type": "stream",
          "name": "stdout",
          "text": [
            "Epoch: 64 \tTraining Loss: 2932.714712\n",
            "         \tTesting Loss: 3474.974670\n",
            "KM balanced accuracy score with hand-crafted labels :  0.667277460013015\n",
            "------------------------------------------------------------------\n"
          ]
        },
        {
          "output_type": "stream",
          "name": "stderr",
          "text": [
            "/usr/local/lib/python3.10/dist-packages/torchvision/transforms/functional.py:1603: UserWarning: The default value of the antialias parameter of all the resizing transforms (Resize(), RandomResizedCrop(), etc.) will change from None to True in v0.17, in order to be consistent across the PIL and Tensor backends. To suppress this warning, directly pass antialias=True (recommended, future default), antialias=None (current default, which means False for Tensors and True for PIL), or antialias=False (only works on Tensors - PIL will still use antialiasing). This also applies if you are using the inference transforms from the models weights: update the call to weights.transforms(antialias=True).\n",
            "  warnings.warn(\n"
          ]
        },
        {
          "output_type": "stream",
          "name": "stdout",
          "text": [
            "Epoch: 65 \tTraining Loss: 2929.083028\n",
            "         \tTesting Loss: 3448.907959\n",
            "KM balanced accuracy score with hand-crafted labels :  0.6639552008768024\n",
            "------------------------------------------------------------------\n"
          ]
        },
        {
          "output_type": "stream",
          "name": "stderr",
          "text": [
            "/usr/local/lib/python3.10/dist-packages/torchvision/transforms/functional.py:1603: UserWarning: The default value of the antialias parameter of all the resizing transforms (Resize(), RandomResizedCrop(), etc.) will change from None to True in v0.17, in order to be consistent across the PIL and Tensor backends. To suppress this warning, directly pass antialias=True (recommended, future default), antialias=None (current default, which means False for Tensors and True for PIL), or antialias=False (only works on Tensors - PIL will still use antialiasing). This also applies if you are using the inference transforms from the models weights: update the call to weights.transforms(antialias=True).\n",
            "  warnings.warn(\n"
          ]
        },
        {
          "output_type": "stream",
          "name": "stdout",
          "text": [
            "Epoch: 66 \tTraining Loss: 2891.148549\n",
            "         \tTesting Loss: 3440.145752\n",
            "KM balanced accuracy score with hand-crafted labels :  0.6606329417405898\n",
            "------------------------------------------------------------------\n"
          ]
        },
        {
          "output_type": "stream",
          "name": "stderr",
          "text": [
            "/usr/local/lib/python3.10/dist-packages/torchvision/transforms/functional.py:1603: UserWarning: The default value of the antialias parameter of all the resizing transforms (Resize(), RandomResizedCrop(), etc.) will change from None to True in v0.17, in order to be consistent across the PIL and Tensor backends. To suppress this warning, directly pass antialias=True (recommended, future default), antialias=None (current default, which means False for Tensors and True for PIL), or antialias=False (only works on Tensors - PIL will still use antialiasing). This also applies if you are using the inference transforms from the models weights: update the call to weights.transforms(antialias=True).\n",
            "  warnings.warn(\n"
          ]
        },
        {
          "output_type": "stream",
          "name": "stdout",
          "text": [
            "Epoch: 67 \tTraining Loss: 2903.362834\n",
            "         \tTesting Loss: 3481.947754\n",
            "KM balanced accuracy score with hand-crafted labels :  0.6657875809158476\n",
            "------------------------------------------------------------------\n"
          ]
        },
        {
          "output_type": "stream",
          "name": "stderr",
          "text": [
            "/usr/local/lib/python3.10/dist-packages/torchvision/transforms/functional.py:1603: UserWarning: The default value of the antialias parameter of all the resizing transforms (Resize(), RandomResizedCrop(), etc.) will change from None to True in v0.17, in order to be consistent across the PIL and Tensor backends. To suppress this warning, directly pass antialias=True (recommended, future default), antialias=None (current default, which means False for Tensors and True for PIL), or antialias=False (only works on Tensors - PIL will still use antialiasing). This also applies if you are using the inference transforms from the models weights: update the call to weights.transforms(antialias=True).\n",
            "  warnings.warn(\n"
          ]
        },
        {
          "output_type": "stream",
          "name": "stdout",
          "text": [
            "Epoch: 68 \tTraining Loss: 2876.593760\n",
            "         \tTesting Loss: 3432.307495\n",
            "KM balanced accuracy score with hand-crafted labels :  0.6657875809158476\n",
            "------------------------------------------------------------------\n"
          ]
        },
        {
          "output_type": "stream",
          "name": "stderr",
          "text": [
            "/usr/local/lib/python3.10/dist-packages/torchvision/transforms/functional.py:1603: UserWarning: The default value of the antialias parameter of all the resizing transforms (Resize(), RandomResizedCrop(), etc.) will change from None to True in v0.17, in order to be consistent across the PIL and Tensor backends. To suppress this warning, directly pass antialias=True (recommended, future default), antialias=None (current default, which means False for Tensors and True for PIL), or antialias=False (only works on Tensors - PIL will still use antialiasing). This also applies if you are using the inference transforms from the models weights: update the call to weights.transforms(antialias=True).\n",
            "  warnings.warn(\n"
          ]
        },
        {
          "output_type": "stream",
          "name": "stdout",
          "text": [
            "Epoch: 69 \tTraining Loss: 2895.548503\n",
            "         \tTesting Loss: 3376.603027\n",
            "KM balanced accuracy score with hand-crafted labels :  0.662294071308696\n",
            "------------------------------------------------------------------\n"
          ]
        },
        {
          "output_type": "stream",
          "name": "stderr",
          "text": [
            "/usr/local/lib/python3.10/dist-packages/torchvision/transforms/functional.py:1603: UserWarning: The default value of the antialias parameter of all the resizing transforms (Resize(), RandomResizedCrop(), etc.) will change from None to True in v0.17, in order to be consistent across the PIL and Tensor backends. To suppress this warning, directly pass antialias=True (recommended, future default), antialias=None (current default, which means False for Tensors and True for PIL), or antialias=False (only works on Tensors - PIL will still use antialiasing). This also applies if you are using the inference transforms from the models weights: update the call to weights.transforms(antialias=True).\n",
            "  warnings.warn(\n"
          ]
        },
        {
          "output_type": "stream",
          "name": "stdout",
          "text": [
            "Epoch: 70 \tTraining Loss: 2860.842590\n",
            "         \tTesting Loss: 3377.253540\n",
            "KM balanced accuracy score with hand-crafted labels :  0.6624653217796349\n",
            "------------------------------------------------------------------\n"
          ]
        },
        {
          "output_type": "stream",
          "name": "stderr",
          "text": [
            "/usr/local/lib/python3.10/dist-packages/torchvision/transforms/functional.py:1603: UserWarning: The default value of the antialias parameter of all the resizing transforms (Resize(), RandomResizedCrop(), etc.) will change from None to True in v0.17, in order to be consistent across the PIL and Tensor backends. To suppress this warning, directly pass antialias=True (recommended, future default), antialias=None (current default, which means False for Tensors and True for PIL), or antialias=False (only works on Tensors - PIL will still use antialiasing). This also applies if you are using the inference transforms from the models weights: update the call to weights.transforms(antialias=True).\n",
            "  warnings.warn(\n"
          ]
        },
        {
          "output_type": "stream",
          "name": "stdout",
          "text": [
            "Epoch: 71 \tTraining Loss: 2847.627482\n",
            "         \tTesting Loss: 3363.729309\n",
            "KM balanced accuracy score with hand-crafted labels :  0.6659588313867864\n",
            "------------------------------------------------------------------\n"
          ]
        },
        {
          "output_type": "stream",
          "name": "stderr",
          "text": [
            "/usr/local/lib/python3.10/dist-packages/torchvision/transforms/functional.py:1603: UserWarning: The default value of the antialias parameter of all the resizing transforms (Resize(), RandomResizedCrop(), etc.) will change from None to True in v0.17, in order to be consistent across the PIL and Tensor backends. To suppress this warning, directly pass antialias=True (recommended, future default), antialias=None (current default, which means False for Tensors and True for PIL), or antialias=False (only works on Tensors - PIL will still use antialiasing). This also applies if you are using the inference transforms from the models weights: update the call to weights.transforms(antialias=True).\n",
            "  warnings.warn(\n"
          ]
        },
        {
          "output_type": "stream",
          "name": "stdout",
          "text": [
            "Epoch: 72 \tTraining Loss: 2830.617910\n",
            "         \tTesting Loss: 3356.805847\n",
            "KM balanced accuracy score with hand-crafted labels :  0.66429770181868\n",
            "------------------------------------------------------------------\n"
          ]
        },
        {
          "output_type": "stream",
          "name": "stderr",
          "text": [
            "/usr/local/lib/python3.10/dist-packages/torchvision/transforms/functional.py:1603: UserWarning: The default value of the antialias parameter of all the resizing transforms (Resize(), RandomResizedCrop(), etc.) will change from None to True in v0.17, in order to be consistent across the PIL and Tensor backends. To suppress this warning, directly pass antialias=True (recommended, future default), antialias=None (current default, which means False for Tensors and True for PIL), or antialias=False (only works on Tensors - PIL will still use antialiasing). This also applies if you are using the inference transforms from the models weights: update the call to weights.transforms(antialias=True).\n",
            "  warnings.warn(\n"
          ]
        },
        {
          "output_type": "stream",
          "name": "stdout",
          "text": [
            "Epoch: 73 \tTraining Loss: 2830.949585\n",
            "         \tTesting Loss: 3392.893188\n",
            "KM balanced accuracy score with hand-crafted labels :  0.66429770181868\n",
            "------------------------------------------------------------------\n"
          ]
        },
        {
          "output_type": "stream",
          "name": "stderr",
          "text": [
            "/usr/local/lib/python3.10/dist-packages/torchvision/transforms/functional.py:1603: UserWarning: The default value of the antialias parameter of all the resizing transforms (Resize(), RandomResizedCrop(), etc.) will change from None to True in v0.17, in order to be consistent across the PIL and Tensor backends. To suppress this warning, directly pass antialias=True (recommended, future default), antialias=None (current default, which means False for Tensors and True for PIL), or antialias=False (only works on Tensors - PIL will still use antialiasing). This also applies if you are using the inference transforms from the models weights: update the call to weights.transforms(antialias=True).\n",
            "  warnings.warn(\n"
          ]
        },
        {
          "output_type": "stream",
          "name": "stdout",
          "text": [
            "Epoch: 74 \tTraining Loss: 2822.718953\n",
            "         \tTesting Loss: 3375.452637\n",
            "KM balanced accuracy score with hand-crafted labels :  0.6661300818577252\n",
            "------------------------------------------------------------------\n"
          ]
        },
        {
          "output_type": "stream",
          "name": "stderr",
          "text": [
            "/usr/local/lib/python3.10/dist-packages/torchvision/transforms/functional.py:1603: UserWarning: The default value of the antialias parameter of all the resizing transforms (Resize(), RandomResizedCrop(), etc.) will change from None to True in v0.17, in order to be consistent across the PIL and Tensor backends. To suppress this warning, directly pass antialias=True (recommended, future default), antialias=None (current default, which means False for Tensors and True for PIL), or antialias=False (only works on Tensors - PIL will still use antialiasing). This also applies if you are using the inference transforms from the models weights: update the call to weights.transforms(antialias=True).\n",
            "  warnings.warn(\n"
          ]
        },
        {
          "output_type": "stream",
          "name": "stdout",
          "text": [
            "Epoch: 75 \tTraining Loss: 2803.082469\n",
            "         \tTesting Loss: 3333.476746\n",
            "KM balanced accuracy score with hand-crafted labels :  0.6644689522896188\n",
            "------------------------------------------------------------------\n"
          ]
        },
        {
          "output_type": "display_data",
          "data": {
            "text/plain": [
              "<Figure size 640x480 with 1 Axes>"
            ],
            "image/png": "[encoded data removed]"
          },
          "metadata": {}
        },
        {
          "output_type": "stream",
          "name": "stdout",
          "text": [
            "---------------------------\n",
            "------------------------------------------------------------------\n"
          ]
        },
        {
          "output_type": "stream",
          "name": "stderr",
          "text": [
            "/usr/local/lib/python3.10/dist-packages/torchvision/transforms/functional.py:1603: UserWarning: The default value of the antialias parameter of all the resizing transforms (Resize(), RandomResizedCrop(), etc.) will change from None to True in v0.17, in order to be consistent across the PIL and Tensor backends. To suppress this warning, directly pass antialias=True (recommended, future default), antialias=None (current default, which means False for Tensors and True for PIL), or antialias=False (only works on Tensors - PIL will still use antialiasing). This also applies if you are using the inference transforms from the models weights: update the call to weights.transforms(antialias=True).\n",
            "  warnings.warn(\n"
          ]
        },
        {
          "output_type": "stream",
          "name": "stdout",
          "text": [
            "Epoch: 0 \tTraining Loss: 3035.823710\n",
            "         \tTesting Loss: 3336.547668\n",
            "KM balanced accuracy score with hand-crafted labels :  0.5173990478473816\n",
            "------------------------------------------------------------------\n"
          ]
        },
        {
          "output_type": "stream",
          "name": "stderr",
          "text": [
            "/usr/local/lib/python3.10/dist-packages/torchvision/transforms/functional.py:1603: UserWarning: The default value of the antialias parameter of all the resizing transforms (Resize(), RandomResizedCrop(), etc.) will change from None to True in v0.17, in order to be consistent across the PIL and Tensor backends. To suppress this warning, directly pass antialias=True (recommended, future default), antialias=None (current default, which means False for Tensors and True for PIL), or antialias=False (only works on Tensors - PIL will still use antialiasing). This also applies if you are using the inference transforms from the models weights: update the call to weights.transforms(antialias=True).\n",
            "  warnings.warn(\n"
          ]
        },
        {
          "output_type": "stream",
          "name": "stdout",
          "text": [
            "Epoch: 1 \tTraining Loss: 2791.253194\n",
            "         \tTesting Loss: 3336.136475\n",
            "KM balanced accuracy score with hand-crafted labels :  0.5861047367880261\n",
            "------------------------------------------------------------------\n"
          ]
        },
        {
          "output_type": "stream",
          "name": "stderr",
          "text": [
            "/usr/local/lib/python3.10/dist-packages/torchvision/transforms/functional.py:1603: UserWarning: The default value of the antialias parameter of all the resizing transforms (Resize(), RandomResizedCrop(), etc.) will change from None to True in v0.17, in order to be consistent across the PIL and Tensor backends. To suppress this warning, directly pass antialias=True (recommended, future default), antialias=None (current default, which means False for Tensors and True for PIL), or antialias=False (only works on Tensors - PIL will still use antialiasing). This also applies if you are using the inference transforms from the models weights: update the call to weights.transforms(antialias=True).\n",
            "  warnings.warn(\n"
          ]
        },
        {
          "output_type": "stream",
          "name": "stdout",
          "text": [
            "Epoch: 2 \tTraining Loss: 2691.399160\n",
            "         \tTesting Loss: 3323.288269\n",
            "KM balanced accuracy score with hand-crafted labels :  0.5731582011850533\n",
            "------------------------------------------------------------------\n"
          ]
        },
        {
          "output_type": "stream",
          "name": "stderr",
          "text": [
            "/usr/local/lib/python3.10/dist-packages/torchvision/transforms/functional.py:1603: UserWarning: The default value of the antialias parameter of all the resizing transforms (Resize(), RandomResizedCrop(), etc.) will change from None to True in v0.17, in order to be consistent across the PIL and Tensor backends. To suppress this warning, directly pass antialias=True (recommended, future default), antialias=None (current default, which means False for Tensors and True for PIL), or antialias=False (only works on Tensors - PIL will still use antialiasing). This also applies if you are using the inference transforms from the models weights: update the call to weights.transforms(antialias=True).\n",
            "  warnings.warn(\n"
          ]
        },
        {
          "output_type": "stream",
          "name": "stdout",
          "text": [
            "Epoch: 3 \tTraining Loss: 2620.669230\n",
            "         \tTesting Loss: 3373.748108\n",
            "KM balanced accuracy score with hand-crafted labels :  0.5746480802822207\n",
            "------------------------------------------------------------------\n"
          ]
        },
        {
          "output_type": "stream",
          "name": "stderr",
          "text": [
            "/usr/local/lib/python3.10/dist-packages/torchvision/transforms/functional.py:1603: UserWarning: The default value of the antialias parameter of all the resizing transforms (Resize(), RandomResizedCrop(), etc.) will change from None to True in v0.17, in order to be consistent across the PIL and Tensor backends. To suppress this warning, directly pass antialias=True (recommended, future default), antialias=None (current default, which means False for Tensors and True for PIL), or antialias=False (only works on Tensors - PIL will still use antialiasing). This also applies if you are using the inference transforms from the models weights: update the call to weights.transforms(antialias=True).\n",
            "  warnings.warn(\n"
          ]
        },
        {
          "output_type": "stream",
          "name": "stdout",
          "text": [
            "Epoch: 4 \tTraining Loss: 2552.861898\n",
            "         \tTesting Loss: 3742.837280\n",
            "KM balanced accuracy score with hand-crafted labels :  0.5739630783984656\n",
            "------------------------------------------------------------------\n"
          ]
        },
        {
          "output_type": "stream",
          "name": "stderr",
          "text": [
            "/usr/local/lib/python3.10/dist-packages/torchvision/transforms/functional.py:1603: UserWarning: The default value of the antialias parameter of all the resizing transforms (Resize(), RandomResizedCrop(), etc.) will change from None to True in v0.17, in order to be consistent across the PIL and Tensor backends. To suppress this warning, directly pass antialias=True (recommended, future default), antialias=None (current default, which means False for Tensors and True for PIL), or antialias=False (only works on Tensors - PIL will still use antialiasing). This also applies if you are using the inference transforms from the models weights: update the call to weights.transforms(antialias=True).\n",
            "  warnings.warn(\n"
          ]
        },
        {
          "output_type": "stream",
          "name": "stdout",
          "text": [
            "Epoch: 5 \tTraining Loss: 2482.748077\n",
            "         \tTesting Loss: 3853.628784\n",
            "KM balanced accuracy score with hand-crafted labels :  0.5741343288694044\n",
            "------------------------------------------------------------------\n"
          ]
        },
        {
          "output_type": "stream",
          "name": "stderr",
          "text": [
            "/usr/local/lib/python3.10/dist-packages/torchvision/transforms/functional.py:1603: UserWarning: The default value of the antialias parameter of all the resizing transforms (Resize(), RandomResizedCrop(), etc.) will change from None to True in v0.17, in order to be consistent across the PIL and Tensor backends. To suppress this warning, directly pass antialias=True (recommended, future default), antialias=None (current default, which means False for Tensors and True for PIL), or antialias=False (only works on Tensors - PIL will still use antialiasing). This also applies if you are using the inference transforms from the models weights: update the call to weights.transforms(antialias=True).\n",
            "  warnings.warn(\n"
          ]
        },
        {
          "output_type": "stream",
          "name": "stdout",
          "text": [
            "Epoch: 6 \tTraining Loss: 2447.872182\n",
            "         \tTesting Loss: 3849.948608\n",
            "KM balanced accuracy score with hand-crafted labels :  0.5696646915779018\n",
            "------------------------------------------------------------------\n"
          ]
        },
        {
          "output_type": "stream",
          "name": "stderr",
          "text": [
            "/usr/local/lib/python3.10/dist-packages/torchvision/transforms/functional.py:1603: UserWarning: The default value of the antialias parameter of all the resizing transforms (Resize(), RandomResizedCrop(), etc.) will change from None to True in v0.17, in order to be consistent across the PIL and Tensor backends. To suppress this warning, directly pass antialias=True (recommended, future default), antialias=None (current default, which means False for Tensors and True for PIL), or antialias=False (only works on Tensors - PIL will still use antialiasing). This also applies if you are using the inference transforms from the models weights: update the call to weights.transforms(antialias=True).\n",
            "  warnings.warn(\n"
          ]
        },
        {
          "output_type": "stream",
          "name": "stdout",
          "text": [
            "Epoch: 7 \tTraining Loss: 2375.953868\n",
            "         \tTesting Loss: 3625.043457\n",
            "KM balanced accuracy score with hand-crafted labels :  0.5728157002431756\n",
            "------------------------------------------------------------------\n"
          ]
        },
        {
          "output_type": "stream",
          "name": "stderr",
          "text": [
            "/usr/local/lib/python3.10/dist-packages/torchvision/transforms/functional.py:1603: UserWarning: The default value of the antialias parameter of all the resizing transforms (Resize(), RandomResizedCrop(), etc.) will change from None to True in v0.17, in order to be consistent across the PIL and Tensor backends. To suppress this warning, directly pass antialias=True (recommended, future default), antialias=None (current default, which means False for Tensors and True for PIL), or antialias=False (only works on Tensors - PIL will still use antialiasing). This also applies if you are using the inference transforms from the models weights: update the call to weights.transforms(antialias=True).\n",
            "  warnings.warn(\n"
          ]
        },
        {
          "output_type": "stream",
          "name": "stdout",
          "text": [
            "Epoch: 8 \tTraining Loss: 2339.649811\n",
            "         \tTesting Loss: 4206.922058\n",
            "KM balanced accuracy score with hand-crafted labels :  0.5827824776518136\n",
            "------------------------------------------------------------------\n"
          ]
        },
        {
          "output_type": "stream",
          "name": "stderr",
          "text": [
            "/usr/local/lib/python3.10/dist-packages/torchvision/transforms/functional.py:1603: UserWarning: The default value of the antialias parameter of all the resizing transforms (Resize(), RandomResizedCrop(), etc.) will change from None to True in v0.17, in order to be consistent across the PIL and Tensor backends. To suppress this warning, directly pass antialias=True (recommended, future default), antialias=None (current default, which means False for Tensors and True for PIL), or antialias=False (only works on Tensors - PIL will still use antialiasing). This also applies if you are using the inference transforms from the models weights: update the call to weights.transforms(antialias=True).\n",
            "  warnings.warn(\n"
          ]
        },
        {
          "output_type": "stream",
          "name": "stdout",
          "text": [
            "Epoch: 9 \tTraining Loss: 2294.658529\n",
            "         \tTesting Loss: 4346.761536\n",
            "KM balanced accuracy score with hand-crafted labels :  0.5800938452580744\n",
            "------------------------------------------------------------------\n"
          ]
        },
        {
          "output_type": "stream",
          "name": "stderr",
          "text": [
            "/usr/local/lib/python3.10/dist-packages/torchvision/transforms/functional.py:1603: UserWarning: The default value of the antialias parameter of all the resizing transforms (Resize(), RandomResizedCrop(), etc.) will change from None to True in v0.17, in order to be consistent across the PIL and Tensor backends. To suppress this warning, directly pass antialias=True (recommended, future default), antialias=None (current default, which means False for Tensors and True for PIL), or antialias=False (only works on Tensors - PIL will still use antialiasing). This also applies if you are using the inference transforms from the models weights: update the call to weights.transforms(antialias=True).\n",
            "  warnings.warn(\n"
          ]
        },
        {
          "output_type": "stream",
          "name": "stdout",
          "text": [
            "Epoch: 10 \tTraining Loss: 2250.361593\n",
            "         \tTesting Loss: 4426.861694\n",
            "KM balanced accuracy score with hand-crafted labels :  0.5798027194574785\n",
            "------------------------------------------------------------------\n"
          ]
        },
        {
          "output_type": "stream",
          "name": "stderr",
          "text": [
            "/usr/local/lib/python3.10/dist-packages/torchvision/transforms/functional.py:1603: UserWarning: The default value of the antialias parameter of all the resizing transforms (Resize(), RandomResizedCrop(), etc.) will change from None to True in v0.17, in order to be consistent across the PIL and Tensor backends. To suppress this warning, directly pass antialias=True (recommended, future default), antialias=None (current default, which means False for Tensors and True for PIL), or antialias=False (only works on Tensors - PIL will still use antialiasing). This also applies if you are using the inference transforms from the models weights: update the call to weights.transforms(antialias=True).\n",
            "  warnings.warn(\n"
          ]
        },
        {
          "output_type": "stream",
          "name": "stdout",
          "text": [
            "Epoch: 11 \tTraining Loss: 2209.050557\n",
            "         \tTesting Loss: 4339.890625\n",
            "KM balanced accuracy score with hand-crafted labels :  0.6072370449018735\n",
            "------------------------------------------------------------------\n"
          ]
        },
        {
          "output_type": "stream",
          "name": "stderr",
          "text": [
            "/usr/local/lib/python3.10/dist-packages/torchvision/transforms/functional.py:1603: UserWarning: The default value of the antialias parameter of all the resizing transforms (Resize(), RandomResizedCrop(), etc.) will change from None to True in v0.17, in order to be consistent across the PIL and Tensor backends. To suppress this warning, directly pass antialias=True (recommended, future default), antialias=None (current default, which means False for Tensors and True for PIL), or antialias=False (only works on Tensors - PIL will still use antialiasing). This also applies if you are using the inference transforms from the models weights: update the call to weights.transforms(antialias=True).\n",
            "  warnings.warn(\n"
          ]
        },
        {
          "output_type": "stream",
          "name": "stdout",
          "text": [
            "Epoch: 12 \tTraining Loss: 2170.016602\n",
            "         \tTesting Loss: 4625.875854\n",
            "KM balanced accuracy score with hand-crafted labels :  0.5661711819707504\n",
            "------------------------------------------------------------------\n"
          ]
        },
        {
          "output_type": "stream",
          "name": "stderr",
          "text": [
            "/usr/local/lib/python3.10/dist-packages/torchvision/transforms/functional.py:1603: UserWarning: The default value of the antialias parameter of all the resizing transforms (Resize(), RandomResizedCrop(), etc.) will change from None to True in v0.17, in order to be consistent across the PIL and Tensor backends. To suppress this warning, directly pass antialias=True (recommended, future default), antialias=None (current default, which means False for Tensors and True for PIL), or antialias=False (only works on Tensors - PIL will still use antialiasing). This also applies if you are using the inference transforms from the models weights: update the call to weights.transforms(antialias=True).\n",
            "  warnings.warn(\n"
          ]
        },
        {
          "output_type": "stream",
          "name": "stdout",
          "text": [
            "Epoch: 13 \tTraining Loss: 2153.303507\n",
            "         \tTesting Loss: 4348.892090\n",
            "KM balanced accuracy score with hand-crafted labels :  0.6083844230571633\n",
            "------------------------------------------------------------------\n"
          ]
        },
        {
          "output_type": "stream",
          "name": "stderr",
          "text": [
            "/usr/local/lib/python3.10/dist-packages/torchvision/transforms/functional.py:1603: UserWarning: The default value of the antialias parameter of all the resizing transforms (Resize(), RandomResizedCrop(), etc.) will change from None to True in v0.17, in order to be consistent across the PIL and Tensor backends. To suppress this warning, directly pass antialias=True (recommended, future default), antialias=None (current default, which means False for Tensors and True for PIL), or antialias=False (only works on Tensors - PIL will still use antialiasing). This also applies if you are using the inference transforms from the models weights: update the call to weights.transforms(antialias=True).\n",
            "  warnings.warn(\n"
          ]
        },
        {
          "output_type": "stream",
          "name": "stdout",
          "text": [
            "Epoch: 14 \tTraining Loss: 2119.539734\n",
            "         \tTesting Loss: 5167.807495\n",
            "KM balanced accuracy score with hand-crafted labels :  0.5809500976127684\n",
            "------------------------------------------------------------------\n"
          ]
        },
        {
          "output_type": "stream",
          "name": "stderr",
          "text": [
            "/usr/local/lib/python3.10/dist-packages/torchvision/transforms/functional.py:1603: UserWarning: The default value of the antialias parameter of all the resizing transforms (Resize(), RandomResizedCrop(), etc.) will change from None to True in v0.17, in order to be consistent across the PIL and Tensor backends. To suppress this warning, directly pass antialias=True (recommended, future default), antialias=None (current default, which means False for Tensors and True for PIL), or antialias=False (only works on Tensors - PIL will still use antialiasing). This also applies if you are using the inference transforms from the models weights: update the call to weights.transforms(antialias=True).\n",
            "  warnings.warn(\n"
          ]
        },
        {
          "output_type": "stream",
          "name": "stdout",
          "text": [
            "Epoch: 15 \tTraining Loss: 2127.466156\n",
            "         \tTesting Loss: 4627.558472\n",
            "KM balanced accuracy score with hand-crafted labels :  0.5972188923519539\n",
            "------------------------------------------------------------------\n"
          ]
        },
        {
          "output_type": "stream",
          "name": "stderr",
          "text": [
            "/usr/local/lib/python3.10/dist-packages/torchvision/transforms/functional.py:1603: UserWarning: The default value of the antialias parameter of all the resizing transforms (Resize(), RandomResizedCrop(), etc.) will change from None to True in v0.17, in order to be consistent across the PIL and Tensor backends. To suppress this warning, directly pass antialias=True (recommended, future default), antialias=None (current default, which means False for Tensors and True for PIL), or antialias=False (only works on Tensors - PIL will still use antialiasing). This also applies if you are using the inference transforms from the models weights: update the call to weights.transforms(antialias=True).\n",
            "  warnings.warn(\n"
          ]
        },
        {
          "output_type": "stream",
          "name": "stdout",
          "text": [
            "Epoch: 16 \tTraining Loss: 2099.490987\n",
            "         \tTesting Loss: 4360.144531\n",
            "KM balanced accuracy score with hand-crafted labels :  0.6161763194848786\n",
            "------------------------------------------------------------------\n"
          ]
        },
        {
          "output_type": "stream",
          "name": "stderr",
          "text": [
            "/usr/local/lib/python3.10/dist-packages/torchvision/transforms/functional.py:1603: UserWarning: The default value of the antialias parameter of all the resizing transforms (Resize(), RandomResizedCrop(), etc.) will change from None to True in v0.17, in order to be consistent across the PIL and Tensor backends. To suppress this warning, directly pass antialias=True (recommended, future default), antialias=None (current default, which means False for Tensors and True for PIL), or antialias=False (only works on Tensors - PIL will still use antialiasing). This also applies if you are using the inference transforms from the models weights: update the call to weights.transforms(antialias=True).\n",
            "  warnings.warn(\n"
          ]
        },
        {
          "output_type": "stream",
          "name": "stdout",
          "text": [
            "Epoch: 17 \tTraining Loss: 2065.210876\n",
            "         \tTesting Loss: 4495.740967\n",
            "KM balanced accuracy score with hand-crafted labels :  0.6329588656368805\n",
            "------------------------------------------------------------------\n"
          ]
        },
        {
          "output_type": "stream",
          "name": "stderr",
          "text": [
            "/usr/local/lib/python3.10/dist-packages/torchvision/transforms/functional.py:1603: UserWarning: The default value of the antialias parameter of all the resizing transforms (Resize(), RandomResizedCrop(), etc.) will change from None to True in v0.17, in order to be consistent across the PIL and Tensor backends. To suppress this warning, directly pass antialias=True (recommended, future default), antialias=None (current default, which means False for Tensors and True for PIL), or antialias=False (only works on Tensors - PIL will still use antialiasing). This also applies if you are using the inference transforms from the models weights: update the call to weights.transforms(antialias=True).\n",
            "  warnings.warn(\n"
          ]
        },
        {
          "output_type": "stream",
          "name": "stdout",
          "text": [
            "Epoch: 18 \tTraining Loss: 2038.330002\n",
            "         \tTesting Loss: 5150.545898\n",
            "KM balanced accuracy score with hand-crafted labels :  0.6121690584649108\n",
            "------------------------------------------------------------------\n"
          ]
        },
        {
          "output_type": "stream",
          "name": "stderr",
          "text": [
            "/usr/local/lib/python3.10/dist-packages/torchvision/transforms/functional.py:1603: UserWarning: The default value of the antialias parameter of all the resizing transforms (Resize(), RandomResizedCrop(), etc.) will change from None to True in v0.17, in order to be consistent across the PIL and Tensor backends. To suppress this warning, directly pass antialias=True (recommended, future default), antialias=None (current default, which means False for Tensors and True for PIL), or antialias=False (only works on Tensors - PIL will still use antialiasing). This also applies if you are using the inference transforms from the models weights: update the call to weights.transforms(antialias=True).\n",
            "  warnings.warn(\n"
          ]
        },
        {
          "output_type": "stream",
          "name": "stdout",
          "text": [
            "Epoch: 19 \tTraining Loss: 2025.847173\n",
            "         \tTesting Loss: 5143.922852\n",
            "KM balanced accuracy score with hand-crafted labels :  0.5792889680446621\n",
            "------------------------------------------------------------------\n"
          ]
        },
        {
          "output_type": "stream",
          "name": "stderr",
          "text": [
            "/usr/local/lib/python3.10/dist-packages/torchvision/transforms/functional.py:1603: UserWarning: The default value of the antialias parameter of all the resizing transforms (Resize(), RandomResizedCrop(), etc.) will change from None to True in v0.17, in order to be consistent across the PIL and Tensor backends. To suppress this warning, directly pass antialias=True (recommended, future default), antialias=None (current default, which means False for Tensors and True for PIL), or antialias=False (only works on Tensors - PIL will still use antialiasing). This also applies if you are using the inference transforms from the models weights: update the call to weights.transforms(antialias=True).\n",
            "  warnings.warn(\n"
          ]
        },
        {
          "output_type": "stream",
          "name": "stdout",
          "text": [
            "Epoch: 20 \tTraining Loss: 1999.094757\n",
            "         \tTesting Loss: 4932.207153\n",
            "KM balanced accuracy score with hand-crafted labels :  0.5907456245504675\n",
            "------------------------------------------------------------------\n"
          ]
        },
        {
          "output_type": "stream",
          "name": "stderr",
          "text": [
            "/usr/local/lib/python3.10/dist-packages/torchvision/transforms/functional.py:1603: UserWarning: The default value of the antialias parameter of all the resizing transforms (Resize(), RandomResizedCrop(), etc.) will change from None to True in v0.17, in order to be consistent across the PIL and Tensor backends. To suppress this warning, directly pass antialias=True (recommended, future default), antialias=None (current default, which means False for Tensors and True for PIL), or antialias=False (only works on Tensors - PIL will still use antialiasing). This also applies if you are using the inference transforms from the models weights: update the call to weights.transforms(antialias=True).\n",
            "  warnings.warn(\n"
          ]
        },
        {
          "output_type": "stream",
          "name": "stdout",
          "text": [
            "Epoch: 21 \tTraining Loss: 1973.014893\n",
            "         \tTesting Loss: 5120.413208\n",
            "KM balanced accuracy score with hand-crafted labels :  0.6226495872863651\n",
            "------------------------------------------------------------------\n"
          ]
        },
        {
          "output_type": "stream",
          "name": "stderr",
          "text": [
            "/usr/local/lib/python3.10/dist-packages/torchvision/transforms/functional.py:1603: UserWarning: The default value of the antialias parameter of all the resizing transforms (Resize(), RandomResizedCrop(), etc.) will change from None to True in v0.17, in order to be consistent across the PIL and Tensor backends. To suppress this warning, directly pass antialias=True (recommended, future default), antialias=None (current default, which means False for Tensors and True for PIL), or antialias=False (only works on Tensors - PIL will still use antialiasing). This also applies if you are using the inference transforms from the models weights: update the call to weights.transforms(antialias=True).\n",
            "  warnings.warn(\n"
          ]
        },
        {
          "output_type": "stream",
          "name": "stdout",
          "text": [
            "Epoch: 22 \tTraining Loss: 1983.030238\n",
            "         \tTesting Loss: 4961.224487\n",
            "KM balanced accuracy score with hand-crafted labels :  0.6068431688187143\n",
            "------------------------------------------------------------------\n"
          ]
        },
        {
          "output_type": "stream",
          "name": "stderr",
          "text": [
            "/usr/local/lib/python3.10/dist-packages/torchvision/transforms/functional.py:1603: UserWarning: The default value of the antialias parameter of all the resizing transforms (Resize(), RandomResizedCrop(), etc.) will change from None to True in v0.17, in order to be consistent across the PIL and Tensor backends. To suppress this warning, directly pass antialias=True (recommended, future default), antialias=None (current default, which means False for Tensors and True for PIL), or antialias=False (only works on Tensors - PIL will still use antialiasing). This also applies if you are using the inference transforms from the models weights: update the call to weights.transforms(antialias=True).\n",
            "  warnings.warn(\n"
          ]
        },
        {
          "output_type": "stream",
          "name": "stdout",
          "text": [
            "Epoch: 23 \tTraining Loss: 1968.375081\n",
            "         \tTesting Loss: 5185.617920\n",
            "KM balanced accuracy score with hand-crafted labels :  0.6189848272082747\n",
            "------------------------------------------------------------------\n"
          ]
        },
        {
          "output_type": "stream",
          "name": "stderr",
          "text": [
            "/usr/local/lib/python3.10/dist-packages/torchvision/transforms/functional.py:1603: UserWarning: The default value of the antialias parameter of all the resizing transforms (Resize(), RandomResizedCrop(), etc.) will change from None to True in v0.17, in order to be consistent across the PIL and Tensor backends. To suppress this warning, directly pass antialias=True (recommended, future default), antialias=None (current default, which means False for Tensors and True for PIL), or antialias=False (only works on Tensors - PIL will still use antialiasing). This also applies if you are using the inference transforms from the models weights: update the call to weights.transforms(antialias=True).\n",
            "  warnings.warn(\n"
          ]
        },
        {
          "output_type": "stream",
          "name": "stdout",
          "text": [
            "Epoch: 24 \tTraining Loss: 1948.987640\n",
            "         \tTesting Loss: 4925.372681\n",
            "KM balanced accuracy score with hand-crafted labels :  0.6206459567763811\n",
            "------------------------------------------------------------------\n"
          ]
        },
        {
          "output_type": "stream",
          "name": "stderr",
          "text": [
            "/usr/local/lib/python3.10/dist-packages/torchvision/transforms/functional.py:1603: UserWarning: The default value of the antialias parameter of all the resizing transforms (Resize(), RandomResizedCrop(), etc.) will change from None to True in v0.17, in order to be consistent across the PIL and Tensor backends. To suppress this warning, directly pass antialias=True (recommended, future default), antialias=None (current default, which means False for Tensors and True for PIL), or antialias=False (only works on Tensors - PIL will still use antialiasing). This also applies if you are using the inference transforms from the models weights: update the call to weights.transforms(antialias=True).\n",
            "  warnings.warn(\n"
          ]
        },
        {
          "output_type": "stream",
          "name": "stdout",
          "text": [
            "Epoch: 25 \tTraining Loss: 1934.804754\n",
            "         \tTesting Loss: 5087.285400\n",
            "KM balanced accuracy score with hand-crafted labels :  0.655358427235675\n",
            "------------------------------------------------------------------\n"
          ]
        },
        {
          "output_type": "stream",
          "name": "stderr",
          "text": [
            "/usr/local/lib/python3.10/dist-packages/torchvision/transforms/functional.py:1603: UserWarning: The default value of the antialias parameter of all the resizing transforms (Resize(), RandomResizedCrop(), etc.) will change from None to True in v0.17, in order to be consistent across the PIL and Tensor backends. To suppress this warning, directly pass antialias=True (recommended, future default), antialias=None (current default, which means False for Tensors and True for PIL), or antialias=False (only works on Tensors - PIL will still use antialiasing). This also applies if you are using the inference transforms from the models weights: update the call to weights.transforms(antialias=True).\n",
            "  warnings.warn(\n"
          ]
        },
        {
          "output_type": "stream",
          "name": "stdout",
          "text": [
            "Epoch: 26 \tTraining Loss: 1938.962372\n",
            "         \tTesting Loss: 4999.761963\n",
            "KM balanced accuracy score with hand-crafted labels :  0.6091893002705757\n",
            "------------------------------------------------------------------\n"
          ]
        },
        {
          "output_type": "stream",
          "name": "stderr",
          "text": [
            "/usr/local/lib/python3.10/dist-packages/torchvision/transforms/functional.py:1603: UserWarning: The default value of the antialias parameter of all the resizing transforms (Resize(), RandomResizedCrop(), etc.) will change from None to True in v0.17, in order to be consistent across the PIL and Tensor backends. To suppress this warning, directly pass antialias=True (recommended, future default), antialias=None (current default, which means False for Tensors and True for PIL), or antialias=False (only works on Tensors - PIL will still use antialiasing). This also applies if you are using the inference transforms from the models weights: update the call to weights.transforms(antialias=True).\n",
            "  warnings.warn(\n"
          ]
        },
        {
          "output_type": "stream",
          "name": "stdout",
          "text": [
            "Epoch: 27 \tTraining Loss: 1921.277110\n",
            "         \tTesting Loss: 5034.872192\n",
            "KM balanced accuracy score with hand-crafted labels :  0.5902318731376511\n",
            "------------------------------------------------------------------\n"
          ]
        },
        {
          "output_type": "stream",
          "name": "stderr",
          "text": [
            "/usr/local/lib/python3.10/dist-packages/torchvision/transforms/functional.py:1603: UserWarning: The default value of the antialias parameter of all the resizing transforms (Resize(), RandomResizedCrop(), etc.) will change from None to True in v0.17, in order to be consistent across the PIL and Tensor backends. To suppress this warning, directly pass antialias=True (recommended, future default), antialias=None (current default, which means False for Tensors and True for PIL), or antialias=False (only works on Tensors - PIL will still use antialiasing). This also applies if you are using the inference transforms from the models weights: update the call to weights.transforms(antialias=True).\n",
            "  warnings.warn(\n"
          ]
        },
        {
          "output_type": "stream",
          "name": "stdout",
          "text": [
            "Epoch: 28 \tTraining Loss: 1902.218974\n",
            "         \tTesting Loss: 5115.176147\n",
            "KM balanced accuracy score with hand-crafted labels :  0.5940678836866802\n",
            "------------------------------------------------------------------\n"
          ]
        },
        {
          "output_type": "stream",
          "name": "stderr",
          "text": [
            "/usr/local/lib/python3.10/dist-packages/torchvision/transforms/functional.py:1603: UserWarning: The default value of the antialias parameter of all the resizing transforms (Resize(), RandomResizedCrop(), etc.) will change from None to True in v0.17, in order to be consistent across the PIL and Tensor backends. To suppress this warning, directly pass antialias=True (recommended, future default), antialias=None (current default, which means False for Tensors and True for PIL), or antialias=False (only works on Tensors - PIL will still use antialiasing). This also applies if you are using the inference transforms from the models weights: update the call to weights.transforms(antialias=True).\n",
            "  warnings.warn(\n"
          ]
        },
        {
          "output_type": "stream",
          "name": "stdout",
          "text": [
            "Epoch: 29 \tTraining Loss: 1877.176036\n",
            "         \tTesting Loss: 5096.215576\n",
            "KM balanced accuracy score with hand-crafted labels :  0.6272904750488064\n",
            "------------------------------------------------------------------\n"
          ]
        },
        {
          "output_type": "stream",
          "name": "stderr",
          "text": [
            "/usr/local/lib/python3.10/dist-packages/torchvision/transforms/functional.py:1603: UserWarning: The default value of the antialias parameter of all the resizing transforms (Resize(), RandomResizedCrop(), etc.) will change from None to True in v0.17, in order to be consistent across the PIL and Tensor backends. To suppress this warning, directly pass antialias=True (recommended, future default), antialias=None (current default, which means False for Tensors and True for PIL), or antialias=False (only works on Tensors - PIL will still use antialiasing). This also applies if you are using the inference transforms from the models weights: update the call to weights.transforms(antialias=True).\n",
            "  warnings.warn(\n"
          ]
        },
        {
          "output_type": "stream",
          "name": "stdout",
          "text": [
            "Epoch: 30 \tTraining Loss: 1871.637466\n",
            "         \tTesting Loss: 5036.033447\n",
            "KM balanced accuracy score with hand-crafted labels :  0.6125115594067884\n",
            "------------------------------------------------------------------\n"
          ]
        },
        {
          "output_type": "stream",
          "name": "stderr",
          "text": [
            "/usr/local/lib/python3.10/dist-packages/torchvision/transforms/functional.py:1603: UserWarning: The default value of the antialias parameter of all the resizing transforms (Resize(), RandomResizedCrop(), etc.) will change from None to True in v0.17, in order to be consistent across the PIL and Tensor backends. To suppress this warning, directly pass antialias=True (recommended, future default), antialias=None (current default, which means False for Tensors and True for PIL), or antialias=False (only works on Tensors - PIL will still use antialiasing). This also applies if you are using the inference transforms from the models weights: update the call to weights.transforms(antialias=True).\n",
            "  warnings.warn(\n"
          ]
        },
        {
          "output_type": "stream",
          "name": "stdout",
          "text": [
            "Epoch: 31 \tTraining Loss: 1858.163610\n",
            "         \tTesting Loss: 5165.159912\n",
            "KM balanced accuracy score with hand-crafted labels :  0.6171524471692297\n",
            "------------------------------------------------------------------\n"
          ]
        },
        {
          "output_type": "stream",
          "name": "stderr",
          "text": [
            "/usr/local/lib/python3.10/dist-packages/torchvision/transforms/functional.py:1603: UserWarning: The default value of the antialias parameter of all the resizing transforms (Resize(), RandomResizedCrop(), etc.) will change from None to True in v0.17, in order to be consistent across the PIL and Tensor backends. To suppress this warning, directly pass antialias=True (recommended, future default), antialias=None (current default, which means False for Tensors and True for PIL), or antialias=False (only works on Tensors - PIL will still use antialiasing). This also applies if you are using the inference transforms from the models weights: update the call to weights.transforms(antialias=True).\n",
            "  warnings.warn(\n"
          ]
        },
        {
          "output_type": "stream",
          "name": "stdout",
          "text": [
            "Epoch: 32 \tTraining Loss: 1846.025848\n",
            "         \tTesting Loss: 4965.849365\n",
            "KM balanced accuracy score with hand-crafted labels :  0.604034661095318\n",
            "------------------------------------------------------------------\n"
          ]
        },
        {
          "output_type": "stream",
          "name": "stderr",
          "text": [
            "/usr/local/lib/python3.10/dist-packages/torchvision/transforms/functional.py:1603: UserWarning: The default value of the antialias parameter of all the resizing transforms (Resize(), RandomResizedCrop(), etc.) will change from None to True in v0.17, in order to be consistent across the PIL and Tensor backends. To suppress this warning, directly pass antialias=True (recommended, future default), antialias=None (current default, which means False for Tensors and True for PIL), or antialias=False (only works on Tensors - PIL will still use antialiasing). This also applies if you are using the inference transforms from the models weights: update the call to weights.transforms(antialias=True).\n",
            "  warnings.warn(\n"
          ]
        },
        {
          "output_type": "stream",
          "name": "stdout",
          "text": [
            "Epoch: 33 \tTraining Loss: 1841.153000\n",
            "         \tTesting Loss: 5485.187012\n",
            "KM balanced accuracy score with hand-crafted labels :  0.5907456245504675\n",
            "------------------------------------------------------------------\n"
          ]
        },
        {
          "output_type": "stream",
          "name": "stderr",
          "text": [
            "/usr/local/lib/python3.10/dist-packages/torchvision/transforms/functional.py:1603: UserWarning: The default value of the antialias parameter of all the resizing transforms (Resize(), RandomResizedCrop(), etc.) will change from None to True in v0.17, in order to be consistent across the PIL and Tensor backends. To suppress this warning, directly pass antialias=True (recommended, future default), antialias=None (current default, which means False for Tensors and True for PIL), or antialias=False (only works on Tensors - PIL will still use antialiasing). This also applies if you are using the inference transforms from the models weights: update the call to weights.transforms(antialias=True).\n",
            "  warnings.warn(\n"
          ]
        },
        {
          "output_type": "stream",
          "name": "stdout",
          "text": [
            "Epoch: 34 \tTraining Loss: 1836.493805\n",
            "         \tTesting Loss: 5211.277954\n",
            "KM balanced accuracy score with hand-crafted labels :  0.5957290132547864\n",
            "------------------------------------------------------------------\n"
          ]
        },
        {
          "output_type": "stream",
          "name": "stderr",
          "text": [
            "/usr/local/lib/python3.10/dist-packages/torchvision/transforms/functional.py:1603: UserWarning: The default value of the antialias parameter of all the resizing transforms (Resize(), RandomResizedCrop(), etc.) will change from None to True in v0.17, in order to be consistent across the PIL and Tensor backends. To suppress this warning, directly pass antialias=True (recommended, future default), antialias=None (current default, which means False for Tensors and True for PIL), or antialias=False (only works on Tensors - PIL will still use antialiasing). This also applies if you are using the inference transforms from the models weights: update the call to weights.transforms(antialias=True).\n",
            "  warnings.warn(\n"
          ]
        },
        {
          "output_type": "stream",
          "name": "stdout",
          "text": [
            "Epoch: 35 \tTraining Loss: 1822.056702\n",
            "         \tTesting Loss: 5489.712402\n",
            "KM balanced accuracy score with hand-crafted labels :  0.6043771620371956\n",
            "------------------------------------------------------------------\n"
          ]
        },
        {
          "output_type": "stream",
          "name": "stderr",
          "text": [
            "/usr/local/lib/python3.10/dist-packages/torchvision/transforms/functional.py:1603: UserWarning: The default value of the antialias parameter of all the resizing transforms (Resize(), RandomResizedCrop(), etc.) will change from None to True in v0.17, in order to be consistent across the PIL and Tensor backends. To suppress this warning, directly pass antialias=True (recommended, future default), antialias=None (current default, which means False for Tensors and True for PIL), or antialias=False (only works on Tensors - PIL will still use antialiasing). This also applies if you are using the inference transforms from the models weights: update the call to weights.transforms(antialias=True).\n",
            "  warnings.warn(\n"
          ]
        },
        {
          "output_type": "stream",
          "name": "stdout",
          "text": [
            "Epoch: 36 \tTraining Loss: 50694.958537\n",
            "         \tTesting Loss: 4671.331299\n",
            "KM balanced accuracy score with hand-crafted labels :  0.6027160324690892\n",
            "------------------------------------------------------------------\n"
          ]
        },
        {
          "output_type": "stream",
          "name": "stderr",
          "text": [
            "/usr/local/lib/python3.10/dist-packages/torchvision/transforms/functional.py:1603: UserWarning: The default value of the antialias parameter of all the resizing transforms (Resize(), RandomResizedCrop(), etc.) will change from None to True in v0.17, in order to be consistent across the PIL and Tensor backends. To suppress this warning, directly pass antialias=True (recommended, future default), antialias=None (current default, which means False for Tensors and True for PIL), or antialias=False (only works on Tensors - PIL will still use antialiasing). This also applies if you are using the inference transforms from the models weights: update the call to weights.transforms(antialias=True).\n",
            "  warnings.warn(\n"
          ]
        },
        {
          "output_type": "stream",
          "name": "stdout",
          "text": [
            "Epoch: 37 \tTraining Loss: 3762.442678\n",
            "         \tTesting Loss: 4595.325806\n"
          ]
        }
      ]
    },
    {
      "cell_type": "code",
      "source": [
        "pcl_normal = []\n",
        "pcl_morpho = [0.6644, ]"
      ],
      "metadata": {
        "id": "89OOV6MTWYy9"
      },
      "execution_count": null,
      "outputs": []
    }
  ]
}